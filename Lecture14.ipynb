{
  "cells": [
    {
      "cell_type": "markdown",
      "metadata": {
        "id": "ANz-31xzYmgI"
      },
      "source": [
        "In this notebook, we will cover:\n",
        "\n",
        "* [String basics and length](#String-basics-and-length)\n",
        "* [Combining strings](#Combining-strings)\n",
        "* [Subsetting strings](#Subsetting-strings)\n",
        "* [Locales](#Locales)"
      ]
    },
    {
      "cell_type": "code",
      "execution_count": 1,
      "metadata": {
        "id": "PekeFdDUYmgL",
        "outputId": "8ea96908-9e5f-476f-912a-354b91693b6f",
        "colab": {
          "base_uri": "https://localhost:8080/"
        }
      },
      "outputs": [
        {
          "output_type": "stream",
          "name": "stderr",
          "text": [
            "Warning message in system(\"timedatectl\", intern = TRUE):\n",
            "“running command 'timedatectl' had status 1”\n",
            "── \u001b[1mAttaching packages\u001b[22m ─────────────────────────────────────── tidyverse 1.3.1 ──\n",
            "\n",
            "\u001b[32m✔\u001b[39m \u001b[34mggplot2\u001b[39m 3.3.5     \u001b[32m✔\u001b[39m \u001b[34mpurrr  \u001b[39m 0.3.4\n",
            "\u001b[32m✔\u001b[39m \u001b[34mtibble \u001b[39m 3.1.6     \u001b[32m✔\u001b[39m \u001b[34mdplyr  \u001b[39m 1.0.8\n",
            "\u001b[32m✔\u001b[39m \u001b[34mtidyr  \u001b[39m 1.2.0     \u001b[32m✔\u001b[39m \u001b[34mstringr\u001b[39m 1.4.0\n",
            "\u001b[32m✔\u001b[39m \u001b[34mreadr  \u001b[39m 2.1.2     \u001b[32m✔\u001b[39m \u001b[34mforcats\u001b[39m 0.5.1\n",
            "\n",
            "── \u001b[1mConflicts\u001b[22m ────────────────────────────────────────── tidyverse_conflicts() ──\n",
            "\u001b[31m✖\u001b[39m \u001b[34mdplyr\u001b[39m::\u001b[32mfilter()\u001b[39m masks \u001b[34mstats\u001b[39m::filter()\n",
            "\u001b[31m✖\u001b[39m \u001b[34mdplyr\u001b[39m::\u001b[32mlag()\u001b[39m    masks \u001b[34mstats\u001b[39m::lag()\n",
            "\n"
          ]
        }
      ],
      "source": [
        "library(tidyverse)"
      ]
    },
    {
      "cell_type": "markdown",
      "metadata": {
        "id": "H8U2C39-YmgN"
      },
      "source": [
        "# String basics and length"
      ]
    },
    {
      "cell_type": "code",
      "execution_count": 2,
      "metadata": {
        "id": "sIkR-BPZYmgO",
        "outputId": "d3bc8be0-4c4b-4bf7-b24d-cb8d2f1d0e53",
        "colab": {
          "base_uri": "https://localhost:8080/",
          "height": 52
        }
      },
      "outputs": [
        {
          "output_type": "stream",
          "name": "stdout",
          "text": [
            "'\"'\n"
          ]
        },
        {
          "output_type": "display_data",
          "data": {
            "text/html": [
              "3"
            ],
            "text/markdown": "3",
            "text/latex": "3",
            "text/plain": [
              "[1] 3"
            ]
          },
          "metadata": {}
        }
      ],
      "source": [
        "mystring <- '\\'\"\\''\n",
        "writeLines(mystring)\n",
        "str_length(mystring)"
      ]
    },
    {
      "cell_type": "code",
      "execution_count": 3,
      "metadata": {
        "id": "NJ3l5Yu_YmgO",
        "outputId": "e8f46562-1787-4953-9e10-1d837168353d",
        "colab": {
          "base_uri": "https://localhost:8080/",
          "height": 34
        }
      },
      "outputs": [
        {
          "output_type": "display_data",
          "data": {
            "text/html": [
              "'STATS 306'"
            ],
            "text/markdown": "'STATS 306'",
            "text/latex": "'STATS 306'",
            "text/plain": [
              "[1] \"STATS 306\""
            ]
          },
          "metadata": {}
        }
      ],
      "source": [
        "(mystring <- \"STATS 306\")"
      ]
    },
    {
      "cell_type": "code",
      "execution_count": 4,
      "metadata": {
        "id": "M9cjlKeRYmgP",
        "outputId": "2435df0c-9c88-4c2b-aedc-e874a4639382",
        "colab": {
          "base_uri": "https://localhost:8080/",
          "height": 34
        }
      },
      "outputs": [
        {
          "output_type": "display_data",
          "data": {
            "text/html": [
              "'STATS 306'"
            ],
            "text/markdown": "'STATS 306'",
            "text/latex": "'STATS 306'",
            "text/plain": [
              "[1] \"STATS 306\""
            ]
          },
          "metadata": {}
        }
      ],
      "source": [
        "(mystring2 <- 'STATS 306')"
      ]
    },
    {
      "cell_type": "markdown",
      "metadata": {
        "id": "KfvJRMpXYmgP"
      },
      "source": [
        "You can create strings using double quotes or single quotes -- there's no difference. However, for consistency, you might want to stick to double quotes except in cases when your strong itself has double quotes."
      ]
    },
    {
      "cell_type": "code",
      "execution_count": 5,
      "metadata": {
        "id": "AzsFFMCfYmgQ",
        "outputId": "6693c981-66a7-4a68-8df6-fdd9114f4673",
        "colab": {
          "base_uri": "https://localhost:8080/",
          "height": 34
        }
      },
      "outputs": [
        {
          "output_type": "display_data",
          "data": {
            "text/html": [
              "'\"MLE\" stands for \"Maximum Likelihood Estimate\"'"
            ],
            "text/markdown": "'\"MLE\" stands for \"Maximum Likelihood Estimate\"'",
            "text/latex": "'\"MLE\" stands for \"Maximum Likelihood Estimate\"'",
            "text/plain": [
              "[1] \"\\\"MLE\\\" stands for \\\"Maximum Likelihood Estimate\\\"\""
            ]
          },
          "metadata": {}
        }
      ],
      "source": [
        "(mystring3 <- '\"MLE\" stands for \"Maximum Likelihood Estimate\"')"
      ]
    },
    {
      "cell_type": "markdown",
      "metadata": {
        "id": "uZrC6IDhYmgQ"
      },
      "source": [
        "You can create a string with double quotes in it while using double quotes to create it but you will have to use a lot of *escape* all the double quotes!"
      ]
    },
    {
      "cell_type": "code",
      "execution_count": 6,
      "metadata": {
        "id": "w-xCnNXJYmgR",
        "outputId": "7113b675-e449-452a-8da6-b849deb8b0f4",
        "colab": {
          "base_uri": "https://localhost:8080/",
          "height": 34
        }
      },
      "outputs": [
        {
          "output_type": "display_data",
          "data": {
            "text/html": [
              "'\"MLE\" stands for \"Maximum Likelihood Estimate\"'"
            ],
            "text/markdown": "'\"MLE\" stands for \"Maximum Likelihood Estimate\"'",
            "text/latex": "'\"MLE\" stands for \"Maximum Likelihood Estimate\"'",
            "text/plain": [
              "[1] \"\\\"MLE\\\" stands for \\\"Maximum Likelihood Estimate\\\"\""
            ]
          },
          "metadata": {}
        }
      ],
      "source": [
        "(mystring3 <- \"\\\"MLE\\\" stands for \\\"Maximum Likelihood Estimate\\\"\")"
      ]
    },
    {
      "cell_type": "markdown",
      "metadata": {
        "id": "IgQPI0bUYmgR"
      },
      "source": [
        "This is also means that if you actually want a backslash in your string, you need to escape it as well."
      ]
    },
    {
      "cell_type": "code",
      "execution_count": 7,
      "metadata": {
        "id": "WT80IJYFYmgR",
        "outputId": "2a374924-a49a-4151-db73-e3739e920855",
        "colab": {
          "base_uri": "https://localhost:8080/",
          "height": 34
        }
      },
      "outputs": [
        {
          "output_type": "display_data",
          "data": {
            "text/html": [
              "'\\\\ is the backslash character'"
            ],
            "text/markdown": "'\\\\ is the backslash character'",
            "text/latex": "'\\textbackslash{}\\textbackslash{} is the backslash character'",
            "text/plain": [
              "[1] \"\\\\ is the backslash character\""
            ]
          },
          "metadata": {}
        }
      ],
      "source": [
        "(mystring4 <- \"\\\\ is the backslash character\")"
      ]
    },
    {
      "cell_type": "code",
      "execution_count": 8,
      "metadata": {
        "id": "DFbGs-bkYmgS",
        "outputId": "572c86bd-fb66-4f68-f439-61bbf1b50d37",
        "colab": {
          "base_uri": "https://localhost:8080/"
        }
      },
      "outputs": [
        {
          "output_type": "stream",
          "name": "stdout",
          "text": [
            "\\ is the backslash character\n"
          ]
        }
      ],
      "source": [
        "writeLines(mystring4)"
      ]
    },
    {
      "cell_type": "code",
      "execution_count": 9,
      "metadata": {
        "id": "svhmVfB_YmgS",
        "outputId": "12a38c70-58d0-462c-e249-5e9b1af2c2f1",
        "colab": {
          "base_uri": "https://localhost:8080/",
          "height": 34
        }
      },
      "outputs": [
        {
          "output_type": "display_data",
          "data": {
            "text/html": [
              "<style>\n",
              ".list-inline {list-style: none; margin:0; padding: 0}\n",
              ".list-inline>li {display: inline-block}\n",
              ".list-inline>li:not(:last-child)::after {content: \"\\00b7\"; padding: 0 .5ex}\n",
              "</style>\n",
              "<ol class=list-inline><li>'\"'</li><li>'\"'</li><li>'\\''</li><li>'\\''</li><li>'\\\\'</li><li>'\\\\/'</li></ol>\n"
            ],
            "text/markdown": "1. '\"'\n2. '\"'\n3. '\\''\n4. '\\''\n5. '\\\\'\n6. '\\\\/'\n\n\n",
            "text/latex": "\\begin{enumerate*}\n\\item '\"'\n\\item '\"'\n\\item '\\textbackslash{}''\n\\item '\\textbackslash{}''\n\\item '\\textbackslash{}\\textbackslash{}'\n\\item '\\textbackslash{}\\textbackslash{}/'\n\\end{enumerate*}\n",
            "text/plain": [
              "[1] \"\\\"\"  \"\\\"\"  \"'\"   \"'\"   \"\\\\\"  \"\\\\/\""
            ]
          },
          "metadata": {}
        }
      ],
      "source": [
        "(mystrings <- c(\"\\\"\", '\"', '\\'', \"'\", \"\\\\\", \"\\\\/\")) # note the use of c() to create a character vector"
      ]
    },
    {
      "cell_type": "markdown",
      "metadata": {
        "id": "g5a36EC-YmgS"
      },
      "source": [
        "The printed representation of strings shows the escapes."
      ]
    },
    {
      "cell_type": "code",
      "execution_count": 10,
      "metadata": {
        "id": "ebI1d-l0YmgS",
        "outputId": "eac82a08-ec4c-4049-8181-19a4bbaae21c",
        "colab": {
          "base_uri": "https://localhost:8080/"
        }
      },
      "outputs": [
        {
          "output_type": "stream",
          "name": "stdout",
          "text": [
            "[1] \"\\\"\"  \"\\\"\"  \"'\"   \"'\"   \"\\\\\"  \"\\\\/\"\n"
          ]
        }
      ],
      "source": [
        "print(mystrings)"
      ]
    },
    {
      "cell_type": "markdown",
      "metadata": {
        "id": "kP_YQJdaYmgT"
      },
      "source": [
        "Use `writeLines()` to see the raw contents of the string. "
      ]
    },
    {
      "cell_type": "code",
      "execution_count": 11,
      "metadata": {
        "scrolled": true,
        "id": "EFH0I52zYmgT",
        "outputId": "6fc35a98-1d8c-46ed-fef2-cf9c2825aea0",
        "colab": {
          "base_uri": "https://localhost:8080/"
        }
      },
      "outputs": [
        {
          "output_type": "stream",
          "name": "stdout",
          "text": [
            "\"\n",
            "\"\n",
            "'\n",
            "'\n",
            "\\\n",
            "\\/\n"
          ]
        }
      ],
      "source": [
        "writeLines(mystrings)"
      ]
    },
    {
      "cell_type": "markdown",
      "metadata": {
        "id": "NOG7DBpuYmgT"
      },
      "source": [
        "It is good to know of a few about a few more escape sequences."
      ]
    },
    {
      "cell_type": "code",
      "execution_count": 12,
      "metadata": {
        "id": "hs5wMvsrYmgT",
        "outputId": "351347d8-0bae-4faf-f5b8-61155acd3c0b",
        "colab": {
          "base_uri": "https://localhost:8080/"
        }
      },
      "outputs": [
        {
          "output_type": "stream",
          "name": "stdout",
          "text": [
            "First line\n",
            "Second line\n"
          ]
        }
      ],
      "source": [
        "writeLines(\"First line\\nSecond line\") # newline"
      ]
    },
    {
      "cell_type": "code",
      "execution_count": 13,
      "metadata": {
        "id": "8RiUPaTYYmgU",
        "outputId": "ac52cdfc-8aa2-4412-88e1-e5e06e546399",
        "colab": {
          "base_uri": "https://localhost:8080/"
        }
      },
      "outputs": [
        {
          "output_type": "stream",
          "name": "stdout",
          "text": [
            "Text\n",
            "\tIndented Text\n",
            "Text\n"
          ]
        }
      ],
      "source": [
        "writeLines(\"Text\\n\\tIndented Text\\nText\") # newlines and tab"
      ]
    },
    {
      "cell_type": "markdown",
      "metadata": {
        "id": "99pGZ9gzYmgU"
      },
      "source": [
        "You can also print characters if you know their unicode using `\\u`. For example, the copyright character has unicode `00A9`. Wikipedia has [a complete list](https://en.wikipedia.org/wiki/List_of_Unicode_characters)."
      ]
    },
    {
      "cell_type": "code",
      "execution_count": 14,
      "metadata": {
        "id": "IR2BxKivYmgU",
        "outputId": "b392a353-bf7b-4d21-c176-8390c0782064",
        "colab": {
          "base_uri": "https://localhost:8080/"
        }
      },
      "outputs": [
        {
          "output_type": "stream",
          "name": "stdout",
          "text": [
            "Δ ©\n"
          ]
        }
      ],
      "source": [
        "writeLines(\"\\u0394 \\u00A9\")"
      ]
    },
    {
      "cell_type": "markdown",
      "metadata": {
        "id": "OTtIuVwFYmgU"
      },
      "source": [
        "Base R has strong functions but we will avoid them use the ones in the `stringr` package. They all start with `str_`"
      ]
    },
    {
      "cell_type": "code",
      "execution_count": 15,
      "metadata": {
        "id": "2HLVzkzkYmgU",
        "outputId": "6677eb7f-393c-4281-c82e-e6cbc8c3fa32",
        "colab": {
          "base_uri": "https://localhost:8080/",
          "height": 34
        }
      },
      "outputs": [
        {
          "output_type": "display_data",
          "data": {
            "text/html": [
              "<style>\n",
              ".list-inline {list-style: none; margin:0; padding: 0}\n",
              ".list-inline>li {display: inline-block}\n",
              ".list-inline>li:not(:last-child)::after {content: \"\\00b7\"; padding: 0 .5ex}\n",
              "</style>\n",
              "<ol class=list-inline><li>1</li><li>9</li><li>6</li></ol>\n"
            ],
            "text/markdown": "1. 1\n2. 9\n3. 6\n\n\n",
            "text/latex": "\\begin{enumerate*}\n\\item 1\n\\item 9\n\\item 6\n\\end{enumerate*}\n",
            "text/plain": [
              "[1] 1 9 6"
            ]
          },
          "metadata": {}
        }
      ],
      "source": [
        "str_length(c(\"a\", \"character\", \"vector\"))"
      ]
    },
    {
      "cell_type": "markdown",
      "metadata": {
        "id": "Aq9iI538YmgV"
      },
      "source": [
        "# Combining strings"
      ]
    },
    {
      "cell_type": "code",
      "execution_count": 16,
      "metadata": {
        "id": "KMDXA2BSYmgV",
        "outputId": "46cf3dd5-13e4-4b71-d34b-d034eff70a8a",
        "colab": {
          "base_uri": "https://localhost:8080/",
          "height": 34
        }
      },
      "outputs": [
        {
          "output_type": "display_data",
          "data": {
            "text/html": [
              "'Let us concatenate strings!'"
            ],
            "text/markdown": "'Let us concatenate strings!'",
            "text/latex": "'Let us concatenate strings!'",
            "text/plain": [
              "[1] \"Let us concatenate strings!\""
            ]
          },
          "metadata": {}
        }
      ],
      "source": [
        "str_c(\"Let us con\", \"catenate strings!\")"
      ]
    },
    {
      "cell_type": "code",
      "execution_count": 17,
      "metadata": {
        "id": "g4nWPo4yYmgV",
        "outputId": "8c172404-ef9e-4f22-b9ee-a40c992822dd",
        "colab": {
          "base_uri": "https://localhost:8080/",
          "height": 34
        }
      },
      "outputs": [
        {
          "output_type": "display_data",
          "data": {
            "text/html": [
              "<style>\n",
              ".list-inline {list-style: none; margin:0; padding: 0}\n",
              ".list-inline>li {display: inline-block}\n",
              ".list-inline>li:not(:last-child)::after {content: \"\\00b7\"; padding: 0 .5ex}\n",
              "</style>\n",
              "<ol class=list-inline><li>'one'</li><li>'two'</li><li>'ten'</li></ol>\n"
            ],
            "text/markdown": "1. 'one'\n2. 'two'\n3. 'ten'\n\n\n",
            "text/latex": "\\begin{enumerate*}\n\\item 'one'\n\\item 'two'\n\\item 'ten'\n\\end{enumerate*}\n",
            "text/plain": [
              "[1] \"one\" \"two\" \"ten\""
            ]
          },
          "metadata": {}
        }
      ],
      "source": [
        "(mystrings <- c(\"one\", \"two\", \"ten\"))"
      ]
    },
    {
      "cell_type": "code",
      "execution_count": 18,
      "metadata": {
        "id": "nXevA0DfYmgV",
        "outputId": "a9149647-d198-4817-8a61-bafa25eed783",
        "colab": {
          "base_uri": "https://localhost:8080/",
          "height": 34
        }
      },
      "outputs": [
        {
          "output_type": "display_data",
          "data": {
            "text/html": [
              "<style>\n",
              ".list-inline {list-style: none; margin:0; padding: 0}\n",
              ".list-inline>li {display: inline-block}\n",
              ".list-inline>li:not(:last-child)::after {content: \"\\00b7\"; padding: 0 .5ex}\n",
              "</style>\n",
              "<ol class=list-inline><li>'*** one ***'</li><li>'*** two ***'</li><li>'*** ten ***'</li></ol>\n"
            ],
            "text/markdown": "1. '*** one ***'\n2. '*** two ***'\n3. '*** ten ***'\n\n\n",
            "text/latex": "\\begin{enumerate*}\n\\item '*** one ***'\n\\item '*** two ***'\n\\item '*** ten ***'\n\\end{enumerate*}\n",
            "text/plain": [
              "[1] \"*** one ***\" \"*** two ***\" \"*** ten ***\""
            ]
          },
          "metadata": {}
        }
      ],
      "source": [
        "str_c(\"*** \", mystrings , \" ***\") # each argument is expanded to the length of the longest"
      ]
    },
    {
      "cell_type": "code",
      "execution_count": 19,
      "metadata": {
        "id": "Y0eqcwDLYmgV",
        "outputId": "80e6b97e-4a39-4dbd-ec5e-f4c796f31597",
        "colab": {
          "base_uri": "https://localhost:8080/",
          "height": 34
        }
      },
      "outputs": [
        {
          "output_type": "display_data",
          "data": {
            "text/html": [
              "<style>\n",
              ".list-inline {list-style: none; margin:0; padding: 0}\n",
              ".list-inline>li {display: inline-block}\n",
              ".list-inline>li:not(:last-child)::after {content: \"\\00b7\"; padding: 0 .5ex}\n",
              "</style>\n",
              "<ol class=list-inline><li>'one'</li><li>'two'</li><li>NA</li></ol>\n"
            ],
            "text/markdown": "1. 'one'\n2. 'two'\n3. NA\n\n\n",
            "text/latex": "\\begin{enumerate*}\n\\item 'one'\n\\item 'two'\n\\item NA\n\\end{enumerate*}\n",
            "text/plain": [
              "[1] \"one\" \"two\" NA   "
            ]
          },
          "metadata": {}
        }
      ],
      "source": [
        "(mystrings_na <- c(\"one\", \"two\", NA))"
      ]
    },
    {
      "cell_type": "code",
      "execution_count": 20,
      "metadata": {
        "id": "Gj_UEZsKYmgV",
        "outputId": "d3d92f9d-2ae2-4b97-ec09-6152031d9d9f",
        "colab": {
          "base_uri": "https://localhost:8080/",
          "height": 34
        }
      },
      "outputs": [
        {
          "output_type": "display_data",
          "data": {
            "text/html": [
              "<style>\n",
              ".list-inline {list-style: none; margin:0; padding: 0}\n",
              ".list-inline>li {display: inline-block}\n",
              ".list-inline>li:not(:last-child)::after {content: \"\\00b7\"; padding: 0 .5ex}\n",
              "</style>\n",
              "<ol class=list-inline><li>'*** one ***'</li><li>'*** two ***'</li><li>NA</li></ol>\n"
            ],
            "text/markdown": "1. '*** one ***'\n2. '*** two ***'\n3. NA\n\n\n",
            "text/latex": "\\begin{enumerate*}\n\\item '*** one ***'\n\\item '*** two ***'\n\\item NA\n\\end{enumerate*}\n",
            "text/plain": [
              "[1] \"*** one ***\" \"*** two ***\" NA           "
            ]
          },
          "metadata": {}
        }
      ],
      "source": [
        "str_c(\"*** \", mystrings_na, \" ***\") # missingness is contagious!"
      ]
    },
    {
      "cell_type": "code",
      "execution_count": 21,
      "metadata": {
        "id": "zQqIf0b7YmgW",
        "outputId": "5590011f-b19d-45a0-e396-9a8a9413581a",
        "colab": {
          "base_uri": "https://localhost:8080/",
          "height": 34
        }
      },
      "outputs": [
        {
          "output_type": "display_data",
          "data": {
            "text/html": [
              "<style>\n",
              ".list-inline {list-style: none; margin:0; padding: 0}\n",
              ".list-inline>li {display: inline-block}\n",
              ".list-inline>li:not(:last-child)::after {content: \"\\00b7\"; padding: 0 .5ex}\n",
              "</style>\n",
              "<ol class=list-inline><li>'*** one ***'</li><li>'*** two ***'</li><li>'*** NA ***'</li></ol>\n"
            ],
            "text/markdown": "1. '*** one ***'\n2. '*** two ***'\n3. '*** NA ***'\n\n\n",
            "text/latex": "\\begin{enumerate*}\n\\item '*** one ***'\n\\item '*** two ***'\n\\item '*** NA ***'\n\\end{enumerate*}\n",
            "text/plain": [
              "[1] \"*** one ***\" \"*** two ***\" \"*** NA ***\" "
            ]
          },
          "metadata": {}
        }
      ],
      "source": [
        "str_c(\"*** \", str_replace_na(mystrings_na), \" ***\") # converts missing values to the string \"NA\""
      ]
    },
    {
      "cell_type": "code",
      "execution_count": 22,
      "metadata": {
        "id": "FABOo5g0YmgW",
        "outputId": "b520bd4b-ee52-4339-a74f-5d593b082886",
        "colab": {
          "base_uri": "https://localhost:8080/",
          "height": 51
        }
      },
      "outputs": [
        {
          "output_type": "display_data",
          "data": {
            "text/html": [
              "&lt;NA&gt;"
            ],
            "text/markdown": "&lt;NA&gt;",
            "text/latex": "<NA>",
            "text/plain": [
              "[1] NA"
            ]
          },
          "metadata": {}
        },
        {
          "output_type": "display_data",
          "data": {
            "text/html": [
              "2"
            ],
            "text/markdown": "2",
            "text/latex": "2",
            "text/plain": [
              "[1] 2"
            ]
          },
          "metadata": {}
        }
      ],
      "source": [
        "# make sure you understand the difference between NA and \"NA\"\n",
        "str_length(NA)\n",
        "str_length(\"NA\")"
      ]
    },
    {
      "cell_type": "code",
      "execution_count": 23,
      "metadata": {
        "id": "-QOCVOwoYmgW",
        "outputId": "be2c571a-98af-4f4b-d29e-fa37a8e7c03a",
        "colab": {
          "base_uri": "https://localhost:8080/",
          "height": 34
        }
      },
      "outputs": [
        {
          "output_type": "display_data",
          "data": {
            "text/html": [
              "'one, two, ten'"
            ],
            "text/markdown": "'one, two, ten'",
            "text/latex": "'one, two, ten'",
            "text/plain": [
              "[1] \"one, two, ten\""
            ]
          },
          "metadata": {}
        }
      ],
      "source": [
        "str_c(\"one\", \"two\", \"ten\", sep = \", \") # can provide a separator"
      ]
    },
    {
      "cell_type": "code",
      "execution_count": 24,
      "metadata": {
        "id": "AgWxhj3sYmgW",
        "outputId": "ed5ddcf9-5672-485e-a039-1cca3a9c12cb",
        "colab": {
          "base_uri": "https://localhost:8080/",
          "height": 34
        }
      },
      "outputs": [
        {
          "output_type": "display_data",
          "data": {
            "text/html": [
              "<style>\n",
              ".list-inline {list-style: none; margin:0; padding: 0}\n",
              ".list-inline>li {display: inline-block}\n",
              ".list-inline>li:not(:last-child)::after {content: \"\\00b7\"; padding: 0 .5ex}\n",
              "</style>\n",
              "<ol class=list-inline><li>'one'</li><li>'two'</li><li>'ten'</li></ol>\n"
            ],
            "text/markdown": "1. 'one'\n2. 'two'\n3. 'ten'\n\n\n",
            "text/latex": "\\begin{enumerate*}\n\\item 'one'\n\\item 'two'\n\\item 'ten'\n\\end{enumerate*}\n",
            "text/plain": [
              "[1] \"one\" \"two\" \"ten\""
            ]
          },
          "metadata": {}
        }
      ],
      "source": [
        "str_c(mystrings, sep = \", \") # why does this not combine the strings?"
      ]
    },
    {
      "cell_type": "code",
      "execution_count": 25,
      "metadata": {
        "id": "eG-Q9FuLYmgW",
        "outputId": "2c510845-f640-4b42-d5e6-d14abcae3d4a",
        "colab": {
          "base_uri": "https://localhost:8080/",
          "height": 34
        }
      },
      "outputs": [
        {
          "output_type": "display_data",
          "data": {
            "text/html": [
              "'one, two, ten'"
            ],
            "text/markdown": "'one, two, ten'",
            "text/latex": "'one, two, ten'",
            "text/plain": [
              "[1] \"one, two, ten\""
            ]
          },
          "metadata": {}
        }
      ],
      "source": [
        "str_c(mystrings, collapse = \", \") # use collapse if the strings you want to combine are in a vector"
      ]
    },
    {
      "cell_type": "markdown",
      "metadata": {
        "id": "cGZaRPWUYmgW"
      },
      "source": [
        "# Subsetting strings"
      ]
    },
    {
      "cell_type": "code",
      "execution_count": 26,
      "metadata": {
        "id": "cEAEOEuFYmgW",
        "outputId": "91ac3969-f784-40ae-814e-a68fb724ebaa",
        "colab": {
          "base_uri": "https://localhost:8080/",
          "height": 34
        }
      },
      "outputs": [
        {
          "output_type": "display_data",
          "data": {
            "text/html": [
              "<style>\n",
              ".list-inline {list-style: none; margin:0; padding: 0}\n",
              ".list-inline>li {display: inline-block}\n",
              ".list-inline>li:not(:last-child)::after {content: \"\\00b7\"; padding: 0 .5ex}\n",
              "</style>\n",
              "<ol class=list-inline><li>'a'</li><li>'b'</li><li>'c'</li><li>'d'</li><li>'e'</li><li>'f'</li><li>'g'</li><li>'h'</li><li>'i'</li><li>'j'</li><li>'k'</li><li>'l'</li><li>'m'</li><li>'n'</li><li>'o'</li><li>'p'</li><li>'q'</li><li>'r'</li><li>'s'</li><li>'t'</li><li>'u'</li><li>'v'</li><li>'w'</li><li>'x'</li><li>'y'</li><li>'z'</li></ol>\n"
            ],
            "text/markdown": "1. 'a'\n2. 'b'\n3. 'c'\n4. 'd'\n5. 'e'\n6. 'f'\n7. 'g'\n8. 'h'\n9. 'i'\n10. 'j'\n11. 'k'\n12. 'l'\n13. 'm'\n14. 'n'\n15. 'o'\n16. 'p'\n17. 'q'\n18. 'r'\n19. 's'\n20. 't'\n21. 'u'\n22. 'v'\n23. 'w'\n24. 'x'\n25. 'y'\n26. 'z'\n\n\n",
            "text/latex": "\\begin{enumerate*}\n\\item 'a'\n\\item 'b'\n\\item 'c'\n\\item 'd'\n\\item 'e'\n\\item 'f'\n\\item 'g'\n\\item 'h'\n\\item 'i'\n\\item 'j'\n\\item 'k'\n\\item 'l'\n\\item 'm'\n\\item 'n'\n\\item 'o'\n\\item 'p'\n\\item 'q'\n\\item 'r'\n\\item 's'\n\\item 't'\n\\item 'u'\n\\item 'v'\n\\item 'w'\n\\item 'x'\n\\item 'y'\n\\item 'z'\n\\end{enumerate*}\n",
            "text/plain": [
              " [1] \"a\" \"b\" \"c\" \"d\" \"e\" \"f\" \"g\" \"h\" \"i\" \"j\" \"k\" \"l\" \"m\" \"n\" \"o\" \"p\" \"q\" \"r\" \"s\"\n",
              "[20] \"t\" \"u\" \"v\" \"w\" \"x\" \"y\" \"z\""
            ]
          },
          "metadata": {}
        }
      ],
      "source": [
        "letters"
      ]
    },
    {
      "cell_type": "code",
      "execution_count": 27,
      "metadata": {
        "id": "onOlAE2qYmgX",
        "outputId": "8a44c073-6964-4d3b-fedd-aea07757ec51",
        "colab": {
          "base_uri": "https://localhost:8080/",
          "height": 34
        }
      },
      "outputs": [
        {
          "output_type": "display_data",
          "data": {
            "text/html": [
              "'abcdefghijklmnopqrstuvwxyz'"
            ],
            "text/markdown": "'abcdefghijklmnopqrstuvwxyz'",
            "text/latex": "'abcdefghijklmnopqrstuvwxyz'",
            "text/plain": [
              "[1] \"abcdefghijklmnopqrstuvwxyz\""
            ]
          },
          "metadata": {}
        }
      ],
      "source": [
        "(letters_str <- str_c(letters, collapse = \"\"))"
      ]
    },
    {
      "cell_type": "code",
      "execution_count": 28,
      "metadata": {
        "id": "y8MeiVZLYmgX",
        "outputId": "3ec770d6-fda4-44f1-c0da-e63998920a59",
        "colab": {
          "base_uri": "https://localhost:8080/",
          "height": 34
        }
      },
      "outputs": [
        {
          "output_type": "display_data",
          "data": {
            "text/html": [
              "'abcdefghij'"
            ],
            "text/markdown": "'abcdefghij'",
            "text/latex": "'abcdefghij'",
            "text/plain": [
              "[1] \"abcdefghij\""
            ]
          },
          "metadata": {}
        }
      ],
      "source": [
        "str_sub(letters_str, 1, 10) # the substring from position 1 through 10 (both inclusive)"
      ]
    },
    {
      "cell_type": "code",
      "execution_count": 29,
      "metadata": {
        "id": "SivOGu5BYmgX",
        "outputId": "b9a7f588-6e68-4f6d-abec-0b117a82d577",
        "colab": {
          "base_uri": "https://localhost:8080/",
          "height": 34
        }
      },
      "outputs": [
        {
          "output_type": "display_data",
          "data": {
            "text/html": [
              "'qrstuvwxyz'"
            ],
            "text/markdown": "'qrstuvwxyz'",
            "text/latex": "'qrstuvwxyz'",
            "text/plain": [
              "[1] \"qrstuvwxyz\""
            ]
          },
          "metadata": {}
        }
      ],
      "source": [
        "str_sub(letters_str, -10, -1) # negative numbers count from the end"
      ]
    },
    {
      "cell_type": "code",
      "execution_count": 30,
      "metadata": {
        "id": "pRiA0hSSYmgX",
        "outputId": "2799a860-2cfc-48fd-9729-b250eb3b0a93",
        "colab": {
          "base_uri": "https://localhost:8080/",
          "height": 34
        }
      },
      "outputs": [
        {
          "output_type": "display_data",
          "data": {
            "text/html": [
              "''"
            ],
            "text/markdown": "''",
            "text/latex": "''",
            "text/plain": [
              "[1] \"\""
            ]
          },
          "metadata": {}
        }
      ],
      "source": [
        "str_sub(letters_str, 31, 40) # ranges outside the string will result in an emtpy stroing"
      ]
    },
    {
      "cell_type": "code",
      "execution_count": 31,
      "metadata": {
        "id": "38zPDgq1YmgX",
        "outputId": "15753ffa-c6e9-4298-e730-7fba9fd15c83",
        "colab": {
          "base_uri": "https://localhost:8080/",
          "height": 34
        }
      },
      "outputs": [
        {
          "output_type": "display_data",
          "data": {
            "text/html": [
              "'uvwxyz'"
            ],
            "text/markdown": "'uvwxyz'",
            "text/latex": "'uvwxyz'",
            "text/plain": [
              "[1] \"uvwxyz\""
            ]
          },
          "metadata": {}
        }
      ],
      "source": [
        "str_sub(letters_str, 21, 30) # works but results in a shorter resulting string"
      ]
    },
    {
      "cell_type": "markdown",
      "metadata": {
        "id": "2Swz4me-YmgX"
      },
      "source": [
        "You can change part of a string using the assignment form of `str_sub()`"
      ]
    },
    {
      "cell_type": "code",
      "execution_count": 32,
      "metadata": {
        "id": "lpg1ZkFtYmgY",
        "outputId": "d0cd0c3a-535c-466b-d46a-0df3507f0136",
        "colab": {
          "base_uri": "https://localhost:8080/",
          "height": 34
        }
      },
      "outputs": [
        {
          "output_type": "display_data",
          "data": {
            "text/html": [
              "'ABCDEFGHIJklmnopqrstuvwxyz'"
            ],
            "text/markdown": "'ABCDEFGHIJklmnopqrstuvwxyz'",
            "text/latex": "'ABCDEFGHIJklmnopqrstuvwxyz'",
            "text/plain": [
              "[1] \"ABCDEFGHIJklmnopqrstuvwxyz\""
            ]
          },
          "metadata": {}
        }
      ],
      "source": [
        "str_sub(letters_str, 1, 10) <- ( str_sub(letters_str, 1, 10) %>% str_to_upper )\n",
        "letters_str"
      ]
    },
    {
      "cell_type": "markdown",
      "metadata": {
        "id": "MZcIE0rRYmgY"
      },
      "source": [
        "What do you think `str_to_upper()` does?\n",
        "\n",
        "Have a look at the [stringr documentation](http://stringr.tidyverse.org/reference/index.html) to learn about other useful functions."
      ]
    },
    {
      "cell_type": "code",
      "execution_count": 33,
      "metadata": {
        "id": "tJY34yKrYmgY",
        "outputId": "66c6cf69-e6b6-4ef6-a8e3-8ab72b759bea",
        "colab": {
          "base_uri": "https://localhost:8080/",
          "height": 51
        }
      },
      "outputs": [
        {
          "output_type": "display_data",
          "data": {
            "text/html": [
              "'abcdefghijklmnopqrstuvwxyzABCDEFGHIJKLMNOPQRSTUVWXYZ'"
            ],
            "text/markdown": "'abcdefghijklmnopqrstuvwxyzABCDEFGHIJKLMNOPQRSTUVWXYZ'",
            "text/latex": "'abcdefghijklmnopqrstuvwxyzABCDEFGHIJKLMNOPQRSTUVWXYZ'",
            "text/plain": [
              "[1] \"abcdefghijklmnopqrstuvwxyzABCDEFGHIJKLMNOPQRSTUVWXYZ\""
            ]
          },
          "metadata": {}
        },
        {
          "output_type": "display_data",
          "data": {
            "text/html": [
              "52"
            ],
            "text/markdown": "52",
            "text/latex": "52",
            "text/plain": [
              "[1] 52"
            ]
          },
          "metadata": {}
        }
      ],
      "source": [
        "(my_string <- str_c(str_c(letters,collapse=\"\"),str_c(LETTERS,collapse=\"\")))\n",
        "str_length(my_string)"
      ]
    },
    {
      "cell_type": "code",
      "execution_count": 34,
      "metadata": {
        "id": "WoG_CEpTYmgY",
        "outputId": "f3eb228d-647d-42bf-9cb9-cfe9d1ca765e",
        "colab": {
          "base_uri": "https://localhost:8080/",
          "height": 34
        }
      },
      "outputs": [
        {
          "output_type": "display_data",
          "data": {
            "text/html": [
              "<style>\n",
              ".list-inline {list-style: none; margin:0; padding: 0}\n",
              ".list-inline>li {display: inline-block}\n",
              ".list-inline>li:not(:last-child)::after {content: \"\\00b7\"; padding: 0 .5ex}\n",
              "</style>\n",
              "<ol class=list-inline><li>'firstthird'</li><li>'secondfourth'</li></ol>\n"
            ],
            "text/markdown": "1. 'firstthird'\n2. 'secondfourth'\n\n\n",
            "text/latex": "\\begin{enumerate*}\n\\item 'firstthird'\n\\item 'secondfourth'\n\\end{enumerate*}\n",
            "text/plain": [
              "[1] \"firstthird\"   \"secondfourth\""
            ]
          },
          "metadata": {}
        }
      ],
      "source": [
        "f <- \"first\"\n",
        "s <- \"second\"\n",
        "t <- \"third\"\n",
        "fth <- \"fourth\" \n",
        "vec1 <- c(f, s)\n",
        "vec2 <- c(t, fth)\n",
        "str_c(vec1, vec2)"
      ]
    },
    {
      "cell_type": "code",
      "execution_count": 35,
      "metadata": {
        "id": "eT0E22GzYmgY",
        "outputId": "71e04d46-457d-4687-f327-07f1ea5abbe3",
        "colab": {
          "base_uri": "https://localhost:8080/",
          "height": 79
        }
      },
      "outputs": [
        {
          "output_type": "display_data",
          "data": {
            "text/html": [
              "'a,b,c,d,e,f,g,h,i,j,k,l,m,n,o,p,q,r,s,t,u,v,w,x,y,z'"
            ],
            "text/markdown": "'a,b,c,d,e,f,g,h,i,j,k,l,m,n,o,p,q,r,s,t,u,v,w,x,y,z'",
            "text/latex": "'a,b,c,d,e,f,g,h,i,j,k,l,m,n,o,p,q,r,s,t,u,v,w,x,y,z'",
            "text/plain": [
              "[1] \"a,b,c,d,e,f,g,h,i,j,k,l,m,n,o,p,q,r,s,t,u,v,w,x,y,z\""
            ]
          },
          "metadata": {}
        },
        {
          "output_type": "display_data",
          "data": {
            "text/html": [
              "<ol>\n",
              "\t<li><style>\n",
              ".list-inline {list-style: none; margin:0; padding: 0}\n",
              ".list-inline>li {display: inline-block}\n",
              ".list-inline>li:not(:last-child)::after {content: \"\\00b7\"; padding: 0 .5ex}\n",
              "</style>\n",
              "<ol class=list-inline><li>'a'</li><li>'b'</li><li>'c'</li><li>'d'</li><li>'e'</li><li>'f'</li><li>'g'</li><li>'h'</li><li>'i'</li><li>'j'</li><li>'k'</li><li>'l'</li><li>'m'</li><li>'n'</li><li>'o'</li><li>'p'</li><li>'q'</li><li>'r'</li><li>'s'</li><li>'t'</li><li>'u'</li><li>'v'</li><li>'w'</li><li>'x'</li><li>'y'</li><li>'z'</li></ol>\n",
              "</li>\n",
              "</ol>\n"
            ],
            "text/markdown": "1. 1. 'a'\n2. 'b'\n3. 'c'\n4. 'd'\n5. 'e'\n6. 'f'\n7. 'g'\n8. 'h'\n9. 'i'\n10. 'j'\n11. 'k'\n12. 'l'\n13. 'm'\n14. 'n'\n15. 'o'\n16. 'p'\n17. 'q'\n18. 'r'\n19. 's'\n20. 't'\n21. 'u'\n22. 'v'\n23. 'w'\n24. 'x'\n25. 'y'\n26. 'z'\n\n\n\n\n\n",
            "text/latex": "\\begin{enumerate}\n\\item \\begin{enumerate*}\n\\item 'a'\n\\item 'b'\n\\item 'c'\n\\item 'd'\n\\item 'e'\n\\item 'f'\n\\item 'g'\n\\item 'h'\n\\item 'i'\n\\item 'j'\n\\item 'k'\n\\item 'l'\n\\item 'm'\n\\item 'n'\n\\item 'o'\n\\item 'p'\n\\item 'q'\n\\item 'r'\n\\item 's'\n\\item 't'\n\\item 'u'\n\\item 'v'\n\\item 'w'\n\\item 'x'\n\\item 'y'\n\\item 'z'\n\\end{enumerate*}\n\n\\end{enumerate}\n",
            "text/plain": [
              "[[1]]\n",
              " [1] \"a\" \"b\" \"c\" \"d\" \"e\" \"f\" \"g\" \"h\" \"i\" \"j\" \"k\" \"l\" \"m\" \"n\" \"o\" \"p\" \"q\" \"r\" \"s\"\n",
              "[20] \"t\" \"u\" \"v\" \"w\" \"x\" \"y\" \"z\"\n"
            ]
          },
          "metadata": {}
        }
      ],
      "source": [
        "(collapsed_letters <- str_c(letters, collapse=\",\"))\n",
        "(str_split(collapsed_letters, \",\"))"
      ]
    },
    {
      "cell_type": "code",
      "execution_count": 36,
      "metadata": {
        "id": "mYeAB0xSYmgY",
        "outputId": "3f42eed9-6eab-4b44-98fd-32fc5dd165e2",
        "colab": {
          "base_uri": "https://localhost:8080/",
          "height": 80
        }
      },
      "outputs": [
        {
          "output_type": "stream",
          "name": "stdout",
          "text": [
            "My Documents/movies/my movie\n"
          ]
        },
        {
          "output_type": "display_data",
          "data": {
            "text/html": [
              "<ol>\n",
              "\t<li><style>\n",
              ".list-inline {list-style: none; margin:0; padding: 0}\n",
              ".list-inline>li {display: inline-block}\n",
              ".list-inline>li:not(:last-child)::after {content: \"\\00b7\"; padding: 0 .5ex}\n",
              "</style>\n",
              "<ol class=list-inline><li>'My Documents'</li><li>'movies'</li><li>'my movie'</li></ol>\n",
              "</li>\n",
              "</ol>\n"
            ],
            "text/markdown": "1. 1. 'My Documents'\n2. 'movies'\n3. 'my movie'\n\n\n\n\n\n",
            "text/latex": "\\begin{enumerate}\n\\item \\begin{enumerate*}\n\\item 'My Documents'\n\\item 'movies'\n\\item 'my movie'\n\\end{enumerate*}\n\n\\end{enumerate}\n",
            "text/plain": [
              "[[1]]\n",
              "[1] \"My Documents\" \"movies\"       \"my movie\"    \n"
            ]
          },
          "metadata": {}
        }
      ],
      "source": [
        "path_to_file <- \"My Documents/movies/my movie\"\n",
        "writeLines(path_to_file)\n",
        "str_split(path_to_file, \"/\")"
      ]
    },
    {
      "cell_type": "code",
      "execution_count": 37,
      "metadata": {
        "id": "TlOyK6FQYmgY",
        "outputId": "c5e3d254-b787-4147-9d2c-8c93c4ac23f3",
        "colab": {
          "base_uri": "https://localhost:8080/",
          "height": 34
        }
      },
      "outputs": [
        {
          "output_type": "display_data",
          "data": {
            "text/html": [
              "<style>\n",
              ".list-inline {list-style: none; margin:0; padding: 0}\n",
              ".list-inline>li {display: inline-block}\n",
              ".list-inline>li:not(:last-child)::after {content: \"\\00b7\"; padding: 0 .5ex}\n",
              "</style>\n",
              "<ol class=list-inline><li>'Michigan'</li><li>'NA'</li><li>'Ohio'</li></ol>\n"
            ],
            "text/markdown": "1. 'Michigan'\n2. 'NA'\n3. 'Ohio'\n\n\n",
            "text/latex": "\\begin{enumerate*}\n\\item 'Michigan'\n\\item 'NA'\n\\item 'Ohio'\n\\end{enumerate*}\n",
            "text/plain": [
              "[1] \"Michigan\" \"NA\"       \"Ohio\"    "
            ]
          },
          "metadata": {}
        }
      ],
      "source": [
        "(test_string <- str_replace_na(c(\"Michigan\",NA,\"Ohio\")))"
      ]
    },
    {
      "cell_type": "code",
      "execution_count": 38,
      "metadata": {
        "id": "8NNUQB1fYmgY",
        "outputId": "35c3d0ce-1d69-471e-b012-9f5534a98ba0",
        "colab": {
          "base_uri": "https://localhost:8080/",
          "height": 34
        }
      },
      "outputs": [
        {
          "output_type": "display_data",
          "data": {
            "text/html": [
              "<style>\n",
              ".list-inline {list-style: none; margin:0; padding: 0}\n",
              ".list-inline>li {display: inline-block}\n",
              ".list-inline>li:not(:last-child)::after {content: \"\\00b7\"; padding: 0 .5ex}\n",
              "</style>\n",
              "<ol class=list-inline><li>'Michigan'</li><li>NA</li><li>'Ohio'</li></ol>\n"
            ],
            "text/markdown": "1. 'Michigan'\n2. NA\n3. 'Ohio'\n\n\n",
            "text/latex": "\\begin{enumerate*}\n\\item 'Michigan'\n\\item NA\n\\item 'Ohio'\n\\end{enumerate*}\n",
            "text/plain": [
              "[1] \"Michigan\" NA         \"Ohio\"    "
            ]
          },
          "metadata": {}
        }
      ],
      "source": [
        "(test_string <- ifelse(test_string == \"NA\", NA, test_string))"
      ]
    },
    {
      "cell_type": "markdown",
      "metadata": {
        "id": "T74WyEXoYmgZ"
      },
      "source": [
        "# Locales"
      ]
    },
    {
      "cell_type": "code",
      "execution_count": 39,
      "metadata": {
        "id": "1hQSGYzYYmgZ",
        "outputId": "444cd44a-3cba-4b23-b40b-ef9788e0e75a",
        "colab": {
          "base_uri": "https://localhost:8080/",
          "height": 34
        }
      },
      "outputs": [
        {
          "output_type": "display_data",
          "data": {
            "text/html": [
              "'This Could Be The Title Of A Book'"
            ],
            "text/markdown": "'This Could Be The Title Of A Book'",
            "text/latex": "'This Could Be The Title Of A Book'",
            "text/plain": [
              "[1] \"This Could Be The Title Of A Book\""
            ]
          },
          "metadata": {}
        }
      ],
      "source": [
        "str_to_title(\"this could be the title of a book\")"
      ]
    },
    {
      "cell_type": "code",
      "execution_count": 40,
      "metadata": {
        "id": "MYm_gynEYmgZ",
        "outputId": "a1bdf012-4e01-4ab2-a9a4-ef9dc74a59d8",
        "colab": {
          "base_uri": "https://localhost:8080/",
          "height": 51
        }
      },
      "outputs": [
        {
          "output_type": "display_data",
          "data": {
            "text/html": [
              "<style>\n",
              ".list-inline {list-style: none; margin:0; padding: 0}\n",
              ".list-inline>li {display: inline-block}\n",
              ".list-inline>li:not(:last-child)::after {content: \"\\00b7\"; padding: 0 .5ex}\n",
              "</style>\n",
              "<ol class=list-inline><li>'A'</li><li>'B'</li><li>'C'</li><li>'D'</li><li>'E'</li><li>'F'</li><li>'G'</li><li>'H'</li><li>'I'</li><li>'J'</li><li>'K'</li><li>'L'</li><li>'M'</li><li>'N'</li><li>'O'</li><li>'P'</li><li>'Q'</li><li>'R'</li><li>'S'</li><li>'T'</li><li>'U'</li><li>'V'</li><li>'W'</li><li>'X'</li><li>'Y'</li><li>'Z'</li></ol>\n"
            ],
            "text/markdown": "1. 'A'\n2. 'B'\n3. 'C'\n4. 'D'\n5. 'E'\n6. 'F'\n7. 'G'\n8. 'H'\n9. 'I'\n10. 'J'\n11. 'K'\n12. 'L'\n13. 'M'\n14. 'N'\n15. 'O'\n16. 'P'\n17. 'Q'\n18. 'R'\n19. 'S'\n20. 'T'\n21. 'U'\n22. 'V'\n23. 'W'\n24. 'X'\n25. 'Y'\n26. 'Z'\n\n\n",
            "text/latex": "\\begin{enumerate*}\n\\item 'A'\n\\item 'B'\n\\item 'C'\n\\item 'D'\n\\item 'E'\n\\item 'F'\n\\item 'G'\n\\item 'H'\n\\item 'I'\n\\item 'J'\n\\item 'K'\n\\item 'L'\n\\item 'M'\n\\item 'N'\n\\item 'O'\n\\item 'P'\n\\item 'Q'\n\\item 'R'\n\\item 'S'\n\\item 'T'\n\\item 'U'\n\\item 'V'\n\\item 'W'\n\\item 'X'\n\\item 'Y'\n\\item 'Z'\n\\end{enumerate*}\n",
            "text/plain": [
              " [1] \"A\" \"B\" \"C\" \"D\" \"E\" \"F\" \"G\" \"H\" \"I\" \"J\" \"K\" \"L\" \"M\" \"N\" \"O\" \"P\" \"Q\" \"R\" \"S\"\n",
              "[20] \"T\" \"U\" \"V\" \"W\" \"X\" \"Y\" \"Z\""
            ]
          },
          "metadata": {}
        },
        {
          "output_type": "display_data",
          "data": {
            "text/html": [
              "<style>\n",
              ".list-inline {list-style: none; margin:0; padding: 0}\n",
              ".list-inline>li {display: inline-block}\n",
              ".list-inline>li:not(:last-child)::after {content: \"\\00b7\"; padding: 0 .5ex}\n",
              "</style>\n",
              "<ol class=list-inline><li>'a'</li><li>'b'</li><li>'c'</li><li>'d'</li><li>'e'</li><li>'f'</li><li>'g'</li><li>'h'</li><li>'i'</li><li>'j'</li><li>'k'</li><li>'l'</li><li>'m'</li><li>'n'</li><li>'o'</li><li>'p'</li><li>'q'</li><li>'r'</li><li>'s'</li><li>'t'</li><li>'u'</li><li>'v'</li><li>'w'</li><li>'x'</li><li>'y'</li><li>'z'</li></ol>\n"
            ],
            "text/markdown": "1. 'a'\n2. 'b'\n3. 'c'\n4. 'd'\n5. 'e'\n6. 'f'\n7. 'g'\n8. 'h'\n9. 'i'\n10. 'j'\n11. 'k'\n12. 'l'\n13. 'm'\n14. 'n'\n15. 'o'\n16. 'p'\n17. 'q'\n18. 'r'\n19. 's'\n20. 't'\n21. 'u'\n22. 'v'\n23. 'w'\n24. 'x'\n25. 'y'\n26. 'z'\n\n\n",
            "text/latex": "\\begin{enumerate*}\n\\item 'a'\n\\item 'b'\n\\item 'c'\n\\item 'd'\n\\item 'e'\n\\item 'f'\n\\item 'g'\n\\item 'h'\n\\item 'i'\n\\item 'j'\n\\item 'k'\n\\item 'l'\n\\item 'm'\n\\item 'n'\n\\item 'o'\n\\item 'p'\n\\item 'q'\n\\item 'r'\n\\item 's'\n\\item 't'\n\\item 'u'\n\\item 'v'\n\\item 'w'\n\\item 'x'\n\\item 'y'\n\\item 'z'\n\\end{enumerate*}\n",
            "text/plain": [
              " [1] \"a\" \"b\" \"c\" \"d\" \"e\" \"f\" \"g\" \"h\" \"i\" \"j\" \"k\" \"l\" \"m\" \"n\" \"o\" \"p\" \"q\" \"r\" \"s\"\n",
              "[20] \"t\" \"u\" \"v\" \"w\" \"x\" \"y\" \"z\""
            ]
          },
          "metadata": {}
        }
      ],
      "source": [
        "LETTERS\n",
        "str_to_lower(LETTERS)"
      ]
    },
    {
      "cell_type": "code",
      "execution_count": 41,
      "metadata": {
        "id": "2hjnKws6YmgZ",
        "outputId": "01e6f3c5-d0d4-48af-8ca5-7bac4089e94b",
        "colab": {
          "base_uri": "https://localhost:8080/",
          "height": 51
        }
      },
      "outputs": [
        {
          "output_type": "display_data",
          "data": {
            "text/html": [
              "'ABCDEFGHIJKLMNOPQRSTUVWXYZ'"
            ],
            "text/markdown": "'ABCDEFGHIJKLMNOPQRSTUVWXYZ'",
            "text/latex": "'ABCDEFGHIJKLMNOPQRSTUVWXYZ'",
            "text/plain": [
              "[1] \"ABCDEFGHIJKLMNOPQRSTUVWXYZ\""
            ]
          },
          "metadata": {}
        },
        {
          "output_type": "display_data",
          "data": {
            "text/html": [
              "'abcdefghijklmnopqrstuvwxyz'"
            ],
            "text/markdown": "'abcdefghijklmnopqrstuvwxyz'",
            "text/latex": "'abcdefghijklmnopqrstuvwxyz'",
            "text/plain": [
              "[1] \"abcdefghijklmnopqrstuvwxyz\""
            ]
          },
          "metadata": {}
        }
      ],
      "source": [
        "(LETTERS_str <- str_c(LETTERS, collapse = \"\"))\n",
        "str_to_lower(LETTERS_str)"
      ]
    },
    {
      "cell_type": "markdown",
      "metadata": {
        "id": "qP3C1_RsYmgZ"
      },
      "source": [
        "These three functions:\n",
        "\n",
        "* `str_to_lower()`\n",
        "* `str_to_upper()`\n",
        "* `str_to_title()`\n",
        "\n",
        "are <a href=\"https://en.wikipedia.org/wiki/Locale_(computer_software)\">**locale**</a> sensitive. That is, their behavior is sensitive to which language the user's computer system is using. A two letter code (e.g., `en` for English, `fr` for French, `es` for Spanish) can be passed to these functions as the `locale` argument to specify the locale (by default, the locale of the operating system is used).\n",
        "\n",
        "Another function affected by locale is `str_sort()`"
      ]
    },
    {
      "cell_type": "code",
      "execution_count": 42,
      "metadata": {
        "id": "Hv3sFPM3YmgZ",
        "outputId": "f411db0a-ef51-42ec-994c-bf32d799e7ee",
        "colab": {
          "base_uri": "https://localhost:8080/",
          "height": 34
        }
      },
      "outputs": [
        {
          "output_type": "display_data",
          "data": {
            "text/html": [
              "<style>\n",
              ".list-inline {list-style: none; margin:0; padding: 0}\n",
              ".list-inline>li {display: inline-block}\n",
              ".list-inline>li:not(:last-child)::after {content: \"\\00b7\"; padding: 0 .5ex}\n",
              "</style>\n",
              "<ol class=list-inline><li>'a'</li><li>'b'</li><li>'c'</li><li>'d'</li><li>'e'</li><li>'f'</li><li>'g'</li><li>'h'</li><li>'i'</li><li>'j'</li><li>'k'</li><li>'l'</li><li>'m'</li><li>'n'</li><li>'o'</li><li>'p'</li><li>'q'</li><li>'r'</li><li>'s'</li><li>'t'</li><li>'u'</li><li>'v'</li><li>'w'</li><li>'x'</li><li>'y'</li><li>'z'</li></ol>\n"
            ],
            "text/markdown": "1. 'a'\n2. 'b'\n3. 'c'\n4. 'd'\n5. 'e'\n6. 'f'\n7. 'g'\n8. 'h'\n9. 'i'\n10. 'j'\n11. 'k'\n12. 'l'\n13. 'm'\n14. 'n'\n15. 'o'\n16. 'p'\n17. 'q'\n18. 'r'\n19. 's'\n20. 't'\n21. 'u'\n22. 'v'\n23. 'w'\n24. 'x'\n25. 'y'\n26. 'z'\n\n\n",
            "text/latex": "\\begin{enumerate*}\n\\item 'a'\n\\item 'b'\n\\item 'c'\n\\item 'd'\n\\item 'e'\n\\item 'f'\n\\item 'g'\n\\item 'h'\n\\item 'i'\n\\item 'j'\n\\item 'k'\n\\item 'l'\n\\item 'm'\n\\item 'n'\n\\item 'o'\n\\item 'p'\n\\item 'q'\n\\item 'r'\n\\item 's'\n\\item 't'\n\\item 'u'\n\\item 'v'\n\\item 'w'\n\\item 'x'\n\\item 'y'\n\\item 'z'\n\\end{enumerate*}\n",
            "text/plain": [
              " [1] \"a\" \"b\" \"c\" \"d\" \"e\" \"f\" \"g\" \"h\" \"i\" \"j\" \"k\" \"l\" \"m\" \"n\" \"o\" \"p\" \"q\" \"r\" \"s\"\n",
              "[20] \"t\" \"u\" \"v\" \"w\" \"x\" \"y\" \"z\""
            ]
          },
          "metadata": {}
        }
      ],
      "source": [
        "str_sort(letters, locale = \"en\")"
      ]
    },
    {
      "cell_type": "code",
      "execution_count": 43,
      "metadata": {
        "id": "wqyF_3gdYmgZ",
        "outputId": "3f0d7954-1cc0-41b0-9a5b-db8fa3231c6f",
        "colab": {
          "base_uri": "https://localhost:8080/",
          "height": 34
        }
      },
      "outputs": [
        {
          "output_type": "display_data",
          "data": {
            "text/html": [
              "<style>\n",
              ".list-inline {list-style: none; margin:0; padding: 0}\n",
              ".list-inline>li {display: inline-block}\n",
              ".list-inline>li:not(:last-child)::after {content: \"\\00b7\"; padding: 0 .5ex}\n",
              "</style>\n",
              "<ol class=list-inline><li>'a'</li><li>'e'</li><li>'i'</li><li>'o'</li><li>'u'</li><li>'b'</li><li>'c'</li><li>'d'</li><li>'f'</li><li>'g'</li><li>'h'</li><li>'j'</li><li>'k'</li><li>'l'</li><li>'m'</li><li>'n'</li><li>'p'</li><li>'q'</li><li>'r'</li><li>'s'</li><li>'t'</li><li>'v'</li><li>'w'</li><li>'x'</li><li>'y'</li><li>'z'</li></ol>\n"
            ],
            "text/markdown": "1. 'a'\n2. 'e'\n3. 'i'\n4. 'o'\n5. 'u'\n6. 'b'\n7. 'c'\n8. 'd'\n9. 'f'\n10. 'g'\n11. 'h'\n12. 'j'\n13. 'k'\n14. 'l'\n15. 'm'\n16. 'n'\n17. 'p'\n18. 'q'\n19. 'r'\n20. 's'\n21. 't'\n22. 'v'\n23. 'w'\n24. 'x'\n25. 'y'\n26. 'z'\n\n\n",
            "text/latex": "\\begin{enumerate*}\n\\item 'a'\n\\item 'e'\n\\item 'i'\n\\item 'o'\n\\item 'u'\n\\item 'b'\n\\item 'c'\n\\item 'd'\n\\item 'f'\n\\item 'g'\n\\item 'h'\n\\item 'j'\n\\item 'k'\n\\item 'l'\n\\item 'm'\n\\item 'n'\n\\item 'p'\n\\item 'q'\n\\item 'r'\n\\item 's'\n\\item 't'\n\\item 'v'\n\\item 'w'\n\\item 'x'\n\\item 'y'\n\\item 'z'\n\\end{enumerate*}\n",
            "text/plain": [
              " [1] \"a\" \"e\" \"i\" \"o\" \"u\" \"b\" \"c\" \"d\" \"f\" \"g\" \"h\" \"j\" \"k\" \"l\" \"m\" \"n\" \"p\" \"q\" \"r\"\n",
              "[20] \"s\" \"t\" \"v\" \"w\" \"x\" \"y\" \"z\""
            ]
          },
          "metadata": {}
        }
      ],
      "source": [
        "str_sort(letters, locale = \"haw\") # vowels come before consonants in the Hawaiian alphabet"
      ]
    },
    {
      "cell_type": "code",
      "source": [
        "str_sort(c(LETTERS, letters))"
      ],
      "metadata": {
        "id": "BCBmEg2RYv-K",
        "outputId": "832c0516-3eaa-400b-fa56-6223ef282b8a",
        "colab": {
          "base_uri": "https://localhost:8080/",
          "height": 34
        }
      },
      "execution_count": 48,
      "outputs": [
        {
          "output_type": "display_data",
          "data": {
            "text/html": [
              "<style>\n",
              ".list-inline {list-style: none; margin:0; padding: 0}\n",
              ".list-inline>li {display: inline-block}\n",
              ".list-inline>li:not(:last-child)::after {content: \"\\00b7\"; padding: 0 .5ex}\n",
              "</style>\n",
              "<ol class=list-inline><li>'a'</li><li>'A'</li><li>'b'</li><li>'B'</li><li>'c'</li><li>'C'</li><li>'d'</li><li>'D'</li><li>'e'</li><li>'E'</li><li>'f'</li><li>'F'</li><li>'g'</li><li>'G'</li><li>'h'</li><li>'H'</li><li>'i'</li><li>'I'</li><li>'j'</li><li>'J'</li><li>'k'</li><li>'K'</li><li>'l'</li><li>'L'</li><li>'m'</li><li>'M'</li><li>'n'</li><li>'N'</li><li>'o'</li><li>'O'</li><li>'p'</li><li>'P'</li><li>'q'</li><li>'Q'</li><li>'r'</li><li>'R'</li><li>'s'</li><li>'S'</li><li>'t'</li><li>'T'</li><li>'u'</li><li>'U'</li><li>'v'</li><li>'V'</li><li>'w'</li><li>'W'</li><li>'x'</li><li>'X'</li><li>'y'</li><li>'Y'</li><li>'z'</li><li>'Z'</li></ol>\n"
            ],
            "text/markdown": "1. 'a'\n2. 'A'\n3. 'b'\n4. 'B'\n5. 'c'\n6. 'C'\n7. 'd'\n8. 'D'\n9. 'e'\n10. 'E'\n11. 'f'\n12. 'F'\n13. 'g'\n14. 'G'\n15. 'h'\n16. 'H'\n17. 'i'\n18. 'I'\n19. 'j'\n20. 'J'\n21. 'k'\n22. 'K'\n23. 'l'\n24. 'L'\n25. 'm'\n26. 'M'\n27. 'n'\n28. 'N'\n29. 'o'\n30. 'O'\n31. 'p'\n32. 'P'\n33. 'q'\n34. 'Q'\n35. 'r'\n36. 'R'\n37. 's'\n38. 'S'\n39. 't'\n40. 'T'\n41. 'u'\n42. 'U'\n43. 'v'\n44. 'V'\n45. 'w'\n46. 'W'\n47. 'x'\n48. 'X'\n49. 'y'\n50. 'Y'\n51. 'z'\n52. 'Z'\n\n\n",
            "text/latex": "\\begin{enumerate*}\n\\item 'a'\n\\item 'A'\n\\item 'b'\n\\item 'B'\n\\item 'c'\n\\item 'C'\n\\item 'd'\n\\item 'D'\n\\item 'e'\n\\item 'E'\n\\item 'f'\n\\item 'F'\n\\item 'g'\n\\item 'G'\n\\item 'h'\n\\item 'H'\n\\item 'i'\n\\item 'I'\n\\item 'j'\n\\item 'J'\n\\item 'k'\n\\item 'K'\n\\item 'l'\n\\item 'L'\n\\item 'm'\n\\item 'M'\n\\item 'n'\n\\item 'N'\n\\item 'o'\n\\item 'O'\n\\item 'p'\n\\item 'P'\n\\item 'q'\n\\item 'Q'\n\\item 'r'\n\\item 'R'\n\\item 's'\n\\item 'S'\n\\item 't'\n\\item 'T'\n\\item 'u'\n\\item 'U'\n\\item 'v'\n\\item 'V'\n\\item 'w'\n\\item 'W'\n\\item 'x'\n\\item 'X'\n\\item 'y'\n\\item 'Y'\n\\item 'z'\n\\item 'Z'\n\\end{enumerate*}\n",
            "text/plain": [
              " [1] \"a\" \"A\" \"b\" \"B\" \"c\" \"C\" \"d\" \"D\" \"e\" \"E\" \"f\" \"F\" \"g\" \"G\" \"h\" \"H\" \"i\" \"I\" \"j\"\n",
              "[20] \"J\" \"k\" \"K\" \"l\" \"L\" \"m\" \"M\" \"n\" \"N\" \"o\" \"O\" \"p\" \"P\" \"q\" \"Q\" \"r\" \"R\" \"s\" \"S\"\n",
              "[39] \"t\" \"T\" \"u\" \"U\" \"v\" \"V\" \"w\" \"W\" \"x\" \"X\" \"y\" \"Y\" \"z\" \"Z\""
            ]
          },
          "metadata": {}
        }
      ]
    },
    {
      "cell_type": "code",
      "source": [
        "str_split(intToUtf8(32:122), \"\")[[1]] %>% str_sort()"
      ],
      "metadata": {
        "id": "-MLFkCqWZZqG",
        "outputId": "30ffded3-c417-4bdf-83ff-35f781f68b53",
        "colab": {
          "base_uri": "https://localhost:8080/",
          "height": 51
        }
      },
      "execution_count": 53,
      "outputs": [
        {
          "output_type": "display_data",
          "data": {
            "text/html": [
              "<style>\n",
              ".list-inline {list-style: none; margin:0; padding: 0}\n",
              ".list-inline>li {display: inline-block}\n",
              ".list-inline>li:not(:last-child)::after {content: \"\\00b7\"; padding: 0 .5ex}\n",
              "</style>\n",
              "<ol class=list-inline><li>' '</li><li>'_'</li><li>'-'</li><li>','</li><li>';'</li><li>':'</li><li>'!'</li><li>'?'</li><li>'.'</li><li>'\\''</li><li>'\"'</li><li>'('</li><li>')'</li><li>'['</li><li>']'</li><li>'@'</li><li>'*'</li><li>'/'</li><li>'\\\\'</li><li>'&amp;'</li><li>'#'</li><li>'%'</li><li>'`'</li><li>'^'</li><li>'+'</li><li>'&lt;'</li><li>'='</li><li>'&gt;'</li><li>'$'</li><li>'0'</li><li>'1'</li><li>'2'</li><li>'3'</li><li>'4'</li><li>'5'</li><li>'6'</li><li>'7'</li><li>'8'</li><li>'9'</li><li>'a'</li><li>'A'</li><li>'b'</li><li>'B'</li><li>'c'</li><li>'C'</li><li>'d'</li><li>'D'</li><li>'e'</li><li>'E'</li><li>'f'</li><li>'F'</li><li>'g'</li><li>'G'</li><li>'h'</li><li>'H'</li><li>'i'</li><li>'I'</li><li>'j'</li><li>'J'</li><li>'k'</li><li>'K'</li><li>'l'</li><li>'L'</li><li>'m'</li><li>'M'</li><li>'n'</li><li>'N'</li><li>'o'</li><li>'O'</li><li>'p'</li><li>'P'</li><li>'q'</li><li>'Q'</li><li>'r'</li><li>'R'</li><li>'s'</li><li>'S'</li><li>'t'</li><li>'T'</li><li>'u'</li><li>'U'</li><li>'v'</li><li>'V'</li><li>'w'</li><li>'W'</li><li>'x'</li><li>'X'</li><li>'y'</li><li>'Y'</li><li>'z'</li><li>'Z'</li></ol>\n"
            ],
            "text/markdown": "1. ' '\n2. '_'\n3. '-'\n4. ','\n5. ';'\n6. ':'\n7. '!'\n8. '?'\n9. '.'\n10. '\\''\n11. '\"'\n12. '('\n13. ')'\n14. '['\n15. ']'\n16. '@'\n17. '*'\n18. '/'\n19. '\\\\'\n20. '&amp;'\n21. '#'\n22. '%'\n23. '`'\n24. '^'\n25. '+'\n26. '&lt;'\n27. '='\n28. '&gt;'\n29. '$'\n30. '0'\n31. '1'\n32. '2'\n33. '3'\n34. '4'\n35. '5'\n36. '6'\n37. '7'\n38. '8'\n39. '9'\n40. 'a'\n41. 'A'\n42. 'b'\n43. 'B'\n44. 'c'\n45. 'C'\n46. 'd'\n47. 'D'\n48. 'e'\n49. 'E'\n50. 'f'\n51. 'F'\n52. 'g'\n53. 'G'\n54. 'h'\n55. 'H'\n56. 'i'\n57. 'I'\n58. 'j'\n59. 'J'\n60. 'k'\n61. 'K'\n62. 'l'\n63. 'L'\n64. 'm'\n65. 'M'\n66. 'n'\n67. 'N'\n68. 'o'\n69. 'O'\n70. 'p'\n71. 'P'\n72. 'q'\n73. 'Q'\n74. 'r'\n75. 'R'\n76. 's'\n77. 'S'\n78. 't'\n79. 'T'\n80. 'u'\n81. 'U'\n82. 'v'\n83. 'V'\n84. 'w'\n85. 'W'\n86. 'x'\n87. 'X'\n88. 'y'\n89. 'Y'\n90. 'z'\n91. 'Z'\n\n\n",
            "text/latex": "\\begin{enumerate*}\n\\item ' '\n\\item '\\_'\n\\item '-'\n\\item ','\n\\item ';'\n\\item ':'\n\\item '!'\n\\item '?'\n\\item '.'\n\\item '\\textbackslash{}''\n\\item '\"'\n\\item '('\n\\item ')'\n\\item '{[}'\n\\item '{]}'\n\\item '@'\n\\item '*'\n\\item '/'\n\\item '\\textbackslash{}\\textbackslash{}'\n\\item '\\&'\n\\item '\\#'\n\\item '\\%'\n\\item '`'\n\\item '\\textasciicircum{}'\n\\item '+'\n\\item '<'\n\\item '='\n\\item '>'\n\\item '\\$'\n\\item '0'\n\\item '1'\n\\item '2'\n\\item '3'\n\\item '4'\n\\item '5'\n\\item '6'\n\\item '7'\n\\item '8'\n\\item '9'\n\\item 'a'\n\\item 'A'\n\\item 'b'\n\\item 'B'\n\\item 'c'\n\\item 'C'\n\\item 'd'\n\\item 'D'\n\\item 'e'\n\\item 'E'\n\\item 'f'\n\\item 'F'\n\\item 'g'\n\\item 'G'\n\\item 'h'\n\\item 'H'\n\\item 'i'\n\\item 'I'\n\\item 'j'\n\\item 'J'\n\\item 'k'\n\\item 'K'\n\\item 'l'\n\\item 'L'\n\\item 'm'\n\\item 'M'\n\\item 'n'\n\\item 'N'\n\\item 'o'\n\\item 'O'\n\\item 'p'\n\\item 'P'\n\\item 'q'\n\\item 'Q'\n\\item 'r'\n\\item 'R'\n\\item 's'\n\\item 'S'\n\\item 't'\n\\item 'T'\n\\item 'u'\n\\item 'U'\n\\item 'v'\n\\item 'V'\n\\item 'w'\n\\item 'W'\n\\item 'x'\n\\item 'X'\n\\item 'y'\n\\item 'Y'\n\\item 'z'\n\\item 'Z'\n\\end{enumerate*}\n",
            "text/plain": [
              " [1] \" \"  \"_\"  \"-\"  \",\"  \";\"  \":\"  \"!\"  \"?\"  \".\"  \"'\"  \"\\\"\" \"(\"  \")\"  \"[\"  \"]\" \n",
              "[16] \"@\"  \"*\"  \"/\"  \"\\\\\" \"&\"  \"#\"  \"%\"  \"`\"  \"^\"  \"+\"  \"<\"  \"=\"  \">\"  \"$\"  \"0\" \n",
              "[31] \"1\"  \"2\"  \"3\"  \"4\"  \"5\"  \"6\"  \"7\"  \"8\"  \"9\"  \"a\"  \"A\"  \"b\"  \"B\"  \"c\"  \"C\" \n",
              "[46] \"d\"  \"D\"  \"e\"  \"E\"  \"f\"  \"F\"  \"g\"  \"G\"  \"h\"  \"H\"  \"i\"  \"I\"  \"j\"  \"J\"  \"k\" \n",
              "[61] \"K\"  \"l\"  \"L\"  \"m\"  \"M\"  \"n\"  \"N\"  \"o\"  \"O\"  \"p\"  \"P\"  \"q\"  \"Q\"  \"r\"  \"R\" \n",
              "[76] \"s\"  \"S\"  \"t\"  \"T\"  \"u\"  \"U\"  \"v\"  \"V\"  \"w\"  \"W\"  \"x\"  \"X\"  \"y\"  \"Y\"  \"z\" \n",
              "[91] \"Z\" "
            ]
          },
          "metadata": {}
        }
      ]
    },
    {
      "cell_type": "code",
      "source": [
        "str_split(intToUtf8(32:122), \"\")[[1]] "
      ],
      "metadata": {
        "id": "b1hsvCXkZq5O",
        "outputId": "07bf7504-8fd1-4cc2-fbfc-8ed17e42264c",
        "colab": {
          "base_uri": "https://localhost:8080/",
          "height": 51
        }
      },
      "execution_count": 54,
      "outputs": [
        {
          "output_type": "display_data",
          "data": {
            "text/html": [
              "<style>\n",
              ".list-inline {list-style: none; margin:0; padding: 0}\n",
              ".list-inline>li {display: inline-block}\n",
              ".list-inline>li:not(:last-child)::after {content: \"\\00b7\"; padding: 0 .5ex}\n",
              "</style>\n",
              "<ol class=list-inline><li>' '</li><li>'!'</li><li>'\"'</li><li>'#'</li><li>'$'</li><li>'%'</li><li>'&amp;'</li><li>'\\''</li><li>'('</li><li>')'</li><li>'*'</li><li>'+'</li><li>','</li><li>'-'</li><li>'.'</li><li>'/'</li><li>'0'</li><li>'1'</li><li>'2'</li><li>'3'</li><li>'4'</li><li>'5'</li><li>'6'</li><li>'7'</li><li>'8'</li><li>'9'</li><li>':'</li><li>';'</li><li>'&lt;'</li><li>'='</li><li>'&gt;'</li><li>'?'</li><li>'@'</li><li>'A'</li><li>'B'</li><li>'C'</li><li>'D'</li><li>'E'</li><li>'F'</li><li>'G'</li><li>'H'</li><li>'I'</li><li>'J'</li><li>'K'</li><li>'L'</li><li>'M'</li><li>'N'</li><li>'O'</li><li>'P'</li><li>'Q'</li><li>'R'</li><li>'S'</li><li>'T'</li><li>'U'</li><li>'V'</li><li>'W'</li><li>'X'</li><li>'Y'</li><li>'Z'</li><li>'['</li><li>'\\\\'</li><li>']'</li><li>'^'</li><li>'_'</li><li>'`'</li><li>'a'</li><li>'b'</li><li>'c'</li><li>'d'</li><li>'e'</li><li>'f'</li><li>'g'</li><li>'h'</li><li>'i'</li><li>'j'</li><li>'k'</li><li>'l'</li><li>'m'</li><li>'n'</li><li>'o'</li><li>'p'</li><li>'q'</li><li>'r'</li><li>'s'</li><li>'t'</li><li>'u'</li><li>'v'</li><li>'w'</li><li>'x'</li><li>'y'</li><li>'z'</li></ol>\n"
            ],
            "text/markdown": "1. ' '\n2. '!'\n3. '\"'\n4. '#'\n5. '$'\n6. '%'\n7. '&amp;'\n8. '\\''\n9. '('\n10. ')'\n11. '*'\n12. '+'\n13. ','\n14. '-'\n15. '.'\n16. '/'\n17. '0'\n18. '1'\n19. '2'\n20. '3'\n21. '4'\n22. '5'\n23. '6'\n24. '7'\n25. '8'\n26. '9'\n27. ':'\n28. ';'\n29. '&lt;'\n30. '='\n31. '&gt;'\n32. '?'\n33. '@'\n34. 'A'\n35. 'B'\n36. 'C'\n37. 'D'\n38. 'E'\n39. 'F'\n40. 'G'\n41. 'H'\n42. 'I'\n43. 'J'\n44. 'K'\n45. 'L'\n46. 'M'\n47. 'N'\n48. 'O'\n49. 'P'\n50. 'Q'\n51. 'R'\n52. 'S'\n53. 'T'\n54. 'U'\n55. 'V'\n56. 'W'\n57. 'X'\n58. 'Y'\n59. 'Z'\n60. '['\n61. '\\\\'\n62. ']'\n63. '^'\n64. '_'\n65. '`'\n66. 'a'\n67. 'b'\n68. 'c'\n69. 'd'\n70. 'e'\n71. 'f'\n72. 'g'\n73. 'h'\n74. 'i'\n75. 'j'\n76. 'k'\n77. 'l'\n78. 'm'\n79. 'n'\n80. 'o'\n81. 'p'\n82. 'q'\n83. 'r'\n84. 's'\n85. 't'\n86. 'u'\n87. 'v'\n88. 'w'\n89. 'x'\n90. 'y'\n91. 'z'\n\n\n",
            "text/latex": "\\begin{enumerate*}\n\\item ' '\n\\item '!'\n\\item '\"'\n\\item '\\#'\n\\item '\\$'\n\\item '\\%'\n\\item '\\&'\n\\item '\\textbackslash{}''\n\\item '('\n\\item ')'\n\\item '*'\n\\item '+'\n\\item ','\n\\item '-'\n\\item '.'\n\\item '/'\n\\item '0'\n\\item '1'\n\\item '2'\n\\item '3'\n\\item '4'\n\\item '5'\n\\item '6'\n\\item '7'\n\\item '8'\n\\item '9'\n\\item ':'\n\\item ';'\n\\item '<'\n\\item '='\n\\item '>'\n\\item '?'\n\\item '@'\n\\item 'A'\n\\item 'B'\n\\item 'C'\n\\item 'D'\n\\item 'E'\n\\item 'F'\n\\item 'G'\n\\item 'H'\n\\item 'I'\n\\item 'J'\n\\item 'K'\n\\item 'L'\n\\item 'M'\n\\item 'N'\n\\item 'O'\n\\item 'P'\n\\item 'Q'\n\\item 'R'\n\\item 'S'\n\\item 'T'\n\\item 'U'\n\\item 'V'\n\\item 'W'\n\\item 'X'\n\\item 'Y'\n\\item 'Z'\n\\item '{[}'\n\\item '\\textbackslash{}\\textbackslash{}'\n\\item '{]}'\n\\item '\\textasciicircum{}'\n\\item '\\_'\n\\item '`'\n\\item 'a'\n\\item 'b'\n\\item 'c'\n\\item 'd'\n\\item 'e'\n\\item 'f'\n\\item 'g'\n\\item 'h'\n\\item 'i'\n\\item 'j'\n\\item 'k'\n\\item 'l'\n\\item 'm'\n\\item 'n'\n\\item 'o'\n\\item 'p'\n\\item 'q'\n\\item 'r'\n\\item 's'\n\\item 't'\n\\item 'u'\n\\item 'v'\n\\item 'w'\n\\item 'x'\n\\item 'y'\n\\item 'z'\n\\end{enumerate*}\n",
            "text/plain": [
              " [1] \" \"  \"!\"  \"\\\"\" \"#\"  \"$\"  \"%\"  \"&\"  \"'\"  \"(\"  \")\"  \"*\"  \"+\"  \",\"  \"-\"  \".\" \n",
              "[16] \"/\"  \"0\"  \"1\"  \"2\"  \"3\"  \"4\"  \"5\"  \"6\"  \"7\"  \"8\"  \"9\"  \":\"  \";\"  \"<\"  \"=\" \n",
              "[31] \">\"  \"?\"  \"@\"  \"A\"  \"B\"  \"C\"  \"D\"  \"E\"  \"F\"  \"G\"  \"H\"  \"I\"  \"J\"  \"K\"  \"L\" \n",
              "[46] \"M\"  \"N\"  \"O\"  \"P\"  \"Q\"  \"R\"  \"S\"  \"T\"  \"U\"  \"V\"  \"W\"  \"X\"  \"Y\"  \"Z\"  \"[\" \n",
              "[61] \"\\\\\" \"]\"  \"^\"  \"_\"  \"`\"  \"a\"  \"b\"  \"c\"  \"d\"  \"e\"  \"f\"  \"g\"  \"h\"  \"i\"  \"j\" \n",
              "[76] \"k\"  \"l\"  \"m\"  \"n\"  \"o\"  \"p\"  \"q\"  \"r\"  \"s\"  \"t\"  \"u\"  \"v\"  \"w\"  \"x\"  \"y\" \n",
              "[91] \"z\" "
            ]
          },
          "metadata": {}
        }
      ]
    }
  ],
  "metadata": {
    "kernelspec": {
      "display_name": "R",
      "language": "R",
      "name": "ir"
    },
    "language_info": {
      "codemirror_mode": "r",
      "file_extension": ".r",
      "mimetype": "text/x-r-source",
      "name": "R",
      "pygments_lexer": "r",
      "version": "3.6.2"
    },
    "colab": {
      "name": "Lecture14.ipynb",
      "provenance": []
    }
  },
  "nbformat": 4,
  "nbformat_minor": 0
}