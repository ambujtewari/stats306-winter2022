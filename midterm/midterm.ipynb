{
  "cells": [
    {
      "cell_type": "markdown",
      "metadata": {
        "id": "uOAxGNL3uOoW"
      },
      "source": [
        "# STATS 306, Winter 2022\n",
        "## Take-home Midterm Exam\n",
        "\n",
        "Assigned: Feb 18, 2022  \n",
        "Due: Feb 25, 2022, 11:59 pm Ann Arbor time\n",
        "\n",
        "There are a total of **four problems** for a total of **30 points** (problems are worth similar but not exactly the same number of points)\n",
        "\n",
        "**PLEASE READ EXAM INSTRUCTIONS** (available [here](https://github.com/ambujtewari/stats306-winter2022/blob/main/midterm/README.md)) before proceeding further.\n",
        "\n",
        "Links to jump directly to problems:\n",
        "\n",
        "- [Problem 1](#Problem-1): CO2 emissions\n",
        "- [Problem 2](#Problem-2): Global population\n",
        "- [Problem 3](#Problem-3): Happiness score\n",
        "- [Problem 4](#Problem-4): Reversal paradox"
      ]
    },
    {
      "cell_type": "markdown",
      "metadata": {
        "id": "Jb2FphOeuOoa"
      },
      "source": [
        "### Required Packages"
      ]
    },
    {
      "cell_type": "code",
      "execution_count": null,
      "metadata": {
        "id": "vjEjOeIYuOoa",
        "colab": {
          "base_uri": "https://localhost:8080/"
        },
        "outputId": "a1b878fd-164f-41f9-c4f5-79d436e1de9e"
      },
      "outputs": [
        {
          "output_type": "stream",
          "name": "stderr",
          "text": [
            "Warning message in system(\"timedatectl\", intern = TRUE):\n",
            "“running command 'timedatectl' had status 1”\n",
            "── \u001b[1mAttaching packages\u001b[22m ─────────────────────────────────────── tidyverse 1.3.1 ──\n",
            "\n",
            "\u001b[32m✔\u001b[39m \u001b[34mggplot2\u001b[39m 3.3.5     \u001b[32m✔\u001b[39m \u001b[34mpurrr  \u001b[39m 0.3.4\n",
            "\u001b[32m✔\u001b[39m \u001b[34mtibble \u001b[39m 3.1.6     \u001b[32m✔\u001b[39m \u001b[34mdplyr  \u001b[39m 1.0.7\n",
            "\u001b[32m✔\u001b[39m \u001b[34mtidyr  \u001b[39m 1.1.4     \u001b[32m✔\u001b[39m \u001b[34mstringr\u001b[39m 1.4.0\n",
            "\u001b[32m✔\u001b[39m \u001b[34mreadr  \u001b[39m 2.1.1     \u001b[32m✔\u001b[39m \u001b[34mforcats\u001b[39m 0.5.1\n",
            "\n",
            "── \u001b[1mConflicts\u001b[22m ────────────────────────────────────────── tidyverse_conflicts() ──\n",
            "\u001b[31m✖\u001b[39m \u001b[34mdplyr\u001b[39m::\u001b[32mfilter()\u001b[39m masks \u001b[34mstats\u001b[39m::filter()\n",
            "\u001b[31m✖\u001b[39m \u001b[34mdplyr\u001b[39m::\u001b[32mlag()\u001b[39m    masks \u001b[34mstats\u001b[39m::lag()\n",
            "\n"
          ]
        }
      ],
      "source": [
        "# DO NOT EDIT THIS CELL\n",
        "library(tidyverse)\n",
        "prefix = 'https://raw.githubusercontent.com/ambujtewari/stats306-winter2022/main/data/'"
      ]
    },
    {
      "cell_type": "markdown",
      "metadata": {
        "id": "MaZeLpoguOod"
      },
      "source": [
        "### Statement of Academic Integrity"
      ]
    },
    {
      "cell_type": "markdown",
      "metadata": {
        "id": "EvgvSasOuOod"
      },
      "source": [
        "**(1)**  \n",
        "\n",
        "_\"I have read the exam instructions. All work submitted is my own. If I used any resources, physical, digital, or otherwise, I have listed them below. I have fully complied with all standards of academic integrity.\"_  \n",
        "\n",
        "Type your full name below in lieu of a physical signature."
      ]
    },
    {
      "cell_type": "markdown",
      "metadata": {
        "id": "OhRknmTwuOoe"
      },
      "source": [
        "#### Text solution cell 0.1\n",
        "\n",
        "replace this line with your full name"
      ]
    },
    {
      "cell_type": "markdown",
      "metadata": {
        "id": "1vgck0Y0uOoe"
      },
      "source": [
        "**(2)** List any resources you used that are not mentioned in the exam instructions"
      ]
    },
    {
      "cell_type": "markdown",
      "metadata": {
        "id": "HlYUFZ_quOof"
      },
      "source": [
        "#### Text solution cell 0.2\n",
        "\n",
        "Type \"NA\" if you didn't use any resources other than the ones listed in the exam instructions. Otherwise, list all additional resources you used to solve this exam."
      ]
    },
    {
      "cell_type": "markdown",
      "metadata": {
        "id": "_x97Muj-uOof"
      },
      "source": [
        "### Problem 1"
      ]
    },
    {
      "cell_type": "markdown",
      "metadata": {
        "id": "ZplF7uPyuOog"
      },
      "source": [
        "#### CO2 emissions (tonnes per person), _7 points_"
      ]
    },
    {
      "cell_type": "code",
      "execution_count": null,
      "metadata": {
        "colab": {
          "base_uri": "https://localhost:8080/"
        },
        "id": "yXQINKiYuOog",
        "outputId": "faad1625-eb47-487d-bba4-eb90bf130b32"
      },
      "outputs": [
        {
          "output_type": "stream",
          "name": "stderr",
          "text": [
            "\u001b[1mRows: \u001b[22m\u001b[34m192\u001b[39m \u001b[1mColumns: \u001b[22m\u001b[34m220\u001b[39m\n",
            "\u001b[36m──\u001b[39m \u001b[1mColumn specification\u001b[22m \u001b[36m────────────────────────────────────────────────────────\u001b[39m\n",
            "\u001b[1mDelimiter:\u001b[22m \",\"\n",
            "\u001b[31mchr\u001b[39m   (1): country\n",
            "\u001b[32mdbl\u001b[39m (219): 1800, 1801, 1802, 1803, 1804, 1805, 1806, 1807, 1808, 1809, 1810,...\n",
            "\n",
            "\u001b[36mℹ\u001b[39m Use \u001b[30m\u001b[47m\u001b[30m\u001b[47m`spec()`\u001b[47m\u001b[30m\u001b[49m\u001b[39m to retrieve the full column specification for this data.\n",
            "\u001b[36mℹ\u001b[39m Specify the column types or set \u001b[30m\u001b[47m\u001b[30m\u001b[47m`show_col_types = FALSE`\u001b[47m\u001b[30m\u001b[49m\u001b[39m to quiet this message.\n"
          ]
        }
      ],
      "source": [
        "# DO NOT EDIT THIS CELL\n",
        "\n",
        "# read in data and pivot\n",
        "CO2_df <- read_csv(str_c(prefix, 'co2_emissions_tonnes_per_person.csv'))\n",
        "CO2_df <- pivot_longer(CO2_df, `1800`:`2018`, names_to=\"year\", values_to=\"emissions\")"
      ]
    },
    {
      "cell_type": "markdown",
      "metadata": {
        "id": "xy7d0mQkuOog"
      },
      "source": [
        "**(1)** Using `CO2_df` as a starting point, create a tibble `missing_emissions` with exactly two columms: `year` and `has_missing`. For each value of `year`, the `has_missing` column should be a logical value: `TRUE` or `FALSE`. It should be `TRUE` for a year if and only if there is a country whose CO2 emissions data is missing in `CO2_df` for that year.  _**2 points**_"
      ]
    },
    {
      "cell_type": "code",
      "execution_count": null,
      "metadata": {
        "id": "mfuexWZVuOoh"
      },
      "outputs": [],
      "source": [
        "# SOLUTION CELL 1.1\n",
        "\n"
      ]
    },
    {
      "cell_type": "code",
      "source": [
        "# DO NOT EDIT THIS CELL\n",
        "\n",
        "slice_head(missing_emissions, n=5) %>% print()"
      ],
      "metadata": {
        "id": "sKvvkXVzKgRJ"
      },
      "execution_count": null,
      "outputs": []
    },
    {
      "cell_type": "code",
      "source": [
        "# DO NOT EDIT THIS CELL\n",
        "\n",
        "slice_tail(missing_emissions, n=5) %>% print()"
      ],
      "metadata": {
        "id": "FtI8M1hxuafY"
      },
      "execution_count": null,
      "outputs": []
    },
    {
      "cell_type": "markdown",
      "metadata": {
        "id": "4-_p7lvpuOoh"
      },
      "source": [
        "**(2)** For which years do we have CO2 emissions data for all countries? First write the code (using ONLY the `missing_emissions` tibble you created above) to get the answer and then write the answer in the text cell below. _**2 points**_"
      ]
    },
    {
      "cell_type": "code",
      "execution_count": null,
      "metadata": {
        "id": "KuWiZNgwuOoh"
      },
      "outputs": [],
      "source": [
        "# SOLUTION CELL 1.2\n",
        "\n"
      ]
    },
    {
      "cell_type": "markdown",
      "metadata": {
        "id": "Bm5bTjsbuOoh"
      },
      "source": [
        "#### Text solution cell 1.2\n",
        "\n",
        "Type your answer here"
      ]
    },
    {
      "cell_type": "markdown",
      "metadata": {
        "id": "0qxnvvFDuOoi"
      },
      "source": [
        "**(3)** Using the `CO2_df` tibble, do the following transformations in a single piped command consisting of multiple `dplyr` verbs:\n",
        "- create a tibble with three columns: `country`, `mean_emissions`, and `num_missing`. For each country, the `mean_emissions` column should be the average value of emissions for that country (ignoring missing values). The `num_missing` column should be the number of years where emissions for that country are missing.\n",
        "- keep only those rows where `num_missing` is strictly less than 10\n",
        "- sort in descending order of `mean_emissions`\n",
        "\n",
        " _**3 points**_"
      ]
    },
    {
      "cell_type": "code",
      "source": [
        "# SOLUTION CELL 1.3\n",
        "\n"
      ],
      "metadata": {
        "id": "-MyHI_VK2X6a"
      },
      "execution_count": null,
      "outputs": []
    },
    {
      "cell_type": "markdown",
      "metadata": {
        "id": "wbhjSGGAuOoi"
      },
      "source": [
        "### Problem 2"
      ]
    },
    {
      "cell_type": "markdown",
      "metadata": {
        "id": "D2NpefCWuOoi"
      },
      "source": [
        "#### Global population, _7 points_"
      ]
    },
    {
      "cell_type": "code",
      "execution_count": null,
      "metadata": {
        "colab": {
          "base_uri": "https://localhost:8080/"
        },
        "id": "ZdZjzVySuOoj",
        "outputId": "a1771002-f023-408f-e3b8-dbc13d0af244"
      },
      "outputs": [
        {
          "output_type": "stream",
          "name": "stderr",
          "text": [
            "\u001b[1mRows: \u001b[22m\u001b[34m195\u001b[39m \u001b[1mColumns: \u001b[22m\u001b[34m302\u001b[39m\n",
            "\u001b[36m──\u001b[39m \u001b[1mColumn specification\u001b[22m \u001b[36m────────────────────────────────────────────────────────\u001b[39m\n",
            "\u001b[1mDelimiter:\u001b[22m \",\"\n",
            "\u001b[31mchr\u001b[39m   (1): country\n",
            "\u001b[32mdbl\u001b[39m (301): 1800, 1801, 1802, 1803, 1804, 1805, 1806, 1807, 1808, 1809, 1810,...\n",
            "\n",
            "\u001b[36mℹ\u001b[39m Use \u001b[30m\u001b[47m\u001b[30m\u001b[47m`spec()`\u001b[47m\u001b[30m\u001b[49m\u001b[39m to retrieve the full column specification for this data.\n",
            "\u001b[36mℹ\u001b[39m Specify the column types or set \u001b[30m\u001b[47m\u001b[30m\u001b[47m`show_col_types = FALSE`\u001b[47m\u001b[30m\u001b[49m\u001b[39m to quiet this message.\n"
          ]
        }
      ],
      "source": [
        "# DO NOT EDIT THIS CELL\n",
        "\n",
        "# read in data and pivot\n",
        "pop_df <- read_csv(str_c(prefix, 'population_total.csv'))\n",
        "pop_df <- pivot_longer(pop_df, `1800`:`2100`, names_to=\"year\", values_to=\"population\") %>%\n",
        "    mutate(year = as.integer(year))"
      ]
    },
    {
      "cell_type": "markdown",
      "metadata": {
        "id": "Z7ClTR-3uOoj"
      },
      "source": [
        "**(1)** Using `pop_df` as a starting point, create a tibble with two columns: `year` and `total_pop` where the latter should be the sum of the populations of all countries in a given year. Make sure that `total_pop` has the world population in **billions**. Use this tibble to create a smooth plot of the relationship between `total_pop` (y-axis) vs. `year` (x-axis) for the hundred year period from 1901 to 2000 (inclusive). For full credit, write a solution using pipes that does not use any intermediate variables. _**3 points**_"
      ]
    },
    {
      "cell_type": "code",
      "execution_count": null,
      "metadata": {
        "id": "hMbafPnZuOoj"
      },
      "outputs": [],
      "source": [
        "# SOLUTION CELL 2.1\n",
        "\n"
      ]
    },
    {
      "cell_type": "markdown",
      "metadata": {
        "id": "sO8ZDJ63uOoj"
      },
      "source": [
        "**(2)** Let us define a vector with countries that are often refered to as the \"Group of Seven\"."
      ]
    },
    {
      "cell_type": "code",
      "execution_count": null,
      "metadata": {
        "id": "Bk24TJdNuOoj"
      },
      "outputs": [],
      "source": [
        "# DON\"T EDIT THIS CELL\n",
        "\n",
        "G7 = c(\"Canada\", \"France\", \"Germany\", \"Italy\", \"Japan\", \"United Kingdom\", \"United States\")"
      ]
    },
    {
      "cell_type": "markdown",
      "metadata": {
        "id": "Cw2tfx-juOok"
      },
      "source": [
        "Use the `pop_df` tibble and `G7` vector to execute the following steps in a single piped command. Use only `dplyr` verbs and `ggplot`.\n",
        "- keep only Group of Seven countries and years in the range 1981 to 2000 (inclusive)\n",
        "- create a tibble with two columns `country` and `mean_population` where the `mean_population` is the mean population of a country during the years 1981 to 2000 (inclusive)\n",
        "- create a bar chart with the Group of Seven countries on the y-axis and `mean_population` of these countries (over the years 1981-2000)  on the x-axis. Make sure each country's bar is colored with a different color. _**4 points**_"
      ]
    },
    {
      "cell_type": "code",
      "execution_count": null,
      "metadata": {
        "id": "uoJPvlDEuOok"
      },
      "outputs": [],
      "source": [
        "# SOLUTION CELL 2.2\n",
        "\n"
      ]
    },
    {
      "cell_type": "markdown",
      "metadata": {
        "id": "U3e-wJlmuOok"
      },
      "source": [
        "### Problem 3"
      ]
    },
    {
      "cell_type": "markdown",
      "metadata": {
        "id": "FXJwFeAWuOok"
      },
      "source": [
        "#### Happiness score, _8 points_"
      ]
    },
    {
      "cell_type": "code",
      "execution_count": null,
      "metadata": {
        "colab": {
          "base_uri": "https://localhost:8080/"
        },
        "id": "fn2GREbDuOol",
        "outputId": "d19ec417-2020-4326-ffa1-4ec9d56a20db"
      },
      "outputs": [
        {
          "output_type": "stream",
          "name": "stderr",
          "text": [
            "\u001b[1mRows: \u001b[22m\u001b[34m161\u001b[39m \u001b[1mColumns: \u001b[22m\u001b[34m16\u001b[39m\n",
            "\u001b[36m──\u001b[39m \u001b[1mColumn specification\u001b[22m \u001b[36m────────────────────────────────────────────────────────\u001b[39m\n",
            "\u001b[1mDelimiter:\u001b[22m \",\"\n",
            "\u001b[31mchr\u001b[39m  (1): country\n",
            "\u001b[32mdbl\u001b[39m (15): 2005, 2006, 2007, 2008, 2009, 2010, 2011, 2012, 2013, 2014, 2015, ...\n",
            "\n",
            "\u001b[36mℹ\u001b[39m Use \u001b[30m\u001b[47m\u001b[30m\u001b[47m`spec()`\u001b[47m\u001b[30m\u001b[49m\u001b[39m to retrieve the full column specification for this data.\n",
            "\u001b[36mℹ\u001b[39m Specify the column types or set \u001b[30m\u001b[47m\u001b[30m\u001b[47m`show_col_types = FALSE`\u001b[47m\u001b[30m\u001b[49m\u001b[39m to quiet this message.\n"
          ]
        }
      ],
      "source": [
        "# DO NOT EDIT THIS CELL\n",
        "\n",
        "# read in data\n",
        "happy_df <- read_csv(str_c(prefix, \"hapiscore_whr.csv\"))"
      ]
    },
    {
      "cell_type": "markdown",
      "metadata": {
        "id": "qKgV9Hl9uOol"
      },
      "source": [
        "**(1)** The `happy_df` tibble contains national averages of a \"happiness score\" for various countries for the years 2005 through 2019. The \"happiness score\" is the response to the question:\n",
        "\n",
        "\"Think of a ladder, with the best possible life for you being a 10, and the worst possible life being a 0. Rate your own life on this 0 to 10 scale.\"\n",
        "\n",
        "In the tibble above, these responses on a 0 to 10 scale have been rescaled to the interval \\[0,1\\].\n",
        "\n",
        "In the cell below, write a command using pipes to perform the following sequence of operations in the order specified using `happy_df` as a starting point: _**5 points**_\n",
        "\n",
        "1. keep only country and the columns corresponding to the years 2009 and 2019\n",
        "2. keep only those countries for which both 2009 and 2019 data is available\n",
        "3. create two new columns: `rank_2009` and `rank_2019`. These should be ranks of the country in the years 2009 and 2019 respectively. Use the `rank` function in R (don't worry about tie-breaking options, just use the default) and make sure that counties with *higher* average happiness scores get *smaller* numerical ranks.\n",
        "4. drop the columns corresponding to the years 2009 and 2019 leaving just three columns: `country`, `rank_2009` and `rank_2019`\n",
        "5. keep only those countries that had a rank of 10 or better in _both_ 2009 and 2019\n",
        "\n",
        "In your final result, is there any country that appears with a rank of 1 in both years?"
      ]
    },
    {
      "cell_type": "code",
      "execution_count": null,
      "metadata": {
        "id": "rQnkU4YLuOol"
      },
      "outputs": [],
      "source": [
        "# SOLUTION CELL 3.1\n",
        "\n"
      ]
    },
    {
      "cell_type": "markdown",
      "metadata": {
        "id": "701TOIBAuOol"
      },
      "source": [
        "#### Text solution cell 3.1\n",
        "\n",
        "Type your answer here"
      ]
    },
    {
      "cell_type": "markdown",
      "metadata": {
        "id": "_3tVN7fiuOol"
      },
      "source": [
        "**(2)** Before proceeding, let us reshape the data a little bit."
      ]
    },
    {
      "cell_type": "code",
      "execution_count": null,
      "metadata": {
        "id": "d36un4C_uOol"
      },
      "outputs": [],
      "source": [
        "# DO NOT EDIT THIS CELL\n",
        "\n",
        "happy_df_pivoted <- pivot_longer(happy_df, `2005`:`2019`, names_to=\"year\", values_to=\"happiness_score\")"
      ]
    },
    {
      "cell_type": "markdown",
      "metadata": {
        "id": "UaVLBXLouOom"
      },
      "source": [
        "Now, using `happy_df_pivoted` as the starting point, write a single command using pipes to execute the following steps in order: _**3 points**_\n",
        "\n",
        "1. consider only the data for the years 2009 through 2019 (inclusive)\n",
        "2. compute the average happiness score (put it in a column `average_happiness_score`), for the period 2009-2019, but only for those countries that have no missing data during this period\n",
        "3. sort `average_happiness_score` and keep the 10 least happy countries for the period 2009-2019 (these will have the lowest numerical values for the average happiness score)"
      ]
    },
    {
      "cell_type": "code",
      "execution_count": null,
      "metadata": {
        "id": "WCXdpSg3uOom"
      },
      "outputs": [],
      "source": [
        "# SOLUTION CELL 3.2\n"
      ]
    },
    {
      "cell_type": "markdown",
      "metadata": {
        "id": "Tc70pAwEuOom"
      },
      "source": [
        "### Problem 4"
      ]
    },
    {
      "cell_type": "markdown",
      "metadata": {
        "id": "OnQ6nyuluOom"
      },
      "source": [
        "#### Reversal paradox, _8 points_"
      ]
    },
    {
      "cell_type": "markdown",
      "metadata": {
        "id": "_748xaMcuOom"
      },
      "source": [
        "The **reversal paradox** (also called the **Simpson's paradox**, especially when categorical variables are involved) involves a situation when the overall correlation between a pair of variables, say `X` and `Y`, has one sign (say negative) but when the data is separated into groups by a categorical variable `C`, each of the partial correlations (correlations between `X` and `Y` within a group with same value of `C`) have the opposite signs (say positive). See the [Wikipedia](https://en.wikipedia.org/wiki/Simpson%27s_paradox) page for an example."
      ]
    },
    {
      "cell_type": "code",
      "execution_count": null,
      "metadata": {
        "id": "TuqdTkjtuOom"
      },
      "outputs": [],
      "source": [
        "# DO NOT EDIT THIS CELL\n",
        "\n",
        "get_mystery_df <- function(rho,a,b,c,d) {\n",
        "    n <- 500\n",
        "    C <- sample(1:5, n, replace=TRUE)\n",
        "    X <- rnorm(n)\n",
        "    Y <- rnorm(n)\n",
        "    rotated <- cbind(X,Y) %*% matrix(c(1,rho,rho,1),nrow=2,ncol=2)\n",
        "    X <- rotated[,1] + a*C + b\n",
        "    Y <- rotated[,2] + c*C + d\n",
        "    return(tibble(X = X, Y = Y, C = factor(C)))\n",
        "}\n",
        "\n",
        "\n",
        "df1 <- get_mystery_df(0.7,-0.3,0.3*2.5,0.3,-0.3*2.5)"
      ]
    },
    {
      "cell_type": "markdown",
      "metadata": {
        "id": "sTT7nJtKuOom"
      },
      "source": [
        "**(1)** For the mysterious tibble `df1` created above (has 500 rows and three columns `X`, `Y`, and `C`), create a scatterplot with `X` on x-axis and `Y` on y-axis. Superimpose the line of best fit on it (the line should be in *red* color). Make sure that just the line of best fit is plotted (i.e., any error bars should be turned off). _**2 points**_"
      ]
    },
    {
      "cell_type": "code",
      "execution_count": null,
      "metadata": {
        "id": "cIntmwJRuOon"
      },
      "outputs": [],
      "source": [
        "# SOLUTION CELL 4.1\n",
        "\n"
      ]
    },
    {
      "cell_type": "markdown",
      "metadata": {
        "id": "dNyGjYiCuOon"
      },
      "source": [
        "**(2)** Create the scatterplot with `X` on x-axis and `Y` in y-axis again. But this time, facet wrap on the value of `C`. Make sure to superimpose on the scatterplots, the lines of best fit for each group of points (with groups determined by the categorical variable `C`). Make sure _all_ the lines of best fit are in _red_ color. Also make sure to turn off any error bars. _**2 points**_"
      ]
    },
    {
      "cell_type": "code",
      "execution_count": null,
      "metadata": {
        "id": "4t89z5PTuOon"
      },
      "outputs": [],
      "source": [
        "# SOLUTION CELL 4.2\n",
        "\n"
      ]
    },
    {
      "cell_type": "markdown",
      "metadata": {
        "id": "DqIgUwowuOon"
      },
      "source": [
        "**(3)** Does the tibble `df1` exhibit the reversal paradox? Explain your answer. _**1 point**_"
      ]
    },
    {
      "cell_type": "markdown",
      "metadata": {
        "id": "7ibzgKtAuOon"
      },
      "source": [
        "#### Text solution cell 4.3\n",
        "\n",
        "Type your answer here"
      ]
    },
    {
      "cell_type": "markdown",
      "metadata": {
        "id": "uq_hL0TDuOon"
      },
      "source": [
        "**(4)** Let us create a tibble `df2` which has the same dimensions and variables as `df1`."
      ]
    },
    {
      "cell_type": "code",
      "execution_count": null,
      "metadata": {
        "id": "R3Kuz7B-uOoo"
      },
      "outputs": [],
      "source": [
        "# DO NOT EDIT THIS CELL\n",
        "\n",
        "df2 <- get_mystery_df(-0.7,1.5,0,1.5,0)"
      ]
    },
    {
      "cell_type": "markdown",
      "metadata": {
        "id": "419b4JJDuOoo"
      },
      "source": [
        "Repeat part **(1)** above but now for the tibble `df2` defined in the previous cell. _**1 point**_"
      ]
    },
    {
      "cell_type": "code",
      "execution_count": null,
      "metadata": {
        "id": "SCwwpeARuOoo"
      },
      "outputs": [],
      "source": [
        "# SOLUTION CELL 4.4\n",
        "\n"
      ]
    },
    {
      "cell_type": "markdown",
      "metadata": {
        "id": "rTrafsaouOoo"
      },
      "source": [
        "**(5)** Repeat part **(2)** above but now for the tibble `df2`. _**1 point**_"
      ]
    },
    {
      "cell_type": "code",
      "execution_count": null,
      "metadata": {
        "id": "ligQMX-MuOoo"
      },
      "outputs": [],
      "source": [
        "# SOLUTION CELL 4.5\n",
        "\n"
      ]
    },
    {
      "cell_type": "markdown",
      "metadata": {
        "id": "1P5kTy51uOoo"
      },
      "source": [
        "**(6)** Does the tibble `df2` exhibit the reversal paradox? Explain your answer. _**1 point**_"
      ]
    },
    {
      "cell_type": "markdown",
      "metadata": {
        "id": "_FsIvC26uOoo"
      },
      "source": [
        "#### Text solution cell 4.6\n",
        "\n",
        "Type your answer here"
      ]
    }
  ],
  "metadata": {
    "kernelspec": {
      "display_name": "R",
      "language": "R",
      "name": "ir"
    },
    "language_info": {
      "codemirror_mode": "r",
      "file_extension": ".r",
      "mimetype": "text/x-r-source",
      "name": "R",
      "pygments_lexer": "r",
      "version": "4.0.4"
    },
    "colab": {
      "name": "midterm.ipynb",
      "provenance": [],
      "collapsed_sections": []
    }
  },
  "nbformat": 4,
  "nbformat_minor": 0
}