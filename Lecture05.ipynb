{
  "cells": [
    {
      "cell_type": "markdown",
      "metadata": {
        "id": "4N3metqM5cJA"
      },
      "source": [
        "In this notebook, we will cover:\n",
        "\n",
        "* [Adding New Variables](#Adding-New-Variables)\n",
        "\n",
        "Let us load up the `tidyverse` and `nycflights13` packages."
      ]
    },
    {
      "cell_type": "code",
      "execution_count": 2,
      "metadata": {
        "id": "aCXz1mnL5cJE",
        "outputId": "0f090f8d-c384-4e78-f45a-80bb7a69dab7",
        "colab": {
          "base_uri": "https://localhost:8080/"
        }
      },
      "outputs": [
        {
          "output_type": "stream",
          "name": "stderr",
          "text": [
            "Installing package into ‘/usr/local/lib/R/site-library’\n",
            "(as ‘lib’ is unspecified)\n",
            "\n"
          ]
        }
      ],
      "source": [
        "install.packages(\"nycflights13\")\n",
        "library(tidyverse)\n",
        "library(nycflights13)"
      ]
    },
    {
      "cell_type": "markdown",
      "metadata": {
        "id": "TzIlT-Ja5cJH"
      },
      "source": [
        "# Adding New Variables"
      ]
    },
    {
      "cell_type": "markdown",
      "metadata": {
        "id": "i-ccX8YV5cJH"
      },
      "source": [
        "Let us zoom in on a few variables of interest."
      ]
    },
    {
      "cell_type": "code",
      "execution_count": 27,
      "metadata": {
        "id": "JevY5gFb5cJI",
        "outputId": "2388288e-2e68-4d90-a33a-8e69444c0083",
        "colab": {
          "base_uri": "https://localhost:8080/",
          "height": 286
        }
      },
      "outputs": [
        {
          "output_type": "display_data",
          "data": {
            "text/plain": [
              "  year month day dep_time arr_time air_time origin dest\n",
              "1 2013 1     1   517       830     227      EWR    IAH \n",
              "2 2013 1     1   533       850     227      LGA    IAH \n",
              "3 2013 1     1   542       923     160      JFK    MIA \n",
              "4 2013 1     1   544      1004     183      JFK    BQN \n",
              "5 2013 1     1   554       812     116      LGA    ATL \n",
              "6 2013 1     1   554       740     150      EWR    ORD "
            ],
            "text/latex": "A tibble: 6 × 8\n\\begin{tabular}{llllllll}\n year & month & day & dep\\_time & arr\\_time & air\\_time & origin & dest\\\\\n <int> & <int> & <int> & <int> & <int> & <dbl> & <chr> & <chr>\\\\\n\\hline\n\t 2013 & 1 & 1 & 517 &  830 & 227 & EWR & IAH\\\\\n\t 2013 & 1 & 1 & 533 &  850 & 227 & LGA & IAH\\\\\n\t 2013 & 1 & 1 & 542 &  923 & 160 & JFK & MIA\\\\\n\t 2013 & 1 & 1 & 544 & 1004 & 183 & JFK & BQN\\\\\n\t 2013 & 1 & 1 & 554 &  812 & 116 & LGA & ATL\\\\\n\t 2013 & 1 & 1 & 554 &  740 & 150 & EWR & ORD\\\\\n\\end{tabular}\n",
            "text/markdown": "\nA tibble: 6 × 8\n\n| year &lt;int&gt; | month &lt;int&gt; | day &lt;int&gt; | dep_time &lt;int&gt; | arr_time &lt;int&gt; | air_time &lt;dbl&gt; | origin &lt;chr&gt; | dest &lt;chr&gt; |\n|---|---|---|---|---|---|---|---|\n| 2013 | 1 | 1 | 517 |  830 | 227 | EWR | IAH |\n| 2013 | 1 | 1 | 533 |  850 | 227 | LGA | IAH |\n| 2013 | 1 | 1 | 542 |  923 | 160 | JFK | MIA |\n| 2013 | 1 | 1 | 544 | 1004 | 183 | JFK | BQN |\n| 2013 | 1 | 1 | 554 |  812 | 116 | LGA | ATL |\n| 2013 | 1 | 1 | 554 |  740 | 150 | EWR | ORD |\n\n",
            "text/html": [
              "<table class=\"dataframe\">\n",
              "<caption>A tibble: 6 × 8</caption>\n",
              "<thead>\n",
              "\t<tr><th scope=col>year</th><th scope=col>month</th><th scope=col>day</th><th scope=col>dep_time</th><th scope=col>arr_time</th><th scope=col>air_time</th><th scope=col>origin</th><th scope=col>dest</th></tr>\n",
              "\t<tr><th scope=col>&lt;int&gt;</th><th scope=col>&lt;int&gt;</th><th scope=col>&lt;int&gt;</th><th scope=col>&lt;int&gt;</th><th scope=col>&lt;int&gt;</th><th scope=col>&lt;dbl&gt;</th><th scope=col>&lt;chr&gt;</th><th scope=col>&lt;chr&gt;</th></tr>\n",
              "</thead>\n",
              "<tbody>\n",
              "\t<tr><td>2013</td><td>1</td><td>1</td><td>517</td><td> 830</td><td>227</td><td>EWR</td><td>IAH</td></tr>\n",
              "\t<tr><td>2013</td><td>1</td><td>1</td><td>533</td><td> 850</td><td>227</td><td>LGA</td><td>IAH</td></tr>\n",
              "\t<tr><td>2013</td><td>1</td><td>1</td><td>542</td><td> 923</td><td>160</td><td>JFK</td><td>MIA</td></tr>\n",
              "\t<tr><td>2013</td><td>1</td><td>1</td><td>544</td><td>1004</td><td>183</td><td>JFK</td><td>BQN</td></tr>\n",
              "\t<tr><td>2013</td><td>1</td><td>1</td><td>554</td><td> 812</td><td>116</td><td>LGA</td><td>ATL</td></tr>\n",
              "\t<tr><td>2013</td><td>1</td><td>1</td><td>554</td><td> 740</td><td>150</td><td>EWR</td><td>ORD</td></tr>\n",
              "</tbody>\n",
              "</table>\n"
            ]
          },
          "metadata": {}
        }
      ],
      "source": [
        "my_flights <- select(flights, year:day, dep_time, arr_time, air_time, origin, dest)\n",
        "head(my_flights)"
      ]
    },
    {
      "cell_type": "markdown",
      "metadata": {
        "id": "YHgyQvgl5cJI"
      },
      "source": [
        "Additional variable can be added using the `mutate()` function. We already have an `air_time` variable. Let us compute the total time for the flight by subtracting the time of departure `dep_time` from time of arrival `arr_time`.\n",
        "\n",
        "We notice something odd though. When we subtract 5h 17m from 8h 30m we should get 3h 13m, i.e. 193 minutes. But instead we get 313 minutes below."
      ]
    },
    {
      "cell_type": "code",
      "execution_count": 28,
      "metadata": {
        "id": "UecLu7nR5cJI",
        "outputId": "213192a6-6997-440c-955d-a7f8e939cf35",
        "colab": {
          "base_uri": "https://localhost:8080/",
          "height": 286
        }
      },
      "outputs": [
        {
          "output_type": "display_data",
          "data": {
            "text/plain": [
              "  year month day dep_time arr_time air_time origin dest total_time\n",
              "1 2013 1     1   517       830     227      EWR    IAH  313       \n",
              "2 2013 1     1   533       850     227      LGA    IAH  317       \n",
              "3 2013 1     1   542       923     160      JFK    MIA  381       \n",
              "4 2013 1     1   544      1004     183      JFK    BQN  460       \n",
              "5 2013 1     1   554       812     116      LGA    ATL  258       \n",
              "6 2013 1     1   554       740     150      EWR    ORD  186       "
            ],
            "text/latex": "A tibble: 6 × 9\n\\begin{tabular}{lllllllll}\n year & month & day & dep\\_time & arr\\_time & air\\_time & origin & dest & total\\_time\\\\\n <int> & <int> & <int> & <int> & <int> & <dbl> & <chr> & <chr> & <int>\\\\\n\\hline\n\t 2013 & 1 & 1 & 517 &  830 & 227 & EWR & IAH & 313\\\\\n\t 2013 & 1 & 1 & 533 &  850 & 227 & LGA & IAH & 317\\\\\n\t 2013 & 1 & 1 & 542 &  923 & 160 & JFK & MIA & 381\\\\\n\t 2013 & 1 & 1 & 544 & 1004 & 183 & JFK & BQN & 460\\\\\n\t 2013 & 1 & 1 & 554 &  812 & 116 & LGA & ATL & 258\\\\\n\t 2013 & 1 & 1 & 554 &  740 & 150 & EWR & ORD & 186\\\\\n\\end{tabular}\n",
            "text/markdown": "\nA tibble: 6 × 9\n\n| year &lt;int&gt; | month &lt;int&gt; | day &lt;int&gt; | dep_time &lt;int&gt; | arr_time &lt;int&gt; | air_time &lt;dbl&gt; | origin &lt;chr&gt; | dest &lt;chr&gt; | total_time &lt;int&gt; |\n|---|---|---|---|---|---|---|---|---|\n| 2013 | 1 | 1 | 517 |  830 | 227 | EWR | IAH | 313 |\n| 2013 | 1 | 1 | 533 |  850 | 227 | LGA | IAH | 317 |\n| 2013 | 1 | 1 | 542 |  923 | 160 | JFK | MIA | 381 |\n| 2013 | 1 | 1 | 544 | 1004 | 183 | JFK | BQN | 460 |\n| 2013 | 1 | 1 | 554 |  812 | 116 | LGA | ATL | 258 |\n| 2013 | 1 | 1 | 554 |  740 | 150 | EWR | ORD | 186 |\n\n",
            "text/html": [
              "<table class=\"dataframe\">\n",
              "<caption>A tibble: 6 × 9</caption>\n",
              "<thead>\n",
              "\t<tr><th scope=col>year</th><th scope=col>month</th><th scope=col>day</th><th scope=col>dep_time</th><th scope=col>arr_time</th><th scope=col>air_time</th><th scope=col>origin</th><th scope=col>dest</th><th scope=col>total_time</th></tr>\n",
              "\t<tr><th scope=col>&lt;int&gt;</th><th scope=col>&lt;int&gt;</th><th scope=col>&lt;int&gt;</th><th scope=col>&lt;int&gt;</th><th scope=col>&lt;int&gt;</th><th scope=col>&lt;dbl&gt;</th><th scope=col>&lt;chr&gt;</th><th scope=col>&lt;chr&gt;</th><th scope=col>&lt;int&gt;</th></tr>\n",
              "</thead>\n",
              "<tbody>\n",
              "\t<tr><td>2013</td><td>1</td><td>1</td><td>517</td><td> 830</td><td>227</td><td>EWR</td><td>IAH</td><td>313</td></tr>\n",
              "\t<tr><td>2013</td><td>1</td><td>1</td><td>533</td><td> 850</td><td>227</td><td>LGA</td><td>IAH</td><td>317</td></tr>\n",
              "\t<tr><td>2013</td><td>1</td><td>1</td><td>542</td><td> 923</td><td>160</td><td>JFK</td><td>MIA</td><td>381</td></tr>\n",
              "\t<tr><td>2013</td><td>1</td><td>1</td><td>544</td><td>1004</td><td>183</td><td>JFK</td><td>BQN</td><td>460</td></tr>\n",
              "\t<tr><td>2013</td><td>1</td><td>1</td><td>554</td><td> 812</td><td>116</td><td>LGA</td><td>ATL</td><td>258</td></tr>\n",
              "\t<tr><td>2013</td><td>1</td><td>1</td><td>554</td><td> 740</td><td>150</td><td>EWR</td><td>ORD</td><td>186</td></tr>\n",
              "</tbody>\n",
              "</table>\n"
            ]
          },
          "metadata": {}
        }
      ],
      "source": [
        "mutate(my_flights, total_time = arr_time - dep_time) %>%\n",
        "    head()"
      ]
    },
    {
      "cell_type": "markdown",
      "metadata": {
        "id": "A3TPCvF_5cJJ"
      },
      "source": [
        "The issue is that `dep_time` and `arr_time` are in the hour-minute notation which is great to look at but not very useful for computations. We should first convert these times into the number of minutes elapsed since midnight.\n",
        "\n",
        "We want add to new variables `new_dep` and `new_arr` but we need to write a function first that can do the conversion."
      ]
    },
    {
      "cell_type": "code",
      "execution_count": 5,
      "metadata": {
        "id": "1lzopLZL5cJK"
      },
      "outputs": [],
      "source": [
        "hourmin2min <- function(hourmin) {\n",
        "    min <- hourmin %% 100 # remainder after division by 100\n",
        "    hour <- (hourmin - min) %/% 100 # quotient after division by 100\n",
        "    return(60*hour + min)\n",
        "} "
      ]
    },
    {
      "cell_type": "markdown",
      "metadata": {
        "id": "l1t2TmpK5cJK"
      },
      "source": [
        "Let us test the function on 530. That's 5h 30min, i.e., 330 minutes since midnight."
      ]
    },
    {
      "cell_type": "code",
      "execution_count": 6,
      "metadata": {
        "id": "msM517A45cJK",
        "outputId": "1998026a-2811-4c48-c53e-6e336314b15f",
        "colab": {
          "base_uri": "https://localhost:8080/",
          "height": 34
        }
      },
      "outputs": [
        {
          "output_type": "display_data",
          "data": {
            "text/plain": [
              "[1] 330"
            ],
            "text/latex": "330",
            "text/markdown": "330",
            "text/html": [
              "330"
            ]
          },
          "metadata": {}
        }
      ],
      "source": [
        "hourmin2min(530)"
      ]
    },
    {
      "cell_type": "markdown",
      "metadata": {
        "id": "ExmtElkA5cJL"
      },
      "source": [
        "The `hourmin2min` function is **vectorized**: given a vector, it outputs a vector."
      ]
    },
    {
      "cell_type": "code",
      "execution_count": 7,
      "metadata": {
        "id": "99W3348x5cJL",
        "outputId": "39eff13b-ed29-43ee-cfd4-aba9e92565db",
        "colab": {
          "base_uri": "https://localhost:8080/",
          "height": 34
        }
      },
      "outputs": [
        {
          "output_type": "display_data",
          "data": {
            "text/plain": [
              "[1] 270 330 390 450"
            ],
            "text/latex": "\\begin{enumerate*}\n\\item 270\n\\item 330\n\\item 390\n\\item 450\n\\end{enumerate*}\n",
            "text/markdown": "1. 270\n2. 330\n3. 390\n4. 450\n\n\n",
            "text/html": [
              "<style>\n",
              ".list-inline {list-style: none; margin:0; padding: 0}\n",
              ".list-inline>li {display: inline-block}\n",
              ".list-inline>li:not(:last-child)::after {content: \"\\00b7\"; padding: 0 .5ex}\n",
              "</style>\n",
              "<ol class=list-inline><li>270</li><li>330</li><li>390</li><li>450</li></ol>\n"
            ]
          },
          "metadata": {}
        }
      ],
      "source": [
        "hourmin2min(c(430,530,630,730))"
      ]
    },
    {
      "cell_type": "markdown",
      "metadata": {
        "id": "FT65QkgA5cJL"
      },
      "source": [
        "R provides you with several in-built vectorized functions that can be used to create more complicated function. These include:\n",
        "\n",
        "* **Arithmetic operators** `+, -, *, /, ^`\n",
        "* **Modular arithmetic operators** `%/%` and `%%` \n",
        "* **Logarithms** `log()`, `log10()`, `log2()`\n",
        "* **Offsets** `lag()` and `lead()`"
      ]
    },
    {
      "cell_type": "code",
      "execution_count": 8,
      "metadata": {
        "id": "68Cxd03R5cJM",
        "outputId": "3040f2af-f4bd-4684-bcde-0fc50c2643e5",
        "colab": {
          "base_uri": "https://localhost:8080/",
          "height": 52
        }
      },
      "outputs": [
        {
          "output_type": "display_data",
          "data": {
            "text/plain": [
              "[1] 1.666667"
            ],
            "text/latex": "1.66666666666667",
            "text/markdown": "1.66666666666667",
            "text/html": [
              "1.66666666666667"
            ]
          },
          "metadata": {}
        },
        {
          "output_type": "display_data",
          "data": {
            "text/plain": [
              "[1] 1"
            ],
            "text/latex": "1",
            "text/markdown": "1",
            "text/html": [
              "1"
            ]
          },
          "metadata": {}
        }
      ],
      "source": [
        "5 / 3   # regular division\n",
        "5 %/% 3 # integer division"
      ]
    },
    {
      "cell_type": "code",
      "execution_count": 9,
      "metadata": {
        "id": "ahD4NP735cJM",
        "outputId": "18ef34e7-ca65-4d5e-900c-7a9340e8805d",
        "colab": {
          "base_uri": "https://localhost:8080/",
          "height": 34
        }
      },
      "outputs": [
        {
          "output_type": "display_data",
          "data": {
            "text/plain": [
              " [1] 1 2 3 4 0 1 2 3 4 0 1 2 3 4 0 1 2 3 4 0"
            ],
            "text/latex": "\\begin{enumerate*}\n\\item 1\n\\item 2\n\\item 3\n\\item 4\n\\item 0\n\\item 1\n\\item 2\n\\item 3\n\\item 4\n\\item 0\n\\item 1\n\\item 2\n\\item 3\n\\item 4\n\\item 0\n\\item 1\n\\item 2\n\\item 3\n\\item 4\n\\item 0\n\\end{enumerate*}\n",
            "text/markdown": "1. 1\n2. 2\n3. 3\n4. 4\n5. 0\n6. 1\n7. 2\n8. 3\n9. 4\n10. 0\n11. 1\n12. 2\n13. 3\n14. 4\n15. 0\n16. 1\n17. 2\n18. 3\n19. 4\n20. 0\n\n\n",
            "text/html": [
              "<style>\n",
              ".list-inline {list-style: none; margin:0; padding: 0}\n",
              ".list-inline>li {display: inline-block}\n",
              ".list-inline>li:not(:last-child)::after {content: \"\\00b7\"; padding: 0 .5ex}\n",
              "</style>\n",
              "<ol class=list-inline><li>1</li><li>2</li><li>3</li><li>4</li><li>0</li><li>1</li><li>2</li><li>3</li><li>4</li><li>0</li><li>1</li><li>2</li><li>3</li><li>4</li><li>0</li><li>1</li><li>2</li><li>3</li><li>4</li><li>0</li></ol>\n"
            ]
          },
          "metadata": {}
        }
      ],
      "source": [
        "1:20 %% 5  # shorter argument 5 is extended to match length of longer argument"
      ]
    },
    {
      "cell_type": "code",
      "execution_count": 10,
      "metadata": {
        "id": "jwdT5fj75cJM",
        "outputId": "250f894a-475b-45f3-9c80-c2ce12f0b757",
        "colab": {
          "base_uri": "https://localhost:8080/",
          "height": 34
        }
      },
      "outputs": [
        {
          "output_type": "display_data",
          "data": {
            "text/plain": [
              " [1] TRUE TRUE TRUE TRUE TRUE TRUE TRUE TRUE TRUE TRUE"
            ],
            "text/latex": "\\begin{enumerate*}\n\\item TRUE\n\\item TRUE\n\\item TRUE\n\\item TRUE\n\\item TRUE\n\\item TRUE\n\\item TRUE\n\\item TRUE\n\\item TRUE\n\\item TRUE\n\\end{enumerate*}\n",
            "text/markdown": "1. TRUE\n2. TRUE\n3. TRUE\n4. TRUE\n5. TRUE\n6. TRUE\n7. TRUE\n8. TRUE\n9. TRUE\n10. TRUE\n\n\n",
            "text/html": [
              "<style>\n",
              ".list-inline {list-style: none; margin:0; padding: 0}\n",
              ".list-inline>li {display: inline-block}\n",
              ".list-inline>li:not(:last-child)::after {content: \"\\00b7\"; padding: 0 .5ex}\n",
              "</style>\n",
              "<ol class=list-inline><li>TRUE</li><li>TRUE</li><li>TRUE</li><li>TRUE</li><li>TRUE</li><li>TRUE</li><li>TRUE</li><li>TRUE</li><li>TRUE</li><li>TRUE</li></ol>\n"
            ]
          },
          "metadata": {}
        }
      ],
      "source": [
        "near(1:10, exp(log(1:10))) # log to base e"
      ]
    },
    {
      "cell_type": "code",
      "execution_count": 11,
      "metadata": {
        "id": "2uVG8fIY5cJM",
        "outputId": "ba92c941-6eb1-477b-c294-ea8386a80ee3",
        "colab": {
          "base_uri": "https://localhost:8080/",
          "height": 34
        }
      },
      "outputs": [
        {
          "output_type": "display_data",
          "data": {
            "text/plain": [
              " [1] TRUE TRUE TRUE TRUE TRUE TRUE TRUE TRUE TRUE TRUE"
            ],
            "text/latex": "\\begin{enumerate*}\n\\item TRUE\n\\item TRUE\n\\item TRUE\n\\item TRUE\n\\item TRUE\n\\item TRUE\n\\item TRUE\n\\item TRUE\n\\item TRUE\n\\item TRUE\n\\end{enumerate*}\n",
            "text/markdown": "1. TRUE\n2. TRUE\n3. TRUE\n4. TRUE\n5. TRUE\n6. TRUE\n7. TRUE\n8. TRUE\n9. TRUE\n10. TRUE\n\n\n",
            "text/html": [
              "<style>\n",
              ".list-inline {list-style: none; margin:0; padding: 0}\n",
              ".list-inline>li {display: inline-block}\n",
              ".list-inline>li:not(:last-child)::after {content: \"\\00b7\"; padding: 0 .5ex}\n",
              "</style>\n",
              "<ol class=list-inline><li>TRUE</li><li>TRUE</li><li>TRUE</li><li>TRUE</li><li>TRUE</li><li>TRUE</li><li>TRUE</li><li>TRUE</li><li>TRUE</li><li>TRUE</li></ol>\n"
            ]
          },
          "metadata": {}
        }
      ],
      "source": [
        "near(1:10, 10^log10(1:10)) # log to base 10"
      ]
    },
    {
      "cell_type": "code",
      "execution_count": 12,
      "metadata": {
        "id": "b66hI27e5cJN",
        "outputId": "20148066-d47a-460c-c5ef-3e2edef10f82",
        "colab": {
          "base_uri": "https://localhost:8080/",
          "height": 34
        }
      },
      "outputs": [
        {
          "output_type": "display_data",
          "data": {
            "text/plain": [
              " [1]  1  2  3  4  5  6  7  8  9 10"
            ],
            "text/latex": "\\begin{enumerate*}\n\\item 1\n\\item 2\n\\item 3\n\\item 4\n\\item 5\n\\item 6\n\\item 7\n\\item 8\n\\item 9\n\\item 10\n\\end{enumerate*}\n",
            "text/markdown": "1. 1\n2. 2\n3. 3\n4. 4\n5. 5\n6. 6\n7. 7\n8. 8\n9. 9\n10. 10\n\n\n",
            "text/html": [
              "<style>\n",
              ".list-inline {list-style: none; margin:0; padding: 0}\n",
              ".list-inline>li {display: inline-block}\n",
              ".list-inline>li:not(:last-child)::after {content: \"\\00b7\"; padding: 0 .5ex}\n",
              "</style>\n",
              "<ol class=list-inline><li>1</li><li>2</li><li>3</li><li>4</li><li>5</li><li>6</li><li>7</li><li>8</li><li>9</li><li>10</li></ol>\n"
            ]
          },
          "metadata": {}
        }
      ],
      "source": [
        "log2(2^(1:10))  # log to base 2"
      ]
    },
    {
      "cell_type": "code",
      "execution_count": 13,
      "metadata": {
        "id": "QFbFgDhj5cJN",
        "outputId": "539fd773-09c5-4bc9-de4a-0c72fbd20893",
        "colab": {
          "base_uri": "https://localhost:8080/",
          "height": 69
        }
      },
      "outputs": [
        {
          "output_type": "display_data",
          "data": {
            "text/plain": [
              " [1]  1  2  3  4  5  6  7  8  9 10"
            ],
            "text/latex": "\\begin{enumerate*}\n\\item 1\n\\item 2\n\\item 3\n\\item 4\n\\item 5\n\\item 6\n\\item 7\n\\item 8\n\\item 9\n\\item 10\n\\end{enumerate*}\n",
            "text/markdown": "1. 1\n2. 2\n3. 3\n4. 4\n5. 5\n6. 6\n7. 7\n8. 8\n9. 9\n10. 10\n\n\n",
            "text/html": [
              "<style>\n",
              ".list-inline {list-style: none; margin:0; padding: 0}\n",
              ".list-inline>li {display: inline-block}\n",
              ".list-inline>li:not(:last-child)::after {content: \"\\00b7\"; padding: 0 .5ex}\n",
              "</style>\n",
              "<ol class=list-inline><li>1</li><li>2</li><li>3</li><li>4</li><li>5</li><li>6</li><li>7</li><li>8</li><li>9</li><li>10</li></ol>\n"
            ]
          },
          "metadata": {}
        },
        {
          "output_type": "display_data",
          "data": {
            "text/plain": [
              " [1] NA  1  2  3  4  5  6  7  8  9"
            ],
            "text/latex": "\\begin{enumerate*}\n\\item <NA>\n\\item 1\n\\item 2\n\\item 3\n\\item 4\n\\item 5\n\\item 6\n\\item 7\n\\item 8\n\\item 9\n\\end{enumerate*}\n",
            "text/markdown": "1. &lt;NA&gt;\n2. 1\n3. 2\n4. 3\n5. 4\n6. 5\n7. 6\n8. 7\n9. 8\n10. 9\n\n\n",
            "text/html": [
              "<style>\n",
              ".list-inline {list-style: none; margin:0; padding: 0}\n",
              ".list-inline>li {display: inline-block}\n",
              ".list-inline>li:not(:last-child)::after {content: \"\\00b7\"; padding: 0 .5ex}\n",
              "</style>\n",
              "<ol class=list-inline><li>&lt;NA&gt;</li><li>1</li><li>2</li><li>3</li><li>4</li><li>5</li><li>6</li><li>7</li><li>8</li><li>9</li></ol>\n"
            ]
          },
          "metadata": {}
        },
        {
          "output_type": "display_data",
          "data": {
            "text/plain": [
              " [1]  2  3  4  5  6  7  8  9 10 NA"
            ],
            "text/latex": "\\begin{enumerate*}\n\\item 2\n\\item 3\n\\item 4\n\\item 5\n\\item 6\n\\item 7\n\\item 8\n\\item 9\n\\item 10\n\\item <NA>\n\\end{enumerate*}\n",
            "text/markdown": "1. 2\n2. 3\n3. 4\n4. 5\n5. 6\n6. 7\n7. 8\n8. 9\n9. 10\n10. &lt;NA&gt;\n\n\n",
            "text/html": [
              "<style>\n",
              ".list-inline {list-style: none; margin:0; padding: 0}\n",
              ".list-inline>li {display: inline-block}\n",
              ".list-inline>li:not(:last-child)::after {content: \"\\00b7\"; padding: 0 .5ex}\n",
              "</style>\n",
              "<ol class=list-inline><li>2</li><li>3</li><li>4</li><li>5</li><li>6</li><li>7</li><li>8</li><li>9</li><li>10</li><li>&lt;NA&gt;</li></ol>\n"
            ]
          },
          "metadata": {}
        }
      ],
      "source": [
        "(x <- 1:10)\n",
        "lag(x)\n",
        "lead(x)"
      ]
    },
    {
      "cell_type": "markdown",
      "metadata": {
        "id": "MdXf5Xwm5cJN"
      },
      "source": [
        "We also have:\n",
        "\n",
        "* **Logical comparisons** `==, !=, <, <=, >, >=`\n",
        "* **Cumulative aggregates** `cumsum(), cumprod(), cummin(), cummax()` (`dplyr` also provides `cummean()`)"
      ]
    },
    {
      "cell_type": "code",
      "execution_count": 14,
      "metadata": {
        "id": "5qFcvrCU5cJN",
        "outputId": "d224bb6f-59db-4a7e-f0dd-57a3341a8e74",
        "colab": {
          "base_uri": "https://localhost:8080/",
          "height": 69
        }
      },
      "outputs": [
        {
          "output_type": "display_data",
          "data": {
            "text/plain": [
              " [1] TRUE TRUE TRUE TRUE TRUE TRUE TRUE TRUE TRUE TRUE"
            ],
            "text/latex": "\\begin{enumerate*}\n\\item TRUE\n\\item TRUE\n\\item TRUE\n\\item TRUE\n\\item TRUE\n\\item TRUE\n\\item TRUE\n\\item TRUE\n\\item TRUE\n\\item TRUE\n\\end{enumerate*}\n",
            "text/markdown": "1. TRUE\n2. TRUE\n3. TRUE\n4. TRUE\n5. TRUE\n6. TRUE\n7. TRUE\n8. TRUE\n9. TRUE\n10. TRUE\n\n\n",
            "text/html": [
              "<style>\n",
              ".list-inline {list-style: none; margin:0; padding: 0}\n",
              ".list-inline>li {display: inline-block}\n",
              ".list-inline>li:not(:last-child)::after {content: \"\\00b7\"; padding: 0 .5ex}\n",
              "</style>\n",
              "<ol class=list-inline><li>TRUE</li><li>TRUE</li><li>TRUE</li><li>TRUE</li><li>TRUE</li><li>TRUE</li><li>TRUE</li><li>TRUE</li><li>TRUE</li><li>TRUE</li></ol>\n"
            ]
          },
          "metadata": {}
        },
        {
          "output_type": "display_data",
          "data": {
            "text/plain": [
              " [1]  TRUE  TRUE  TRUE  TRUE FALSE FALSE FALSE FALSE FALSE FALSE"
            ],
            "text/latex": "\\begin{enumerate*}\n\\item TRUE\n\\item TRUE\n\\item TRUE\n\\item TRUE\n\\item FALSE\n\\item FALSE\n\\item FALSE\n\\item FALSE\n\\item FALSE\n\\item FALSE\n\\end{enumerate*}\n",
            "text/markdown": "1. TRUE\n2. TRUE\n3. TRUE\n4. TRUE\n5. FALSE\n6. FALSE\n7. FALSE\n8. FALSE\n9. FALSE\n10. FALSE\n\n\n",
            "text/html": [
              "<style>\n",
              ".list-inline {list-style: none; margin:0; padding: 0}\n",
              ".list-inline>li {display: inline-block}\n",
              ".list-inline>li:not(:last-child)::after {content: \"\\00b7\"; padding: 0 .5ex}\n",
              "</style>\n",
              "<ol class=list-inline><li>TRUE</li><li>TRUE</li><li>TRUE</li><li>TRUE</li><li>FALSE</li><li>FALSE</li><li>FALSE</li><li>FALSE</li><li>FALSE</li><li>FALSE</li></ol>\n"
            ]
          },
          "metadata": {}
        },
        {
          "output_type": "display_data",
          "data": {
            "text/plain": [
              " [1] FALSE FALSE FALSE FALSE FALSE FALSE FALSE FALSE FALSE FALSE"
            ],
            "text/latex": "\\begin{enumerate*}\n\\item FALSE\n\\item FALSE\n\\item FALSE\n\\item FALSE\n\\item FALSE\n\\item FALSE\n\\item FALSE\n\\item FALSE\n\\item FALSE\n\\item FALSE\n\\end{enumerate*}\n",
            "text/markdown": "1. FALSE\n2. FALSE\n3. FALSE\n4. FALSE\n5. FALSE\n6. FALSE\n7. FALSE\n8. FALSE\n9. FALSE\n10. FALSE\n\n\n",
            "text/html": [
              "<style>\n",
              ".list-inline {list-style: none; margin:0; padding: 0}\n",
              ".list-inline>li {display: inline-block}\n",
              ".list-inline>li:not(:last-child)::after {content: \"\\00b7\"; padding: 0 .5ex}\n",
              "</style>\n",
              "<ol class=list-inline><li>FALSE</li><li>FALSE</li><li>FALSE</li><li>FALSE</li><li>FALSE</li><li>FALSE</li><li>FALSE</li><li>FALSE</li><li>FALSE</li><li>FALSE</li></ol>\n"
            ]
          },
          "metadata": {}
        }
      ],
      "source": [
        "1:10 < 11:20\n",
        "1:10 < 5\n",
        "21 < 11:20"
      ]
    },
    {
      "cell_type": "code",
      "execution_count": 15,
      "metadata": {
        "id": "MsznW02x5cJO",
        "outputId": "1a06022d-b905-4a06-d699-b8cbf0992ab8",
        "colab": {
          "base_uri": "https://localhost:8080/",
          "height": 34
        }
      },
      "outputs": [
        {
          "output_type": "display_data",
          "data": {
            "text/plain": [
              " [1]       1       2       6      24     120     720    5040   40320  362880\n",
              "[10] 3628800"
            ],
            "text/latex": "\\begin{enumerate*}\n\\item 1\n\\item 2\n\\item 6\n\\item 24\n\\item 120\n\\item 720\n\\item 5040\n\\item 40320\n\\item 362880\n\\item 3628800\n\\end{enumerate*}\n",
            "text/markdown": "1. 1\n2. 2\n3. 6\n4. 24\n5. 120\n6. 720\n7. 5040\n8. 40320\n9. 362880\n10. 3628800\n\n\n",
            "text/html": [
              "<style>\n",
              ".list-inline {list-style: none; margin:0; padding: 0}\n",
              ".list-inline>li {display: inline-block}\n",
              ".list-inline>li:not(:last-child)::after {content: \"\\00b7\"; padding: 0 .5ex}\n",
              "</style>\n",
              "<ol class=list-inline><li>1</li><li>2</li><li>6</li><li>24</li><li>120</li><li>720</li><li>5040</li><li>40320</li><li>362880</li><li>3628800</li></ol>\n"
            ]
          },
          "metadata": {}
        }
      ],
      "source": [
        "(factorials <- cumprod(1:10))"
      ]
    },
    {
      "cell_type": "markdown",
      "metadata": {
        "id": "mhG3AbGr5cJO"
      },
      "source": [
        "Finally, we can use these **ranking** functions:\n",
        "\n",
        "* `min_rank()`\n",
        "* `row_number()`\n",
        "* `dense_rank()`\n",
        "* `percent_rank()`\n",
        "* `cume_dist()`\n",
        "* `ntile()`"
      ]
    },
    {
      "cell_type": "code",
      "execution_count": 16,
      "metadata": {
        "id": "ND-hUCtV5cJO",
        "outputId": "8a6615d9-d0f1-4d92-911a-227425f7df06",
        "colab": {
          "base_uri": "https://localhost:8080/",
          "height": 69
        }
      },
      "outputs": [
        {
          "output_type": "display_data",
          "data": {
            "text/plain": [
              " [1] 11 12 17 14 NA 26 14 14 21 12"
            ],
            "text/latex": "\\begin{enumerate*}\n\\item 11\n\\item 12\n\\item 17\n\\item 14\n\\item <NA>\n\\item 26\n\\item 14\n\\item 14\n\\item 21\n\\item 12\n\\end{enumerate*}\n",
            "text/markdown": "1. 11\n2. 12\n3. 17\n4. 14\n5. &lt;NA&gt;\n6. 26\n7. 14\n8. 14\n9. 21\n10. 12\n\n\n",
            "text/html": [
              "<style>\n",
              ".list-inline {list-style: none; margin:0; padding: 0}\n",
              ".list-inline>li {display: inline-block}\n",
              ".list-inline>li:not(:last-child)::after {content: \"\\00b7\"; padding: 0 .5ex}\n",
              "</style>\n",
              "<ol class=list-inline><li>11</li><li>12</li><li>17</li><li>14</li><li>&lt;NA&gt;</li><li>26</li><li>14</li><li>14</li><li>21</li><li>12</li></ol>\n"
            ]
          },
          "metadata": {}
        },
        {
          "output_type": "display_data",
          "data": {
            "text/plain": [
              " [1]  1  2  7  4 NA  9  4  4  8  2"
            ],
            "text/latex": "\\begin{enumerate*}\n\\item 1\n\\item 2\n\\item 7\n\\item 4\n\\item <NA>\n\\item 9\n\\item 4\n\\item 4\n\\item 8\n\\item 2\n\\end{enumerate*}\n",
            "text/markdown": "1. 1\n2. 2\n3. 7\n4. 4\n5. &lt;NA&gt;\n6. 9\n7. 4\n8. 4\n9. 8\n10. 2\n\n\n",
            "text/html": [
              "<style>\n",
              ".list-inline {list-style: none; margin:0; padding: 0}\n",
              ".list-inline>li {display: inline-block}\n",
              ".list-inline>li:not(:last-child)::after {content: \"\\00b7\"; padding: 0 .5ex}\n",
              "</style>\n",
              "<ol class=list-inline><li>1</li><li>2</li><li>7</li><li>4</li><li>&lt;NA&gt;</li><li>9</li><li>4</li><li>4</li><li>8</li><li>2</li></ol>\n"
            ]
          },
          "metadata": {}
        },
        {
          "output_type": "display_data",
          "data": {
            "text/plain": [
              " [1]  9  7  3  4 NA  1  4  4  2  7"
            ],
            "text/latex": "\\begin{enumerate*}\n\\item 9\n\\item 7\n\\item 3\n\\item 4\n\\item <NA>\n\\item 1\n\\item 4\n\\item 4\n\\item 2\n\\item 7\n\\end{enumerate*}\n",
            "text/markdown": "1. 9\n2. 7\n3. 3\n4. 4\n5. &lt;NA&gt;\n6. 1\n7. 4\n8. 4\n9. 2\n10. 7\n\n\n",
            "text/html": [
              "<style>\n",
              ".list-inline {list-style: none; margin:0; padding: 0}\n",
              ".list-inline>li {display: inline-block}\n",
              ".list-inline>li:not(:last-child)::after {content: \"\\00b7\"; padding: 0 .5ex}\n",
              "</style>\n",
              "<ol class=list-inline><li>9</li><li>7</li><li>3</li><li>4</li><li>&lt;NA&gt;</li><li>1</li><li>4</li><li>4</li><li>2</li><li>7</li></ol>\n"
            ]
          },
          "metadata": {}
        }
      ],
      "source": [
        "(x <- sample(c(11, 12, 12, 14, 14, 14, 17, 21, 26, NA))) # returns a random permutation of the input\n",
        "min_rank(x) # ranks with smallest value as rank 1\n",
        "min_rank(desc(x)) # ranks with largest value as rank 1"
      ]
    },
    {
      "cell_type": "code",
      "execution_count": 17,
      "metadata": {
        "id": "jGSdW0dS5cJO",
        "outputId": "d8e22eee-5ede-4dcb-ac7d-2333ba99c971",
        "colab": {
          "base_uri": "https://localhost:8080/",
          "height": 34
        }
      },
      "outputs": [
        {
          "output_type": "display_data",
          "data": {
            "text/plain": [
              " [1]  1  2  4  3 NA  6  3  3  5  2"
            ],
            "text/latex": "\\begin{enumerate*}\n\\item 1\n\\item 2\n\\item 4\n\\item 3\n\\item <NA>\n\\item 6\n\\item 3\n\\item 3\n\\item 5\n\\item 2\n\\end{enumerate*}\n",
            "text/markdown": "1. 1\n2. 2\n3. 4\n4. 3\n5. &lt;NA&gt;\n6. 6\n7. 3\n8. 3\n9. 5\n10. 2\n\n\n",
            "text/html": [
              "<style>\n",
              ".list-inline {list-style: none; margin:0; padding: 0}\n",
              ".list-inline>li {display: inline-block}\n",
              ".list-inline>li:not(:last-child)::after {content: \"\\00b7\"; padding: 0 .5ex}\n",
              "</style>\n",
              "<ol class=list-inline><li>1</li><li>2</li><li>4</li><li>3</li><li>&lt;NA&gt;</li><li>6</li><li>3</li><li>3</li><li>5</li><li>2</li></ol>\n"
            ]
          },
          "metadata": {}
        }
      ],
      "source": [
        "dense_rank(x) # don't create gaps in ranks"
      ]
    },
    {
      "cell_type": "code",
      "execution_count": 18,
      "metadata": {
        "id": "90qAI4x65cJO",
        "outputId": "53e816fa-3fb5-4f9f-fb59-2720e9a1fc68",
        "colab": {
          "base_uri": "https://localhost:8080/",
          "height": 34
        }
      },
      "outputs": [
        {
          "output_type": "display_data",
          "data": {
            "text/plain": [
              " [1]  1  2  7  4 NA  9  5  6  8  3"
            ],
            "text/latex": "\\begin{enumerate*}\n\\item 1\n\\item 2\n\\item 7\n\\item 4\n\\item <NA>\n\\item 9\n\\item 5\n\\item 6\n\\item 8\n\\item 3\n\\end{enumerate*}\n",
            "text/markdown": "1. 1\n2. 2\n3. 7\n4. 4\n5. &lt;NA&gt;\n6. 9\n7. 5\n8. 6\n9. 8\n10. 3\n\n\n",
            "text/html": [
              "<style>\n",
              ".list-inline {list-style: none; margin:0; padding: 0}\n",
              ".list-inline>li {display: inline-block}\n",
              ".list-inline>li:not(:last-child)::after {content: \"\\00b7\"; padding: 0 .5ex}\n",
              "</style>\n",
              "<ol class=list-inline><li>1</li><li>2</li><li>7</li><li>4</li><li>&lt;NA&gt;</li><li>9</li><li>5</li><li>6</li><li>8</li><li>3</li></ol>\n"
            ]
          },
          "metadata": {}
        }
      ],
      "source": [
        "row_number(x) # just return the position number in sorted order (ties get different ranks here)"
      ]
    },
    {
      "cell_type": "code",
      "execution_count": 19,
      "metadata": {
        "id": "sSm0eCt85cJP",
        "outputId": "71aad868-4273-4966-a563-45fbfa1e6cd6",
        "colab": {
          "base_uri": "https://localhost:8080/",
          "height": 34
        }
      },
      "outputs": [
        {
          "output_type": "display_data",
          "data": {
            "text/plain": [
              " [1] 0.000 0.125 0.750 0.375    NA 1.000 0.375 0.375 0.875 0.125"
            ],
            "text/latex": "\\begin{enumerate*}\n\\item 0\n\\item 0.125\n\\item 0.75\n\\item 0.375\n\\item <NA>\n\\item 1\n\\item 0.375\n\\item 0.375\n\\item 0.875\n\\item 0.125\n\\end{enumerate*}\n",
            "text/markdown": "1. 0\n2. 0.125\n3. 0.75\n4. 0.375\n5. &lt;NA&gt;\n6. 1\n7. 0.375\n8. 0.375\n9. 0.875\n10. 0.125\n\n\n",
            "text/html": [
              "<style>\n",
              ".list-inline {list-style: none; margin:0; padding: 0}\n",
              ".list-inline>li {display: inline-block}\n",
              ".list-inline>li:not(:last-child)::after {content: \"\\00b7\"; padding: 0 .5ex}\n",
              "</style>\n",
              "<ol class=list-inline><li>0</li><li>0.125</li><li>0.75</li><li>0.375</li><li>&lt;NA&gt;</li><li>1</li><li>0.375</li><li>0.375</li><li>0.875</li><li>0.125</li></ol>\n"
            ]
          },
          "metadata": {}
        }
      ],
      "source": [
        "percent_rank(x) # min_rank values are scaled to [0,1]"
      ]
    },
    {
      "cell_type": "code",
      "execution_count": 20,
      "metadata": {
        "id": "XGUY8xOC5cJP",
        "outputId": "42bc6320-888c-4c06-9373-81ecf55f12d3",
        "colab": {
          "base_uri": "https://localhost:8080/",
          "height": 34
        }
      },
      "outputs": [
        {
          "output_type": "display_data",
          "data": {
            "text/plain": [
              " [1] 0.1111111 0.3333333 0.7777778 0.6666667        NA 1.0000000 0.6666667\n",
              " [8] 0.6666667 0.8888889 0.3333333"
            ],
            "text/latex": "\\begin{enumerate*}\n\\item 0.111111111111111\n\\item 0.333333333333333\n\\item 0.777777777777778\n\\item 0.666666666666667\n\\item <NA>\n\\item 1\n\\item 0.666666666666667\n\\item 0.666666666666667\n\\item 0.888888888888889\n\\item 0.333333333333333\n\\end{enumerate*}\n",
            "text/markdown": "1. 0.111111111111111\n2. 0.333333333333333\n3. 0.777777777777778\n4. 0.666666666666667\n5. &lt;NA&gt;\n6. 1\n7. 0.666666666666667\n8. 0.666666666666667\n9. 0.888888888888889\n10. 0.333333333333333\n\n\n",
            "text/html": [
              "<style>\n",
              ".list-inline {list-style: none; margin:0; padding: 0}\n",
              ".list-inline>li {display: inline-block}\n",
              ".list-inline>li:not(:last-child)::after {content: \"\\00b7\"; padding: 0 .5ex}\n",
              "</style>\n",
              "<ol class=list-inline><li>0.111111111111111</li><li>0.333333333333333</li><li>0.777777777777778</li><li>0.666666666666667</li><li>&lt;NA&gt;</li><li>1</li><li>0.666666666666667</li><li>0.666666666666667</li><li>0.888888888888889</li><li>0.333333333333333</li></ol>\n"
            ]
          },
          "metadata": {}
        }
      ],
      "source": [
        "cume_dist(x) # fraction of entries less than or equal to a given number"
      ]
    },
    {
      "cell_type": "code",
      "execution_count": 21,
      "metadata": {
        "id": "r13wctN15cJP",
        "outputId": "12453480-634a-4731-c359-757db310e788",
        "colab": {
          "base_uri": "https://localhost:8080/",
          "height": 34
        }
      },
      "outputs": [
        {
          "output_type": "display_data",
          "data": {
            "text/plain": [
              " [1]  1  1  3  2 NA  4  2  3  4  1"
            ],
            "text/latex": "\\begin{enumerate*}\n\\item 1\n\\item 1\n\\item 3\n\\item 2\n\\item <NA>\n\\item 4\n\\item 2\n\\item 3\n\\item 4\n\\item 1\n\\end{enumerate*}\n",
            "text/markdown": "1. 1\n2. 1\n3. 3\n4. 2\n5. &lt;NA&gt;\n6. 4\n7. 2\n8. 3\n9. 4\n10. 1\n\n\n",
            "text/html": [
              "<style>\n",
              ".list-inline {list-style: none; margin:0; padding: 0}\n",
              ".list-inline>li {display: inline-block}\n",
              ".list-inline>li:not(:last-child)::after {content: \"\\00b7\"; padding: 0 .5ex}\n",
              "</style>\n",
              "<ol class=list-inline><li>1</li><li>1</li><li>3</li><li>2</li><li>&lt;NA&gt;</li><li>4</li><li>2</li><li>3</li><li>4</li><li>1</li></ol>\n"
            ]
          },
          "metadata": {}
        }
      ],
      "source": [
        "ntile(x, 4) # rough ranks based on using just 4 buckets"
      ]
    },
    {
      "cell_type": "markdown",
      "metadata": {
        "id": "fK8KS5-75cJP"
      },
      "source": [
        "Let us now create two new variables obtained from `arr_time` and `dep_time` by converting them into minutes since midnight."
      ]
    },
    {
      "cell_type": "code",
      "execution_count": 22,
      "metadata": {
        "id": "RSAmPX-a5cJP",
        "outputId": "3769e599-3cad-4072-e8f4-50cb3d2ce218",
        "colab": {
          "base_uri": "https://localhost:8080/",
          "height": 286
        }
      },
      "outputs": [
        {
          "output_type": "display_data",
          "data": {
            "text/plain": [
              "  year month day dep_time arr_time air_time origin dest new_arr new_dep\n",
              "1 2013 1     1   517       830     227      EWR    IAH  510     317    \n",
              "2 2013 1     1   533       850     227      LGA    IAH  530     333    \n",
              "3 2013 1     1   542       923     160      JFK    MIA  563     342    \n",
              "4 2013 1     1   544      1004     183      JFK    BQN  604     344    \n",
              "5 2013 1     1   554       812     116      LGA    ATL  492     354    \n",
              "6 2013 1     1   554       740     150      EWR    ORD  460     354    "
            ],
            "text/latex": "A tibble: 6 × 10\n\\begin{tabular}{llllllllll}\n year & month & day & dep\\_time & arr\\_time & air\\_time & origin & dest & new\\_arr & new\\_dep\\\\\n <int> & <int> & <int> & <int> & <int> & <dbl> & <chr> & <chr> & <dbl> & <dbl>\\\\\n\\hline\n\t 2013 & 1 & 1 & 517 &  830 & 227 & EWR & IAH & 510 & 317\\\\\n\t 2013 & 1 & 1 & 533 &  850 & 227 & LGA & IAH & 530 & 333\\\\\n\t 2013 & 1 & 1 & 542 &  923 & 160 & JFK & MIA & 563 & 342\\\\\n\t 2013 & 1 & 1 & 544 & 1004 & 183 & JFK & BQN & 604 & 344\\\\\n\t 2013 & 1 & 1 & 554 &  812 & 116 & LGA & ATL & 492 & 354\\\\\n\t 2013 & 1 & 1 & 554 &  740 & 150 & EWR & ORD & 460 & 354\\\\\n\\end{tabular}\n",
            "text/markdown": "\nA tibble: 6 × 10\n\n| year &lt;int&gt; | month &lt;int&gt; | day &lt;int&gt; | dep_time &lt;int&gt; | arr_time &lt;int&gt; | air_time &lt;dbl&gt; | origin &lt;chr&gt; | dest &lt;chr&gt; | new_arr &lt;dbl&gt; | new_dep &lt;dbl&gt; |\n|---|---|---|---|---|---|---|---|---|---|\n| 2013 | 1 | 1 | 517 |  830 | 227 | EWR | IAH | 510 | 317 |\n| 2013 | 1 | 1 | 533 |  850 | 227 | LGA | IAH | 530 | 333 |\n| 2013 | 1 | 1 | 542 |  923 | 160 | JFK | MIA | 563 | 342 |\n| 2013 | 1 | 1 | 544 | 1004 | 183 | JFK | BQN | 604 | 344 |\n| 2013 | 1 | 1 | 554 |  812 | 116 | LGA | ATL | 492 | 354 |\n| 2013 | 1 | 1 | 554 |  740 | 150 | EWR | ORD | 460 | 354 |\n\n",
            "text/html": [
              "<table class=\"dataframe\">\n",
              "<caption>A tibble: 6 × 10</caption>\n",
              "<thead>\n",
              "\t<tr><th scope=col>year</th><th scope=col>month</th><th scope=col>day</th><th scope=col>dep_time</th><th scope=col>arr_time</th><th scope=col>air_time</th><th scope=col>origin</th><th scope=col>dest</th><th scope=col>new_arr</th><th scope=col>new_dep</th></tr>\n",
              "\t<tr><th scope=col>&lt;int&gt;</th><th scope=col>&lt;int&gt;</th><th scope=col>&lt;int&gt;</th><th scope=col>&lt;int&gt;</th><th scope=col>&lt;int&gt;</th><th scope=col>&lt;dbl&gt;</th><th scope=col>&lt;chr&gt;</th><th scope=col>&lt;chr&gt;</th><th scope=col>&lt;dbl&gt;</th><th scope=col>&lt;dbl&gt;</th></tr>\n",
              "</thead>\n",
              "<tbody>\n",
              "\t<tr><td>2013</td><td>1</td><td>1</td><td>517</td><td> 830</td><td>227</td><td>EWR</td><td>IAH</td><td>510</td><td>317</td></tr>\n",
              "\t<tr><td>2013</td><td>1</td><td>1</td><td>533</td><td> 850</td><td>227</td><td>LGA</td><td>IAH</td><td>530</td><td>333</td></tr>\n",
              "\t<tr><td>2013</td><td>1</td><td>1</td><td>542</td><td> 923</td><td>160</td><td>JFK</td><td>MIA</td><td>563</td><td>342</td></tr>\n",
              "\t<tr><td>2013</td><td>1</td><td>1</td><td>544</td><td>1004</td><td>183</td><td>JFK</td><td>BQN</td><td>604</td><td>344</td></tr>\n",
              "\t<tr><td>2013</td><td>1</td><td>1</td><td>554</td><td> 812</td><td>116</td><td>LGA</td><td>ATL</td><td>492</td><td>354</td></tr>\n",
              "\t<tr><td>2013</td><td>1</td><td>1</td><td>554</td><td> 740</td><td>150</td><td>EWR</td><td>ORD</td><td>460</td><td>354</td></tr>\n",
              "</tbody>\n",
              "</table>\n"
            ]
          },
          "metadata": {}
        }
      ],
      "source": [
        "my_flights_new <- mutate(my_flights, new_arr = hourmin2min(arr_time), new_dep = hourmin2min(dep_time))\n",
        "head(my_flights_new)"
      ]
    },
    {
      "cell_type": "markdown",
      "metadata": {
        "id": "1pfNTI7J5cJP"
      },
      "source": [
        "Now we can subtract the departure time `new_dep` from the arrival time `new_arr` to get a new variable `total_time`."
      ]
    },
    {
      "cell_type": "code",
      "execution_count": 23,
      "metadata": {
        "id": "VuXUF0Me5cJP",
        "outputId": "5796c061-ef89-49d6-a1ac-aa7a95157c6b",
        "colab": {
          "base_uri": "https://localhost:8080/",
          "height": 286
        }
      },
      "outputs": [
        {
          "output_type": "display_data",
          "data": {
            "text/plain": [
              "  year month day dep_time arr_time air_time origin dest new_arr new_dep\n",
              "1 2013 1     1   517       830     227      EWR    IAH  510     317    \n",
              "2 2013 1     1   533       850     227      LGA    IAH  530     333    \n",
              "3 2013 1     1   542       923     160      JFK    MIA  563     342    \n",
              "4 2013 1     1   544      1004     183      JFK    BQN  604     344    \n",
              "5 2013 1     1   554       812     116      LGA    ATL  492     354    \n",
              "6 2013 1     1   554       740     150      EWR    ORD  460     354    \n",
              "  total_time\n",
              "1 193       \n",
              "2 197       \n",
              "3 221       \n",
              "4 260       \n",
              "5 138       \n",
              "6 106       "
            ],
            "text/latex": "A tibble: 6 × 11\n\\begin{tabular}{lllllllllll}\n year & month & day & dep\\_time & arr\\_time & air\\_time & origin & dest & new\\_arr & new\\_dep & total\\_time\\\\\n <int> & <int> & <int> & <int> & <int> & <dbl> & <chr> & <chr> & <dbl> & <dbl> & <dbl>\\\\\n\\hline\n\t 2013 & 1 & 1 & 517 &  830 & 227 & EWR & IAH & 510 & 317 & 193\\\\\n\t 2013 & 1 & 1 & 533 &  850 & 227 & LGA & IAH & 530 & 333 & 197\\\\\n\t 2013 & 1 & 1 & 542 &  923 & 160 & JFK & MIA & 563 & 342 & 221\\\\\n\t 2013 & 1 & 1 & 544 & 1004 & 183 & JFK & BQN & 604 & 344 & 260\\\\\n\t 2013 & 1 & 1 & 554 &  812 & 116 & LGA & ATL & 492 & 354 & 138\\\\\n\t 2013 & 1 & 1 & 554 &  740 & 150 & EWR & ORD & 460 & 354 & 106\\\\\n\\end{tabular}\n",
            "text/markdown": "\nA tibble: 6 × 11\n\n| year &lt;int&gt; | month &lt;int&gt; | day &lt;int&gt; | dep_time &lt;int&gt; | arr_time &lt;int&gt; | air_time &lt;dbl&gt; | origin &lt;chr&gt; | dest &lt;chr&gt; | new_arr &lt;dbl&gt; | new_dep &lt;dbl&gt; | total_time &lt;dbl&gt; |\n|---|---|---|---|---|---|---|---|---|---|---|\n| 2013 | 1 | 1 | 517 |  830 | 227 | EWR | IAH | 510 | 317 | 193 |\n| 2013 | 1 | 1 | 533 |  850 | 227 | LGA | IAH | 530 | 333 | 197 |\n| 2013 | 1 | 1 | 542 |  923 | 160 | JFK | MIA | 563 | 342 | 221 |\n| 2013 | 1 | 1 | 544 | 1004 | 183 | JFK | BQN | 604 | 344 | 260 |\n| 2013 | 1 | 1 | 554 |  812 | 116 | LGA | ATL | 492 | 354 | 138 |\n| 2013 | 1 | 1 | 554 |  740 | 150 | EWR | ORD | 460 | 354 | 106 |\n\n",
            "text/html": [
              "<table class=\"dataframe\">\n",
              "<caption>A tibble: 6 × 11</caption>\n",
              "<thead>\n",
              "\t<tr><th scope=col>year</th><th scope=col>month</th><th scope=col>day</th><th scope=col>dep_time</th><th scope=col>arr_time</th><th scope=col>air_time</th><th scope=col>origin</th><th scope=col>dest</th><th scope=col>new_arr</th><th scope=col>new_dep</th><th scope=col>total_time</th></tr>\n",
              "\t<tr><th scope=col>&lt;int&gt;</th><th scope=col>&lt;int&gt;</th><th scope=col>&lt;int&gt;</th><th scope=col>&lt;int&gt;</th><th scope=col>&lt;int&gt;</th><th scope=col>&lt;dbl&gt;</th><th scope=col>&lt;chr&gt;</th><th scope=col>&lt;chr&gt;</th><th scope=col>&lt;dbl&gt;</th><th scope=col>&lt;dbl&gt;</th><th scope=col>&lt;dbl&gt;</th></tr>\n",
              "</thead>\n",
              "<tbody>\n",
              "\t<tr><td>2013</td><td>1</td><td>1</td><td>517</td><td> 830</td><td>227</td><td>EWR</td><td>IAH</td><td>510</td><td>317</td><td>193</td></tr>\n",
              "\t<tr><td>2013</td><td>1</td><td>1</td><td>533</td><td> 850</td><td>227</td><td>LGA</td><td>IAH</td><td>530</td><td>333</td><td>197</td></tr>\n",
              "\t<tr><td>2013</td><td>1</td><td>1</td><td>542</td><td> 923</td><td>160</td><td>JFK</td><td>MIA</td><td>563</td><td>342</td><td>221</td></tr>\n",
              "\t<tr><td>2013</td><td>1</td><td>1</td><td>544</td><td>1004</td><td>183</td><td>JFK</td><td>BQN</td><td>604</td><td>344</td><td>260</td></tr>\n",
              "\t<tr><td>2013</td><td>1</td><td>1</td><td>554</td><td> 812</td><td>116</td><td>LGA</td><td>ATL</td><td>492</td><td>354</td><td>138</td></tr>\n",
              "\t<tr><td>2013</td><td>1</td><td>1</td><td>554</td><td> 740</td><td>150</td><td>EWR</td><td>ORD</td><td>460</td><td>354</td><td>106</td></tr>\n",
              "</tbody>\n",
              "</table>\n"
            ]
          },
          "metadata": {}
        }
      ],
      "source": [
        "my_flights_total <- mutate(my_flights_new, total_time = new_arr - new_dep)\n",
        "head(my_flights_total)"
      ]
    },
    {
      "cell_type": "markdown",
      "metadata": {
        "id": "Gdq3mjai5cJQ"
      },
      "source": [
        "How is it that the total time is less that the time in air for some flights? We are faced with time zone issues."
      ]
    },
    {
      "cell_type": "code",
      "execution_count": 24,
      "metadata": {
        "scrolled": true,
        "id": "UTlWZ50N5cJQ",
        "outputId": "d13afa16-7478-4177-f95d-fc476d0d86c4",
        "colab": {
          "base_uri": "https://localhost:8080/",
          "height": 286
        }
      },
      "outputs": [
        {
          "output_type": "display_data",
          "data": {
            "text/plain": [
              "  year month day dep_time arr_time air_time origin dest new_arr new_dep\n",
              "1 2013 1     1   517      830      227      EWR    IAH  510     317    \n",
              "2 2013 1     1   533      850      227      LGA    IAH  530     333    \n",
              "3 2013 1     1   554      740      150      EWR    ORD  460     354    \n",
              "4 2013 1     1   558      753      138      LGA    ORD  473     358    \n",
              "5 2013 1     1   558      924      345      JFK    LAX  564     358    \n",
              "6 2013 1     1   558      923      361      EWR    SFO  563     358    \n",
              "  total_time\n",
              "1 193       \n",
              "2 197       \n",
              "3 106       \n",
              "4 115       \n",
              "5 206       \n",
              "6 205       "
            ],
            "text/latex": "A tibble: 6 × 11\n\\begin{tabular}{lllllllllll}\n year & month & day & dep\\_time & arr\\_time & air\\_time & origin & dest & new\\_arr & new\\_dep & total\\_time\\\\\n <int> & <int> & <int> & <int> & <int> & <dbl> & <chr> & <chr> & <dbl> & <dbl> & <dbl>\\\\\n\\hline\n\t 2013 & 1 & 1 & 517 & 830 & 227 & EWR & IAH & 510 & 317 & 193\\\\\n\t 2013 & 1 & 1 & 533 & 850 & 227 & LGA & IAH & 530 & 333 & 197\\\\\n\t 2013 & 1 & 1 & 554 & 740 & 150 & EWR & ORD & 460 & 354 & 106\\\\\n\t 2013 & 1 & 1 & 558 & 753 & 138 & LGA & ORD & 473 & 358 & 115\\\\\n\t 2013 & 1 & 1 & 558 & 924 & 345 & JFK & LAX & 564 & 358 & 206\\\\\n\t 2013 & 1 & 1 & 558 & 923 & 361 & EWR & SFO & 563 & 358 & 205\\\\\n\\end{tabular}\n",
            "text/markdown": "\nA tibble: 6 × 11\n\n| year &lt;int&gt; | month &lt;int&gt; | day &lt;int&gt; | dep_time &lt;int&gt; | arr_time &lt;int&gt; | air_time &lt;dbl&gt; | origin &lt;chr&gt; | dest &lt;chr&gt; | new_arr &lt;dbl&gt; | new_dep &lt;dbl&gt; | total_time &lt;dbl&gt; |\n|---|---|---|---|---|---|---|---|---|---|---|\n| 2013 | 1 | 1 | 517 | 830 | 227 | EWR | IAH | 510 | 317 | 193 |\n| 2013 | 1 | 1 | 533 | 850 | 227 | LGA | IAH | 530 | 333 | 197 |\n| 2013 | 1 | 1 | 554 | 740 | 150 | EWR | ORD | 460 | 354 | 106 |\n| 2013 | 1 | 1 | 558 | 753 | 138 | LGA | ORD | 473 | 358 | 115 |\n| 2013 | 1 | 1 | 558 | 924 | 345 | JFK | LAX | 564 | 358 | 206 |\n| 2013 | 1 | 1 | 558 | 923 | 361 | EWR | SFO | 563 | 358 | 205 |\n\n",
            "text/html": [
              "<table class=\"dataframe\">\n",
              "<caption>A tibble: 6 × 11</caption>\n",
              "<thead>\n",
              "\t<tr><th scope=col>year</th><th scope=col>month</th><th scope=col>day</th><th scope=col>dep_time</th><th scope=col>arr_time</th><th scope=col>air_time</th><th scope=col>origin</th><th scope=col>dest</th><th scope=col>new_arr</th><th scope=col>new_dep</th><th scope=col>total_time</th></tr>\n",
              "\t<tr><th scope=col>&lt;int&gt;</th><th scope=col>&lt;int&gt;</th><th scope=col>&lt;int&gt;</th><th scope=col>&lt;int&gt;</th><th scope=col>&lt;int&gt;</th><th scope=col>&lt;dbl&gt;</th><th scope=col>&lt;chr&gt;</th><th scope=col>&lt;chr&gt;</th><th scope=col>&lt;dbl&gt;</th><th scope=col>&lt;dbl&gt;</th><th scope=col>&lt;dbl&gt;</th></tr>\n",
              "</thead>\n",
              "<tbody>\n",
              "\t<tr><td>2013</td><td>1</td><td>1</td><td>517</td><td>830</td><td>227</td><td>EWR</td><td>IAH</td><td>510</td><td>317</td><td>193</td></tr>\n",
              "\t<tr><td>2013</td><td>1</td><td>1</td><td>533</td><td>850</td><td>227</td><td>LGA</td><td>IAH</td><td>530</td><td>333</td><td>197</td></tr>\n",
              "\t<tr><td>2013</td><td>1</td><td>1</td><td>554</td><td>740</td><td>150</td><td>EWR</td><td>ORD</td><td>460</td><td>354</td><td>106</td></tr>\n",
              "\t<tr><td>2013</td><td>1</td><td>1</td><td>558</td><td>753</td><td>138</td><td>LGA</td><td>ORD</td><td>473</td><td>358</td><td>115</td></tr>\n",
              "\t<tr><td>2013</td><td>1</td><td>1</td><td>558</td><td>924</td><td>345</td><td>JFK</td><td>LAX</td><td>564</td><td>358</td><td>206</td></tr>\n",
              "\t<tr><td>2013</td><td>1</td><td>1</td><td>558</td><td>923</td><td>361</td><td>EWR</td><td>SFO</td><td>563</td><td>358</td><td>205</td></tr>\n",
              "</tbody>\n",
              "</table>\n"
            ]
          },
          "metadata": {}
        }
      ],
      "source": [
        "filter(my_flights_total, total_time < air_time) %>%\n",
        "    head()"
      ]
    },
    {
      "cell_type": "markdown",
      "metadata": {
        "id": "_M5Y-w_a5cJQ"
      },
      "source": [
        "We also have some negative values for total time for flight that departed late in the day and arrived early morning next day."
      ]
    },
    {
      "cell_type": "code",
      "execution_count": 25,
      "metadata": {
        "id": "o01ZD9U05cJQ",
        "outputId": "1e337fe1-5222-41fc-e164-e9dfbf65dfaf",
        "colab": {
          "base_uri": "https://localhost:8080/",
          "height": 286
        }
      },
      "outputs": [
        {
          "output_type": "display_data",
          "data": {
            "text/plain": [
              "  year month day dep_time arr_time air_time origin dest new_arr new_dep\n",
              "1 2013 1     1   1929       3      192      EWR    BQN    3     1169   \n",
              "2 2013 1     1   1939      29       NA      JFK    DFW   29     1179   \n",
              "3 2013 1     1   2058       8      159      EWR    TPA    8     1258   \n",
              "4 2013 1     1   2102     146      199      EWR    SJU  106     1262   \n",
              "5 2013 1     1   2108      25      354      EWR    SFO   25     1268   \n",
              "6 2013 1     1   2120      16      160      LGA    FLL   16     1280   \n",
              "  total_time\n",
              "1 -1166     \n",
              "2 -1150     \n",
              "3 -1250     \n",
              "4 -1156     \n",
              "5 -1243     \n",
              "6 -1264     "
            ],
            "text/latex": "A tibble: 6 × 11\n\\begin{tabular}{lllllllllll}\n year & month & day & dep\\_time & arr\\_time & air\\_time & origin & dest & new\\_arr & new\\_dep & total\\_time\\\\\n <int> & <int> & <int> & <int> & <int> & <dbl> & <chr> & <chr> & <dbl> & <dbl> & <dbl>\\\\\n\\hline\n\t 2013 & 1 & 1 & 1929 &   3 & 192 & EWR & BQN &   3 & 1169 & -1166\\\\\n\t 2013 & 1 & 1 & 1939 &  29 &  NA & JFK & DFW &  29 & 1179 & -1150\\\\\n\t 2013 & 1 & 1 & 2058 &   8 & 159 & EWR & TPA &   8 & 1258 & -1250\\\\\n\t 2013 & 1 & 1 & 2102 & 146 & 199 & EWR & SJU & 106 & 1262 & -1156\\\\\n\t 2013 & 1 & 1 & 2108 &  25 & 354 & EWR & SFO &  25 & 1268 & -1243\\\\\n\t 2013 & 1 & 1 & 2120 &  16 & 160 & LGA & FLL &  16 & 1280 & -1264\\\\\n\\end{tabular}\n",
            "text/markdown": "\nA tibble: 6 × 11\n\n| year &lt;int&gt; | month &lt;int&gt; | day &lt;int&gt; | dep_time &lt;int&gt; | arr_time &lt;int&gt; | air_time &lt;dbl&gt; | origin &lt;chr&gt; | dest &lt;chr&gt; | new_arr &lt;dbl&gt; | new_dep &lt;dbl&gt; | total_time &lt;dbl&gt; |\n|---|---|---|---|---|---|---|---|---|---|---|\n| 2013 | 1 | 1 | 1929 |   3 | 192 | EWR | BQN |   3 | 1169 | -1166 |\n| 2013 | 1 | 1 | 1939 |  29 |  NA | JFK | DFW |  29 | 1179 | -1150 |\n| 2013 | 1 | 1 | 2058 |   8 | 159 | EWR | TPA |   8 | 1258 | -1250 |\n| 2013 | 1 | 1 | 2102 | 146 | 199 | EWR | SJU | 106 | 1262 | -1156 |\n| 2013 | 1 | 1 | 2108 |  25 | 354 | EWR | SFO |  25 | 1268 | -1243 |\n| 2013 | 1 | 1 | 2120 |  16 | 160 | LGA | FLL |  16 | 1280 | -1264 |\n\n",
            "text/html": [
              "<table class=\"dataframe\">\n",
              "<caption>A tibble: 6 × 11</caption>\n",
              "<thead>\n",
              "\t<tr><th scope=col>year</th><th scope=col>month</th><th scope=col>day</th><th scope=col>dep_time</th><th scope=col>arr_time</th><th scope=col>air_time</th><th scope=col>origin</th><th scope=col>dest</th><th scope=col>new_arr</th><th scope=col>new_dep</th><th scope=col>total_time</th></tr>\n",
              "\t<tr><th scope=col>&lt;int&gt;</th><th scope=col>&lt;int&gt;</th><th scope=col>&lt;int&gt;</th><th scope=col>&lt;int&gt;</th><th scope=col>&lt;int&gt;</th><th scope=col>&lt;dbl&gt;</th><th scope=col>&lt;chr&gt;</th><th scope=col>&lt;chr&gt;</th><th scope=col>&lt;dbl&gt;</th><th scope=col>&lt;dbl&gt;</th><th scope=col>&lt;dbl&gt;</th></tr>\n",
              "</thead>\n",
              "<tbody>\n",
              "\t<tr><td>2013</td><td>1</td><td>1</td><td>1929</td><td>  3</td><td>192</td><td>EWR</td><td>BQN</td><td>  3</td><td>1169</td><td>-1166</td></tr>\n",
              "\t<tr><td>2013</td><td>1</td><td>1</td><td>1939</td><td> 29</td><td> NA</td><td>JFK</td><td>DFW</td><td> 29</td><td>1179</td><td>-1150</td></tr>\n",
              "\t<tr><td>2013</td><td>1</td><td>1</td><td>2058</td><td>  8</td><td>159</td><td>EWR</td><td>TPA</td><td>  8</td><td>1258</td><td>-1250</td></tr>\n",
              "\t<tr><td>2013</td><td>1</td><td>1</td><td>2102</td><td>146</td><td>199</td><td>EWR</td><td>SJU</td><td>106</td><td>1262</td><td>-1156</td></tr>\n",
              "\t<tr><td>2013</td><td>1</td><td>1</td><td>2108</td><td> 25</td><td>354</td><td>EWR</td><td>SFO</td><td> 25</td><td>1268</td><td>-1243</td></tr>\n",
              "\t<tr><td>2013</td><td>1</td><td>1</td><td>2120</td><td> 16</td><td>160</td><td>LGA</td><td>FLL</td><td> 16</td><td>1280</td><td>-1264</td></tr>\n",
              "</tbody>\n",
              "</table>\n"
            ]
          },
          "metadata": {}
        }
      ],
      "source": [
        "filter(my_flights_total, total_time < 0) %>%\n",
        "    head()"
      ]
    },
    {
      "cell_type": "markdown",
      "metadata": {
        "id": "9pIhHnI45cJQ"
      },
      "source": [
        "We can fix the negative values by adding 24\\*60 to them (we keep the positive values as is).\n",
        "\n",
        "Note that `transmute()` will only keep the new variables."
      ]
    },
    {
      "cell_type": "code",
      "execution_count": 26,
      "metadata": {
        "id": "S9bLslES5cJQ",
        "outputId": "d9607acb-5b74-478d-ddf1-ccc1b6e1a4c5",
        "colab": {
          "base_uri": "https://localhost:8080/",
          "height": 98
        }
      },
      "outputs": [
        {
          "output_type": "display_data",
          "data": {
            "text/plain": [
              "     arr_time dep_time new_total_time"
            ],
            "text/latex": "A tibble: 0 × 3\n\\begin{tabular}{lll}\n arr\\_time & dep\\_time & new\\_total\\_time\\\\\n <int> & <int> & <dbl>\\\\\n\\hline\n\\end{tabular}\n",
            "text/markdown": "\nA tibble: 0 × 3\n\n| arr_time &lt;int&gt; | dep_time &lt;int&gt; | new_total_time &lt;dbl&gt; |\n|---|---|---|\n\n",
            "text/html": [
              "<table class=\"dataframe\">\n",
              "<caption>A tibble: 0 × 3</caption>\n",
              "<thead>\n",
              "\t<tr><th scope=col>arr_time</th><th scope=col>dep_time</th><th scope=col>new_total_time</th></tr>\n",
              "\t<tr><th scope=col>&lt;int&gt;</th><th scope=col>&lt;int&gt;</th><th scope=col>&lt;dbl&gt;</th></tr>\n",
              "</thead>\n",
              "<tbody>\n",
              "</tbody>\n",
              "</table>\n"
            ]
          },
          "metadata": {}
        }
      ],
      "source": [
        "no_negatives <- transmute(my_flights_total, arr_time, dep_time,\n",
        "          new_total_time = (total_time < 0)*(total_time + 24*60) + (total_time >= 0)*total_time)\n",
        "filter(no_negatives, new_total_time < 0)"
      ]
    },
    {
      "cell_type": "markdown",
      "metadata": {
        "id": "2y-jfr4L5cJR"
      },
      "source": [
        "So that took care of the negative total time issue."
      ]
    }
  ],
  "metadata": {
    "kernelspec": {
      "display_name": "R",
      "language": "R",
      "name": "ir"
    },
    "language_info": {
      "codemirror_mode": "r",
      "file_extension": ".r",
      "mimetype": "text/x-r-source",
      "name": "R",
      "pygments_lexer": "r",
      "version": "3.6.2"
    },
    "colab": {
      "name": "Lecture05.ipynb",
      "provenance": []
    }
  },
  "nbformat": 4,
  "nbformat_minor": 0
}