{
  "cells": [
    {
      "cell_type": "markdown",
      "metadata": {
        "id": "YG2TIb9YF944"
      },
      "source": [
        "In this notebook, we will cover:\n",
        "\n",
        "* [Grouped Mutate](#Grouped-Mutate)\n",
        "* [Separating](#Separating)\n",
        "* [Uniting](#Uniting)\n",
        "* [Missing Values](#Missing-Values)"
      ]
    },
    {
      "cell_type": "code",
      "execution_count": 33,
      "metadata": {
        "id": "CpWTsT0yF946"
      },
      "outputs": [],
      "source": [
        "library(tidyverse)"
      ]
    },
    {
      "cell_type": "markdown",
      "source": [
        "# Grouped Mutate"
      ],
      "metadata": {
        "id": "6JwRfni-GK_Q"
      }
    },
    {
      "cell_type": "markdown",
      "source": [
        "In the previous lecture we used `mutate` in conjunction with `group_by`. So far, we have used `summarize` in conjunction with `group_by`. In the case of `summarize` we use summary functions (`sum`, `mean`, etc.) that reduce the group's data to a single numerical summary value. For using `mutate` with `group_by`, it is most useful to use window functions instead. You can learn more about window functions [here](https://dplyr.tidyverse.org/articles/window-functions.html)."
      ],
      "metadata": {
        "id": "VKq8OKMXGSHv"
      }
    },
    {
      "cell_type": "code",
      "source": [
        "(people <- tribble(\n",
        "  ~name,             ~names,  ~values,\n",
        "  #-----------------|--------|------\n",
        "  \"Phillip Woods\",   \"age\",       45,\n",
        "  \"Phillip Woods\",   \"height\",   186,\n",
        "  \"Phillip Woods\",   \"age\",       50,\n",
        "  \"Jessica Cordero\", \"age\",       37,\n",
        "  \"Jessica Cordero\", \"height\",   156\n",
        "))"
      ],
      "metadata": {
        "id": "PTdplU2AGxOh",
        "outputId": "c859ca67-17e8-4199-8bb5-a86ae06872d9",
        "colab": {
          "base_uri": "https://localhost:8080/",
          "height": 255
        }
      },
      "execution_count": 34,
      "outputs": [
        {
          "output_type": "display_data",
          "data": {
            "text/plain": [
              "  name            names  values\n",
              "1 Phillip Woods   age     45   \n",
              "2 Phillip Woods   height 186   \n",
              "3 Phillip Woods   age     50   \n",
              "4 Jessica Cordero age     37   \n",
              "5 Jessica Cordero height 156   "
            ],
            "text/latex": "A tibble: 5 × 3\n\\begin{tabular}{lll}\n name & names & values\\\\\n <chr> & <chr> & <dbl>\\\\\n\\hline\n\t Phillip Woods   & age    &  45\\\\\n\t Phillip Woods   & height & 186\\\\\n\t Phillip Woods   & age    &  50\\\\\n\t Jessica Cordero & age    &  37\\\\\n\t Jessica Cordero & height & 156\\\\\n\\end{tabular}\n",
            "text/markdown": "\nA tibble: 5 × 3\n\n| name &lt;chr&gt; | names &lt;chr&gt; | values &lt;dbl&gt; |\n|---|---|---|\n| Phillip Woods   | age    |  45 |\n| Phillip Woods   | height | 186 |\n| Phillip Woods   | age    |  50 |\n| Jessica Cordero | age    |  37 |\n| Jessica Cordero | height | 156 |\n\n",
            "text/html": [
              "<table class=\"dataframe\">\n",
              "<caption>A tibble: 5 × 3</caption>\n",
              "<thead>\n",
              "\t<tr><th scope=col>name</th><th scope=col>names</th><th scope=col>values</th></tr>\n",
              "\t<tr><th scope=col>&lt;chr&gt;</th><th scope=col>&lt;chr&gt;</th><th scope=col>&lt;dbl&gt;</th></tr>\n",
              "</thead>\n",
              "<tbody>\n",
              "\t<tr><td>Phillip Woods  </td><td>age   </td><td> 45</td></tr>\n",
              "\t<tr><td>Phillip Woods  </td><td>height</td><td>186</td></tr>\n",
              "\t<tr><td>Phillip Woods  </td><td>age   </td><td> 50</td></tr>\n",
              "\t<tr><td>Jessica Cordero</td><td>age   </td><td> 37</td></tr>\n",
              "\t<tr><td>Jessica Cordero</td><td>height</td><td>156</td></tr>\n",
              "</tbody>\n",
              "</table>\n"
            ]
          },
          "metadata": {}
        }
      ]
    },
    {
      "cell_type": "code",
      "source": [
        "people %>%\n",
        "    group_by(name, names) %>%\n",
        "    mutate(row = row_number()) %>%\n",
        "    ungroup() # to drop the groups in the end"
      ],
      "metadata": {
        "id": "XoBFjAU9GQIT",
        "outputId": "785acdd6-ae05-4b57-a7e6-c2b807ae8080",
        "colab": {
          "base_uri": "https://localhost:8080/",
          "height": 255
        }
      },
      "execution_count": 35,
      "outputs": [
        {
          "output_type": "display_data",
          "data": {
            "text/plain": [
              "  name            names  values row\n",
              "1 Phillip Woods   age     45    1  \n",
              "2 Phillip Woods   height 186    1  \n",
              "3 Phillip Woods   age     50    2  \n",
              "4 Jessica Cordero age     37    1  \n",
              "5 Jessica Cordero height 156    1  "
            ],
            "text/latex": "A tibble: 5 × 4\n\\begin{tabular}{llll}\n name & names & values & row\\\\\n <chr> & <chr> & <dbl> & <int>\\\\\n\\hline\n\t Phillip Woods   & age    &  45 & 1\\\\\n\t Phillip Woods   & height & 186 & 1\\\\\n\t Phillip Woods   & age    &  50 & 2\\\\\n\t Jessica Cordero & age    &  37 & 1\\\\\n\t Jessica Cordero & height & 156 & 1\\\\\n\\end{tabular}\n",
            "text/markdown": "\nA tibble: 5 × 4\n\n| name &lt;chr&gt; | names &lt;chr&gt; | values &lt;dbl&gt; | row &lt;int&gt; |\n|---|---|---|---|\n| Phillip Woods   | age    |  45 | 1 |\n| Phillip Woods   | height | 186 | 1 |\n| Phillip Woods   | age    |  50 | 2 |\n| Jessica Cordero | age    |  37 | 1 |\n| Jessica Cordero | height | 156 | 1 |\n\n",
            "text/html": [
              "<table class=\"dataframe\">\n",
              "<caption>A tibble: 5 × 4</caption>\n",
              "<thead>\n",
              "\t<tr><th scope=col>name</th><th scope=col>names</th><th scope=col>values</th><th scope=col>row</th></tr>\n",
              "\t<tr><th scope=col>&lt;chr&gt;</th><th scope=col>&lt;chr&gt;</th><th scope=col>&lt;dbl&gt;</th><th scope=col>&lt;int&gt;</th></tr>\n",
              "</thead>\n",
              "<tbody>\n",
              "\t<tr><td>Phillip Woods  </td><td>age   </td><td> 45</td><td>1</td></tr>\n",
              "\t<tr><td>Phillip Woods  </td><td>height</td><td>186</td><td>1</td></tr>\n",
              "\t<tr><td>Phillip Woods  </td><td>age   </td><td> 50</td><td>2</td></tr>\n",
              "\t<tr><td>Jessica Cordero</td><td>age   </td><td> 37</td><td>1</td></tr>\n",
              "\t<tr><td>Jessica Cordero</td><td>height</td><td>156</td><td>1</td></tr>\n",
              "</tbody>\n",
              "</table>\n"
            ]
          },
          "metadata": {}
        }
      ]
    },
    {
      "cell_type": "code",
      "source": [
        "people %>%\n",
        "    group_by(name, names) %>%\n",
        "    summarize(size = n(), .groups = \"drop\") # the optional argument .groups can control grouping structure in summarize() output"
      ],
      "metadata": {
        "id": "3H6VtXUbHJDW",
        "outputId": "102deb60-8df1-480e-be32-6b0a034f3819",
        "colab": {
          "base_uri": "https://localhost:8080/",
          "height": 223
        }
      },
      "execution_count": 36,
      "outputs": [
        {
          "output_type": "display_data",
          "data": {
            "text/plain": [
              "  name            names  size\n",
              "1 Jessica Cordero age    1   \n",
              "2 Jessica Cordero height 1   \n",
              "3 Phillip Woods   age    2   \n",
              "4 Phillip Woods   height 1   "
            ],
            "text/latex": "A tibble: 4 × 3\n\\begin{tabular}{lll}\n name & names & size\\\\\n <chr> & <chr> & <int>\\\\\n\\hline\n\t Jessica Cordero & age    & 1\\\\\n\t Jessica Cordero & height & 1\\\\\n\t Phillip Woods   & age    & 2\\\\\n\t Phillip Woods   & height & 1\\\\\n\\end{tabular}\n",
            "text/markdown": "\nA tibble: 4 × 3\n\n| name &lt;chr&gt; | names &lt;chr&gt; | size &lt;int&gt; |\n|---|---|---|\n| Jessica Cordero | age    | 1 |\n| Jessica Cordero | height | 1 |\n| Phillip Woods   | age    | 2 |\n| Phillip Woods   | height | 1 |\n\n",
            "text/html": [
              "<table class=\"dataframe\">\n",
              "<caption>A tibble: 4 × 3</caption>\n",
              "<thead>\n",
              "\t<tr><th scope=col>name</th><th scope=col>names</th><th scope=col>size</th></tr>\n",
              "\t<tr><th scope=col>&lt;chr&gt;</th><th scope=col>&lt;chr&gt;</th><th scope=col>&lt;int&gt;</th></tr>\n",
              "</thead>\n",
              "<tbody>\n",
              "\t<tr><td>Jessica Cordero</td><td>age   </td><td>1</td></tr>\n",
              "\t<tr><td>Jessica Cordero</td><td>height</td><td>1</td></tr>\n",
              "\t<tr><td>Phillip Woods  </td><td>age   </td><td>2</td></tr>\n",
              "\t<tr><td>Phillip Woods  </td><td>height</td><td>1</td></tr>\n",
              "</tbody>\n",
              "</table>\n"
            ]
          },
          "metadata": {}
        }
      ]
    },
    {
      "cell_type": "markdown",
      "metadata": {
        "id": "RDOpBo8uF947"
      },
      "source": [
        "# Separating"
      ]
    },
    {
      "cell_type": "code",
      "execution_count": 37,
      "metadata": {
        "id": "P0tq585aF948",
        "outputId": "55beb7d5-e1dc-4416-b639-c39711372f27",
        "colab": {
          "base_uri": "https://localhost:8080/",
          "height": 286
        }
      },
      "outputs": [
        {
          "output_type": "display_data",
          "data": {
            "text/plain": [
              "  country     year rate             \n",
              "1 Afghanistan 1999 745/19987071     \n",
              "2 Afghanistan 2000 2666/20595360    \n",
              "3 Brazil      1999 37737/172006362  \n",
              "4 Brazil      2000 80488/174504898  \n",
              "5 China       1999 212258/1272915272\n",
              "6 China       2000 213766/1280428583"
            ],
            "text/latex": "A tibble: 6 × 3\n\\begin{tabular}{r|lll}\n  & country & year & rate\\\\\n  & <chr> & <int> & <chr>\\\\\n\\hline\n\t1 & Afghanistan & 1999 & 745/19987071     \\\\\n\t2 & Afghanistan & 2000 & 2666/20595360    \\\\\n\t3 & Brazil      & 1999 & 37737/172006362  \\\\\n\t4 & Brazil      & 2000 & 80488/174504898  \\\\\n\t5 & China       & 1999 & 212258/1272915272\\\\\n\t6 & China       & 2000 & 213766/1280428583\\\\\n\\end{tabular}\n",
            "text/markdown": "\nA tibble: 6 × 3\n\n| <!--/--> | country &lt;chr&gt; | year &lt;int&gt; | rate &lt;chr&gt; |\n|---|---|---|---|\n| 1 | Afghanistan | 1999 | 745/19987071      |\n| 2 | Afghanistan | 2000 | 2666/20595360     |\n| 3 | Brazil      | 1999 | 37737/172006362   |\n| 4 | Brazil      | 2000 | 80488/174504898   |\n| 5 | China       | 1999 | 212258/1272915272 |\n| 6 | China       | 2000 | 213766/1280428583 |\n\n",
            "text/html": [
              "<table class=\"dataframe\">\n",
              "<caption>A tibble: 6 × 3</caption>\n",
              "<thead>\n",
              "\t<tr><th></th><th scope=col>country</th><th scope=col>year</th><th scope=col>rate</th></tr>\n",
              "\t<tr><th></th><th scope=col>&lt;chr&gt;</th><th scope=col>&lt;int&gt;</th><th scope=col>&lt;chr&gt;</th></tr>\n",
              "</thead>\n",
              "<tbody>\n",
              "\t<tr><th scope=row>1</th><td>Afghanistan</td><td>1999</td><td>745/19987071     </td></tr>\n",
              "\t<tr><th scope=row>2</th><td>Afghanistan</td><td>2000</td><td>2666/20595360    </td></tr>\n",
              "\t<tr><th scope=row>3</th><td>Brazil     </td><td>1999</td><td>37737/172006362  </td></tr>\n",
              "\t<tr><th scope=row>4</th><td>Brazil     </td><td>2000</td><td>80488/174504898  </td></tr>\n",
              "\t<tr><th scope=row>5</th><td>China      </td><td>1999</td><td>212258/1272915272</td></tr>\n",
              "\t<tr><th scope=row>6</th><td>China      </td><td>2000</td><td>213766/1280428583</td></tr>\n",
              "</tbody>\n",
              "</table>\n"
            ]
          },
          "metadata": {}
        }
      ],
      "source": [
        "table3"
      ]
    },
    {
      "cell_type": "code",
      "execution_count": 38,
      "metadata": {
        "id": "ImrgLFq2F948",
        "outputId": "b6cdcf90-7867-4c4c-93f9-59140c63d59f",
        "colab": {
          "base_uri": "https://localhost:8080/"
        }
      },
      "outputs": [
        {
          "output_type": "stream",
          "name": "stdout",
          "text": [
            "\u001b[90m# A tibble: 6 × 3\u001b[39m\n",
            "  country      year rate             \n",
            "\u001b[90m*\u001b[39m \u001b[3m\u001b[90m<chr>\u001b[39m\u001b[23m       \u001b[3m\u001b[90m<int>\u001b[39m\u001b[23m \u001b[3m\u001b[90m<chr>\u001b[39m\u001b[23m            \n",
            "\u001b[90m1\u001b[39m Afghanistan  \u001b[4m1\u001b[24m999 745/19987071     \n",
            "\u001b[90m2\u001b[39m Afghanistan  \u001b[4m2\u001b[24m000 2666/20595360    \n",
            "\u001b[90m3\u001b[39m Brazil       \u001b[4m1\u001b[24m999 37737/172006362  \n",
            "\u001b[90m4\u001b[39m Brazil       \u001b[4m2\u001b[24m000 80488/174504898  \n",
            "\u001b[90m5\u001b[39m China        \u001b[4m1\u001b[24m999 212258/1272915272\n",
            "\u001b[90m6\u001b[39m China        \u001b[4m2\u001b[24m000 213766/1280428583\n"
          ]
        }
      ],
      "source": [
        "print(table3)"
      ]
    },
    {
      "cell_type": "code",
      "execution_count": 39,
      "metadata": {
        "id": "nyx8xloqF948",
        "outputId": "baf8f6fd-0e9a-4d86-cfbd-9bc26554c3eb",
        "colab": {
          "base_uri": "https://localhost:8080/",
          "height": 286
        }
      },
      "outputs": [
        {
          "output_type": "display_data",
          "data": {
            "text/plain": [
              "  country     year cases  population\n",
              "1 Afghanistan 1999 745    19987071  \n",
              "2 Afghanistan 2000 2666   20595360  \n",
              "3 Brazil      1999 37737  172006362 \n",
              "4 Brazil      2000 80488  174504898 \n",
              "5 China       1999 212258 1272915272\n",
              "6 China       2000 213766 1280428583"
            ],
            "text/latex": "A tibble: 6 × 4\n\\begin{tabular}{llll}\n country & year & cases & population\\\\\n <chr> & <int> & <chr> & <chr>\\\\\n\\hline\n\t Afghanistan & 1999 & 745    & 19987071  \\\\\n\t Afghanistan & 2000 & 2666   & 20595360  \\\\\n\t Brazil      & 1999 & 37737  & 172006362 \\\\\n\t Brazil      & 2000 & 80488  & 174504898 \\\\\n\t China       & 1999 & 212258 & 1272915272\\\\\n\t China       & 2000 & 213766 & 1280428583\\\\\n\\end{tabular}\n",
            "text/markdown": "\nA tibble: 6 × 4\n\n| country &lt;chr&gt; | year &lt;int&gt; | cases &lt;chr&gt; | population &lt;chr&gt; |\n|---|---|---|---|\n| Afghanistan | 1999 | 745    | 19987071   |\n| Afghanistan | 2000 | 2666   | 20595360   |\n| Brazil      | 1999 | 37737  | 172006362  |\n| Brazil      | 2000 | 80488  | 174504898  |\n| China       | 1999 | 212258 | 1272915272 |\n| China       | 2000 | 213766 | 1280428583 |\n\n",
            "text/html": [
              "<table class=\"dataframe\">\n",
              "<caption>A tibble: 6 × 4</caption>\n",
              "<thead>\n",
              "\t<tr><th scope=col>country</th><th scope=col>year</th><th scope=col>cases</th><th scope=col>population</th></tr>\n",
              "\t<tr><th scope=col>&lt;chr&gt;</th><th scope=col>&lt;int&gt;</th><th scope=col>&lt;chr&gt;</th><th scope=col>&lt;chr&gt;</th></tr>\n",
              "</thead>\n",
              "<tbody>\n",
              "\t<tr><td>Afghanistan</td><td>1999</td><td>745   </td><td>19987071  </td></tr>\n",
              "\t<tr><td>Afghanistan</td><td>2000</td><td>2666  </td><td>20595360  </td></tr>\n",
              "\t<tr><td>Brazil     </td><td>1999</td><td>37737 </td><td>172006362 </td></tr>\n",
              "\t<tr><td>Brazil     </td><td>2000</td><td>80488 </td><td>174504898 </td></tr>\n",
              "\t<tr><td>China      </td><td>1999</td><td>212258</td><td>1272915272</td></tr>\n",
              "\t<tr><td>China      </td><td>2000</td><td>213766</td><td>1280428583</td></tr>\n",
              "</tbody>\n",
              "</table>\n"
            ]
          },
          "metadata": {}
        }
      ],
      "source": [
        "(separated_table3 <- separate(table3, rate, into = c(\"cases\", \"population\"), sep = \"/\"))"
      ]
    },
    {
      "cell_type": "code",
      "execution_count": 40,
      "metadata": {
        "id": "sqjz5QqbF949",
        "outputId": "0bfe5954-9f02-46c7-c446-e18126d783c4",
        "colab": {
          "base_uri": "https://localhost:8080/"
        }
      },
      "outputs": [
        {
          "output_type": "stream",
          "name": "stdout",
          "text": [
            "\u001b[90m# A tibble: 6 × 4\u001b[39m\n",
            "  country      year cases  population\n",
            "  \u001b[3m\u001b[90m<chr>\u001b[39m\u001b[23m       \u001b[3m\u001b[90m<int>\u001b[39m\u001b[23m \u001b[3m\u001b[90m<chr>\u001b[39m\u001b[23m  \u001b[3m\u001b[90m<chr>\u001b[39m\u001b[23m     \n",
            "\u001b[90m1\u001b[39m Afghanistan  \u001b[4m1\u001b[24m999 745    19987071  \n",
            "\u001b[90m2\u001b[39m Afghanistan  \u001b[4m2\u001b[24m000 2666   20595360  \n",
            "\u001b[90m3\u001b[39m Brazil       \u001b[4m1\u001b[24m999 37737  172006362 \n",
            "\u001b[90m4\u001b[39m Brazil       \u001b[4m2\u001b[24m000 80488  174504898 \n",
            "\u001b[90m5\u001b[39m China        \u001b[4m1\u001b[24m999 212258 1272915272\n",
            "\u001b[90m6\u001b[39m China        \u001b[4m2\u001b[24m000 213766 1280428583\n"
          ]
        }
      ],
      "source": [
        "print(separated_table3)"
      ]
    },
    {
      "cell_type": "markdown",
      "metadata": {
        "id": "IyjtrQloF949"
      },
      "source": [
        "The types of the `cases` and `populations` columns are not right. We can change that ourselves."
      ]
    },
    {
      "cell_type": "code",
      "execution_count": 41,
      "metadata": {
        "id": "1qTxIEzfF949",
        "outputId": "15735b83-9928-41f3-d962-94fce242b6bc",
        "colab": {
          "base_uri": "https://localhost:8080/"
        }
      },
      "outputs": [
        {
          "output_type": "stream",
          "name": "stdout",
          "text": [
            "\u001b[90m# A tibble: 6 × 4\u001b[39m\n",
            "  country      year  cases population\n",
            "  \u001b[3m\u001b[90m<chr>\u001b[39m\u001b[23m       \u001b[3m\u001b[90m<int>\u001b[39m\u001b[23m  \u001b[3m\u001b[90m<int>\u001b[39m\u001b[23m      \u001b[3m\u001b[90m<int>\u001b[39m\u001b[23m\n",
            "\u001b[90m1\u001b[39m Afghanistan  \u001b[4m1\u001b[24m999    745   19\u001b[4m9\u001b[24m\u001b[4m8\u001b[24m\u001b[4m7\u001b[24m071\n",
            "\u001b[90m2\u001b[39m Afghanistan  \u001b[4m2\u001b[24m000   \u001b[4m2\u001b[24m666   20\u001b[4m5\u001b[24m\u001b[4m9\u001b[24m\u001b[4m5\u001b[24m360\n",
            "\u001b[90m3\u001b[39m Brazil       \u001b[4m1\u001b[24m999  \u001b[4m3\u001b[24m\u001b[4m7\u001b[24m737  172\u001b[4m0\u001b[24m\u001b[4m0\u001b[24m\u001b[4m6\u001b[24m362\n",
            "\u001b[90m4\u001b[39m Brazil       \u001b[4m2\u001b[24m000  \u001b[4m8\u001b[24m\u001b[4m0\u001b[24m488  174\u001b[4m5\u001b[24m\u001b[4m0\u001b[24m\u001b[4m4\u001b[24m898\n",
            "\u001b[90m5\u001b[39m China        \u001b[4m1\u001b[24m999 \u001b[4m2\u001b[24m\u001b[4m1\u001b[24m\u001b[4m2\u001b[24m258 \u001b[4m1\u001b[24m272\u001b[4m9\u001b[24m\u001b[4m1\u001b[24m\u001b[4m5\u001b[24m272\n",
            "\u001b[90m6\u001b[39m China        \u001b[4m2\u001b[24m000 \u001b[4m2\u001b[24m\u001b[4m1\u001b[24m\u001b[4m3\u001b[24m766 \u001b[4m1\u001b[24m280\u001b[4m4\u001b[24m\u001b[4m2\u001b[24m\u001b[4m8\u001b[24m583\n"
          ]
        }
      ],
      "source": [
        "print(mutate(separated_table3, cases = as.integer(cases), population = as.integer(population)))"
      ]
    },
    {
      "cell_type": "markdown",
      "metadata": {
        "id": "SIp5EqtHF94-"
      },
      "source": [
        "Alternatively, we can ask `separate()` to try and convert to a better type."
      ]
    },
    {
      "cell_type": "code",
      "execution_count": 42,
      "metadata": {
        "id": "au6foAxEF94-",
        "outputId": "f0687419-fa25-4001-9417-a469c5b9b1b0",
        "colab": {
          "base_uri": "https://localhost:8080/",
          "height": 286
        }
      },
      "outputs": [
        {
          "output_type": "display_data",
          "data": {
            "text/plain": [
              "  country     year cases  population\n",
              "1 Afghanistan 1999    745   19987071\n",
              "2 Afghanistan 2000   2666   20595360\n",
              "3 Brazil      1999  37737  172006362\n",
              "4 Brazil      2000  80488  174504898\n",
              "5 China       1999 212258 1272915272\n",
              "6 China       2000 213766 1280428583"
            ],
            "text/latex": "A tibble: 6 × 4\n\\begin{tabular}{llll}\n country & year & cases & population\\\\\n <chr> & <int> & <int> & <int>\\\\\n\\hline\n\t Afghanistan & 1999 &    745 &   19987071\\\\\n\t Afghanistan & 2000 &   2666 &   20595360\\\\\n\t Brazil      & 1999 &  37737 &  172006362\\\\\n\t Brazil      & 2000 &  80488 &  174504898\\\\\n\t China       & 1999 & 212258 & 1272915272\\\\\n\t China       & 2000 & 213766 & 1280428583\\\\\n\\end{tabular}\n",
            "text/markdown": "\nA tibble: 6 × 4\n\n| country &lt;chr&gt; | year &lt;int&gt; | cases &lt;int&gt; | population &lt;int&gt; |\n|---|---|---|---|\n| Afghanistan | 1999 |    745 |   19987071 |\n| Afghanistan | 2000 |   2666 |   20595360 |\n| Brazil      | 1999 |  37737 |  172006362 |\n| Brazil      | 2000 |  80488 |  174504898 |\n| China       | 1999 | 212258 | 1272915272 |\n| China       | 2000 | 213766 | 1280428583 |\n\n",
            "text/html": [
              "<table class=\"dataframe\">\n",
              "<caption>A tibble: 6 × 4</caption>\n",
              "<thead>\n",
              "\t<tr><th scope=col>country</th><th scope=col>year</th><th scope=col>cases</th><th scope=col>population</th></tr>\n",
              "\t<tr><th scope=col>&lt;chr&gt;</th><th scope=col>&lt;int&gt;</th><th scope=col>&lt;int&gt;</th><th scope=col>&lt;int&gt;</th></tr>\n",
              "</thead>\n",
              "<tbody>\n",
              "\t<tr><td>Afghanistan</td><td>1999</td><td>   745</td><td>  19987071</td></tr>\n",
              "\t<tr><td>Afghanistan</td><td>2000</td><td>  2666</td><td>  20595360</td></tr>\n",
              "\t<tr><td>Brazil     </td><td>1999</td><td> 37737</td><td> 172006362</td></tr>\n",
              "\t<tr><td>Brazil     </td><td>2000</td><td> 80488</td><td> 174504898</td></tr>\n",
              "\t<tr><td>China      </td><td>1999</td><td>212258</td><td>1272915272</td></tr>\n",
              "\t<tr><td>China      </td><td>2000</td><td>213766</td><td>1280428583</td></tr>\n",
              "</tbody>\n",
              "</table>\n"
            ]
          },
          "metadata": {}
        }
      ],
      "source": [
        "(separated_table3 <- separate(table3, rate, into = c(\"cases\", \"population\"), sep = \"/\", convert = TRUE))"
      ]
    },
    {
      "cell_type": "code",
      "execution_count": 43,
      "metadata": {
        "id": "7Fi6JCF0F94-",
        "outputId": "7e6bec4d-5565-43bd-e409-5e49fdf07182",
        "colab": {
          "base_uri": "https://localhost:8080/"
        }
      },
      "outputs": [
        {
          "output_type": "stream",
          "name": "stdout",
          "text": [
            "\u001b[90m# A tibble: 6 × 4\u001b[39m\n",
            "  country      year  cases population\n",
            "  \u001b[3m\u001b[90m<chr>\u001b[39m\u001b[23m       \u001b[3m\u001b[90m<int>\u001b[39m\u001b[23m  \u001b[3m\u001b[90m<int>\u001b[39m\u001b[23m      \u001b[3m\u001b[90m<int>\u001b[39m\u001b[23m\n",
            "\u001b[90m1\u001b[39m Afghanistan  \u001b[4m1\u001b[24m999    745   19\u001b[4m9\u001b[24m\u001b[4m8\u001b[24m\u001b[4m7\u001b[24m071\n",
            "\u001b[90m2\u001b[39m Afghanistan  \u001b[4m2\u001b[24m000   \u001b[4m2\u001b[24m666   20\u001b[4m5\u001b[24m\u001b[4m9\u001b[24m\u001b[4m5\u001b[24m360\n",
            "\u001b[90m3\u001b[39m Brazil       \u001b[4m1\u001b[24m999  \u001b[4m3\u001b[24m\u001b[4m7\u001b[24m737  172\u001b[4m0\u001b[24m\u001b[4m0\u001b[24m\u001b[4m6\u001b[24m362\n",
            "\u001b[90m4\u001b[39m Brazil       \u001b[4m2\u001b[24m000  \u001b[4m8\u001b[24m\u001b[4m0\u001b[24m488  174\u001b[4m5\u001b[24m\u001b[4m0\u001b[24m\u001b[4m4\u001b[24m898\n",
            "\u001b[90m5\u001b[39m China        \u001b[4m1\u001b[24m999 \u001b[4m2\u001b[24m\u001b[4m1\u001b[24m\u001b[4m2\u001b[24m258 \u001b[4m1\u001b[24m272\u001b[4m9\u001b[24m\u001b[4m1\u001b[24m\u001b[4m5\u001b[24m272\n",
            "\u001b[90m6\u001b[39m China        \u001b[4m2\u001b[24m000 \u001b[4m2\u001b[24m\u001b[4m1\u001b[24m\u001b[4m3\u001b[24m766 \u001b[4m1\u001b[24m280\u001b[4m4\u001b[24m\u001b[4m2\u001b[24m\u001b[4m8\u001b[24m583\n"
          ]
        }
      ],
      "source": [
        "print(separated_table3)"
      ]
    },
    {
      "cell_type": "markdown",
      "metadata": {
        "id": "AfB6DsNdF94_"
      },
      "source": [
        "# Uniting"
      ]
    },
    {
      "cell_type": "code",
      "execution_count": 44,
      "metadata": {
        "id": "509vOVmvF94_",
        "outputId": "9c1fcd1e-7f6b-458b-9b90-a19f9545eb29",
        "colab": {
          "base_uri": "https://localhost:8080/",
          "height": 286
        }
      },
      "outputs": [
        {
          "output_type": "display_data",
          "data": {
            "text/plain": [
              "  country     century year rate             \n",
              "1 Afghanistan 19      99   745/19987071     \n",
              "2 Afghanistan 20      00   2666/20595360    \n",
              "3 Brazil      19      99   37737/172006362  \n",
              "4 Brazil      20      00   80488/174504898  \n",
              "5 China       19      99   212258/1272915272\n",
              "6 China       20      00   213766/1280428583"
            ],
            "text/latex": "A tibble: 6 × 4\n\\begin{tabular}{llll}\n country & century & year & rate\\\\\n <chr> & <chr> & <chr> & <chr>\\\\\n\\hline\n\t Afghanistan & 19 & 99 & 745/19987071     \\\\\n\t Afghanistan & 20 & 00 & 2666/20595360    \\\\\n\t Brazil      & 19 & 99 & 37737/172006362  \\\\\n\t Brazil      & 20 & 00 & 80488/174504898  \\\\\n\t China       & 19 & 99 & 212258/1272915272\\\\\n\t China       & 20 & 00 & 213766/1280428583\\\\\n\\end{tabular}\n",
            "text/markdown": "\nA tibble: 6 × 4\n\n| country &lt;chr&gt; | century &lt;chr&gt; | year &lt;chr&gt; | rate &lt;chr&gt; |\n|---|---|---|---|\n| Afghanistan | 19 | 99 | 745/19987071      |\n| Afghanistan | 20 | 00 | 2666/20595360     |\n| Brazil      | 19 | 99 | 37737/172006362   |\n| Brazil      | 20 | 00 | 80488/174504898   |\n| China       | 19 | 99 | 212258/1272915272 |\n| China       | 20 | 00 | 213766/1280428583 |\n\n",
            "text/html": [
              "<table class=\"dataframe\">\n",
              "<caption>A tibble: 6 × 4</caption>\n",
              "<thead>\n",
              "\t<tr><th scope=col>country</th><th scope=col>century</th><th scope=col>year</th><th scope=col>rate</th></tr>\n",
              "\t<tr><th scope=col>&lt;chr&gt;</th><th scope=col>&lt;chr&gt;</th><th scope=col>&lt;chr&gt;</th><th scope=col>&lt;chr&gt;</th></tr>\n",
              "</thead>\n",
              "<tbody>\n",
              "\t<tr><td>Afghanistan</td><td>19</td><td>99</td><td>745/19987071     </td></tr>\n",
              "\t<tr><td>Afghanistan</td><td>20</td><td>00</td><td>2666/20595360    </td></tr>\n",
              "\t<tr><td>Brazil     </td><td>19</td><td>99</td><td>37737/172006362  </td></tr>\n",
              "\t<tr><td>Brazil     </td><td>20</td><td>00</td><td>80488/174504898  </td></tr>\n",
              "\t<tr><td>China      </td><td>19</td><td>99</td><td>212258/1272915272</td></tr>\n",
              "\t<tr><td>China      </td><td>20</td><td>00</td><td>213766/1280428583</td></tr>\n",
              "</tbody>\n",
              "</table>\n"
            ]
          },
          "metadata": {}
        }
      ],
      "source": [
        "(separated_year <- separate(table3, year, into = c(\"century\", \"year\"), sep = 2))"
      ]
    },
    {
      "cell_type": "code",
      "execution_count": 45,
      "metadata": {
        "id": "XF9ITIjHF94_",
        "outputId": "ed673df1-5969-449d-9ff1-e3e7a8fa8edd",
        "colab": {
          "base_uri": "https://localhost:8080/",
          "height": 286
        }
      },
      "outputs": [
        {
          "output_type": "display_data",
          "data": {
            "text/plain": [
              "  country     new   rate             \n",
              "1 Afghanistan 19_99 745/19987071     \n",
              "2 Afghanistan 20_00 2666/20595360    \n",
              "3 Brazil      19_99 37737/172006362  \n",
              "4 Brazil      20_00 80488/174504898  \n",
              "5 China       19_99 212258/1272915272\n",
              "6 China       20_00 213766/1280428583"
            ],
            "text/latex": "A tibble: 6 × 3\n\\begin{tabular}{lll}\n country & new & rate\\\\\n <chr> & <chr> & <chr>\\\\\n\\hline\n\t Afghanistan & 19\\_99 & 745/19987071     \\\\\n\t Afghanistan & 20\\_00 & 2666/20595360    \\\\\n\t Brazil      & 19\\_99 & 37737/172006362  \\\\\n\t Brazil      & 20\\_00 & 80488/174504898  \\\\\n\t China       & 19\\_99 & 212258/1272915272\\\\\n\t China       & 20\\_00 & 213766/1280428583\\\\\n\\end{tabular}\n",
            "text/markdown": "\nA tibble: 6 × 3\n\n| country &lt;chr&gt; | new &lt;chr&gt; | rate &lt;chr&gt; |\n|---|---|---|\n| Afghanistan | 19_99 | 745/19987071      |\n| Afghanistan | 20_00 | 2666/20595360     |\n| Brazil      | 19_99 | 37737/172006362   |\n| Brazil      | 20_00 | 80488/174504898   |\n| China       | 19_99 | 212258/1272915272 |\n| China       | 20_00 | 213766/1280428583 |\n\n",
            "text/html": [
              "<table class=\"dataframe\">\n",
              "<caption>A tibble: 6 × 3</caption>\n",
              "<thead>\n",
              "\t<tr><th scope=col>country</th><th scope=col>new</th><th scope=col>rate</th></tr>\n",
              "\t<tr><th scope=col>&lt;chr&gt;</th><th scope=col>&lt;chr&gt;</th><th scope=col>&lt;chr&gt;</th></tr>\n",
              "</thead>\n",
              "<tbody>\n",
              "\t<tr><td>Afghanistan</td><td>19_99</td><td>745/19987071     </td></tr>\n",
              "\t<tr><td>Afghanistan</td><td>20_00</td><td>2666/20595360    </td></tr>\n",
              "\t<tr><td>Brazil     </td><td>19_99</td><td>37737/172006362  </td></tr>\n",
              "\t<tr><td>Brazil     </td><td>20_00</td><td>80488/174504898  </td></tr>\n",
              "\t<tr><td>China      </td><td>19_99</td><td>212258/1272915272</td></tr>\n",
              "\t<tr><td>China      </td><td>20_00</td><td>213766/1280428583</td></tr>\n",
              "</tbody>\n",
              "</table>\n"
            ]
          },
          "metadata": {}
        }
      ],
      "source": [
        "unite(separated_year, new, century, year)"
      ]
    },
    {
      "cell_type": "code",
      "execution_count": 46,
      "metadata": {
        "id": "PxkI02gRF94_",
        "outputId": "ab86e508-bb68-4bfd-fc3e-f0ff3e2ebe86",
        "colab": {
          "base_uri": "https://localhost:8080/",
          "height": 286
        }
      },
      "outputs": [
        {
          "output_type": "display_data",
          "data": {
            "text/plain": [
              "  country     new  rate             \n",
              "1 Afghanistan 1999 745/19987071     \n",
              "2 Afghanistan 2000 2666/20595360    \n",
              "3 Brazil      1999 37737/172006362  \n",
              "4 Brazil      2000 80488/174504898  \n",
              "5 China       1999 212258/1272915272\n",
              "6 China       2000 213766/1280428583"
            ],
            "text/latex": "A tibble: 6 × 3\n\\begin{tabular}{lll}\n country & new & rate\\\\\n <chr> & <chr> & <chr>\\\\\n\\hline\n\t Afghanistan & 1999 & 745/19987071     \\\\\n\t Afghanistan & 2000 & 2666/20595360    \\\\\n\t Brazil      & 1999 & 37737/172006362  \\\\\n\t Brazil      & 2000 & 80488/174504898  \\\\\n\t China       & 1999 & 212258/1272915272\\\\\n\t China       & 2000 & 213766/1280428583\\\\\n\\end{tabular}\n",
            "text/markdown": "\nA tibble: 6 × 3\n\n| country &lt;chr&gt; | new &lt;chr&gt; | rate &lt;chr&gt; |\n|---|---|---|\n| Afghanistan | 1999 | 745/19987071      |\n| Afghanistan | 2000 | 2666/20595360     |\n| Brazil      | 1999 | 37737/172006362   |\n| Brazil      | 2000 | 80488/174504898   |\n| China       | 1999 | 212258/1272915272 |\n| China       | 2000 | 213766/1280428583 |\n\n",
            "text/html": [
              "<table class=\"dataframe\">\n",
              "<caption>A tibble: 6 × 3</caption>\n",
              "<thead>\n",
              "\t<tr><th scope=col>country</th><th scope=col>new</th><th scope=col>rate</th></tr>\n",
              "\t<tr><th scope=col>&lt;chr&gt;</th><th scope=col>&lt;chr&gt;</th><th scope=col>&lt;chr&gt;</th></tr>\n",
              "</thead>\n",
              "<tbody>\n",
              "\t<tr><td>Afghanistan</td><td>1999</td><td>745/19987071     </td></tr>\n",
              "\t<tr><td>Afghanistan</td><td>2000</td><td>2666/20595360    </td></tr>\n",
              "\t<tr><td>Brazil     </td><td>1999</td><td>37737/172006362  </td></tr>\n",
              "\t<tr><td>Brazil     </td><td>2000</td><td>80488/174504898  </td></tr>\n",
              "\t<tr><td>China      </td><td>1999</td><td>212258/1272915272</td></tr>\n",
              "\t<tr><td>China      </td><td>2000</td><td>213766/1280428583</td></tr>\n",
              "</tbody>\n",
              "</table>\n"
            ]
          },
          "metadata": {}
        }
      ],
      "source": [
        "unite(separated_year, new, century, year, sep = \"\")"
      ]
    },
    {
      "cell_type": "markdown",
      "metadata": {
        "id": "8_3vyHoXF95A"
      },
      "source": [
        "# Missing Values"
      ]
    },
    {
      "cell_type": "markdown",
      "metadata": {
        "collapsed": true,
        "id": "Dnv0dOSDF95A"
      },
      "source": [
        "Missing values can be:\n",
        "\n",
        "* **Explicit**, or\n",
        "* **Implicit**"
      ]
    },
    {
      "cell_type": "code",
      "execution_count": 47,
      "metadata": {
        "id": "2IjZemjBF95A",
        "outputId": "48ddc592-78cd-4407-a3bd-62813135bf1a",
        "colab": {
          "base_uri": "https://localhost:8080/",
          "height": 317
        }
      },
      "outputs": [
        {
          "output_type": "display_data",
          "data": {
            "text/plain": [
              "  year qtr return\n",
              "1 2015 1   1.88  \n",
              "2 2015 2   0.59  \n",
              "3 2015 3   0.35  \n",
              "4 2015 4     NA  \n",
              "5 2016 2   0.92  \n",
              "6 2016 3   0.17  \n",
              "7 2016 4   2.66  "
            ],
            "text/latex": "A tibble: 7 × 3\n\\begin{tabular}{lll}\n year & qtr & return\\\\\n <dbl> & <dbl> & <dbl>\\\\\n\\hline\n\t 2015 & 1 & 1.88\\\\\n\t 2015 & 2 & 0.59\\\\\n\t 2015 & 3 & 0.35\\\\\n\t 2015 & 4 &   NA\\\\\n\t 2016 & 2 & 0.92\\\\\n\t 2016 & 3 & 0.17\\\\\n\t 2016 & 4 & 2.66\\\\\n\\end{tabular}\n",
            "text/markdown": "\nA tibble: 7 × 3\n\n| year &lt;dbl&gt; | qtr &lt;dbl&gt; | return &lt;dbl&gt; |\n|---|---|---|\n| 2015 | 1 | 1.88 |\n| 2015 | 2 | 0.59 |\n| 2015 | 3 | 0.35 |\n| 2015 | 4 |   NA |\n| 2016 | 2 | 0.92 |\n| 2016 | 3 | 0.17 |\n| 2016 | 4 | 2.66 |\n\n",
            "text/html": [
              "<table class=\"dataframe\">\n",
              "<caption>A tibble: 7 × 3</caption>\n",
              "<thead>\n",
              "\t<tr><th scope=col>year</th><th scope=col>qtr</th><th scope=col>return</th></tr>\n",
              "\t<tr><th scope=col>&lt;dbl&gt;</th><th scope=col>&lt;dbl&gt;</th><th scope=col>&lt;dbl&gt;</th></tr>\n",
              "</thead>\n",
              "<tbody>\n",
              "\t<tr><td>2015</td><td>1</td><td>1.88</td></tr>\n",
              "\t<tr><td>2015</td><td>2</td><td>0.59</td></tr>\n",
              "\t<tr><td>2015</td><td>3</td><td>0.35</td></tr>\n",
              "\t<tr><td>2015</td><td>4</td><td>  NA</td></tr>\n",
              "\t<tr><td>2016</td><td>2</td><td>0.92</td></tr>\n",
              "\t<tr><td>2016</td><td>3</td><td>0.17</td></tr>\n",
              "\t<tr><td>2016</td><td>4</td><td>2.66</td></tr>\n",
              "</tbody>\n",
              "</table>\n"
            ]
          },
          "metadata": {}
        }
      ],
      "source": [
        "(stocks <- tibble(\n",
        "  year   = c(2015, 2015, 2015, 2015, 2016, 2016, 2016),\n",
        "  qtr    = c(   1,    2,    3,    4,    2,    3,    4),\n",
        "  return = c(1.88, 0.59, 0.35,   NA, 0.92, 0.17, 2.66)\n",
        "))"
      ]
    },
    {
      "cell_type": "code",
      "execution_count": 48,
      "metadata": {
        "id": "bat40eCkF95A",
        "outputId": "e9b96f9e-87c1-4a85-fe9f-f46fbfbe5566",
        "colab": {
          "base_uri": "https://localhost:8080/",
          "height": 317
        }
      },
      "outputs": [
        {
          "output_type": "display_data",
          "data": {
            "text/plain": [
              "  year qtr return\n",
              "1 2015 1   1.88  \n",
              "2 2015 2   0.59  \n",
              "3 2015 3   0.35  \n",
              "4 2015 4   0.30  \n",
              "5 2016 2   0.92  \n",
              "6 2016 3   0.17  \n",
              "7 2016 4   2.66  "
            ],
            "text/latex": "A tibble: 7 × 3\n\\begin{tabular}{lll}\n year & qtr & return\\\\\n <dbl> & <dbl> & <dbl>\\\\\n\\hline\n\t 2015 & 1 & 1.88\\\\\n\t 2015 & 2 & 0.59\\\\\n\t 2015 & 3 & 0.35\\\\\n\t 2015 & 4 & 0.30\\\\\n\t 2016 & 2 & 0.92\\\\\n\t 2016 & 3 & 0.17\\\\\n\t 2016 & 4 & 2.66\\\\\n\\end{tabular}\n",
            "text/markdown": "\nA tibble: 7 × 3\n\n| year &lt;dbl&gt; | qtr &lt;dbl&gt; | return &lt;dbl&gt; |\n|---|---|---|\n| 2015 | 1 | 1.88 |\n| 2015 | 2 | 0.59 |\n| 2015 | 3 | 0.35 |\n| 2015 | 4 | 0.30 |\n| 2016 | 2 | 0.92 |\n| 2016 | 3 | 0.17 |\n| 2016 | 4 | 2.66 |\n\n",
            "text/html": [
              "<table class=\"dataframe\">\n",
              "<caption>A tibble: 7 × 3</caption>\n",
              "<thead>\n",
              "\t<tr><th scope=col>year</th><th scope=col>qtr</th><th scope=col>return</th></tr>\n",
              "\t<tr><th scope=col>&lt;dbl&gt;</th><th scope=col>&lt;dbl&gt;</th><th scope=col>&lt;dbl&gt;</th></tr>\n",
              "</thead>\n",
              "<tbody>\n",
              "\t<tr><td>2015</td><td>1</td><td>1.88</td></tr>\n",
              "\t<tr><td>2015</td><td>2</td><td>0.59</td></tr>\n",
              "\t<tr><td>2015</td><td>3</td><td>0.35</td></tr>\n",
              "\t<tr><td>2015</td><td>4</td><td>0.30</td></tr>\n",
              "\t<tr><td>2016</td><td>2</td><td>0.92</td></tr>\n",
              "\t<tr><td>2016</td><td>3</td><td>0.17</td></tr>\n",
              "\t<tr><td>2016</td><td>4</td><td>2.66</td></tr>\n",
              "</tbody>\n",
              "</table>\n"
            ]
          },
          "metadata": {}
        }
      ],
      "source": [
        "stocks[[4,3]] = 0.3\n",
        "stocks"
      ]
    },
    {
      "cell_type": "markdown",
      "metadata": {
        "id": "P1wCpAe_F95B"
      },
      "source": [
        "The **complete** command makes implicit missing value explicit by considering all combinations of unique values of specified variables."
      ]
    },
    {
      "cell_type": "code",
      "execution_count": 49,
      "metadata": {
        "id": "wQ1a9UNPF95B",
        "outputId": "4380cf78-7f29-4183-cf65-45f6271ea249",
        "colab": {
          "base_uri": "https://localhost:8080/",
          "height": 349
        }
      },
      "outputs": [
        {
          "output_type": "display_data",
          "data": {
            "text/plain": [
              "  year qtr return\n",
              "1 2015 1   1.88  \n",
              "2 2015 2   0.59  \n",
              "3 2015 3   0.35  \n",
              "4 2015 4   0.30  \n",
              "5 2016 1     NA  \n",
              "6 2016 2   0.92  \n",
              "7 2016 3   0.17  \n",
              "8 2016 4   2.66  "
            ],
            "text/latex": "A tibble: 8 × 3\n\\begin{tabular}{lll}\n year & qtr & return\\\\\n <dbl> & <dbl> & <dbl>\\\\\n\\hline\n\t 2015 & 1 & 1.88\\\\\n\t 2015 & 2 & 0.59\\\\\n\t 2015 & 3 & 0.35\\\\\n\t 2015 & 4 & 0.30\\\\\n\t 2016 & 1 &   NA\\\\\n\t 2016 & 2 & 0.92\\\\\n\t 2016 & 3 & 0.17\\\\\n\t 2016 & 4 & 2.66\\\\\n\\end{tabular}\n",
            "text/markdown": "\nA tibble: 8 × 3\n\n| year &lt;dbl&gt; | qtr &lt;dbl&gt; | return &lt;dbl&gt; |\n|---|---|---|\n| 2015 | 1 | 1.88 |\n| 2015 | 2 | 0.59 |\n| 2015 | 3 | 0.35 |\n| 2015 | 4 | 0.30 |\n| 2016 | 1 |   NA |\n| 2016 | 2 | 0.92 |\n| 2016 | 3 | 0.17 |\n| 2016 | 4 | 2.66 |\n\n",
            "text/html": [
              "<table class=\"dataframe\">\n",
              "<caption>A tibble: 8 × 3</caption>\n",
              "<thead>\n",
              "\t<tr><th scope=col>year</th><th scope=col>qtr</th><th scope=col>return</th></tr>\n",
              "\t<tr><th scope=col>&lt;dbl&gt;</th><th scope=col>&lt;dbl&gt;</th><th scope=col>&lt;dbl&gt;</th></tr>\n",
              "</thead>\n",
              "<tbody>\n",
              "\t<tr><td>2015</td><td>1</td><td>1.88</td></tr>\n",
              "\t<tr><td>2015</td><td>2</td><td>0.59</td></tr>\n",
              "\t<tr><td>2015</td><td>3</td><td>0.35</td></tr>\n",
              "\t<tr><td>2015</td><td>4</td><td>0.30</td></tr>\n",
              "\t<tr><td>2016</td><td>1</td><td>  NA</td></tr>\n",
              "\t<tr><td>2016</td><td>2</td><td>0.92</td></tr>\n",
              "\t<tr><td>2016</td><td>3</td><td>0.17</td></tr>\n",
              "\t<tr><td>2016</td><td>4</td><td>2.66</td></tr>\n",
              "</tbody>\n",
              "</table>\n"
            ]
          },
          "metadata": {}
        }
      ],
      "source": [
        "complete(stocks, year, qtr) "
      ]
    },
    {
      "cell_type": "markdown",
      "metadata": {
        "id": "Kc8A3mrXF95B"
      },
      "source": [
        "The missing values also become explicit if we use `pivot_wider()` on the tibble."
      ]
    },
    {
      "cell_type": "code",
      "execution_count": 50,
      "metadata": {
        "id": "8iFsW-4pF95B",
        "outputId": "7377d755-0636-47f0-8202-27faa4e2b5da",
        "colab": {
          "base_uri": "https://localhost:8080/",
          "height": 223
        }
      },
      "outputs": [
        {
          "output_type": "display_data",
          "data": {
            "text/plain": [
              "  qtr 2015 2016\n",
              "1 1   1.88   NA\n",
              "2 2   0.59 0.92\n",
              "3 3   0.35 0.17\n",
              "4 4   0.30 2.66"
            ],
            "text/latex": "A tibble: 4 × 3\n\\begin{tabular}{lll}\n qtr & 2015 & 2016\\\\\n <dbl> & <dbl> & <dbl>\\\\\n\\hline\n\t 1 & 1.88 &   NA\\\\\n\t 2 & 0.59 & 0.92\\\\\n\t 3 & 0.35 & 0.17\\\\\n\t 4 & 0.30 & 2.66\\\\\n\\end{tabular}\n",
            "text/markdown": "\nA tibble: 4 × 3\n\n| qtr &lt;dbl&gt; | 2015 &lt;dbl&gt; | 2016 &lt;dbl&gt; |\n|---|---|---|\n| 1 | 1.88 |   NA |\n| 2 | 0.59 | 0.92 |\n| 3 | 0.35 | 0.17 |\n| 4 | 0.30 | 2.66 |\n\n",
            "text/html": [
              "<table class=\"dataframe\">\n",
              "<caption>A tibble: 4 × 3</caption>\n",
              "<thead>\n",
              "\t<tr><th scope=col>qtr</th><th scope=col>2015</th><th scope=col>2016</th></tr>\n",
              "\t<tr><th scope=col>&lt;dbl&gt;</th><th scope=col>&lt;dbl&gt;</th><th scope=col>&lt;dbl&gt;</th></tr>\n",
              "</thead>\n",
              "<tbody>\n",
              "\t<tr><td>1</td><td>1.88</td><td>  NA</td></tr>\n",
              "\t<tr><td>2</td><td>0.59</td><td>0.92</td></tr>\n",
              "\t<tr><td>3</td><td>0.35</td><td>0.17</td></tr>\n",
              "\t<tr><td>4</td><td>0.30</td><td>2.66</td></tr>\n",
              "</tbody>\n",
              "</table>\n"
            ]
          },
          "metadata": {}
        }
      ],
      "source": [
        "pivot_wider(stocks, names_from = year, values_from = return)"
      ]
    },
    {
      "cell_type": "markdown",
      "metadata": {
        "id": "lLW26j78F95B"
      },
      "source": [
        "`pivot_longer()` will keep all these explicitly missing values by default."
      ]
    },
    {
      "cell_type": "code",
      "execution_count": 51,
      "metadata": {
        "id": "le9QCezFF95B",
        "outputId": "dde14358-a320-4e16-e140-3a63b6b06dfd",
        "colab": {
          "base_uri": "https://localhost:8080/",
          "height": 349
        }
      },
      "outputs": [
        {
          "output_type": "display_data",
          "data": {
            "text/plain": [
              "  qtr year return\n",
              "1 1   2015 1.88  \n",
              "2 1   2016   NA  \n",
              "3 2   2015 0.59  \n",
              "4 2   2016 0.92  \n",
              "5 3   2015 0.35  \n",
              "6 3   2016 0.17  \n",
              "7 4   2015 0.30  \n",
              "8 4   2016 2.66  "
            ],
            "text/latex": "A tibble: 8 × 3\n\\begin{tabular}{lll}\n qtr & year & return\\\\\n <dbl> & <chr> & <dbl>\\\\\n\\hline\n\t 1 & 2015 & 1.88\\\\\n\t 1 & 2016 &   NA\\\\\n\t 2 & 2015 & 0.59\\\\\n\t 2 & 2016 & 0.92\\\\\n\t 3 & 2015 & 0.35\\\\\n\t 3 & 2016 & 0.17\\\\\n\t 4 & 2015 & 0.30\\\\\n\t 4 & 2016 & 2.66\\\\\n\\end{tabular}\n",
            "text/markdown": "\nA tibble: 8 × 3\n\n| qtr &lt;dbl&gt; | year &lt;chr&gt; | return &lt;dbl&gt; |\n|---|---|---|\n| 1 | 2015 | 1.88 |\n| 1 | 2016 |   NA |\n| 2 | 2015 | 0.59 |\n| 2 | 2016 | 0.92 |\n| 3 | 2015 | 0.35 |\n| 3 | 2016 | 0.17 |\n| 4 | 2015 | 0.30 |\n| 4 | 2016 | 2.66 |\n\n",
            "text/html": [
              "<table class=\"dataframe\">\n",
              "<caption>A tibble: 8 × 3</caption>\n",
              "<thead>\n",
              "\t<tr><th scope=col>qtr</th><th scope=col>year</th><th scope=col>return</th></tr>\n",
              "\t<tr><th scope=col>&lt;dbl&gt;</th><th scope=col>&lt;chr&gt;</th><th scope=col>&lt;dbl&gt;</th></tr>\n",
              "</thead>\n",
              "<tbody>\n",
              "\t<tr><td>1</td><td>2015</td><td>1.88</td></tr>\n",
              "\t<tr><td>1</td><td>2016</td><td>  NA</td></tr>\n",
              "\t<tr><td>2</td><td>2015</td><td>0.59</td></tr>\n",
              "\t<tr><td>2</td><td>2016</td><td>0.92</td></tr>\n",
              "\t<tr><td>3</td><td>2015</td><td>0.35</td></tr>\n",
              "\t<tr><td>3</td><td>2016</td><td>0.17</td></tr>\n",
              "\t<tr><td>4</td><td>2015</td><td>0.30</td></tr>\n",
              "\t<tr><td>4</td><td>2016</td><td>2.66</td></tr>\n",
              "</tbody>\n",
              "</table>\n"
            ]
          },
          "metadata": {}
        }
      ],
      "source": [
        "stocks %>%\n",
        "    pivot_wider(names_from = year, values_from = return) %>%\n",
        "    pivot_longer(c(`2015`, `2016`), names_to = \"year\", values_to = \"return\")"
      ]
    },
    {
      "cell_type": "markdown",
      "metadata": {
        "id": "dgX0asJXF95C"
      },
      "source": [
        "If you don't like the default behavior of `pivot_longer()`, you can turn off explicit missing values using the `values_drop_na` argument."
      ]
    },
    {
      "cell_type": "code",
      "execution_count": 52,
      "metadata": {
        "id": "oMMLk-YlF95C",
        "outputId": "b47e72a4-45be-4858-d854-03987bec7217",
        "colab": {
          "base_uri": "https://localhost:8080/",
          "height": 317
        }
      },
      "outputs": [
        {
          "output_type": "display_data",
          "data": {
            "text/plain": [
              "  qtr year return\n",
              "1 1   2015 1.88  \n",
              "2 2   2015 0.59  \n",
              "3 2   2016 0.92  \n",
              "4 3   2015 0.35  \n",
              "5 3   2016 0.17  \n",
              "6 4   2015 0.30  \n",
              "7 4   2016 2.66  "
            ],
            "text/latex": "A tibble: 7 × 3\n\\begin{tabular}{lll}\n qtr & year & return\\\\\n <dbl> & <chr> & <dbl>\\\\\n\\hline\n\t 1 & 2015 & 1.88\\\\\n\t 2 & 2015 & 0.59\\\\\n\t 2 & 2016 & 0.92\\\\\n\t 3 & 2015 & 0.35\\\\\n\t 3 & 2016 & 0.17\\\\\n\t 4 & 2015 & 0.30\\\\\n\t 4 & 2016 & 2.66\\\\\n\\end{tabular}\n",
            "text/markdown": "\nA tibble: 7 × 3\n\n| qtr &lt;dbl&gt; | year &lt;chr&gt; | return &lt;dbl&gt; |\n|---|---|---|\n| 1 | 2015 | 1.88 |\n| 2 | 2015 | 0.59 |\n| 2 | 2016 | 0.92 |\n| 3 | 2015 | 0.35 |\n| 3 | 2016 | 0.17 |\n| 4 | 2015 | 0.30 |\n| 4 | 2016 | 2.66 |\n\n",
            "text/html": [
              "<table class=\"dataframe\">\n",
              "<caption>A tibble: 7 × 3</caption>\n",
              "<thead>\n",
              "\t<tr><th scope=col>qtr</th><th scope=col>year</th><th scope=col>return</th></tr>\n",
              "\t<tr><th scope=col>&lt;dbl&gt;</th><th scope=col>&lt;chr&gt;</th><th scope=col>&lt;dbl&gt;</th></tr>\n",
              "</thead>\n",
              "<tbody>\n",
              "\t<tr><td>1</td><td>2015</td><td>1.88</td></tr>\n",
              "\t<tr><td>2</td><td>2015</td><td>0.59</td></tr>\n",
              "\t<tr><td>2</td><td>2016</td><td>0.92</td></tr>\n",
              "\t<tr><td>3</td><td>2015</td><td>0.35</td></tr>\n",
              "\t<tr><td>3</td><td>2016</td><td>0.17</td></tr>\n",
              "\t<tr><td>4</td><td>2015</td><td>0.30</td></tr>\n",
              "\t<tr><td>4</td><td>2016</td><td>2.66</td></tr>\n",
              "</tbody>\n",
              "</table>\n"
            ]
          },
          "metadata": {}
        }
      ],
      "source": [
        "stocks %>%\n",
        "    pivot_wider(names_from = year, values_from = return) %>%\n",
        "    pivot_longer(c(`2015`, `2016`), names_to = \"year\", values_to = \"return\", values_drop_na = TRUE)"
      ]
    },
    {
      "cell_type": "markdown",
      "metadata": {
        "id": "A55JrH-pF95C"
      },
      "source": [
        "**Imputation** refers to process of filling in missing values. There are many imputation method. One of the simplest ones is *last observation carry forward*. You can do that using the **fill** command."
      ]
    },
    {
      "cell_type": "code",
      "execution_count": 53,
      "metadata": {
        "id": "ecQ_4-knF95C",
        "outputId": "46b30850-34ad-4055-bdef-70205120b8ca",
        "colab": {
          "base_uri": "https://localhost:8080/",
          "height": 317
        }
      },
      "outputs": [
        {
          "output_type": "display_data",
          "data": {
            "text/plain": [
              "  year qtr return\n",
              "1 2015 1   1.88  \n",
              "2 2015 2   0.59  \n",
              "3 2015 3   0.35  \n",
              "4 2015 4   0.30  \n",
              "5 2016 2   0.92  \n",
              "6 2016 3   0.17  \n",
              "7 2016 4   2.66  "
            ],
            "text/latex": "A tibble: 7 × 3\n\\begin{tabular}{lll}\n year & qtr & return\\\\\n <dbl> & <dbl> & <dbl>\\\\\n\\hline\n\t 2015 & 1 & 1.88\\\\\n\t 2015 & 2 & 0.59\\\\\n\t 2015 & 3 & 0.35\\\\\n\t 2015 & 4 & 0.30\\\\\n\t 2016 & 2 & 0.92\\\\\n\t 2016 & 3 & 0.17\\\\\n\t 2016 & 4 & 2.66\\\\\n\\end{tabular}\n",
            "text/markdown": "\nA tibble: 7 × 3\n\n| year &lt;dbl&gt; | qtr &lt;dbl&gt; | return &lt;dbl&gt; |\n|---|---|---|\n| 2015 | 1 | 1.88 |\n| 2015 | 2 | 0.59 |\n| 2015 | 3 | 0.35 |\n| 2015 | 4 | 0.30 |\n| 2016 | 2 | 0.92 |\n| 2016 | 3 | 0.17 |\n| 2016 | 4 | 2.66 |\n\n",
            "text/html": [
              "<table class=\"dataframe\">\n",
              "<caption>A tibble: 7 × 3</caption>\n",
              "<thead>\n",
              "\t<tr><th scope=col>year</th><th scope=col>qtr</th><th scope=col>return</th></tr>\n",
              "\t<tr><th scope=col>&lt;dbl&gt;</th><th scope=col>&lt;dbl&gt;</th><th scope=col>&lt;dbl&gt;</th></tr>\n",
              "</thead>\n",
              "<tbody>\n",
              "\t<tr><td>2015</td><td>1</td><td>1.88</td></tr>\n",
              "\t<tr><td>2015</td><td>2</td><td>0.59</td></tr>\n",
              "\t<tr><td>2015</td><td>3</td><td>0.35</td></tr>\n",
              "\t<tr><td>2015</td><td>4</td><td>0.30</td></tr>\n",
              "\t<tr><td>2016</td><td>2</td><td>0.92</td></tr>\n",
              "\t<tr><td>2016</td><td>3</td><td>0.17</td></tr>\n",
              "\t<tr><td>2016</td><td>4</td><td>2.66</td></tr>\n",
              "</tbody>\n",
              "</table>\n"
            ]
          },
          "metadata": {}
        }
      ],
      "source": [
        "stocks %>%\n",
        "    fill(return)"
      ]
    },
    {
      "cell_type": "code",
      "execution_count": 54,
      "metadata": {
        "id": "oygIF2GcF95C",
        "outputId": "cf507e62-27ec-4cda-839d-88446a5ee3ab",
        "colab": {
          "base_uri": "https://localhost:8080/",
          "height": 317
        }
      },
      "outputs": [
        {
          "output_type": "display_data",
          "data": {
            "text/plain": [
              "  year qtr return\n",
              "1 2015 1   1.88  \n",
              "2 2015 2   0.59  \n",
              "3 2015 3   0.35  \n",
              "4 2015 4   0.30  \n",
              "5 2016 2   0.92  \n",
              "6 2016 3   0.17  \n",
              "7 2016 4   2.66  "
            ],
            "text/latex": "A tibble: 7 × 3\n\\begin{tabular}{lll}\n year & qtr & return\\\\\n <dbl> & <dbl> & <dbl>\\\\\n\\hline\n\t 2015 & 1 & 1.88\\\\\n\t 2015 & 2 & 0.59\\\\\n\t 2015 & 3 & 0.35\\\\\n\t 2015 & 4 & 0.30\\\\\n\t 2016 & 2 & 0.92\\\\\n\t 2016 & 3 & 0.17\\\\\n\t 2016 & 4 & 2.66\\\\\n\\end{tabular}\n",
            "text/markdown": "\nA tibble: 7 × 3\n\n| year &lt;dbl&gt; | qtr &lt;dbl&gt; | return &lt;dbl&gt; |\n|---|---|---|\n| 2015 | 1 | 1.88 |\n| 2015 | 2 | 0.59 |\n| 2015 | 3 | 0.35 |\n| 2015 | 4 | 0.30 |\n| 2016 | 2 | 0.92 |\n| 2016 | 3 | 0.17 |\n| 2016 | 4 | 2.66 |\n\n",
            "text/html": [
              "<table class=\"dataframe\">\n",
              "<caption>A tibble: 7 × 3</caption>\n",
              "<thead>\n",
              "\t<tr><th scope=col>year</th><th scope=col>qtr</th><th scope=col>return</th></tr>\n",
              "\t<tr><th scope=col>&lt;dbl&gt;</th><th scope=col>&lt;dbl&gt;</th><th scope=col>&lt;dbl&gt;</th></tr>\n",
              "</thead>\n",
              "<tbody>\n",
              "\t<tr><td>2015</td><td>1</td><td>1.88</td></tr>\n",
              "\t<tr><td>2015</td><td>2</td><td>0.59</td></tr>\n",
              "\t<tr><td>2015</td><td>3</td><td>0.35</td></tr>\n",
              "\t<tr><td>2015</td><td>4</td><td>0.30</td></tr>\n",
              "\t<tr><td>2016</td><td>2</td><td>0.92</td></tr>\n",
              "\t<tr><td>2016</td><td>3</td><td>0.17</td></tr>\n",
              "\t<tr><td>2016</td><td>4</td><td>2.66</td></tr>\n",
              "</tbody>\n",
              "</table>\n"
            ]
          },
          "metadata": {}
        }
      ],
      "source": [
        "stocks %>% \n",
        "    fill(return, .direction = \"up\") # next observation carry backwards!"
      ]
    }
  ],
  "metadata": {
    "kernelspec": {
      "display_name": "R",
      "language": "R",
      "name": "ir"
    },
    "language_info": {
      "codemirror_mode": "r",
      "file_extension": ".r",
      "mimetype": "text/x-r-source",
      "name": "R",
      "pygments_lexer": "r",
      "version": "3.6.2"
    },
    "colab": {
      "name": "Lecture13.ipynb",
      "provenance": []
    }
  },
  "nbformat": 4,
  "nbformat_minor": 0
}