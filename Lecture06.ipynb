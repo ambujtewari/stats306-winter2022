{
  "cells": [
    {
      "cell_type": "markdown",
      "metadata": {
        "id": "KIncJlcf7jjC"
      },
      "source": [
        "In this notebook, we will cover:\n",
        "\n",
        "* [Grouped Summaries](#Grouped-Summaries)\n",
        "* [Pipes](#Pipes)\n",
        "\n",
        "Let us load up the `tidyverse` and `nycflights13` packages."
      ]
    },
    {
      "cell_type": "code",
      "execution_count": 2,
      "metadata": {
        "id": "rc6bq_je7jjG",
        "outputId": "43648fcf-59e8-466d-dfd3-1066073314ad",
        "colab": {
          "base_uri": "https://localhost:8080/"
        }
      },
      "outputs": [
        {
          "output_type": "stream",
          "name": "stderr",
          "text": [
            "Installing package into ‘/usr/local/lib/R/site-library’\n",
            "(as ‘lib’ is unspecified)\n",
            "\n"
          ]
        }
      ],
      "source": [
        "install.packages(\"nycflights13\")\n",
        "library(tidyverse)\n",
        "library(nycflights13)"
      ]
    },
    {
      "cell_type": "markdown",
      "metadata": {
        "id": "q0C_wRzO7jjI"
      },
      "source": [
        "# Grouped Summaries"
      ]
    },
    {
      "cell_type": "markdown",
      "metadata": {
        "id": "RiL43ykO7jjI"
      },
      "source": [
        "`summarize()` can be used to summarize entire data frames by collapsing them into single number summaries."
      ]
    },
    {
      "cell_type": "code",
      "execution_count": null,
      "metadata": {
        "id": "7UQjAWi97jjJ"
      },
      "outputs": [],
      "source": [
        "summarize(flights, delay = mean(dep_delay))"
      ]
    },
    {
      "cell_type": "markdown",
      "metadata": {
        "id": "3HPrkefr7jjJ"
      },
      "source": [
        "Oops, we got `NA` since most operations involving missing values yield missing values. We can ignore missing values like this."
      ]
    },
    {
      "cell_type": "code",
      "execution_count": null,
      "metadata": {
        "id": "0pHaIr6S7jjJ"
      },
      "outputs": [],
      "source": [
        "summarize(flights, delay = mean(dep_delay, na.rm = TRUE))"
      ]
    },
    {
      "cell_type": "markdown",
      "metadata": {
        "id": "IT2Ge15Y7jjK"
      },
      "source": [
        "The usefulness of `summarize()` is greater when used in conjunction with `group_by()`."
      ]
    },
    {
      "cell_type": "code",
      "execution_count": null,
      "metadata": {
        "id": "agZEwBCk7jjK"
      },
      "outputs": [],
      "source": [
        "by_month <- group_by(flights, month)\n",
        "(monthly_delays <- summarize(by_month, delay = mean(dep_delay, na.rm = TRUE)))"
      ]
    },
    {
      "cell_type": "markdown",
      "metadata": {
        "id": "9BuerpC27jjL"
      },
      "source": [
        "Many summarization functions are available:\n",
        "\n",
        "* Center: `mean(), median()`\n",
        "* Spread: `sd(), IQR(), mad()`\n",
        "* Range: `min(), max(), quantile()`\n",
        "* Position: `first(), last(), nth()`\n",
        "* Count: `n(), n_distinct()`\n",
        "* Logical: `any(), all()`"
      ]
    },
    {
      "cell_type": "markdown",
      "metadata": {
        "id": "79vI_J7-7jjM"
      },
      "source": [
        "# Pipes"
      ]
    },
    {
      "cell_type": "markdown",
      "metadata": {
        "id": "Bm4UzXoK7jjM"
      },
      "source": [
        "The above code can be written without the use of the intermediate variable `by_month` using pipes."
      ]
    },
    {
      "cell_type": "code",
      "execution_count": null,
      "metadata": {
        "id": "HDeX97YK7jjM"
      },
      "outputs": [],
      "source": [
        "group_by(flights, month) %>%\n",
        "    summarize(delay = mean(dep_delay, na.rm = TRUE))"
      ]
    },
    {
      "cell_type": "markdown",
      "metadata": {
        "id": "fXfK7mHI7jjN"
      },
      "source": [
        "Pipes make it easy for the author and reader of the code to focus on which transformations are occuring."
      ]
    },
    {
      "cell_type": "code",
      "execution_count": null,
      "metadata": {
        "id": "wepOWq8D7jjN"
      },
      "outputs": [],
      "source": [
        "# Without pipes\n",
        "by_dest <- group_by(flights, dest)\n",
        "dest_summary <- summarize(by_dest, count = n(), delay = mean(dep_delay, na.rm = TRUE))\n",
        "(dest_summary_final <- arrange(dest_summary, desc(count)))"
      ]
    },
    {
      "cell_type": "code",
      "execution_count": null,
      "metadata": {
        "id": "636tvlxt7jjN"
      },
      "outputs": [],
      "source": [
        "# With pipes\n",
        "group_by(flights, dest) %>%\n",
        "    summarize(count = n(), delay = mean(dep_delay, na.rm = TRUE)) %>%\n",
        "    arrange(desc(count))"
      ]
    },
    {
      "cell_type": "markdown",
      "metadata": {
        "collapsed": true,
        "id": "TZKEDRp57jjO"
      },
      "source": [
        "Under the hood, `x %>% f(y)` turns into `f(x, y)`, and `x %>% f(y) %>% g(z)` turns into `g(f(x, y), z)` and so on.\n",
        "\n",
        "You can even plot the data by adding a `ggplot` command at the end."
      ]
    },
    {
      "cell_type": "code",
      "execution_count": null,
      "metadata": {
        "id": "b52lX6d47jjO"
      },
      "outputs": [],
      "source": [
        "#options(repr.plot.width=6, repr.plot.height=4) # to ensure we do not get very large plots\n",
        "\n",
        "group_by(flights, month) %>%\n",
        "    summarize(delay = mean(dep_delay, na.rm = TRUE)) %>%\n",
        "    ggplot() +\n",
        "        geom_bar(mapping = aes(x=factor(month), y=delay), stat = \"identity\") +\n",
        "        labs(x = \"month\", y = \"average delay (in minutes)\")"
      ]
    },
    {
      "cell_type": "code",
      "execution_count": null,
      "metadata": {
        "id": "ve9fghu37jjO"
      },
      "outputs": [],
      "source": [
        "# can you fill in this code to get a bar plot of\n",
        "# average arrival delay by destination airport\n",
        "# for the top 10 airports by traffic volume?\n",
        "\n",
        "group_by(flights, dest) %>%\n",
        "    summarize(\n",
        "                mean_delay = mean(arr_delay, na.rm=TRUE),\n",
        "                count = n()\n",
        "            ) %>%\n",
        "    arrange(desc(count)) %>%\n",
        "    slice(1:10) %>%\n",
        "    ggplot() +\n",
        "        geom_bar(mapping = aes(x = dest, y = mean_delay), stat = \"identity\") +\n",
        "        xlab(\"destination airport\") +\n",
        "        ylab(\"average arrival delay in minutes\")"
      ]
    },
    {
      "cell_type": "code",
      "execution_count": null,
      "metadata": {
        "id": "pphXuQKA7jjP"
      },
      "outputs": [],
      "source": [
        "# airports, total flights, mean distance, and standard deviation of distance\n",
        "# sorted in descending order of mean distance\n",
        "group_by(flights, dest) %>%\n",
        "    summarize(count = n(), sd = sd(distance), mean_distance = mean(distance)) %>%\n",
        "    arrange(desc(mean_distance))"
      ]
    },
    {
      "cell_type": "code",
      "execution_count": null,
      "metadata": {
        "id": "3br3My_F7jjP"
      },
      "outputs": [],
      "source": [
        "# first attempt at a scatter plot of\n",
        "# distance vs. arrival delay\n",
        "\n",
        "ggplot(flights) +\n",
        "    geom_point(mapping = aes(x = distance, y = arr_delay))"
      ]
    },
    {
      "cell_type": "code",
      "execution_count": null,
      "metadata": {
        "id": "Nhbi3v_07jjP"
      },
      "outputs": [],
      "source": [
        "# can you fill in this code to get a scatter plot of\n",
        "# airport distance vs. average arrival delay after\n",
        "# grouping by destination airport?\n",
        "# also superimpose on the scatter plot a smoothed plot\n",
        "\n",
        "# change 1: skip Honolulu (HNL)\n",
        "# change 2: use only airports less than 4000 miles away\n",
        "# change 3: use only airports less than 1000 miles away\n",
        "\n",
        "group_by(flights, dest) %>%\n",
        "    summarize(\n",
        "                mean_distance = mean(distance, na.rm=TRUE),\n",
        "                mean_delay = mean(arr_delay, na.rm=TRUE)\n",
        "            ) %>%\n",
        "    ggplot(mapping = aes(x = mean_distance, y = mean_delay)) +\n",
        "        geom_point() +\n",
        "        geom_smooth() +\n",
        "        xlab(\"distance (in miles)\") +\n",
        "        ylab(\"average arrival delay (in minutes)\")"
      ]
    }
  ],
  "metadata": {
    "kernelspec": {
      "display_name": "R",
      "language": "R",
      "name": "ir"
    },
    "language_info": {
      "codemirror_mode": "r",
      "file_extension": ".r",
      "mimetype": "text/x-r-source",
      "name": "R",
      "pygments_lexer": "r",
      "version": "3.6.2"
    },
    "colab": {
      "name": "Lecture06.ipynb",
      "provenance": []
    }
  },
  "nbformat": 4,
  "nbformat_minor": 0
}