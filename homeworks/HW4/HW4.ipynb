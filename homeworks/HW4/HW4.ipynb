{
  "cells": [
    {
      "cell_type": "markdown",
      "metadata": {
        "id": "2KRyy01aXRV6"
      },
      "source": [
        "## STATS 306 WI 2022, HW 4, _20 points_\n",
        "\n",
        "Assigned: 03/16/2022\n",
        "\n",
        "Due: 03/23/2022, 11:59 pm Ann Arbor time"
      ]
    },
    {
      "cell_type": "markdown",
      "metadata": {
        "id": "ERLNuISbXRWA"
      },
      "source": [
        "### Instructions"
      ]
    },
    {
      "cell_type": "markdown",
      "metadata": {
        "id": "5LmebnZ2XRWB"
      },
      "source": [
        "* Make a copy of this notebook in your own Google Drive (`File > Save a copy in Drive`) so that you can edit it.\n",
        "\n",
        "* Before you submit the problem set, make sure everything runs as expected. Go to the menu bar at the top of Colab and select `Runtime > Run All`. Your code should run from top to bottom with no errors. Failure to do this will result in loss of points.\n",
        "\n",
        "* Each problem has its own answer cell. Depending on the problem, the answer cell is a Markdown cell (to type text answers) or a Code cell (to type R code). Please write your answer in the designated cell. If you want to add addtional cells make sure to add them just below the designated cell.\n",
        "\n",
        "* After you are done with running your code, use `Ctrl`/`⌘` + `p` (alternatively `File > Print`) then click `save as pdf` to save your homework as a pdf file. You are **not** going to upload your `.ipynb` file, we just need the `.pdf`. **It is your responsibility to ensure that your answers are clearly visible in the pdf file you upload to Canvas.** If the pdf you upload has crucial parts of the code and/or plots cut off you may lose points even if your notebook ran correctly. So please double check the pdf file before uploading.\n",
        "\n",
        "* Use Slack `#hw4` channel to discuss the problems and ask for clarifications. But please be careful not to post an answer or part of an answer. Doing so may result in loss of points and/or disqualification from submitting the homework."
      ]
    },
    {
      "cell_type": "markdown",
      "metadata": {
        "id": "8aQaYzN4XRWC"
      },
      "source": [
        "### Required Packages"
      ]
    },
    {
      "cell_type": "code",
      "execution_count": null,
      "metadata": {
        "colab": {
          "base_uri": "https://localhost:8080/"
        },
        "id": "jAHWvrp_XRWC",
        "outputId": "00d8ae22-a240-4b65-ee50-f1bbdf639526"
      },
      "outputs": [
        {
          "output_type": "stream",
          "name": "stderr",
          "text": [
            "Warning message in system(\"timedatectl\", intern = TRUE):\n",
            "“running command 'timedatectl' had status 1”\n",
            "── \u001b[1mAttaching packages\u001b[22m ─────────────────────────────────────── tidyverse 1.3.1 ──\n",
            "\n",
            "\u001b[32m✔\u001b[39m \u001b[34mggplot2\u001b[39m 3.3.5     \u001b[32m✔\u001b[39m \u001b[34mpurrr  \u001b[39m 0.3.4\n",
            "\u001b[32m✔\u001b[39m \u001b[34mtibble \u001b[39m 3.1.6     \u001b[32m✔\u001b[39m \u001b[34mdplyr  \u001b[39m 1.0.8\n",
            "\u001b[32m✔\u001b[39m \u001b[34mtidyr  \u001b[39m 1.2.0     \u001b[32m✔\u001b[39m \u001b[34mstringr\u001b[39m 1.4.0\n",
            "\u001b[32m✔\u001b[39m \u001b[34mreadr  \u001b[39m 2.1.2     \u001b[32m✔\u001b[39m \u001b[34mforcats\u001b[39m 0.5.1\n",
            "\n",
            "── \u001b[1mConflicts\u001b[22m ────────────────────────────────────────── tidyverse_conflicts() ──\n",
            "\u001b[31m✖\u001b[39m \u001b[34mdplyr\u001b[39m::\u001b[32mfilter()\u001b[39m masks \u001b[34mstats\u001b[39m::filter()\n",
            "\u001b[31m✖\u001b[39m \u001b[34mdplyr\u001b[39m::\u001b[32mlag()\u001b[39m    masks \u001b[34mstats\u001b[39m::lag()\n",
            "\n"
          ]
        }
      ],
      "source": [
        "library(tidyverse)"
      ]
    },
    {
      "cell_type": "markdown",
      "metadata": {
        "id": "kT9Vl45xXRWD"
      },
      "source": [
        "### Problem 1, _5 points_"
      ]
    },
    {
      "cell_type": "markdown",
      "metadata": {
        "id": "8Ovq42JAXRWE"
      },
      "source": [
        "**(1)** Create a tibble using `tribble()` and `mutate()`. Assign it to a variable named `covid`. It should print as follows. _2 points_\n",
        "\n",
        "```\n",
        "# A tibble: 5 × 3\n",
        "  country cases_in_millions deaths_in_thousands\n",
        "  <chr>               <dbl>               <int>\n",
        "1 USA                  79.4                 966\n",
        "2 India                43                   516\n",
        "3 Brazil               29.3                 655\n",
        "4 France               22.7                 137\n",
        "5 UK                   19.6                 163\n",
        "```"
      ]
    },
    {
      "cell_type": "code",
      "execution_count": null,
      "metadata": {
        "id": "6E75WFkNXRWE"
      },
      "outputs": [],
      "source": [
        "# SOLUTION CELL\n"
      ]
    },
    {
      "cell_type": "code",
      "source": [
        "# DO NOT EDIT THIS CELL\n",
        "print(covid)"
      ],
      "metadata": {
        "id": "UOLM_xSTaMOl"
      },
      "execution_count": null,
      "outputs": []
    },
    {
      "cell_type": "markdown",
      "metadata": {
        "id": "_YWYcDox8b8B"
      },
      "source": [
        "**(2)** We have defined two vectors below, one with names of 9 countries and another with their time zone names."
      ]
    },
    {
      "cell_type": "code",
      "execution_count": null,
      "metadata": {
        "id": "kIZHuR4X8b8B"
      },
      "outputs": [],
      "source": [
        "# DO NOT EDIT THIS CELL\n",
        "\n",
        "country <- c(\"Italy\", \"Greece\", \"Turkey\", \"Mauritius\", \"Pakistan\", \"Bangladesh\", \"Thailand\", \"Singapore\", \"Japan\")\n",
        "time_zone <- c(\"CET\", \"EET\", \"TRT\", \"MUT\", \"PKT\", \"BST\", \"THA\", \"SST\", \"JST\")"
      ]
    },
    {
      "cell_type": "markdown",
      "metadata": {
        "id": "kJDLuNaXRtoa"
      },
      "source": [
        "Use the `tibble()` command to create a tibble named `timezones` that prints as follows:\n",
        "```\n",
        "# A tibble: 9 x 3\n",
        "  country    time_zone UTC_offset\n",
        "  <chr>      <chr>          <int>\n",
        "1 Italy      CET                1\n",
        "2 Greece     EET                2\n",
        "3 Turkey     TRT                3\n",
        "4 Mauritius  MUT                4\n",
        "5 Pakistan   PKT                5\n",
        "6 Bangladesh BST                6\n",
        "7 Thailand   THA                7\n",
        "8 Singapore  SST                8\n",
        "9 Japan      JST                9\n",
        "```\n",
        "Note that the contents of the first two columns have to be pulled from the two vectors defined above whereas the third column has to be created by you directly. _3 points_"
      ]
    },
    {
      "cell_type": "code",
      "execution_count": null,
      "metadata": {
        "id": "yVkxJE69Rtoa"
      },
      "outputs": [],
      "source": [
        "# SOLUTION CELL\n"
      ]
    },
    {
      "cell_type": "code",
      "source": [
        "# DO NOT EDIT THIS CELL\n",
        "print(timezones)"
      ],
      "metadata": {
        "id": "BkzzRprhbNlo"
      },
      "execution_count": null,
      "outputs": []
    },
    {
      "cell_type": "markdown",
      "metadata": {
        "id": "d8Oa7FORXRWG"
      },
      "source": [
        "### Problem 2, _5 points_"
      ]
    },
    {
      "cell_type": "markdown",
      "metadata": {
        "id": "nnnBpZ1CXRWH"
      },
      "source": [
        "**(1)** The average life expectancies of countries for various years are stored in a file at the URL below:"
      ]
    },
    {
      "cell_type": "code",
      "execution_count": null,
      "metadata": {
        "id": "y7oC0NvJRtoc"
      },
      "outputs": [],
      "source": [
        "# DO NOT EDIT THIS CELL\n",
        "\n",
        "life_url <- 'https://github.com/ambujtewari/stats306-winter2022/raw/main/data/life_expectancy_years.csv'"
      ]
    },
    {
      "cell_type": "markdown",
      "metadata": {
        "id": "st0le5RaRtod"
      },
      "source": [
        "Import the file and keep only the columns `country` and `2010` through `2022`. Then use `pivot_longer` to move the years in a column called `year` and the values into a column named `life_expectancy`. Additionally, change the `year` column to be of type integer. This final tibble, which is in tidy format, should be stored in a variable named `life`.  _4 points_"
      ]
    },
    {
      "cell_type": "code",
      "execution_count": null,
      "metadata": {
        "id": "wShY82j4XRWH"
      },
      "outputs": [],
      "source": [
        "# SOLUTION CELL\n"
      ]
    },
    {
      "cell_type": "code",
      "source": [
        "# DO NOT EDIT THIS CELL\n",
        "print(slice_head(life, n=15))"
      ],
      "metadata": {
        "id": "ytvpEPrdbvZf"
      },
      "execution_count": null,
      "outputs": []
    },
    {
      "cell_type": "markdown",
      "metadata": {
        "id": "O7r3XWE6XRWH"
      },
      "source": [
        "**(2)** Using `life` as a starting point, create a line plot (using `geom_line()`) of `life_expectancy` on the y-axis versus `year` on the x-axis for China, India, and United States. Make sure each country's line is in a different color. _1 point_"
      ]
    },
    {
      "cell_type": "code",
      "execution_count": null,
      "metadata": {
        "id": "_TYfdZplXRWH"
      },
      "outputs": [],
      "source": [
        "# SOLUTION CELL\n"
      ]
    },
    {
      "cell_type": "markdown",
      "metadata": {
        "id": "dgC_Tg_lXRWI"
      },
      "source": [
        "### Problem 3, _5 points_"
      ]
    },
    {
      "cell_type": "markdown",
      "metadata": {
        "id": "ZzxrsYjnXRWI"
      },
      "source": [
        "**(1)** Let us use the `life` tibble from the previous problem again. Using a single chain of piped commands, create a vector (not a tibble) `low_le_countries` that contains the names of the countries with average `life_expectancy` (over the years represented in the tibble `life`) less than 60. When computing averages, do NOT remove missing values. Your command should manipulate tibbles all the way to the end where you should extract exactly one column from the tibble as a vector and store the result in the variable `low_le_countries`. _4 points_"
      ]
    },
    {
      "cell_type": "code",
      "execution_count": null,
      "metadata": {
        "id": "7c4gvU81XRWI"
      },
      "outputs": [],
      "source": [
        "# SOLUTION CELL\n"
      ]
    },
    {
      "cell_type": "markdown",
      "metadata": {
        "id": "X_587xkVRtoe"
      },
      "source": [
        "The code below ensures that the vector `low_le_countries` gets displayed for grading purposes. Don't change it!"
      ]
    },
    {
      "cell_type": "code",
      "execution_count": null,
      "metadata": {
        "id": "VfLCwDXsRtoe"
      },
      "outputs": [],
      "source": [
        "# DO NOT EDIT THIS CELL\n",
        "\n",
        "print(low_le_countries)"
      ]
    },
    {
      "cell_type": "markdown",
      "metadata": {
        "id": "nfskWNiYXRWI"
      },
      "source": [
        "**(2)** For all countries in `low_le_countries`, create a line plot using `geom_line` with `year` on x-axis, `life_expectancy` on y-axis. Make sure the lines representing data from the different countries are in different colors. _1 point_"
      ]
    },
    {
      "cell_type": "code",
      "execution_count": null,
      "metadata": {
        "id": "xHPe9nuQXRWJ"
      },
      "outputs": [],
      "source": [
        "# SOLUTION CELL\n"
      ]
    },
    {
      "cell_type": "markdown",
      "metadata": {
        "id": "FinhV5JwXRWJ"
      },
      "source": [
        "### Problem 4, _5 points_"
      ]
    },
    {
      "cell_type": "markdown",
      "metadata": {
        "id": "dM441_CHRtoe"
      },
      "source": [
        "**(1)** Create a string and assign it to the variable `book` such that `writeLines(book)` displays the following: _1 point_\n",
        "```\n",
        "   ,   ,\n",
        "  /////|\n",
        " ///// |\n",
        "|~~~|  |\n",
        "|\"\"\"|  |\n",
        "|3  |  |\n",
        "| 0 |  |\n",
        "|  6| /\n",
        "|\"\"\"|/\n",
        "'---'\n",
        "```\n",
        "You need to make sure that the total number and identity of characters (including space) in your output matches what is given above. Note that the display above has 10 lines with the following character counts: 8, 8, 8, 8, 8, 8, 8, 7, 6, 5."
      ]
    },
    {
      "cell_type": "code",
      "execution_count": null,
      "metadata": {
        "id": "8ZAmxGF6Rtoe"
      },
      "outputs": [],
      "source": [
        "# SOLUTION CELL\n"
      ]
    },
    {
      "cell_type": "code",
      "execution_count": null,
      "metadata": {
        "id": "QBHWMJmERtof"
      },
      "outputs": [],
      "source": [
        "# DO NOT EDIT THIS CELL\n",
        "\n",
        "writeLines(book)"
      ]
    },
    {
      "cell_type": "markdown",
      "metadata": {
        "id": "HR_dw9T6Rtof"
      },
      "source": [
        "**(2)** Below we have defined a tibble called `stat_courses`."
      ]
    },
    {
      "cell_type": "code",
      "execution_count": null,
      "metadata": {
        "id": "sppvNf5IRtof"
      },
      "outputs": [],
      "source": [
        "# DO NOT EDIT THIS CELL\n",
        "\n",
        "stat_courses <- tribble(\n",
        "    ~course,\n",
        "    \"100: Introduction to Statistics, Probability and Mathematical Modeling\",\n",
        "    \"125: Statistics, Games and Coincidences\",\n",
        "    \"150: Making Sense of Data\",\n",
        "    \"180: AP Statistics\",\n",
        "    \"206: Intro Data Science\", \n",
        "    \"250: Intro Stat and Data Analysis\", \n",
        "    \"306: Statistical Computing\",\n",
        "    \"315: Statistics and Artificial Intelligence\"\n",
        ")"
      ]
    },
    {
      "cell_type": "markdown",
      "source": [
        "Use `stat_courses` to create a new tibble called `stat_course_numbers` that prints as follows: _2 points_\n",
        "```\n",
        "# A tibble: 8 × 2\n",
        "  course_number course_name                                                     \n",
        "  <chr>         <chr>                                                           \n",
        "1 100           Introduction to Statistics, Probability and Mathematical Modeli…\n",
        "2 125           Statistics, Games and Coincidences                              \n",
        "3 150           Making Sense of Data                                            \n",
        "4 180           AP Statistics                                                   \n",
        "5 206           Intro Data Science                                              \n",
        "6 250           Intro Stat and Data Analysis                                    \n",
        "7 306           Statistical Computing                                           \n",
        "8 315           Statistics and Artificial Intelligence        \n",
        "```"
      ],
      "metadata": {
        "id": "ksAUHt9OetFJ"
      }
    },
    {
      "cell_type": "code",
      "source": [
        "# SOLUTION CELL\n"
      ],
      "metadata": {
        "id": "qR2StD7peIi9"
      },
      "execution_count": null,
      "outputs": []
    },
    {
      "cell_type": "code",
      "source": [
        "# DO NOT EDIT THIS CELL\n",
        "print(stat_course_numbers)"
      ],
      "metadata": {
        "id": "5GZauRKIfV_J"
      },
      "execution_count": null,
      "outputs": []
    },
    {
      "cell_type": "markdown",
      "metadata": {
        "id": "diPF3pgDRtof"
      },
      "source": [
        "**(3)** Change the column `course_number` so that the prefix `\"STATS \"` gets added to each course number. After this change, the tibble `stat_course_numbers` should print as follows: _1 point_\n",
        "``` \n",
        "# A tibble: 8 × 2\n",
        "  course_number course_name                                                     \n",
        "  <chr>         <chr>                                                           \n",
        "1 STATS 100     Introduction to Statistics, Probability and Mathematical Modeli…\n",
        "2 STATS 125     Statistics, Games and Coincidences                              \n",
        "3 STATS 150     Making Sense of Data                                            \n",
        "4 STATS 180     AP Statistics                                                   \n",
        "5 STATS 206     Intro Data Science                                              \n",
        "6 STATS 250     Intro Stat and Data Analysis                                    \n",
        "7 STATS 306     Statistical Computing                                           \n",
        "8 STATS 315     Statistics and Artificial Intelligence       \n",
        "```"
      ]
    },
    {
      "cell_type": "code",
      "execution_count": null,
      "metadata": {
        "id": "R59esr4bRtof"
      },
      "outputs": [],
      "source": [
        "# SOLUTION CELL\n"
      ]
    },
    {
      "cell_type": "code",
      "execution_count": null,
      "metadata": {
        "id": "Z16PTzQnRtog"
      },
      "outputs": [],
      "source": [
        "# DO NOT EDIT THIS CELL\n",
        "\n",
        "print(stat_course_numbers)"
      ]
    },
    {
      "cell_type": "markdown",
      "metadata": {
        "id": "z8hBMr5IRtog"
      },
      "source": [
        "**(4)** Create a string and assign to the variable `quote` such that `writeLines(quote)` displays the following: _1 point_\n",
        "```\n",
        "\"Nothing is impossible,\n",
        "    the word itself says 'I'm possible'!\"\n",
        "                        -- Audrey Hepburn\n",
        "```\n",
        "Make sure to create a string with exactly the same number of lines and characters (including spaces) in each line as in the example diplay above. "
      ]
    },
    {
      "cell_type": "code",
      "execution_count": null,
      "metadata": {
        "id": "t6zjLNeNRtog"
      },
      "outputs": [],
      "source": [
        "# SOLUTION CELL\n"
      ]
    },
    {
      "cell_type": "code",
      "execution_count": null,
      "metadata": {
        "id": "g7rbeGQXRtog"
      },
      "outputs": [],
      "source": [
        "# DO NOT EDIT THIS CELL\n",
        "\n",
        "writeLines(quote)"
      ]
    }
  ],
  "metadata": {
    "colab": {
      "name": "HW4.ipynb",
      "provenance": [],
      "collapsed_sections": []
    },
    "kernelspec": {
      "display_name": "R",
      "language": "R",
      "name": "ir"
    },
    "language_info": {
      "codemirror_mode": "r",
      "file_extension": ".r",
      "mimetype": "text/x-r-source",
      "name": "R",
      "pygments_lexer": "r",
      "version": "4.0.4"
    }
  },
  "nbformat": 4,
  "nbformat_minor": 0
}