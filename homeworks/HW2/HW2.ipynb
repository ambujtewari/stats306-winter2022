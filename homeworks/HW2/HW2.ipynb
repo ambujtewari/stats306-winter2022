{
  "nbformat": 4,
  "nbformat_minor": 0,
  "metadata": {
    "kernelspec": {
      "display_name": "R",
      "language": "R",
      "name": "ir"
    },
    "language_info": {
      "codemirror_mode": "r",
      "file_extension": ".r",
      "mimetype": "text/x-r-source",
      "name": "R",
      "pygments_lexer": "r",
      "version": "4.0.3"
    },
    "colab": {
      "name": "HW2.ipynb",
      "provenance": [],
      "collapsed_sections": []
    }
  },
  "cells": [
    {
      "cell_type": "markdown",
      "metadata": {
        "id": "2KRyy01aXRV6"
      },
      "source": [
        "## STATS 306 WI 2022, HW 2, _20 points_\n",
        "\n",
        "Assigned: 01/31/2022\n",
        "\n",
        "Due: 02/07/2022, 11:59 pm Ann Arbor time"
      ]
    },
    {
      "cell_type": "markdown",
      "metadata": {
        "id": "ERLNuISbXRWA"
      },
      "source": [
        "### Instructions"
      ]
    },
    {
      "cell_type": "markdown",
      "metadata": {
        "id": "5LmebnZ2XRWB"
      },
      "source": [
        "* Make a copy of this notebook in your own Google Drive (`File > Save a copy in Drive`) so that you can edit it.\n",
        "\n",
        "* Before you submit the problem set, make sure everything runs as expected. Go to the menu bar at the top of Colab and select `Runtime > Run All`. Your code should run from top to bottom with no errors. Failure to do this will result in loss of points.\n",
        "\n",
        "* Each problem has their own answer cell. Depending on the problem, the answer cell is a Markdown cell (to type text answers) or a Code cell (to type R code). Please write your answer in the designated cell. If you want to add addtional cells make sure to add them just below the designated cell.\n",
        "\n",
        "* After you done with running your code, use `Ctrl`/`⌘` + `p` (alternatively `File > Print`) then click `save as pdf` to save your homework as pdf file. You are **not** going to upload your `.ipynb` file, we just need the `.pdf`. **It is your responsibility to ensure that your answers are clearly visible in the pdf file you upload to Canvas.** If the pdf you upload has crucial parts of the code and/or plots cut off you may lose points even if your notebook ran correctly. So please double check the pdf file before uploading.\n",
        "\n",
        "* Use Slack `#hw2` channel to discuss the problems and ask for clarifications. But please be careful not to post an answer or part of an answer. Doing so may result in loss of points and/or disqualification from submitting the homework."
      ]
    },
    {
      "cell_type": "markdown",
      "metadata": {
        "id": "8aQaYzN4XRWC"
      },
      "source": [
        "### Required Packages"
      ]
    },
    {
      "cell_type": "code",
      "metadata": {
        "id": "jAHWvrp_XRWC"
      },
      "source": [
        "library(tidyverse)"
      ],
      "execution_count": null,
      "outputs": []
    },
    {
      "cell_type": "markdown",
      "metadata": {
        "id": "kT9Vl45xXRWD"
      },
      "source": [
        "### Problem 1, _5 points_"
      ]
    },
    {
      "cell_type": "markdown",
      "metadata": {
        "id": "8Ovq42JAXRWE"
      },
      "source": [
        "**(1)** Geometries have statistical transformation associated with them. Statistical transformations produce new **computed variables**. What is the statistical transformation associated with `geom_bar`. Also consult the [documentation](https://ggplot2.tidyverse.org/reference/geom_bar.html) to list _all_ the computed variables that it computes. _1 point_"
      ]
    },
    {
      "cell_type": "markdown",
      "metadata": {
        "id": "6E75WFkNXRWE"
      },
      "source": [
        "\n",
        "\n",
        "\n",
        "\n"
      ]
    },
    {
      "cell_type": "markdown",
      "metadata": {
        "id": "OxZwzwQ-XRWE"
      },
      "source": [
        "**(2)** Write the `ggplot` command to produce the following plot using data from the `mpg` tibble. _1 point_\n",
        "\n",
        "<img src=\"https://github.com/ambujtewari/stats306-winter2022/raw/main/homeworks/HW2/plot1.png\" alt=\"picture\" width=\"400\">"
      ]
    },
    {
      "cell_type": "code",
      "metadata": {
        "id": "W-Ite40oXRWE"
      },
      "source": [
        ""
      ],
      "execution_count": null,
      "outputs": []
    },
    {
      "cell_type": "markdown",
      "metadata": {
        "id": "RJEcxelIXRWF"
      },
      "source": [
        "**(3)** Write the `ggplot` command to produce the following plot using data from the `mpg` tibble. _1 point_\n",
        "\n",
        "<img src=\"https://github.com/ambujtewari/stats306-winter2022/raw/main/homeworks/HW2/plot2.png\" alt=\"picture\" width=\"400\">"
      ]
    },
    {
      "cell_type": "code",
      "metadata": {
        "id": "H3qWqnX1XRWF"
      },
      "source": [
        ""
      ],
      "execution_count": null,
      "outputs": []
    },
    {
      "cell_type": "markdown",
      "metadata": {
        "id": "YFySCcd0XRWF"
      },
      "source": [
        "**(4)** Write the `ggplot` command to produce the following plot using data from the `mpg` tibble. _2 points_\n",
        "\n",
        "<img src=\"https://github.com/ambujtewari/stats306-winter2022/raw/main/homeworks/HW2/plot3.png\" alt=\"picture\" width=\"400\">"
      ]
    },
    {
      "cell_type": "code",
      "metadata": {
        "id": "mPQqNK6iXRWG"
      },
      "source": [
        ""
      ],
      "execution_count": null,
      "outputs": []
    },
    {
      "cell_type": "markdown",
      "metadata": {
        "id": "d8Oa7FORXRWG"
      },
      "source": [
        "### Problem 2, _5 points_"
      ]
    },
    {
      "cell_type": "markdown",
      "metadata": {
        "id": "f_0r9qoOXRWG"
      },
      "source": [
        "**(1)** Charlie wants all rows from the `mpg` tibble that have `cty` values between 25 and 35 (inclusive). He types the command `filter(mpg, 25 <= hwy <= 35)` and gets an error. Why? Type the correct command for Charlie. _2 points_"
      ]
    },
    {
      "cell_type": "markdown",
      "metadata": {
        "id": "njBxyeD5XRWG"
      },
      "source": [
        ""
      ]
    },
    {
      "cell_type": "code",
      "metadata": {
        "id": "xmjBKzCVXRWG"
      },
      "source": [
        ""
      ],
      "execution_count": null,
      "outputs": []
    },
    {
      "cell_type": "markdown",
      "metadata": {
        "id": "nnnBpZ1CXRWH"
      },
      "source": [
        "**(2)** Where does `arrange` place missing values? _1 point_"
      ]
    },
    {
      "cell_type": "markdown",
      "metadata": {
        "id": "wShY82j4XRWH"
      },
      "source": [
        ""
      ]
    },
    {
      "cell_type": "markdown",
      "metadata": {
        "id": "O7r3XWE6XRWH"
      },
      "source": [
        "**(3)** For the `diamonds` tibble, write the command to rename the columns `x`, `y`, `z`, `depth` to `length`, `width`, `depth`, `depth_percentage` respectively. Assign the tibble with renamed columns to a variable called `diamonds2`. _2 points_"
      ]
    },
    {
      "cell_type": "code",
      "metadata": {
        "id": "_TYfdZplXRWH"
      },
      "source": [
        ""
      ],
      "execution_count": null,
      "outputs": []
    },
    {
      "cell_type": "code",
      "source": [
        "# DO NOT EDIT THIS CODE CELL\n",
        "diamonds2 %>% head()"
      ],
      "metadata": {
        "id": "-Uf47N_hnwMj"
      },
      "execution_count": null,
      "outputs": []
    },
    {
      "cell_type": "markdown",
      "metadata": {
        "id": "dgC_Tg_lXRWI"
      },
      "source": [
        "### Problem 3, _5 points_"
      ]
    },
    {
      "cell_type": "markdown",
      "metadata": {
        "id": "ZzxrsYjnXRWI"
      },
      "source": [
        "**(1)** Write the code to execute the following steps using the `diamonds` data set. _4 points_\n",
        "\n",
        "- Add a new column `price_per_carat` which is the price of the diamond divided by its weight in carats\n",
        "- Sort the rows of the resulting tibble in descending order of `price_per_carat`\n",
        "- Retain only the top 1000 rows in the order above\n",
        "- For these 1000 rows, plot the distribution of `clarity` using a bar plot where your bars should be filled with the color `\"orange\"`"
      ]
    },
    {
      "cell_type": "code",
      "metadata": {
        "id": "7c4gvU81XRWI"
      },
      "source": [
        ""
      ],
      "execution_count": null,
      "outputs": []
    },
    {
      "cell_type": "markdown",
      "metadata": {
        "id": "nfskWNiYXRWI"
      },
      "source": [
        "**(2)** The bar plot for the `clarity` variable for the _entire_ tibble looks as follows. What is the main difference between the bar plot below and the one you got in part **(1)** above. _1 point_\n",
        "\n",
        "<img src=\"https://github.com/ambujtewari/stats306-winter2022/raw/main/homeworks/HW2/plot4.png\" alt=\"picture\" width=\"400\">"
      ]
    },
    {
      "cell_type": "markdown",
      "metadata": {
        "id": "xHPe9nuQXRWJ"
      },
      "source": [
        ""
      ]
    },
    {
      "cell_type": "markdown",
      "metadata": {
        "id": "FinhV5JwXRWJ"
      },
      "source": [
        "### Problem 4, _5 points_"
      ]
    },
    {
      "cell_type": "markdown",
      "metadata": {
        "id": "FhQ2LMBzXRWJ"
      },
      "source": [
        "**(1)** Write the code to: _1.5 points_\n",
        "\n",
        "- create a tibble with two columns `class` and `mean_cty`. The `mean_cty` column should have the mean city mileage of the cars in that class, and then\n",
        "- sort this tibble in ascending order of `mean_cty`. "
      ]
    },
    {
      "cell_type": "code",
      "metadata": {
        "id": "WXOMZsH7XRWJ"
      },
      "source": [
        ""
      ],
      "execution_count": null,
      "outputs": []
    },
    {
      "cell_type": "markdown",
      "metadata": {
        "id": "XDLr3S1SXRWJ"
      },
      "source": [
        "**(2)** Report the best (highest mileage) and worst (lowest mileage) class. _0.5 points_"
      ]
    },
    {
      "cell_type": "markdown",
      "metadata": {
        "id": "93nkrHudXRWJ"
      },
      "source": [
        ""
      ]
    },
    {
      "cell_type": "markdown",
      "metadata": {
        "id": "t8sFaTq0XRWK"
      },
      "source": [
        "**(3)** Alice is looking at the `mpg` tibble. Using `group_by()`, `summarize()`, `arrange()`, and pipes, she finds the following counts for the three possible types of drive trains.\n",
        "\n",
        "```\n",
        "# A tibble: 5 × 2\n",
        "  fl    count\n",
        "  <chr> <int>\n",
        "1 c         1\n",
        "2 d         5\n",
        "3 e         8\n",
        "4 p        52\n",
        "5 r       168\n",
        "```\n",
        "\n",
        "Write the command that Alice used to create the above output. _3 points_"
      ]
    },
    {
      "cell_type": "code",
      "metadata": {
        "id": "IxgM4oH-XRWK"
      },
      "source": [
        ""
      ],
      "execution_count": null,
      "outputs": []
    }
  ]
}