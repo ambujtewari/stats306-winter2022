{
  "cells": [
    {
      "cell_type": "markdown",
      "metadata": {
        "id": "2KRyy01aXRV6"
      },
      "source": [
        "## STATS 306 WI 2022, HW 5, _20 points_\n",
        "\n",
        "Assigned: 03/25/2022\n",
        "\n",
        "Due: 04/01/2022, 11:59 pm Ann Arbor time"
      ]
    },
    {
      "cell_type": "markdown",
      "metadata": {
        "id": "ERLNuISbXRWA"
      },
      "source": [
        "### Instructions"
      ]
    },
    {
      "cell_type": "markdown",
      "metadata": {
        "id": "5LmebnZ2XRWB"
      },
      "source": [
        "* Make a copy of this notebook in your own Google Drive (`File > Save a copy in Drive`) so that you can edit it.\n",
        "\n",
        "* Before you submit the problem set, make sure everything runs as expected. Go to the menu bar at the top of Colab and select `Runtime > Run All`. Your code should run from top to bottom with no errors. Failure to do this will result in loss of points.\n",
        "\n",
        "* Each problem has its own answer cell. Depending on the problem, the answer cell is a Markdown cell (to type text answers) or a Code cell (to type R code). Please write your answer in the designated cell. If you want to add addtional cells make sure to add them just below the designated cell.\n",
        "\n",
        "* After you are done with running your code, use `Ctrl`/`⌘` + `p` (alternatively `File > Print`) then click `save as pdf` to save your homework as a pdf file. You are **not** going to upload your `.ipynb` file, we just need the `.pdf`. **It is your responsibility to ensure that your answers are clearly visible in the pdf file you upload to Canvas.** If the pdf you upload has crucial parts of the code and/or plots cut off you may lose points even if your notebook ran correctly. So please double check the pdf file before uploading.\n",
        "\n",
        "* Use Slack `#hw5` channel to discuss the problems and ask for clarifications. But please be careful not to post an answer or part of an answer. Doing so may result in loss of points and/or disqualification from submitting the homework."
      ]
    },
    {
      "cell_type": "markdown",
      "metadata": {
        "id": "8aQaYzN4XRWC"
      },
      "source": [
        "### Required Packages"
      ]
    },
    {
      "cell_type": "code",
      "execution_count": null,
      "metadata": {
        "colab": {
          "base_uri": "https://localhost:8080/"
        },
        "id": "jAHWvrp_XRWC",
        "outputId": "90a38ff6-3915-44d1-9d16-6e30e598b632"
      },
      "outputs": [
        {
          "output_type": "stream",
          "name": "stderr",
          "text": [
            "Warning message in system(\"timedatectl\", intern = TRUE):\n",
            "“running command 'timedatectl' had status 1”\n",
            "── \u001b[1mAttaching packages\u001b[22m ─────────────────────────────────────── tidyverse 1.3.1 ──\n",
            "\n",
            "\u001b[32m✔\u001b[39m \u001b[34mggplot2\u001b[39m 3.3.5     \u001b[32m✔\u001b[39m \u001b[34mpurrr  \u001b[39m 0.3.4\n",
            "\u001b[32m✔\u001b[39m \u001b[34mtibble \u001b[39m 3.1.6     \u001b[32m✔\u001b[39m \u001b[34mdplyr  \u001b[39m 1.0.8\n",
            "\u001b[32m✔\u001b[39m \u001b[34mtidyr  \u001b[39m 1.2.0     \u001b[32m✔\u001b[39m \u001b[34mstringr\u001b[39m 1.4.0\n",
            "\u001b[32m✔\u001b[39m \u001b[34mreadr  \u001b[39m 2.1.2     \u001b[32m✔\u001b[39m \u001b[34mforcats\u001b[39m 0.5.1\n",
            "\n",
            "── \u001b[1mConflicts\u001b[22m ────────────────────────────────────────── tidyverse_conflicts() ──\n",
            "\u001b[31m✖\u001b[39m \u001b[34mdplyr\u001b[39m::\u001b[32mfilter()\u001b[39m masks \u001b[34mstats\u001b[39m::filter()\n",
            "\u001b[31m✖\u001b[39m \u001b[34mdplyr\u001b[39m::\u001b[32mlag()\u001b[39m    masks \u001b[34mstats\u001b[39m::lag()\n",
            "\n"
          ]
        }
      ],
      "source": [
        "library(tidyverse)"
      ]
    },
    {
      "cell_type": "markdown",
      "metadata": {
        "id": "kT9Vl45xXRWD"
      },
      "source": [
        "### Problem 1, _5 points_"
      ]
    },
    {
      "cell_type": "markdown",
      "metadata": {
        "id": "8Ovq42JAXRWE"
      },
      "source": [
        "**(1)** Define the variable `money_re` such that it matches only those strings that are _entirely_ composed of a dollar-cent amount of the form “$xx...x.yy”. Note that the dollar part “xx...x” should have one or more digits and the cent part “yy” should have exactly two digits. For example, you should see the following behavior:  _3 points_\n",
        "\n",
        "```\n",
        "> x <- c(\"$0.99\", \"$1.23 tip\", \"$ 0.87\", \"$999.4999\", \"$1.99\", \"45.66 dollars\") \n",
        "> str_detect(x, money_re)\n",
        "[1]  TRUE FALSE FALSE FALSE  TRUE FALSE\n",
        "```"
      ]
    },
    {
      "cell_type": "code",
      "execution_count": null,
      "metadata": {
        "id": "6E75WFkNXRWE"
      },
      "outputs": [],
      "source": [
        "# SOLUTION CELL\n"
      ]
    },
    {
      "cell_type": "code",
      "execution_count": null,
      "metadata": {
        "id": "qi4V-xHRopMk"
      },
      "outputs": [],
      "source": [
        "# DO NOT EDIT THIS CELL\n",
        "x <- c(\"$0.99\", \"$1.23 tip\", \"$ 0.87\", \"$999.4999\", \"$1.99\", \"45.66 dollars\") \n",
        "str_detect(x, money_re)"
      ]
    },
    {
      "cell_type": "markdown",
      "metadata": {
        "id": "_YWYcDox8b8B"
      },
      "source": [
        "**(2)** Define the variable `phone_re` such that it matches strings containing phone numbers of the form \"(xxx) xxx xxxx\" where an x represents a digit 0-9. For example, you should see the following behavior:  _2 points_\n",
        "```\n",
        "> y <- c(\"My phone number is (123) 456 7890\",\n",
        "       \"Call me at (123)-456-7890\",\n",
        "       \"(987) 654 3210\",\n",
        "       \"The number (012) 345 6789 doesn't exist\")\n",
        "> str_detect(y, phone_re)\n",
        "[1]  TRUE FALSE  TRUE  TRUE\n",
        "```"
      ]
    },
    {
      "cell_type": "code",
      "execution_count": null,
      "metadata": {
        "id": "503p4mn8opMm"
      },
      "outputs": [],
      "source": [
        "# SOLUTION CELL\n"
      ]
    },
    {
      "cell_type": "code",
      "execution_count": null,
      "metadata": {
        "id": "hPkQW79jopMn"
      },
      "outputs": [],
      "source": [
        "# DO NOT EDIT THIS CELL\n",
        "y <- c(\"My phone number is (123) 456 7890\",\n",
        "       \"Call me at (123)-456-7890\",\n",
        "       \"(987) 654 3210\",\n",
        "       \"The number (012) 345 6789 doesn't exist\")\n",
        "str_detect(y, phone_re)"
      ]
    },
    {
      "cell_type": "markdown",
      "metadata": {
        "id": "d8Oa7FORXRWG"
      },
      "source": [
        "### Problem 2, _5 points_"
      ]
    },
    {
      "cell_type": "markdown",
      "metadata": {
        "id": "nnnBpZ1CXRWH"
      },
      "source": [
        "**(1)** Define the variable `char3_re` such that it matches the three character sequence `'\"\\` . Note that this sequence consists of a single quote, a double quote, and a backslash. For example, you should see the following behavior: _3 point_\n",
        "```\n",
        "> z <- c('\\'\"\\\\',\n",
        "        '\"',\n",
        "        \"'\",\n",
        "        \"\\\\\",\n",
        "        \"'\\\"\",\n",
        "        \"'\\\\\",\n",
        "        \"She said, '\\\"\\\\t\\\" is the escape sequence for tab'\")\n",
        "> writeLines(z)\n",
        "> str_detect(z, char3_re)\n",
        "'\"\\\n",
        "\"\n",
        "'\n",
        "\\\n",
        "'\"\n",
        "'\\\n",
        "She said, '\"\\t\" is the escape sequence for tab'\n",
        "[1]  TRUE FALSE FALSE FALSE FALSE FALSE TRUE\n",
        "```"
      ]
    },
    {
      "cell_type": "code",
      "execution_count": null,
      "metadata": {
        "id": "SsKXhIKBopMo"
      },
      "outputs": [],
      "source": [
        "# SOLUTION CELL\n"
      ]
    },
    {
      "cell_type": "code",
      "execution_count": null,
      "metadata": {
        "id": "fXEn2MlfopMp"
      },
      "outputs": [],
      "source": [
        "# DO NOT EDIT THIS CELL\n",
        "z <- c('\\'\"\\\\',\n",
        "        '\"',\n",
        "        \"'\",\n",
        "        \"\\\\\",\n",
        "        \"'\\\"\",\n",
        "        \"'\\\\\",\n",
        "        \"She said, '\\\"\\\\t\\\" is the escape sequence for tab'\")\n",
        "writeLines(z)\n",
        "str_detect(z, char3_re)"
      ]
    },
    {
      "cell_type": "markdown",
      "metadata": {
        "id": "O7r3XWE6XRWH"
      },
      "source": [
        "**(2)** Suppose we create a tibble df using the following:"
      ]
    },
    {
      "cell_type": "code",
      "execution_count": null,
      "metadata": {
        "id": "dllKqhQwopMp"
      },
      "outputs": [],
      "source": [
        "# DO NOT EDIT THIS CELL\n",
        "df <- tibble(word = words, i = seq_along(words))"
      ]
    },
    {
      "cell_type": "markdown",
      "metadata": {
        "id": "y3ORi4GJopMp"
      },
      "source": [
        "Then, write a command using filter to return exactly those rows of `df` where `word` is of length strictly greater than 7 and has strictly more vowels than consonants. _2 points_"
      ]
    },
    {
      "cell_type": "code",
      "execution_count": null,
      "metadata": {
        "id": "Evi3oYrbopMp"
      },
      "outputs": [],
      "source": [
        "# SOLUTION CELL\n"
      ]
    },
    {
      "cell_type": "markdown",
      "metadata": {
        "id": "dgC_Tg_lXRWI"
      },
      "source": [
        "### Problem 3, _5 points_"
      ]
    },
    {
      "cell_type": "markdown",
      "metadata": {
        "id": "ZzxrsYjnXRWI"
      },
      "source": [
        "**(1)** Continue using the `df` tibble defined in problem 2, part 2. Write a single sequence of piped commands to execute the following steps in the order specified: _3 points_\n",
        "\n",
        "- Keep only those rows of `df` where `word` starts with the pattern `qu`\n",
        "- Add a new column `garbled_word` in which the `qu` pattern is moved to the end of the word. For example, if `word` is `\"quality\"` then `garbled_word` will be `\"alityqu\"` "
      ]
    },
    {
      "cell_type": "code",
      "execution_count": null,
      "metadata": {
        "id": "KJAmNn03opMq"
      },
      "outputs": [],
      "source": [
        "# SOLUTION CELL\n"
      ]
    },
    {
      "cell_type": "markdown",
      "metadata": {
        "id": "nfskWNiYXRWI"
      },
      "source": [
        "**(2)** Using the `df` tibble (defined in problem 2, part 2) as a starting point, write a single sequence of piped commands to execute the following steps in the order specified: _2 points_\n",
        "\n",
        "- Add two new columns `vowel_count` and `consonant_count` that count the number of vowels and consonants respectively in `word`\n",
        "- Use `geom_count` to visualize the covariation of `vowel_count` (on x-axis) and `consonant_count` (on y-axis)"
      ]
    },
    {
      "cell_type": "code",
      "execution_count": null,
      "metadata": {
        "id": "QnhDMwQsopMq"
      },
      "outputs": [],
      "source": [
        "# SOLUTION CELL\n"
      ]
    },
    {
      "cell_type": "markdown",
      "metadata": {
        "id": "FinhV5JwXRWJ"
      },
      "source": [
        "### Problem 4, _5 points_"
      ]
    },
    {
      "cell_type": "markdown",
      "metadata": {
        "id": "BrN7W0bxopMr"
      },
      "source": [
        "**(1)** Using the `df` tibble (defined in problem 2, part 2) as a starting point, filter those rows where `word` contains 3 vowels in a row (e.g., the word `\"beauty\"` has 3 vowels in a row). _1 point_"
      ]
    },
    {
      "cell_type": "code",
      "execution_count": null,
      "metadata": {
        "id": "QzIlbMLoopMr"
      },
      "outputs": [],
      "source": [
        "# SOLUTION CELL\n"
      ]
    },
    {
      "cell_type": "markdown",
      "metadata": {
        "id": "_jHHkZlBopMr"
      },
      "source": [
        "**(2)** Define a variable `st_re` such that it matches `\"Street\"`, `\"St.\"` or `\"St\"`. For example, you should see the following behavior:  _1 point_\n",
        "\n",
        "```\n",
        "> streets <- c(\"Main St.\", \"Main\", \"Main Street\", \"Main St\", \"Washtenaw Avenue\")\n",
        "> str_extract(str_subset(streets, st_re), st_re)\n",
        "[1] \"St.\"   \"Street\" \"St\"   \n",
        "```"
      ]
    },
    {
      "cell_type": "code",
      "execution_count": null,
      "metadata": {
        "id": "0mQDrV3wopMr"
      },
      "outputs": [],
      "source": [
        "# SOLUTION CELL\n"
      ]
    },
    {
      "cell_type": "code",
      "execution_count": null,
      "metadata": {
        "id": "_UYu-qotopMr"
      },
      "outputs": [],
      "source": [
        "# DO NOT EDIT THIS CELL\n",
        "streets <- c(\"Main St.\",\n",
        "            \"Main\",\n",
        "            \"Main Street\",\n",
        "            \"Main St\",\n",
        "            \"Washtenaw Avenue\")\n",
        "str_extract(str_subset(streets, st_re), st_re)"
      ]
    },
    {
      "cell_type": "markdown",
      "metadata": {
        "id": "rvUWtbYoopMr"
      },
      "source": [
        "**(3)** Starting from the preexisting variable `sentences`, use a single sequence of piped commands to execute the following steps in the order specified: _3 points_\n",
        "\n",
        "- Keep only those sentences that start with the letter `\"S\"`.\n",
        "- Then keep only those sentences that have a comma somewhere.\n",
        "- Then split these sentences by comma."
      ]
    },
    {
      "cell_type": "code",
      "execution_count": null,
      "metadata": {
        "id": "GqgYvXcVopMs"
      },
      "outputs": [],
      "source": [
        "# SOLUTION CELL\n"
      ]
    }
  ],
  "metadata": {
    "colab": {
      "name": "HW5.ipynb",
      "provenance": [],
      "collapsed_sections": []
    },
    "kernelspec": {
      "display_name": "R",
      "language": "R",
      "name": "ir"
    },
    "language_info": {
      "codemirror_mode": "r",
      "file_extension": ".r",
      "mimetype": "text/x-r-source",
      "name": "R",
      "pygments_lexer": "r",
      "version": "4.0.4"
    }
  },
  "nbformat": 4,
  "nbformat_minor": 0
}