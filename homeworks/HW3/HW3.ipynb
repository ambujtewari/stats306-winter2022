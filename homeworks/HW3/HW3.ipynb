{
  "nbformat": 4,
  "nbformat_minor": 0,
  "metadata": {
    "colab": {
      "name": "HW3.ipynb",
      "provenance": [],
      "collapsed_sections": []
    },
    "kernelspec": {
      "display_name": "R",
      "language": "R",
      "name": "ir"
    },
    "language_info": {
      "codemirror_mode": "r",
      "file_extension": ".r",
      "mimetype": "text/x-r-source",
      "name": "R",
      "pygments_lexer": "r",
      "version": "4.0.4"
    }
  },
  "cells": [
    {
      "cell_type": "markdown",
      "metadata": {
        "id": "2KRyy01aXRV6"
      },
      "source": [
        "## STATS 306 WI 2022, HW 3, _20 points_\n",
        "\n",
        "Assigned: 02/07/2022\n",
        "\n",
        "Due: 02/14/2022, 11:59 pm Ann Arbor time"
      ]
    },
    {
      "cell_type": "markdown",
      "metadata": {
        "id": "ERLNuISbXRWA"
      },
      "source": [
        "### Instructions"
      ]
    },
    {
      "cell_type": "markdown",
      "metadata": {
        "id": "5LmebnZ2XRWB"
      },
      "source": [
        "* Make a copy of this notebook in your own Google Drive (`File > Save a copy in Drive`) so that you can edit it.\n",
        "\n",
        "* Before you submit the problem set, make sure everything runs as expected. Go to the menu bar at the top of Colab and select `Runtime > Run All`. Your code should run from top to bottom with no errors. Failure to do this will result in loss of points.\n",
        "\n",
        "* Each problem has their own answer cell. Depending on the problem, the answer cell is a Markdown cell (to type text answers) or a Code cell (to type R code). Please write your answer in the designated cell. If you want to add addtional cells make sure to add them just below the designated cell.\n",
        "\n",
        "* After you done with running your code, use `Ctrl`/`⌘` + `p` (alternatively `File > Print`) then click `save as pdf` to save your homework as pdf file. You are **not** going to upload your `.ipynb` file, we just need the `.pdf`. **It is your responsibility to ensure that your answers are clearly visible in the pdf file you upload to Canvas.** If the pdf you upload has crucial parts of the code and/or plots cut off you may lose points even if your notebook ran correctly. So please double check the pdf file before uploading.\n",
        "\n",
        "* Use Slack `#hw3` channel to discuss the problems and ask for clarifications. But please be careful not to post an answer or part of an answer. Doing so may result in loss of points and/or disqualification from submitting the homework."
      ]
    },
    {
      "cell_type": "markdown",
      "metadata": {
        "id": "8aQaYzN4XRWC"
      },
      "source": [
        "### Required Packages"
      ]
    },
    {
      "cell_type": "code",
      "metadata": {
        "id": "jAHWvrp_XRWC",
        "colab": {
          "base_uri": "https://localhost:8080/"
        },
        "outputId": "6bc03028-b38f-460f-8b9b-0ca57412f9de"
      },
      "source": [
        "library(tidyverse)"
      ],
      "execution_count": null,
      "outputs": [
        {
          "output_type": "stream",
          "name": "stderr",
          "text": [
            "Warning message in system(\"timedatectl\", intern = TRUE):\n",
            "“running command 'timedatectl' had status 1”\n",
            "── \u001b[1mAttaching packages\u001b[22m ─────────────────────────────────────── tidyverse 1.3.1 ──\n",
            "\n",
            "\u001b[32m✔\u001b[39m \u001b[34mggplot2\u001b[39m 3.3.5     \u001b[32m✔\u001b[39m \u001b[34mpurrr  \u001b[39m 0.3.4\n",
            "\u001b[32m✔\u001b[39m \u001b[34mtibble \u001b[39m 3.1.6     \u001b[32m✔\u001b[39m \u001b[34mdplyr  \u001b[39m 1.0.7\n",
            "\u001b[32m✔\u001b[39m \u001b[34mtidyr  \u001b[39m 1.1.4     \u001b[32m✔\u001b[39m \u001b[34mstringr\u001b[39m 1.4.0\n",
            "\u001b[32m✔\u001b[39m \u001b[34mreadr  \u001b[39m 2.1.1     \u001b[32m✔\u001b[39m \u001b[34mforcats\u001b[39m 0.5.1\n",
            "\n",
            "── \u001b[1mConflicts\u001b[22m ────────────────────────────────────────── tidyverse_conflicts() ──\n",
            "\u001b[31m✖\u001b[39m \u001b[34mdplyr\u001b[39m::\u001b[32mfilter()\u001b[39m masks \u001b[34mstats\u001b[39m::filter()\n",
            "\u001b[31m✖\u001b[39m \u001b[34mdplyr\u001b[39m::\u001b[32mlag()\u001b[39m    masks \u001b[34mstats\u001b[39m::lag()\n",
            "\n"
          ]
        }
      ]
    },
    {
      "cell_type": "code",
      "metadata": {
        "id": "-8qqda_A8b8A",
        "colab": {
          "base_uri": "https://localhost:8080/"
        },
        "outputId": "39bf103a-e5f2-4afa-9cc3-4a510a04dbab"
      },
      "source": [
        "# comment the line below if the nycflights13 package is already installed\n",
        "install.packages(\"nycflights13\")\n",
        "\n",
        "# loads the package that has the flights tibble\n",
        "library(nycflights13)"
      ],
      "execution_count": null,
      "outputs": [
        {
          "output_type": "stream",
          "name": "stderr",
          "text": [
            "Installing package into ‘/usr/local/lib/R/site-library’\n",
            "(as ‘lib’ is unspecified)\n",
            "\n"
          ]
        }
      ]
    },
    {
      "cell_type": "markdown",
      "metadata": {
        "id": "kT9Vl45xXRWD"
      },
      "source": [
        "### Problem 1, _5 points_"
      ]
    },
    {
      "cell_type": "markdown",
      "metadata": {
        "id": "8Ovq42JAXRWE"
      },
      "source": [
        "**(1)** Alice tells Bob that she looked at the `flights` tibble to find out the 5 destinations with longest flight times (in terms of mean air time of flights to that destination). She tells Bob that according to her, the farthest 5 destinations along with their mean air time are as follows:\n",
        "```\n",
        "# A tibble: 5 × 2\n",
        "  dest  mean_air_time\n",
        "  <chr>         <dbl>\n",
        "1 HNL          617.45\n",
        "2 ANC          413.12\n",
        "3 SJC          346.61\n",
        "4 SFO          345.68\n",
        "5 OAK          344.73\n",
        "```\n",
        "\n",
        "Bob is not fully convinced by Alice's claim and so he writes the following code. But when he runs it, the code fails to run properly.\n",
        "\n",
        "```\n",
        "flights %>%\n",
        "    group_by(dest) %>%\n",
        "    summarize(mean_air_time = mean(air_time)) %>%\n",
        "    arrange(desc(air_time)) %>%\n",
        "    slice(1:5)\n",
        "```\n",
        "\n",
        "There are two problems with Bob's code. What are they? _2 points_"
      ]
    },
    {
      "cell_type": "markdown",
      "metadata": {
        "id": "6E75WFkNXRWE"
      },
      "source": [
        ""
      ]
    },
    {
      "cell_type": "markdown",
      "metadata": {
        "id": "_YWYcDox8b8B"
      },
      "source": [
        "**(2)** Correct the two bugs in Bob's code and write the correct code below. Does it reproduce Alice's results (ignore minor numerical differences in the means)? _3 points_"
      ]
    },
    {
      "cell_type": "code",
      "metadata": {
        "id": "kIZHuR4X8b8B"
      },
      "source": [
        ""
      ],
      "execution_count": null,
      "outputs": []
    },
    {
      "cell_type": "markdown",
      "metadata": {
        "id": "Fjrswyp28b8C"
      },
      "source": [
        ""
      ]
    },
    {
      "cell_type": "markdown",
      "metadata": {
        "id": "d8Oa7FORXRWG"
      },
      "source": [
        "### Problem 2, _5 points_"
      ]
    },
    {
      "cell_type": "markdown",
      "metadata": {
        "id": "f_0r9qoOXRWG"
      },
      "source": [
        "**(1)** Store all flights flying to San Francisco (airport code SFO) that do *not* have their arrival delay missing in a tibble called `SFO_flights`. _2 points_"
      ]
    },
    {
      "cell_type": "code",
      "metadata": {
        "id": "xmjBKzCVXRWG"
      },
      "source": [
        ""
      ],
      "execution_count": null,
      "outputs": []
    },
    {
      "cell_type": "markdown",
      "metadata": {
        "id": "nnnBpZ1CXRWH"
      },
      "source": [
        "**(2)** Using the `SFO_flights` tibble created above, plot the histogram of `arr_delay` using a `binwidth` of 10. _1 point_"
      ]
    },
    {
      "cell_type": "code",
      "metadata": {
        "id": "wShY82j4XRWH"
      },
      "source": [
        ""
      ],
      "execution_count": null,
      "outputs": []
    },
    {
      "cell_type": "markdown",
      "metadata": {
        "id": "O7r3XWE6XRWH"
      },
      "source": [
        "**(3)** Let us define an outlier in `SFO_flights` as a flight whose `arr_delay` is more than 8 hours. Replot the histogram above (using the same `binwidth`), this time after removing all outliers. _2 points_"
      ]
    },
    {
      "cell_type": "code",
      "metadata": {
        "id": "_TYfdZplXRWH"
      },
      "source": [
        ""
      ],
      "execution_count": null,
      "outputs": []
    },
    {
      "cell_type": "markdown",
      "metadata": {
        "id": "dgC_Tg_lXRWI"
      },
      "source": [
        "### Problem 3, _5 points_"
      ]
    },
    {
      "cell_type": "markdown",
      "metadata": {
        "id": "ZzxrsYjnXRWI"
      },
      "source": [
        "**(1)** Write the code, using pipes, to execute the following steps (in the order specified) using the `flights` data set. _4 points_\n",
        "\n",
        "- Get the flights flying to Detroit (airport code DTW) whose `air_time` is more than 1.5 hours\n",
        "- Then convert the `month` variable (which is an integer) into a categorical variable using `factor(month)` \n",
        "- Then plot the bar graph of the distribution of flights by month"
      ]
    },
    {
      "cell_type": "code",
      "metadata": {
        "id": "7c4gvU81XRWI"
      },
      "source": [
        ""
      ],
      "execution_count": null,
      "outputs": []
    },
    {
      "cell_type": "markdown",
      "metadata": {
        "id": "nfskWNiYXRWI"
      },
      "source": [
        "**(2)** How many flights that were going to Detroit had `air_time` more than 3 hours. Make sure to the include the code that you ran to answer this question. _1 point_"
      ]
    },
    {
      "cell_type": "code",
      "metadata": {
        "id": "xHPe9nuQXRWJ"
      },
      "source": [
        ""
      ],
      "execution_count": null,
      "outputs": []
    },
    {
      "cell_type": "markdown",
      "metadata": {
        "id": "MGJyYaZ38b8E"
      },
      "source": [
        ""
      ]
    },
    {
      "cell_type": "markdown",
      "metadata": {
        "id": "FinhV5JwXRWJ"
      },
      "source": [
        "### Problem 4, _5 points_"
      ]
    },
    {
      "cell_type": "markdown",
      "metadata": {
        "id": "FhQ2LMBzXRWJ"
      },
      "source": [
        " **(1)** There are two airports in the San Francisco area, `SFO` and `OAK`. Bob is trying to convince Alice that, among the carriers that fly to the SF area (in the `flights` tibble), the only one that flies to `OAK` is JetBlue (code `B6`). He also wants to convince her that JetBlue also operates flights to `SFO`. So he creates the following tibble where `to_SFO` and `to_OAK` columns record the number of flights a carrier flew to `SFO` and `OAK` respectively.\n",
        " ```\n",
        "# A tibble: 5 × 3\n",
        "  carrier to_SFO to_OAK\n",
        "  <chr>    <int>  <int>\n",
        "1 AA        1422      0\n",
        "2 B6        1035    312\n",
        "3 DL        1858      0\n",
        "4 UA        6819      0\n",
        "5 VX        2197      0\n",
        "```\n",
        "Using an appropriate combination of `dplyr` verbs and pipes, write code below that will reproduce Bob's result above. _3 points_"
      ]
    },
    {
      "cell_type": "code",
      "metadata": {
        "id": "WXOMZsH7XRWJ"
      },
      "source": [
        ""
      ],
      "execution_count": null,
      "outputs": []
    },
    {
      "cell_type": "markdown",
      "metadata": {
        "id": "XDLr3S1SXRWJ"
      },
      "source": [
        "**(2)** Create a box plot to visualize the covariation of `air_time` (y-axis) vs `origin` (x-axis) for flights flying to the Chicago area (that is, flights flying to either `ORD` or `MDW`). Make sure to remove flights with missing values for `air_time`. _2 points_"
      ]
    },
    {
      "cell_type": "code",
      "metadata": {
        "id": "93nkrHudXRWJ"
      },
      "source": [
        ""
      ],
      "execution_count": null,
      "outputs": []
    }
  ]
}