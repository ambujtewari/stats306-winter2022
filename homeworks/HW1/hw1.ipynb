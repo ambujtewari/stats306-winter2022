{
  "cells": [
    {
      "cell_type": "markdown",
      "metadata": {
        "id": "ABTXWLM3db62"
      },
      "source": [
        "## STATS 306 WI 2022, HW 1, _20 points_\n",
        "\n",
        "Assigned: 01/14/2022\n",
        "\n",
        "Due: 01/21/2022, 11:59 pm Ann Arbor time"
      ]
    },
    {
      "cell_type": "markdown",
      "metadata": {
        "id": "EIlbU-H9db66"
      },
      "source": [
        "### Instructions"
      ]
    },
    {
      "cell_type": "markdown",
      "metadata": {
        "id": "FR8F07V6db66"
      },
      "source": [
        "* Make a copy of this notebook in your own Google Drive (`File > Save a copy in Drive`) so that you can edit it.\n",
        "\n",
        "* Before you submit the problem set, make sure everything runs as expected. Go to the menu bar at the top of Colab and select `Runtime > Run All`. Your code should run from top to bottom with no errors. Failure to do this will result in loss of points.\n",
        "\n",
        "* Each problem has their own answer cell. Depending on the problem, the answer cell is a Markdown cell (to type text answers) or a Code cell (to type R code). Please write your answer in the designated cell. If you want to add addtional cells make sure to add them just below the designated cell.\n",
        "\n",
        "* After you done with running your code, use `Ctrl`/`⌘` + `p` (alternatively `File > Print`) then click `save as pdf` to save your homework as pdf file. You are **not** going to upload your `.ipynb` file, we just need the `.pdf`. **It is your responsibility to ensure that your answers are clearly visible in the pdf file you upload to Canvas.** If the pdf you upload has crucial parts of the code and/or plots cut off you may lose points even if your notebook ran correctly. So please double check the pdf file before uploading.\n",
        "\n",
        "* Use Slack `#hw1` channel to discuss the problems and ask for clarifications. But please be careful not to post an answer or part of an answer. Doing so may result in loss of points and/or disqualification from submitting the homework."
      ]
    },
    {
      "cell_type": "markdown",
      "metadata": {
        "id": "kM3RbsWGdb67"
      },
      "source": [
        "### Required Packages"
      ]
    },
    {
      "cell_type": "code",
      "execution_count": null,
      "metadata": {
        "id": "FILdc6Qfdb67",
        "outputId": "9824ce37-6b43-44e4-cd91-d11da83dc4ba"
      },
      "outputs": [
        {
          "name": "stderr",
          "output_type": "stream",
          "text": [
            "── \u001b[1mAttaching packages\u001b[22m ─────────────────────────────────────── tidyverse 1.3.0 ──\n",
            "\n",
            "\u001b[32m✔\u001b[39m \u001b[34mggplot2\u001b[39m 3.3.2     \u001b[32m✔\u001b[39m \u001b[34mpurrr  \u001b[39m 0.3.4\n",
            "\u001b[32m✔\u001b[39m \u001b[34mtibble \u001b[39m 3.0.4     \u001b[32m✔\u001b[39m \u001b[34mdplyr  \u001b[39m 1.0.2\n",
            "\u001b[32m✔\u001b[39m \u001b[34mtidyr  \u001b[39m 1.1.2     \u001b[32m✔\u001b[39m \u001b[34mstringr\u001b[39m 1.4.0\n",
            "\u001b[32m✔\u001b[39m \u001b[34mreadr  \u001b[39m 1.4.0     \u001b[32m✔\u001b[39m \u001b[34mforcats\u001b[39m 0.5.0\n",
            "\n",
            "── \u001b[1mConflicts\u001b[22m ────────────────────────────────────────── tidyverse_conflicts() ──\n",
            "\u001b[31m✖\u001b[39m \u001b[34mdplyr\u001b[39m::\u001b[32mfilter()\u001b[39m masks \u001b[34mstats\u001b[39m::filter()\n",
            "\u001b[31m✖\u001b[39m \u001b[34mdplyr\u001b[39m::\u001b[32mlag()\u001b[39m    masks \u001b[34mstats\u001b[39m::lag()\n",
            "\n"
          ]
        }
      ],
      "source": [
        "library(tidyverse)"
      ]
    },
    {
      "cell_type": "markdown",
      "metadata": {
        "id": "jnKLoOw0db6-"
      },
      "source": [
        "### Problem 1, _5 points_"
      ]
    },
    {
      "cell_type": "markdown",
      "metadata": {
        "id": "qNmfJu8adb6-"
      },
      "source": [
        "**(1)** **Wrangling** refers to a combination of two steps in the data processing pipeline. What are they? _1 point_"
      ]
    },
    {
      "cell_type": "markdown",
      "metadata": {
        "id": "NZ_a0Sngdb6_"
      },
      "source": [
        ""
      ]
    },
    {
      "cell_type": "markdown",
      "metadata": {
        "id": "v9njVkE2db6_"
      },
      "source": [
        "**(2)** What scales better with increasing ammounts of data, **visualization** or **modelling**? _1 point_"
      ]
    },
    {
      "cell_type": "markdown",
      "metadata": {
        "id": "hRK48y6Jdb6_"
      },
      "source": [
        ""
      ]
    },
    {
      "cell_type": "markdown",
      "metadata": {
        "id": "b_KEflOOdb7A"
      },
      "source": [
        "**(3)** You've imported data, wrangled it, and done some visualization and modelling that you're quite satisfied with. Are you done? Which step is still left to do? _1 point_ "
      ]
    },
    {
      "cell_type": "markdown",
      "metadata": {
        "id": "V9REqmR0db7A"
      },
      "source": [
        ""
      ]
    },
    {
      "cell_type": "markdown",
      "metadata": {
        "id": "_DrNg0i_db7A"
      },
      "source": [
        "**(4)** R is something else in addition to being a **programming language**. What is it? _1 point_"
      ]
    },
    {
      "cell_type": "markdown",
      "metadata": {
        "id": "-OVj29qLdb7B"
      },
      "source": [
        ""
      ]
    },
    {
      "cell_type": "markdown",
      "metadata": {
        "id": "uB5gJcE4db7B"
      },
      "source": [
        "**(5)** What is the actvity that is complementary to **hypothesis generation**? _1 point_"
      ]
    },
    {
      "cell_type": "markdown",
      "metadata": {
        "id": "QO_WHDd-db7B"
      },
      "source": [
        ""
      ]
    },
    {
      "cell_type": "markdown",
      "metadata": {
        "id": "yUSJMBiTdb7B"
      },
      "source": [
        "### Problem 2, _5 points_"
      ]
    },
    {
      "cell_type": "markdown",
      "metadata": {
        "id": "iOyyUgkbdb7B"
      },
      "source": [
        "**(1)** Name any 4 core packages of `tidyverse`. _1 point_"
      ]
    },
    {
      "cell_type": "markdown",
      "metadata": {
        "id": "INR-fJDhdb7C"
      },
      "source": [
        ""
      ]
    },
    {
      "cell_type": "markdown",
      "metadata": {
        "id": "POR8-Hh-db7C"
      },
      "source": [
        "**(2)** What do the letters `gg` in `ggplot` stand for? _1 point_"
      ]
    },
    {
      "cell_type": "markdown",
      "metadata": {
        "id": "IbCS9YEBdb7C"
      },
      "source": [
        ""
      ]
    },
    {
      "cell_type": "markdown",
      "metadata": {
        "id": "IanRtrfsdb7C"
      },
      "source": [
        "**(3)** To create a scatterplot using `displ` and `hwy` variables in the mpg data\n",
        "frame, Alice uses the following command\n",
        "\n",
        "```\n",
        "ggplot(data = mpg) +\n",
        "    geom_point(x = displ, y = hwy)\n",
        "```\n",
        "\n",
        "Fix Alice's code and type it below. _2 points_"
      ]
    },
    {
      "cell_type": "code",
      "execution_count": null,
      "metadata": {
        "id": "zxOS5Q9Mdb7C"
      },
      "outputs": [],
      "source": [
        ""
      ]
    },
    {
      "cell_type": "markdown",
      "metadata": {
        "id": "3BustvModb7C"
      },
      "source": [
        "**(4)** Write the code to generate a scatter plot using `displ` and `hwy` variables (in `mpg`) on the x and y axes. Make sure that the color of the points is red instead of the default (black) _1 point_"
      ]
    },
    {
      "cell_type": "code",
      "execution_count": null,
      "metadata": {
        "id": "Q7KJbdFPdb7D"
      },
      "outputs": [],
      "source": [
        ""
      ]
    },
    {
      "cell_type": "markdown",
      "metadata": {
        "id": "qM2Uva1idb7D"
      },
      "source": [
        "### Problem 3, _5 points_"
      ]
    },
    {
      "cell_type": "markdown",
      "metadata": {
        "id": "vojrmD9Odb7D"
      },
      "source": [
        "**(1)** Write the code to generate the following plot using the `mpg` data set. _3 points_\n",
        "\n",
        "![title](https://github.com/ambujtewari/stats306-winter2021/raw/main/homeworks/HW1/Rplot1.jpeg)"
      ]
    },
    {
      "cell_type": "code",
      "execution_count": null,
      "metadata": {
        "id": "KCQQ3vWXdb7D"
      },
      "outputs": [],
      "source": [
        ""
      ]
    },
    {
      "cell_type": "markdown",
      "metadata": {
        "id": "RpeyunuTdb7D"
      },
      "source": [
        "**(2)** Write the code to generate the following plot using the `mpg` data set. _2 points_\n",
        "\n",
        "![title](https://github.com/ambujtewari/stats306-winter2021/raw/main/homeworks/HW1/Rplot2.jpeg)"
      ]
    },
    {
      "cell_type": "code",
      "execution_count": null,
      "metadata": {
        "id": "IZ5j4G65db7D"
      },
      "outputs": [],
      "source": [
        ""
      ]
    },
    {
      "cell_type": "markdown",
      "metadata": {
        "id": "Wk1HdaVHdb7D"
      },
      "source": [
        "### Problem 4, _5 points_"
      ]
    },
    {
      "cell_type": "markdown",
      "metadata": {
        "id": "bgKzRodmdb7D"
      },
      "source": [
        "**(1)** Write the code to generate the following plot using the `mpg` data set. _2 points_\n",
        "\n",
        "![title](https://github.com/ambujtewari/stats306-winter2021/raw/main/homeworks/HW1/Rplot3.jpeg)"
      ]
    },
    {
      "cell_type": "code",
      "execution_count": null,
      "metadata": {
        "id": "ibgIYsc8db7E"
      },
      "outputs": [],
      "source": [
        ""
      ]
    },
    {
      "cell_type": "markdown",
      "metadata": {
        "id": "gbcZcMONdb7E"
      },
      "source": [
        "**(2)** The `geom_smooth` command takes an optional argument `method` which specifies the smoothing method to use. One of the possible values for `method` is `\"lm\"`. Consult [the documentation](https://ggplot2.tidyverse.org/reference/geom_smooth.html) of `geom_smooth` to find out what kind of a curve is fit by the `\"lm\"` method. Write your answer below. _1 point_"
      ]
    },
    {
      "cell_type": "markdown",
      "metadata": {
        "id": "4vs4zxfgdb7E"
      },
      "source": [
        ""
      ]
    },
    {
      "cell_type": "markdown",
      "metadata": {
        "id": "W6jl-KrUdb7E"
      },
      "source": [
        "**(3)** Write the code to generate the following plot using the `mpg` data set. _2 points_\n",
        "\n",
        "![title](https://github.com/ambujtewari/stats306-winter2021/raw/main/homeworks/HW1/Rplot4.jpeg)"
      ]
    },
    {
      "cell_type": "code",
      "execution_count": null,
      "metadata": {
        "id": "pIHGu1YTdb7E"
      },
      "outputs": [],
      "source": [
        ""
      ]
    }
  ],
  "metadata": {
    "kernelspec": {
      "display_name": "R",
      "language": "R",
      "name": "ir"
    },
    "language_info": {
      "codemirror_mode": "r",
      "file_extension": ".r",
      "mimetype": "text/x-r-source",
      "name": "R",
      "pygments_lexer": "r",
      "version": "4.0.3"
    },
    "colab": {
      "name": "hw1.ipynb",
      "provenance": []
    }
  },
  "nbformat": 4,
  "nbformat_minor": 0
}