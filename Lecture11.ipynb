{
  "cells": [
    {
      "cell_type": "markdown",
      "metadata": {
        "id": "YqIZR3UxZ7MP"
      },
      "source": [
        "In this notebook, we review material from previous lectures:\n",
        "\n",
        "* [ggplot](#ggplot)\n",
        "    * aesthetics\n",
        "    * geometries\n",
        "    * faceting\n",
        "    * statistical transformations\n",
        "    * position adjustments\n",
        "    * coordinate transformations\n",
        "* [dplyr verbs](#dplyr-verbs)\n",
        "    * filter\n",
        "    * arrange\n",
        "    * select\n",
        "    * rename\n",
        "    * mutate\n",
        "    * transmute\n",
        "    * group_by\n",
        "    * summarize\n",
        "* [pipes](#pipes)\n",
        "* [EDA](#EDA)\n",
        "    * visualizing distributions\n",
        "    * typical values\n",
        "    * unusual values\n",
        "    * missing values\n",
        "    * covariation"
      ]
    },
    {
      "cell_type": "markdown",
      "metadata": {
        "id": "_NQzmwB3Z7MT"
      },
      "source": [
        "# ggplot"
      ]
    },
    {
      "cell_type": "code",
      "execution_count": null,
      "metadata": {
        "id": "QK_w0sJKZ7MU"
      },
      "outputs": [],
      "source": [
        "#options(repr.plot.width=6, repr.plot.height=4)\n",
        "library(tidyverse)\n",
        "install.packages(\"nycflights13\")"
      ]
    },
    {
      "cell_type": "markdown",
      "metadata": {
        "id": "YZKqWlobZ7MW"
      },
      "source": [
        "What's wrong with this code to produce a scatter plot of `hwy` vs `displ` with the `color` aesthetic mapped to `drv`?"
      ]
    },
    {
      "cell_type": "code",
      "execution_count": null,
      "metadata": {
        "id": "lESuPICyZ7MW"
      },
      "outputs": [],
      "source": [
        "tryCatch({\n",
        "  ggplot(data = mpg) +\n",
        "    geom_point(mapping = aes(x = displ, y = hwy), color = drv) # attempt to create a scatter plot\n",
        "},\n",
        "error = function(err) {\n",
        " print(err)\n",
        "})\n"
      ]
    },
    {
      "cell_type": "markdown",
      "metadata": {
        "id": "my3zI_M3Z7MX"
      },
      "source": [
        "What does `se = FALSE` do in the code below?"
      ]
    },
    {
      "cell_type": "code",
      "execution_count": null,
      "metadata": {
        "scrolled": true,
        "id": "OoGhrgaxZ7MX"
      },
      "outputs": [],
      "source": [
        "ggplot(data = mpg) +\n",
        "    geom_smooth(mapping = aes(x = displ, y = hwy), se = FALSE)"
      ]
    },
    {
      "cell_type": "markdown",
      "metadata": {
        "id": "lTQtN_QkZ7MY"
      },
      "source": [
        "Write the command to produce the following plot.\n",
        "\n",
        "![plot](http://dept.stat.lsa.umich.edu/~tewaria/teaching/STATS306-Fall2017/Rplot1.png)"
      ]
    },
    {
      "cell_type": "code",
      "execution_count": null,
      "metadata": {
        "id": "mHrYG5FiZ7MY"
      },
      "outputs": [],
      "source": [
        "ggplot(data=mpg, mapping=aes(x=displ,y=hwy)) +\n",
        "    geom_point() +\n",
        "    geom_smooth()"
      ]
    },
    {
      "cell_type": "markdown",
      "metadata": {
        "id": "6I56vFk2Z7MZ"
      },
      "source": [
        "Write the command to produce the following plot.\n",
        "\n",
        "![plot](http://dept.stat.lsa.umich.edu/~tewaria/teaching/STATS306-Fall2017/Rplot2.png)"
      ]
    },
    {
      "cell_type": "code",
      "execution_count": null,
      "metadata": {
        "id": "P1Br_PCtZ7MZ"
      },
      "outputs": [],
      "source": [
        "ggplot(data=mpg, mapping=aes(x=displ,y=hwy,color=drv)) +\n",
        "    geom_point() +\n",
        "    geom_smooth()"
      ]
    },
    {
      "cell_type": "markdown",
      "metadata": {
        "id": "4frUqa2BZ7MZ"
      },
      "source": [
        "Match the geometries below with their statistical transformations.\n",
        "\n",
        "| Geometry       | Stat     |\n",
        "|----------------|----------|\n",
        "| geom_point     | bin      |\n",
        "| geom_histogram | count    |\n",
        "| geom_bar       | identity |"
      ]
    },
    {
      "cell_type": "markdown",
      "metadata": {
        "id": "3gr0a5mTZ7Ma"
      },
      "source": [
        "Answer:\n",
        "\n",
        "| Geometry       | Stat     |\n",
        "|----------------|----------|\n",
        "| geom_point     | identity |\n",
        "| geom_histogram | identity |\n",
        "| geom_bar       | count    |"
      ]
    },
    {
      "cell_type": "markdown",
      "metadata": {
        "id": "5_4INKW2Z7Ma"
      },
      "source": [
        "Write the command to produce the following plot.\n",
        "\n",
        "![plot](http://dept.stat.lsa.umich.edu/~tewaria/teaching/STATS306-Fall2017/Rplot3.png)"
      ]
    },
    {
      "cell_type": "code",
      "execution_count": null,
      "metadata": {
        "id": "hM2Fx7AqZ7Ma"
      },
      "outputs": [],
      "source": [
        "ggplot(data=mpg) +\n",
        "    geom_bar(mapping=aes(x=class,fill=drv))"
      ]
    },
    {
      "cell_type": "markdown",
      "metadata": {
        "id": "FkJMKKfTZ7Ma"
      },
      "source": [
        "Write the command to produce the following plot.\n",
        "\n",
        "![plot](http://dept.stat.lsa.umich.edu/~tewaria/teaching/STATS306-Fall2017/Rplot4.png)"
      ]
    },
    {
      "cell_type": "code",
      "execution_count": null,
      "metadata": {
        "id": "nYWgz69lZ7Ma"
      },
      "outputs": [],
      "source": [
        "ggplot(data=mpg) +\n",
        "    geom_bar(mapping=aes(x=class,fill=drv)) +\n",
        "    coord_flip()"
      ]
    },
    {
      "cell_type": "markdown",
      "metadata": {
        "id": "EwgWXj_eZ7Mb"
      },
      "source": [
        "# dplyr verbs"
      ]
    },
    {
      "cell_type": "markdown",
      "metadata": {
        "id": "uGPIQ-ZGZ7Mb"
      },
      "source": [
        "What's wrong in the code fragments below?"
      ]
    },
    {
      "cell_type": "code",
      "execution_count": null,
      "metadata": {
        "id": "p43lMXavZ7Mb"
      },
      "outputs": [],
      "source": [
        "tryCatch({\n",
        "  filter(mpg, drv == f) # find vehicles with front wheel drive\n",
        "},\n",
        "error = function(err) {\n",
        " print(err)\n",
        "})"
      ]
    },
    {
      "cell_type": "code",
      "execution_count": null,
      "metadata": {
        "id": "vUCa6PnpZ7Mb"
      },
      "outputs": [],
      "source": [
        "# f should be in quotes since drv is of chr type\n",
        "filter(mpg, drv == \"f\")"
      ]
    },
    {
      "cell_type": "code",
      "execution_count": null,
      "metadata": {
        "id": "CC3RAIfOZ7Mc"
      },
      "outputs": [],
      "source": [
        "tryCatch({\n",
        "  filter(mpg, 'drv' != '4') # find vehicles that do not have 4 wheel drives\n",
        "},\n",
        "error = function(err) {\n",
        " print(err)\n",
        "})"
      ]
    },
    {
      "cell_type": "code",
      "execution_count": null,
      "metadata": {
        "id": "JL1YkQZNZ7Mc"
      },
      "outputs": [],
      "source": [
        "# variable name shouldn't be in quotes\n",
        "filter(mpg, drv != '4')"
      ]
    },
    {
      "cell_type": "code",
      "execution_count": null,
      "metadata": {
        "id": "yhwn7cIGZ7Mc"
      },
      "outputs": [],
      "source": [
        "tryCatch({\n",
        "  filter(mpg, manufacturer == toyota & class == suv) # find all suvs made by toyota\n",
        "},\n",
        "error = function(err) {\n",
        " print(err)\n",
        "})\n"
      ]
    },
    {
      "cell_type": "code",
      "execution_count": null,
      "metadata": {
        "id": "y5HTP3Z6Z7Mc"
      },
      "outputs": [],
      "source": [
        "# toyota and suv should be in quotes\n",
        "filter(mpg, manufacturer == \"toyota\" & class == \"suv\")"
      ]
    },
    {
      "cell_type": "code",
      "execution_count": null,
      "metadata": {
        "id": "wc8Dmgj9Z7Mc"
      },
      "outputs": [],
      "source": [
        "tryCatch({\n",
        "  n(filter(mpg, cyl == 4)) # find the number of vehicle with 4 cylinders\n",
        "},\n",
        "error = function(err) {\n",
        " print(err)\n",
        "})"
      ]
    },
    {
      "cell_type": "code",
      "execution_count": null,
      "metadata": {
        "id": "xFWpNLfwZ7Md"
      },
      "outputs": [],
      "source": [
        "# nrow() computes no. of rows in a tibble (and ncol computes no. of columns), n() can only be used inside of other funcs like summarize()\n",
        "nrow(filter(mpg, cyl == 4))"
      ]
    },
    {
      "cell_type": "markdown",
      "metadata": {
        "id": "ly-LFdyWZ7Md"
      },
      "source": [
        "# pipes"
      ]
    },
    {
      "cell_type": "markdown",
      "metadata": {
        "id": "xCXFHh9aZ7Md"
      },
      "source": [
        "What's wrong in the code fragments below?"
      ]
    },
    {
      "cell_type": "code",
      "execution_count": null,
      "metadata": {
        "id": "3UsoSnqvZ7Md"
      },
      "outputs": [],
      "source": [
        "tryCatch({\n",
        "  select(mpg, hwy) %>% # show only the highway mileage of suvs sorted in descending order of the mileage\n",
        "    filter(class == 'suv') %>%\n",
        "    arrange(hwy)\n",
        "},\n",
        "error = function(err) {\n",
        " print(err)\n",
        "})"
      ]
    },
    {
      "cell_type": "code",
      "execution_count": null,
      "metadata": {
        "id": "TWfCzAKCZ7Md"
      },
      "outputs": [],
      "source": [
        "filter(mpg, class == 'suv') %>%\n",
        "    select(hwy) %>%\n",
        "    arrange(hwy)"
      ]
    },
    {
      "cell_type": "code",
      "execution_count": null,
      "metadata": {
        "id": "RRZ13S3iZ7Md"
      },
      "outputs": [],
      "source": [
        "# depth variable in diamonds is supposed to be the ratio (as a percentage) between z and mean of x,y\n",
        "# add a new column new_depth where we compute it ourselves\n",
        "# assign it to a variable called new_diamonds\n",
        "mutate(diamonds, new_depth <- 100*2*z/(x+y)) %>%\n",
        "    new_diamonds"
      ]
    },
    {
      "cell_type": "code",
      "execution_count": null,
      "metadata": {
        "id": "_miwfhJwZ7Me"
      },
      "outputs": [],
      "source": [
        "new_diamonds <- mutate(diamonds, new_depth = 100*2*z/(x+y))"
      ]
    },
    {
      "cell_type": "code",
      "execution_count": null,
      "metadata": {
        "id": "k5lXtRG5Z7Me"
      },
      "outputs": [],
      "source": [
        "# check if depth and new_depth are close to each other within machine precision\n",
        "filter(new_diamonds, depth == new_depth)"
      ]
    },
    {
      "cell_type": "code",
      "execution_count": null,
      "metadata": {
        "id": "A5LfLjWqZ7Me"
      },
      "outputs": [],
      "source": [
        "filter(new_diamonds, near(depth, new_depth))"
      ]
    },
    {
      "cell_type": "code",
      "execution_count": null,
      "metadata": {
        "id": "OXjCyPe4Z7Me"
      },
      "outputs": [],
      "source": [
        "# Note that distance is in miles and air_time is in minutes\n",
        "#\n",
        "# add a speed variable in m.p.h. obtained by dividing distance and air_time, then\n",
        "# select only speed and distance, then\n",
        "# plot a scatter of speed (y axis) vs distance (x axis)\n",
        "library(nycflights13)\n",
        "mutate(flights, speed = 60*distance/air_time) %>%\n",
        "    select(flights, distance, air_time) %>%\n",
        "    ggplot(mapping = aes(x = distance, y = air_time)) +\n",
        "        geom_point()"
      ]
    },
    {
      "cell_type": "code",
      "execution_count": null,
      "metadata": {
        "id": "C1CuGsx7Z7Me"
      },
      "outputs": [],
      "source": [
        "mutate(flights, speed = 60*distance/air_time) %>%\n",
        "    select(speed, distance) %>%\n",
        "    ggplot(mapping = aes(x = distance, y = speed)) +\n",
        "        geom_point()"
      ]
    },
    {
      "cell_type": "code",
      "execution_count": null,
      "metadata": {
        "id": "PlltoWX6Z7Me"
      },
      "outputs": [],
      "source": [
        "# show a bar chart of average highway mileage of vehicle produced by each manufacturer\n",
        "# manufacturer names are long so make sure to flip the coordinate axes in the bar chart\n",
        "mpg %>%\n",
        "    group(manufacturer) %>%\n",
        "    summarize(average_hwy = mean(hwy)) %>%\n",
        "    ggplot() %>%\n",
        "        geom_bar(mapping = aes(x = manufacturer, y = hwy)) +\n",
        "        coord_flip()"
      ]
    },
    {
      "cell_type": "code",
      "execution_count": null,
      "metadata": {
        "id": "sYwwxjE_Z7Mf"
      },
      "outputs": [],
      "source": [
        "mpg %>%\n",
        "    group_by(manufacturer) %>%\n",
        "    summarize(average_hwy = mean(hwy)) %>%\n",
        "    ggplot() +\n",
        "        geom_bar(mapping = aes(x = manufacturer, y = average_hwy), stat = \"identity\") +\n",
        "        coord_flip()"
      ]
    },
    {
      "cell_type": "markdown",
      "metadata": {
        "id": "De4ZWO9CZ7Mf"
      },
      "source": [
        "# EDA"
      ]
    },
    {
      "cell_type": "markdown",
      "metadata": {
        "collapsed": true,
        "id": "LRhsYu16Z7Mf"
      },
      "source": [
        "Write the command to produce the following plot.\n",
        "\n",
        "Note that the `speed` (in m.p.h.) variable has been computed using `distance` (in miles) and `air_time` (in minutes) variables. `binwidth` was 10 m.p.h.\n",
        "\n",
        "![plot](http://dept.stat.lsa.umich.edu/~tewaria/teaching/STATS306-Fall2017/Rplot5.png)"
      ]
    },
    {
      "cell_type": "code",
      "execution_count": null,
      "metadata": {
        "id": "12szL7fQZ7Mf"
      },
      "outputs": [],
      "source": [
        "mutate(flights, speed = 60*distance/air_time) %>%\n",
        "    ggplot() +\n",
        "        geom_histogram(aes(x=speed), binwidth=10)"
      ]
    },
    {
      "cell_type": "markdown",
      "metadata": {
        "id": "DZ_s4qT_Z7Mf"
      },
      "source": [
        "Write the command to produce the following plot using the `mpg` data set.\n",
        "\n",
        "![plot](http://dept.stat.lsa.umich.edu/~tewaria/teaching/STATS306-Fall2017/Rplot6.png)"
      ]
    },
    {
      "cell_type": "code",
      "execution_count": null,
      "metadata": {
        "id": "YrqoCo4FZ7Mf"
      },
      "outputs": [],
      "source": [
        "ggplot(mpg) +\n",
        "    geom_bar(aes(x=manufacturer,fill=class)) +\n",
        "    coord_flip()"
      ]
    },
    {
      "cell_type": "markdown",
      "metadata": {
        "id": "YCstnmRFZ7Mf"
      },
      "source": [
        "Write the command to produce the following plot using the `mpg` data set.\n",
        "\n",
        "![plot](http://dept.stat.lsa.umich.edu/~tewaria/teaching/STATS306-Fall2017/Rplot7.png)"
      ]
    },
    {
      "cell_type": "code",
      "execution_count": null,
      "metadata": {
        "id": "EJc4f8ZuZ7Mg"
      },
      "outputs": [],
      "source": [
        "ggplot(mpg) +\n",
        "    geom_boxplot(aes(x=manufacturer,y=hwy)) +\n",
        "    coord_flip()"
      ]
    },
    {
      "cell_type": "markdown",
      "metadata": {
        "id": "upprtKnNZ7Mg"
      },
      "source": [
        "Write the command to produce the following plot.\n",
        "\n",
        "Note that the `speed` (in m.p.h.) variable has been computed using `distance` (in miles) and `air_time` (in minutes) \n",
        "\n",
        "![plot](http://dept.stat.lsa.umich.edu/~tewaria/teaching/STATS306-Fall2017/Rplot8.png)"
      ]
    },
    {
      "cell_type": "code",
      "execution_count": null,
      "metadata": {
        "id": "2h_WPcEHZ7Mg"
      },
      "outputs": [],
      "source": [
        "mutate(flights, speed = 60*distance/air_time) %>%\n",
        "    select(speed, distance) %>%\n",
        "    ggplot(mapping = aes(x = distance, y = speed)) +\n",
        "        geom_hex()"
      ]
    }
  ],
  "metadata": {
    "kernelspec": {
      "display_name": "R",
      "language": "R",
      "name": "ir"
    },
    "language_info": {
      "codemirror_mode": "r",
      "file_extension": ".r",
      "mimetype": "text/x-r-source",
      "name": "R",
      "pygments_lexer": "r",
      "version": "3.6.2"
    },
    "colab": {
      "name": "Lecture11.ipynb",
      "provenance": []
    }
  },
  "nbformat": 4,
  "nbformat_minor": 0
}