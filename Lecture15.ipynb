{
  "cells": [
    {
      "cell_type": "markdown",
      "metadata": {
        "id": "jSePITPw1k0k"
      },
      "source": [
        "In this notebook, we will cover topics related to regular expressions:\n",
        "\n",
        "* [Basic matches](#Basic-matches)\n",
        "* [Anchors](#Anchors)\n",
        "* [Character classes](#Character-classes)\n",
        "* [Alternatives](#Alternatives)"
      ]
    },
    {
      "cell_type": "markdown",
      "metadata": {
        "id": "lXtMRe6W1k0m"
      },
      "source": [
        "# Basic matches"
      ]
    },
    {
      "cell_type": "code",
      "execution_count": 1,
      "metadata": {
        "id": "sLzw1jCn1k0n",
        "outputId": "dccfd391-e532-4761-86e6-ea31be78c940",
        "colab": {
          "base_uri": "https://localhost:8080/"
        }
      },
      "outputs": [
        {
          "output_type": "stream",
          "name": "stderr",
          "text": [
            "Warning message in system(\"timedatectl\", intern = TRUE):\n",
            "“running command 'timedatectl' had status 1”\n",
            "── \u001b[1mAttaching packages\u001b[22m ─────────────────────────────────────── tidyverse 1.3.1 ──\n",
            "\n",
            "\u001b[32m✔\u001b[39m \u001b[34mggplot2\u001b[39m 3.3.5     \u001b[32m✔\u001b[39m \u001b[34mpurrr  \u001b[39m 0.3.4\n",
            "\u001b[32m✔\u001b[39m \u001b[34mtibble \u001b[39m 3.1.6     \u001b[32m✔\u001b[39m \u001b[34mdplyr  \u001b[39m 1.0.8\n",
            "\u001b[32m✔\u001b[39m \u001b[34mtidyr  \u001b[39m 1.2.0     \u001b[32m✔\u001b[39m \u001b[34mstringr\u001b[39m 1.4.0\n",
            "\u001b[32m✔\u001b[39m \u001b[34mreadr  \u001b[39m 2.1.2     \u001b[32m✔\u001b[39m \u001b[34mforcats\u001b[39m 0.5.1\n",
            "\n",
            "── \u001b[1mConflicts\u001b[22m ────────────────────────────────────────── tidyverse_conflicts() ──\n",
            "\u001b[31m✖\u001b[39m \u001b[34mdplyr\u001b[39m::\u001b[32mfilter()\u001b[39m masks \u001b[34mstats\u001b[39m::filter()\n",
            "\u001b[31m✖\u001b[39m \u001b[34mdplyr\u001b[39m::\u001b[32mlag()\u001b[39m    masks \u001b[34mstats\u001b[39m::lag()\n",
            "\n"
          ]
        }
      ],
      "source": [
        "library(tidyverse)\n",
        "library(stringr)"
      ]
    },
    {
      "cell_type": "markdown",
      "metadata": {
        "id": "RgH1CK661k0o"
      },
      "source": [
        "We looked at the `str_c` function last time that is used to concatenate strings (and vectors of strings). The opposite of concatenating is splitting, a job done by the `str_split` function."
      ]
    },
    {
      "cell_type": "code",
      "execution_count": 2,
      "metadata": {
        "id": "Dh33ZqEM1k0p",
        "outputId": "de697599-a2ca-4c98-eeb5-7a08c682a74b",
        "colab": {
          "base_uri": "https://localhost:8080/",
          "height": 79
        }
      },
      "outputs": [
        {
          "output_type": "display_data",
          "data": {
            "text/html": [
              "<ol>\n",
              "\t<li><style>\n",
              ".list-inline {list-style: none; margin:0; padding: 0}\n",
              ".list-inline>li {display: inline-block}\n",
              ".list-inline>li:not(:last-child)::after {content: \"\\00b7\"; padding: 0 .5ex}\n",
              "</style>\n",
              "<ol class=list-inline><li>'an apple'</li><li>'a banana'</li><li>'a cherry'</li></ol>\n",
              "</li>\n",
              "\t<li><style>\n",
              ".list-inline {list-style: none; margin:0; padding: 0}\n",
              ".list-inline>li {display: inline-block}\n",
              ".list-inline>li:not(:last-child)::after {content: \"\\00b7\"; padding: 0 .5ex}\n",
              "</style>\n",
              "<ol class=list-inline><li>'a kiwifruit'</li><li>'a lemon'</li><li>'a mango'</li></ol>\n",
              "</li>\n",
              "</ol>\n"
            ],
            "text/markdown": "1. 1. 'an apple'\n2. 'a banana'\n3. 'a cherry'\n\n\n\n2. 1. 'a kiwifruit'\n2. 'a lemon'\n3. 'a mango'\n\n\n\n\n\n",
            "text/latex": "\\begin{enumerate}\n\\item \\begin{enumerate*}\n\\item 'an apple'\n\\item 'a banana'\n\\item 'a cherry'\n\\end{enumerate*}\n\n\\item \\begin{enumerate*}\n\\item 'a kiwifruit'\n\\item 'a lemon'\n\\item 'a mango'\n\\end{enumerate*}\n\n\\end{enumerate}\n",
            "text/plain": [
              "[[1]]\n",
              "[1] \"an apple\" \"a banana\" \"a cherry\"\n",
              "\n",
              "[[2]]\n",
              "[1] \"a kiwifruit\" \"a lemon\"     \"a mango\"    \n"
            ]
          },
          "metadata": {}
        }
      ],
      "source": [
        "fruits <- c(\"an apple, a banana, a cherry\", \"a kiwifruit, a lemon, a mango\")\n",
        "(after_split <- str_split(fruits, \", \"))"
      ]
    },
    {
      "cell_type": "code",
      "execution_count": 3,
      "metadata": {
        "id": "8uXg7RA21k0p",
        "outputId": "96bd434a-f340-4ee8-9290-cdb986fa1d7c",
        "colab": {
          "base_uri": "https://localhost:8080/",
          "height": 51
        }
      },
      "outputs": [
        {
          "output_type": "display_data",
          "data": {
            "text/html": [
              "<style>\n",
              ".list-inline {list-style: none; margin:0; padding: 0}\n",
              ".list-inline>li {display: inline-block}\n",
              ".list-inline>li:not(:last-child)::after {content: \"\\00b7\"; padding: 0 .5ex}\n",
              "</style>\n",
              "<ol class=list-inline><li>'an apple'</li><li>'a banana'</li><li>'a cherry'</li></ol>\n"
            ],
            "text/markdown": "1. 'an apple'\n2. 'a banana'\n3. 'a cherry'\n\n\n",
            "text/latex": "\\begin{enumerate*}\n\\item 'an apple'\n\\item 'a banana'\n\\item 'a cherry'\n\\end{enumerate*}\n",
            "text/plain": [
              "[1] \"an apple\" \"a banana\" \"a cherry\""
            ]
          },
          "metadata": {}
        },
        {
          "output_type": "display_data",
          "data": {
            "text/html": [
              "'an apple, a banana, a cherry'"
            ],
            "text/markdown": "'an apple, a banana, a cherry'",
            "text/latex": "'an apple, a banana, a cherry'",
            "text/plain": [
              "[1] \"an apple, a banana, a cherry\""
            ]
          },
          "metadata": {}
        }
      ],
      "source": [
        "# str_split returns a list of vectors, one vector for each string you're splitting\n",
        "# here we're just splitting one string so we get a list with one element that we extract using [[1]]\n",
        "(after_split <- str_split(\"an apple, a banana, a cherry\", \", \")[[1]])\n",
        "# str_c will undo the split\n",
        "str_c(after_split, collapse=\", \")"
      ]
    },
    {
      "cell_type": "code",
      "execution_count": 4,
      "metadata": {
        "id": "sCnVBySP1k0p",
        "outputId": "baa83f4b-2931-4dc3-8006-3b24c2d2c416",
        "colab": {
          "base_uri": "https://localhost:8080/",
          "height": 62
        }
      },
      "outputs": [
        {
          "output_type": "display_data",
          "data": {
            "text/html": [
              "<ol>\n",
              "\t<li><style>\n",
              ".list-inline {list-style: none; margin:0; padding: 0}\n",
              ".list-inline>li {display: inline-block}\n",
              ".list-inline>li:not(:last-child)::after {content: \"\\00b7\"; padding: 0 .5ex}\n",
              "</style>\n",
              "<ol class=list-inline><li>'this'</li><li>'is'</li><li>'a'</li><li>'unix'</li><li>'style'</li><li>'file'</li><li>'path'</li></ol>\n",
              "</li>\n",
              "</ol>\n"
            ],
            "text/markdown": "1. 1. 'this'\n2. 'is'\n3. 'a'\n4. 'unix'\n5. 'style'\n6. 'file'\n7. 'path'\n\n\n\n\n\n",
            "text/latex": "\\begin{enumerate}\n\\item \\begin{enumerate*}\n\\item 'this'\n\\item 'is'\n\\item 'a'\n\\item 'unix'\n\\item 'style'\n\\item 'file'\n\\item 'path'\n\\end{enumerate*}\n\n\\end{enumerate}\n",
            "text/plain": [
              "[[1]]\n",
              "[1] \"this\"  \"is\"    \"a\"     \"unix\"  \"style\" \"file\"  \"path\" \n"
            ]
          },
          "metadata": {}
        }
      ],
      "source": [
        "str_split('this/is/a/unix/style/file/path','/')"
      ]
    },
    {
      "cell_type": "code",
      "execution_count": 5,
      "metadata": {
        "id": "CzF59eU21k0q",
        "outputId": "739885d2-75d7-440f-c53e-67597a772473",
        "colab": {
          "base_uri": "https://localhost:8080/"
        }
      },
      "outputs": [
        {
          "output_type": "stream",
          "name": "stdout",
          "text": [
            "this\\is\\a\\windows\\style\\file\\path\n"
          ]
        }
      ],
      "source": [
        "path <- 'this\\\\is\\\\a\\\\windows\\\\style\\\\file\\\\path'\n",
        "writeLines(path)"
      ]
    },
    {
      "cell_type": "code",
      "execution_count": 6,
      "metadata": {
        "id": "MYitpQzt1k0q",
        "outputId": "f68e0601-5340-415f-85ac-aecded301f2a",
        "colab": {
          "base_uri": "https://localhost:8080/",
          "height": 168
        }
      },
      "outputs": [
        {
          "output_type": "error",
          "ename": "ERROR",
          "evalue": "ignored",
          "traceback": [
            "Error in stri_split_regex(string, pattern, n = n, simplify = simplify, : Unrecognized backslash escape sequence in pattern. (U_REGEX_BAD_ESCAPE_SEQUENCE, context=`\\`)\nTraceback:\n",
            "1. str_split(path, \"\\\\\")",
            "2. stri_split_regex(string, pattern, n = n, simplify = simplify, \n .     opts_regex = opts(pattern))"
          ]
        }
      ],
      "source": [
        "str_split(path, '\\\\')"
      ]
    },
    {
      "cell_type": "markdown",
      "metadata": {
        "id": "fuUP9Jxv1k0r"
      },
      "source": [
        "Why does the command not work? If you look up the documentation of `str_split()`, you will find that that the pattern given for splitting is interpreted as a **regular expression**. A regular expression is a way to describe a systematic pattern in strings. The simplest pattern is simple a given, fixed string."
      ]
    },
    {
      "cell_type": "code",
      "execution_count": 7,
      "metadata": {
        "id": "kKGlyf3Z1k0r",
        "outputId": "c7b396d0-6b04-40e2-df91-2a63d9c56bbc",
        "colab": {
          "base_uri": "https://localhost:8080/",
          "height": 34
        }
      },
      "outputs": [
        {
          "output_type": "display_data",
          "data": {
            "text/html": [
              "<style>\n",
              ".list-inline {list-style: none; margin:0; padding: 0}\n",
              ".list-inline>li {display: inline-block}\n",
              ".list-inline>li:not(:last-child)::after {content: \"\\00b7\"; padding: 0 .5ex}\n",
              "</style>\n",
              "<ol class=list-inline><li>TRUE</li><li>TRUE</li><li>FALSE</li></ol>\n"
            ],
            "text/markdown": "1. TRUE\n2. TRUE\n3. FALSE\n\n\n",
            "text/latex": "\\begin{enumerate*}\n\\item TRUE\n\\item TRUE\n\\item FALSE\n\\end{enumerate*}\n",
            "text/plain": [
              "[1]  TRUE  TRUE FALSE"
            ]
          },
          "metadata": {}
        }
      ],
      "source": [
        "x <- c(\"statistics\", \"data science\", \"machine learning\")\n",
        "str_detect(x, \"at\") # search for the pattern 'at'"
      ]
    },
    {
      "cell_type": "code",
      "source": [
        "str_extract(x, \"at\") "
      ],
      "metadata": {
        "id": "bIxU9Fi_2iYg",
        "outputId": "0773479e-b2ef-43c9-dce8-6b024140f36a",
        "colab": {
          "base_uri": "https://localhost:8080/",
          "height": 34
        }
      },
      "execution_count": 8,
      "outputs": [
        {
          "output_type": "display_data",
          "data": {
            "text/html": [
              "<style>\n",
              ".list-inline {list-style: none; margin:0; padding: 0}\n",
              ".list-inline>li {display: inline-block}\n",
              ".list-inline>li:not(:last-child)::after {content: \"\\00b7\"; padding: 0 .5ex}\n",
              "</style>\n",
              "<ol class=list-inline><li>'at'</li><li>'at'</li><li>NA</li></ol>\n"
            ],
            "text/markdown": "1. 'at'\n2. 'at'\n3. NA\n\n\n",
            "text/latex": "\\begin{enumerate*}\n\\item 'at'\n\\item 'at'\n\\item NA\n\\end{enumerate*}\n",
            "text/plain": [
              "[1] \"at\" \"at\" NA  "
            ]
          },
          "metadata": {}
        }
      ]
    },
    {
      "cell_type": "code",
      "execution_count": 9,
      "metadata": {
        "id": "rNmpBKwi1k0r",
        "outputId": "08a05285-9beb-4cba-effa-11a58e08f82d",
        "colab": {
          "base_uri": "https://localhost:8080/",
          "height": 34
        }
      },
      "outputs": [
        {
          "output_type": "display_data",
          "data": {
            "text/html": [
              "<style>\n",
              ".list-inline {list-style: none; margin:0; padding: 0}\n",
              ".list-inline>li {display: inline-block}\n",
              ".list-inline>li:not(:last-child)::after {content: \"\\00b7\"; padding: 0 .5ex}\n",
              "</style>\n",
              "<ol class=list-inline><li>TRUE</li><li>TRUE</li><li>TRUE</li></ol>\n"
            ],
            "text/markdown": "1. TRUE\n2. TRUE\n3. TRUE\n\n\n",
            "text/latex": "\\begin{enumerate*}\n\\item TRUE\n\\item TRUE\n\\item TRUE\n\\end{enumerate*}\n",
            "text/plain": [
              "[1] TRUE TRUE TRUE"
            ]
          },
          "metadata": {}
        }
      ],
      "source": [
        "str_detect(x, \".i.\") # . matches any single character except newline"
      ]
    },
    {
      "cell_type": "code",
      "source": [
        "str_extract(x, \".i.\")"
      ],
      "metadata": {
        "id": "RuN1ys_k2nhX",
        "outputId": "8485a180-d9b5-4c44-bded-ac824296782e",
        "colab": {
          "base_uri": "https://localhost:8080/",
          "height": 34
        }
      },
      "execution_count": 10,
      "outputs": [
        {
          "output_type": "display_data",
          "data": {
            "text/html": [
              "<style>\n",
              ".list-inline {list-style: none; margin:0; padding: 0}\n",
              ".list-inline>li {display: inline-block}\n",
              ".list-inline>li:not(:last-child)::after {content: \"\\00b7\"; padding: 0 .5ex}\n",
              "</style>\n",
              "<ol class=list-inline><li>'tis'</li><li>'cie'</li><li>'hin'</li></ol>\n"
            ],
            "text/markdown": "1. 'tis'\n2. 'cie'\n3. 'hin'\n\n\n",
            "text/latex": "\\begin{enumerate*}\n\\item 'tis'\n\\item 'cie'\n\\item 'hin'\n\\end{enumerate*}\n",
            "text/plain": [
              "[1] \"tis\" \"cie\" \"hin\""
            ]
          },
          "metadata": {}
        }
      ]
    },
    {
      "cell_type": "code",
      "execution_count": 11,
      "metadata": {
        "id": "DY6QSk2f1k0r",
        "outputId": "86ba74e1-c896-4dcc-89b5-1ca8d1c3a195",
        "colab": {
          "base_uri": "https://localhost:8080/",
          "height": 97
        }
      },
      "outputs": [
        {
          "output_type": "display_data",
          "data": {
            "text/html": [
              "<ol>\n",
              "\t<li><style>\n",
              ".list-inline {list-style: none; margin:0; padding: 0}\n",
              ".list-inline>li {display: inline-block}\n",
              ".list-inline>li:not(:last-child)::after {content: \"\\00b7\"; padding: 0 .5ex}\n",
              "</style>\n",
              "<ol class=list-inline><li>'tis'</li><li>'tic'</li></ol>\n",
              "</li>\n",
              "\t<li>'cie'</li>\n",
              "\t<li><style>\n",
              ".list-inline {list-style: none; margin:0; padding: 0}\n",
              ".list-inline>li {display: inline-block}\n",
              ".list-inline>li:not(:last-child)::after {content: \"\\00b7\"; padding: 0 .5ex}\n",
              "</style>\n",
              "<ol class=list-inline><li>'hin'</li><li>'nin'</li></ol>\n",
              "</li>\n",
              "</ol>\n"
            ],
            "text/markdown": "1. 1. 'tis'\n2. 'tic'\n\n\n\n2. 'cie'\n3. 1. 'hin'\n2. 'nin'\n\n\n\n\n\n",
            "text/latex": "\\begin{enumerate}\n\\item \\begin{enumerate*}\n\\item 'tis'\n\\item 'tic'\n\\end{enumerate*}\n\n\\item 'cie'\n\\item \\begin{enumerate*}\n\\item 'hin'\n\\item 'nin'\n\\end{enumerate*}\n\n\\end{enumerate}\n",
            "text/plain": [
              "[[1]]\n",
              "[1] \"tis\" \"tic\"\n",
              "\n",
              "[[2]]\n",
              "[1] \"cie\"\n",
              "\n",
              "[[3]]\n",
              "[1] \"hin\" \"nin\"\n"
            ]
          },
          "metadata": {}
        }
      ],
      "source": [
        "str_extract_all(x, \".i.\") # extracts all matches, not just the first one"
      ]
    },
    {
      "cell_type": "code",
      "execution_count": 12,
      "metadata": {
        "id": "-XdGIbq-1k0s"
      },
      "outputs": [],
      "source": [
        "mystring = \"A . string . with . periods ...\""
      ]
    },
    {
      "cell_type": "code",
      "execution_count": 13,
      "metadata": {
        "id": "e4Q_sHRe1k0s",
        "outputId": "2d8f85ab-2de9-4079-f87d-5242f3ffcf6d",
        "colab": {
          "base_uri": "https://localhost:8080/",
          "height": 34
        }
      },
      "outputs": [
        {
          "output_type": "display_data",
          "data": {
            "text/html": [
              "TRUE"
            ],
            "text/markdown": "TRUE",
            "text/latex": "TRUE",
            "text/plain": [
              "[1] TRUE"
            ]
          },
          "metadata": {}
        }
      ],
      "source": [
        "str_detect(mystring, \".\") # doesn't match the period since . has a special meaning in regexps"
      ]
    },
    {
      "cell_type": "code",
      "execution_count": 14,
      "metadata": {
        "id": "Vcv3czt-1k0s",
        "outputId": "709327dc-5cd7-4b1d-879a-c394a290f8d3",
        "colab": {
          "base_uri": "https://localhost:8080/",
          "height": 97
        }
      },
      "outputs": [
        {
          "output_type": "error",
          "ename": "ERROR",
          "evalue": "ignored",
          "traceback": [
            "Error: '\\.' is an unrecognized escape in character string starting \"\"\\.\"\nTraceback:\n"
          ]
        }
      ],
      "source": [
        "str_detect(mystring, \"\\.\") # why does this not work?"
      ]
    },
    {
      "cell_type": "code",
      "execution_count": 15,
      "metadata": {
        "id": "6VyeellN1k0t",
        "outputId": "0e666089-10e8-4800-fe96-b888b79ab0c1",
        "colab": {
          "base_uri": "https://localhost:8080/",
          "height": 34
        }
      },
      "outputs": [
        {
          "output_type": "display_data",
          "data": {
            "text/html": [
              "TRUE"
            ],
            "text/markdown": "TRUE",
            "text/latex": "TRUE",
            "text/plain": [
              "[1] TRUE"
            ]
          },
          "metadata": {}
        }
      ],
      "source": [
        "str_detect(mystring, \"\\\\.\") # why do we need double backslashes?"
      ]
    },
    {
      "cell_type": "code",
      "execution_count": 16,
      "metadata": {
        "id": "roGSvZlx1k0t",
        "outputId": "da6d6ab2-6327-463d-bd51-9fbcaa5fd8b7",
        "colab": {
          "base_uri": "https://localhost:8080/",
          "height": 62
        }
      },
      "outputs": [
        {
          "output_type": "display_data",
          "data": {
            "text/html": [
              "<ol>\n",
              "\t<li><style>\n",
              ".list-inline {list-style: none; margin:0; padding: 0}\n",
              ".list-inline>li {display: inline-block}\n",
              ".list-inline>li:not(:last-child)::after {content: \"\\00b7\"; padding: 0 .5ex}\n",
              "</style>\n",
              "<ol class=list-inline><li>'.'</li><li>'.'</li><li>'.'</li><li>'.'</li><li>'.'</li><li>'.'</li></ol>\n",
              "</li>\n",
              "</ol>\n"
            ],
            "text/markdown": "1. 1. '.'\n2. '.'\n3. '.'\n4. '.'\n5. '.'\n6. '.'\n\n\n\n\n\n",
            "text/latex": "\\begin{enumerate}\n\\item \\begin{enumerate*}\n\\item '.'\n\\item '.'\n\\item '.'\n\\item '.'\n\\item '.'\n\\item '.'\n\\end{enumerate*}\n\n\\end{enumerate}\n",
            "text/plain": [
              "[[1]]\n",
              "[1] \".\" \".\" \".\" \".\" \".\" \".\"\n"
            ]
          },
          "metadata": {}
        }
      ],
      "source": [
        "str_extract_all(mystring, \"\\\\.\")"
      ]
    },
    {
      "cell_type": "code",
      "execution_count": 17,
      "metadata": {
        "id": "-WS43Pj-1k0t",
        "outputId": "68bc60fc-a598-47e2-f5b9-d1685ab99d3e",
        "colab": {
          "base_uri": "https://localhost:8080/"
        }
      },
      "outputs": [
        {
          "output_type": "stream",
          "name": "stdout",
          "text": [
            "A \\ string \\ with \\ backslashes \\ \\ \\\n"
          ]
        }
      ],
      "source": [
        "mystring2 <- \"A \\\\ string \\\\ with \\\\ backslashes \\\\ \\\\ \\\\\"\n",
        "writeLines(mystring2)"
      ]
    },
    {
      "cell_type": "code",
      "execution_count": 18,
      "metadata": {
        "id": "d_RwCFmQ1k0t",
        "outputId": "06d63f71-e352-404c-b566-e079f820abb7",
        "colab": {
          "base_uri": "https://localhost:8080/",
          "height": 168
        }
      },
      "outputs": [
        {
          "output_type": "error",
          "ename": "ERROR",
          "evalue": "ignored",
          "traceback": [
            "Error in stri_extract_all_regex(string, pattern, simplify = simplify, : Unrecognized backslash escape sequence in pattern. (U_REGEX_BAD_ESCAPE_SEQUENCE, context=`\\`)\nTraceback:\n",
            "1. str_extract_all(mystring2, \"\\\\\")",
            "2. stri_extract_all_regex(string, pattern, simplify = simplify, \n .     omit_no_match = TRUE, opts_regex = opts(pattern))"
          ]
        }
      ],
      "source": [
        "str_extract_all(mystring2, \"\\\\\") # doesn't work"
      ]
    },
    {
      "cell_type": "code",
      "execution_count": 19,
      "metadata": {
        "id": "3-5y4DjB1k0t",
        "outputId": "b0ed2abb-d9b4-4112-9020-68902a5f92ca",
        "colab": {
          "base_uri": "https://localhost:8080/",
          "height": 62
        }
      },
      "outputs": [
        {
          "output_type": "display_data",
          "data": {
            "text/html": [
              "<ol>\n",
              "\t<li><style>\n",
              ".list-inline {list-style: none; margin:0; padding: 0}\n",
              ".list-inline>li {display: inline-block}\n",
              ".list-inline>li:not(:last-child)::after {content: \"\\00b7\"; padding: 0 .5ex}\n",
              "</style>\n",
              "<ol class=list-inline><li>'\\\\'</li><li>'\\\\'</li><li>'\\\\'</li><li>'\\\\'</li><li>'\\\\'</li><li>'\\\\'</li></ol>\n",
              "</li>\n",
              "</ol>\n"
            ],
            "text/markdown": "1. 1. '\\\\'\n2. '\\\\'\n3. '\\\\'\n4. '\\\\'\n5. '\\\\'\n6. '\\\\'\n\n\n\n\n\n",
            "text/latex": "\\begin{enumerate}\n\\item \\begin{enumerate*}\n\\item '\\textbackslash{}\\textbackslash{}'\n\\item '\\textbackslash{}\\textbackslash{}'\n\\item '\\textbackslash{}\\textbackslash{}'\n\\item '\\textbackslash{}\\textbackslash{}'\n\\item '\\textbackslash{}\\textbackslash{}'\n\\item '\\textbackslash{}\\textbackslash{}'\n\\end{enumerate*}\n\n\\end{enumerate}\n",
            "text/plain": [
              "[[1]]\n",
              "[1] \"\\\\\" \"\\\\\" \"\\\\\" \"\\\\\" \"\\\\\" \"\\\\\"\n"
            ]
          },
          "metadata": {}
        }
      ],
      "source": [
        "str_extract_all(mystring2, \"\\\\\\\\\") # Gosh -- need 4 backslashes to match a single backslash!!!"
      ]
    },
    {
      "cell_type": "markdown",
      "metadata": {
        "id": "knUiMnQO1k0u"
      },
      "source": [
        "Now we know how to fix the problem with the `str_split()` code above."
      ]
    },
    {
      "cell_type": "code",
      "execution_count": 20,
      "metadata": {
        "id": "G2n9ws2G1k0u",
        "outputId": "0c6fc5cc-b5be-453e-ced2-b2e36f9c490b",
        "colab": {
          "base_uri": "https://localhost:8080/",
          "height": 80
        }
      },
      "outputs": [
        {
          "output_type": "stream",
          "name": "stdout",
          "text": [
            "this\\is\\a\\windows\\style\\file\\path\n"
          ]
        },
        {
          "output_type": "display_data",
          "data": {
            "text/html": [
              "<ol>\n",
              "\t<li><style>\n",
              ".list-inline {list-style: none; margin:0; padding: 0}\n",
              ".list-inline>li {display: inline-block}\n",
              ".list-inline>li:not(:last-child)::after {content: \"\\00b7\"; padding: 0 .5ex}\n",
              "</style>\n",
              "<ol class=list-inline><li>'this'</li><li>'is'</li><li>'a'</li><li>'windows'</li><li>'style'</li><li>'file'</li><li>'path'</li></ol>\n",
              "</li>\n",
              "</ol>\n"
            ],
            "text/markdown": "1. 1. 'this'\n2. 'is'\n3. 'a'\n4. 'windows'\n5. 'style'\n6. 'file'\n7. 'path'\n\n\n\n\n\n",
            "text/latex": "\\begin{enumerate}\n\\item \\begin{enumerate*}\n\\item 'this'\n\\item 'is'\n\\item 'a'\n\\item 'windows'\n\\item 'style'\n\\item 'file'\n\\item 'path'\n\\end{enumerate*}\n\n\\end{enumerate}\n",
            "text/plain": [
              "[[1]]\n",
              "[1] \"this\"    \"is\"      \"a\"       \"windows\" \"style\"   \"file\"    \"path\"   \n"
            ]
          },
          "metadata": {}
        }
      ],
      "source": [
        "writeLines(path)\n",
        "str_split(path, '\\\\\\\\')"
      ]
    },
    {
      "cell_type": "code",
      "execution_count": 21,
      "metadata": {
        "id": "5MOJ2mtF1k0u"
      },
      "outputs": [],
      "source": [
        "x <- c(\"a.b.c.d\", \".a.b.\", \"a.b.\", \".1.1.1\", \". . . \", \"...abc\")"
      ]
    },
    {
      "cell_type": "markdown",
      "metadata": {
        "id": "G9P2Qzkp1k0u"
      },
      "source": [
        "We want to match the pattern:\n",
        "\n",
        "`<period> <any char> <period> <any char> <period> <any char>`\n",
        "\n",
        "The regular expression for this is:\n",
        "\n",
        "`\\..\\..\\..`\n",
        "\n",
        "So the string representing the regular expression is:\n",
        "\n",
        "`\"\\\\..\\\\..\\\\..\"`"
      ]
    },
    {
      "cell_type": "code",
      "execution_count": 22,
      "metadata": {
        "id": "vQc6Hthx1k0u",
        "outputId": "d7900b42-f192-4a97-9854-68c2aa08f4d3",
        "colab": {
          "base_uri": "https://localhost:8080/",
          "height": 34
        }
      },
      "outputs": [
        {
          "output_type": "display_data",
          "data": {
            "text/html": [
              "<style>\n",
              ".list-inline {list-style: none; margin:0; padding: 0}\n",
              ".list-inline>li {display: inline-block}\n",
              ".list-inline>li:not(:last-child)::after {content: \"\\00b7\"; padding: 0 .5ex}\n",
              "</style>\n",
              "<ol class=list-inline><li>TRUE</li><li>FALSE</li><li>FALSE</li><li>TRUE</li><li>TRUE</li><li>FALSE</li></ol>\n"
            ],
            "text/markdown": "1. TRUE\n2. FALSE\n3. FALSE\n4. TRUE\n5. TRUE\n6. FALSE\n\n\n",
            "text/latex": "\\begin{enumerate*}\n\\item TRUE\n\\item FALSE\n\\item FALSE\n\\item TRUE\n\\item TRUE\n\\item FALSE\n\\end{enumerate*}\n",
            "text/plain": [
              "[1]  TRUE FALSE FALSE  TRUE  TRUE FALSE"
            ]
          },
          "metadata": {}
        }
      ],
      "source": [
        "re <- \"\\\\..\\\\..\\\\..\"\n",
        "str_detect(x, re)"
      ]
    },
    {
      "cell_type": "markdown",
      "metadata": {
        "id": "7gtXigkS1k0u"
      },
      "source": [
        "# Anchors"
      ]
    },
    {
      "cell_type": "code",
      "execution_count": 23,
      "metadata": {
        "id": "Xt5v5LII1k0u",
        "outputId": "c8358b29-9e32-4007-a8d9-369f017f5180",
        "colab": {
          "base_uri": "https://localhost:8080/",
          "height": 34
        }
      },
      "outputs": [
        {
          "output_type": "display_data",
          "data": {
            "text/html": [
              "<style>\n",
              ".list-inline {list-style: none; margin:0; padding: 0}\n",
              ".list-inline>li {display: inline-block}\n",
              ".list-inline>li:not(:last-child)::after {content: \"\\00b7\"; padding: 0 .5ex}\n",
              "</style>\n",
              "<ol class=list-inline><li>TRUE</li><li>TRUE</li><li>FALSE</li></ol>\n"
            ],
            "text/markdown": "1. TRUE\n2. TRUE\n3. FALSE\n\n\n",
            "text/latex": "\\begin{enumerate*}\n\\item TRUE\n\\item TRUE\n\\item FALSE\n\\end{enumerate*}\n",
            "text/plain": [
              "[1]  TRUE  TRUE FALSE"
            ]
          },
          "metadata": {}
        }
      ],
      "source": [
        "x <- c(\"statistics\", \"data science\", \"machine learning\")\n",
        "str_detect(x, \"s\")"
      ]
    },
    {
      "cell_type": "code",
      "execution_count": 24,
      "metadata": {
        "id": "bgJ2EMdn1k0v",
        "outputId": "f93a746c-9299-4f76-cdda-05f24549c7d3",
        "colab": {
          "base_uri": "https://localhost:8080/",
          "height": 34
        }
      },
      "outputs": [
        {
          "output_type": "display_data",
          "data": {
            "text/html": [
              "<style>\n",
              ".list-inline {list-style: none; margin:0; padding: 0}\n",
              ".list-inline>li {display: inline-block}\n",
              ".list-inline>li:not(:last-child)::after {content: \"\\00b7\"; padding: 0 .5ex}\n",
              "</style>\n",
              "<ol class=list-inline><li>TRUE</li><li>FALSE</li><li>FALSE</li></ol>\n"
            ],
            "text/markdown": "1. TRUE\n2. FALSE\n3. FALSE\n\n\n",
            "text/latex": "\\begin{enumerate*}\n\\item TRUE\n\\item FALSE\n\\item FALSE\n\\end{enumerate*}\n",
            "text/plain": [
              "[1]  TRUE FALSE FALSE"
            ]
          },
          "metadata": {}
        }
      ],
      "source": [
        "str_detect(x, \"^s\") # ^ matches the beginning of a string"
      ]
    },
    {
      "cell_type": "code",
      "execution_count": 25,
      "metadata": {
        "id": "ALYTGRnp1k0v",
        "outputId": "b68b323d-6cbd-475d-df2b-d271f4c51b81",
        "colab": {
          "base_uri": "https://localhost:8080/",
          "height": 34
        }
      },
      "outputs": [
        {
          "output_type": "display_data",
          "data": {
            "text/html": [
              "<style>\n",
              ".list-inline {list-style: none; margin:0; padding: 0}\n",
              ".list-inline>li {display: inline-block}\n",
              ".list-inline>li:not(:last-child)::after {content: \"\\00b7\"; padding: 0 .5ex}\n",
              "</style>\n",
              "<ol class=list-inline><li>TRUE</li><li>FALSE</li><li>FALSE</li></ol>\n"
            ],
            "text/markdown": "1. TRUE\n2. FALSE\n3. FALSE\n\n\n",
            "text/latex": "\\begin{enumerate*}\n\\item TRUE\n\\item FALSE\n\\item FALSE\n\\end{enumerate*}\n",
            "text/plain": [
              "[1]  TRUE FALSE FALSE"
            ]
          },
          "metadata": {}
        }
      ],
      "source": [
        "str_detect(x, \"s$\") # $ matches the ending of a string"
      ]
    },
    {
      "cell_type": "code",
      "execution_count": 26,
      "metadata": {
        "id": "Y8NvFvsF1k0v",
        "outputId": "420e2920-42b1-42a1-dbe2-a9ec138978e3",
        "colab": {
          "base_uri": "https://localhost:8080/",
          "height": 34
        }
      },
      "outputs": [
        {
          "output_type": "display_data",
          "data": {
            "text/html": [
              "<style>\n",
              ".list-inline {list-style: none; margin:0; padding: 0}\n",
              ".list-inline>li {display: inline-block}\n",
              ".list-inline>li:not(:last-child)::after {content: \"\\00b7\"; padding: 0 .5ex}\n",
              "</style>\n",
              "<ol class=list-inline><li>TRUE</li><li>TRUE</li><li>TRUE</li></ol>\n"
            ],
            "text/markdown": "1. TRUE\n2. TRUE\n3. TRUE\n\n\n",
            "text/latex": "\\begin{enumerate*}\n\\item TRUE\n\\item TRUE\n\\item TRUE\n\\end{enumerate*}\n",
            "text/plain": [
              "[1] TRUE TRUE TRUE"
            ]
          },
          "metadata": {}
        }
      ],
      "source": [
        "y <- c(\"earn $$$\", \"cost is $10\", \"nothing to do with money!\")\n",
        "str_detect(y, \"$\") # not the write way to match a literal $ sign"
      ]
    },
    {
      "cell_type": "code",
      "execution_count": 27,
      "metadata": {
        "id": "DomsK84J1k0v",
        "outputId": "8dffbdd9-60da-4b0a-f311-9b77aec1d64d",
        "colab": {
          "base_uri": "https://localhost:8080/",
          "height": 34
        }
      },
      "outputs": [
        {
          "output_type": "display_data",
          "data": {
            "text/html": [
              "<style>\n",
              ".list-inline {list-style: none; margin:0; padding: 0}\n",
              ".list-inline>li {display: inline-block}\n",
              ".list-inline>li:not(:last-child)::after {content: \"\\00b7\"; padding: 0 .5ex}\n",
              "</style>\n",
              "<ol class=list-inline><li>TRUE</li><li>TRUE</li><li>FALSE</li></ol>\n"
            ],
            "text/markdown": "1. TRUE\n2. TRUE\n3. FALSE\n\n\n",
            "text/latex": "\\begin{enumerate*}\n\\item TRUE\n\\item TRUE\n\\item FALSE\n\\end{enumerate*}\n",
            "text/plain": [
              "[1]  TRUE  TRUE FALSE"
            ]
          },
          "metadata": {}
        }
      ],
      "source": [
        "str_detect(y, \"\\\\$\")"
      ]
    },
    {
      "cell_type": "code",
      "execution_count": 28,
      "metadata": {
        "id": "R0hyj8R21k0v",
        "outputId": "4d747904-8f55-4ddf-8506-e7ee2fa8f081",
        "colab": {
          "base_uri": "https://localhost:8080/",
          "height": 97
        }
      },
      "outputs": [
        {
          "output_type": "display_data",
          "data": {
            "text/html": [
              "<ol>\n",
              "\t<li><style>\n",
              ".list-inline {list-style: none; margin:0; padding: 0}\n",
              ".list-inline>li {display: inline-block}\n",
              ".list-inline>li:not(:last-child)::after {content: \"\\00b7\"; padding: 0 .5ex}\n",
              "</style>\n",
              "<ol class=list-inline><li>'$'</li><li>'$'</li><li>'$'</li></ol>\n",
              "</li>\n",
              "\t<li>'$'</li>\n",
              "\t<li></li>\n",
              "</ol>\n"
            ],
            "text/markdown": "1. 1. '$'\n2. '$'\n3. '$'\n\n\n\n2. '$'\n3. \n\n\n",
            "text/latex": "\\begin{enumerate}\n\\item \\begin{enumerate*}\n\\item '\\$'\n\\item '\\$'\n\\item '\\$'\n\\end{enumerate*}\n\n\\item '\\$'\n\\item \n\\end{enumerate}\n",
            "text/plain": [
              "[[1]]\n",
              "[1] \"$\" \"$\" \"$\"\n",
              "\n",
              "[[2]]\n",
              "[1] \"$\"\n",
              "\n",
              "[[3]]\n",
              "character(0)\n"
            ]
          },
          "metadata": {}
        }
      ],
      "source": [
        "str_extract_all(y, \"\\\\$\")"
      ]
    },
    {
      "cell_type": "markdown",
      "metadata": {
        "id": "gPspDtL51k0v"
      },
      "source": [
        "# Character classes"
      ]
    },
    {
      "cell_type": "markdown",
      "metadata": {
        "id": "z2Mbkk5P1k0v"
      },
      "source": [
        "These special patterns match characters in a class:\n",
        "\n",
        "* `\\d`: matches any digit.\n",
        "* `\\s`: matches any whitespace (e.g. space, tab, newline).\n",
        "* `[abc]`: matches a, b, or c.\n",
        "* `[^abc]`: matches anything *except* a, b, or c."
      ]
    },
    {
      "cell_type": "code",
      "execution_count": 29,
      "metadata": {
        "id": "pIq0TY401k0w",
        "outputId": "f25582da-7e91-433c-f3d3-bdd7fe0333a4",
        "colab": {
          "base_uri": "https://localhost:8080/",
          "height": 34
        }
      },
      "outputs": [
        {
          "output_type": "display_data",
          "data": {
            "text/html": [
              "<style>\n",
              ".list-inline {list-style: none; margin:0; padding: 0}\n",
              ".list-inline>li {display: inline-block}\n",
              ".list-inline>li:not(:last-child)::after {content: \"\\00b7\"; padding: 0 .5ex}\n",
              "</style>\n",
              "<ol class=list-inline><li>TRUE</li><li>FALSE</li><li>TRUE</li><li>FALSE</li><li>TRUE</li></ol>\n"
            ],
            "text/markdown": "1. TRUE\n2. FALSE\n3. TRUE\n4. FALSE\n5. TRUE\n\n\n",
            "text/latex": "\\begin{enumerate*}\n\\item TRUE\n\\item FALSE\n\\item TRUE\n\\item FALSE\n\\item TRUE\n\\end{enumerate*}\n",
            "text/plain": [
              "[1]  TRUE FALSE  TRUE FALSE  TRUE"
            ]
          },
          "metadata": {}
        }
      ],
      "source": [
        "x <- c(\"1\", \"one\", \"23\", \"twothree\", \"r2d2\")\n",
        "str_detect(x, \"\\\\d\") # why double backslash?"
      ]
    },
    {
      "cell_type": "code",
      "execution_count": 30,
      "metadata": {
        "id": "zozExsCX1k0w",
        "outputId": "05880d63-0d2f-429c-accb-079c203b6a5a",
        "colab": {
          "base_uri": "https://localhost:8080/",
          "height": 132
        }
      },
      "outputs": [
        {
          "output_type": "display_data",
          "data": {
            "text/html": [
              "<ol>\n",
              "\t<li><style>\n",
              ".list-inline {list-style: none; margin:0; padding: 0}\n",
              ".list-inline>li {display: inline-block}\n",
              ".list-inline>li:not(:last-child)::after {content: \"\\00b7\"; padding: 0 .5ex}\n",
              "</style>\n",
              "<ol class=list-inline><li>'o'</li><li>'e'</li></ol>\n",
              "</li>\n",
              "\t<li>'o'</li>\n",
              "\t<li><style>\n",
              ".list-inline {list-style: none; margin:0; padding: 0}\n",
              ".list-inline>li {display: inline-block}\n",
              ".list-inline>li:not(:last-child)::after {content: \"\\00b7\"; padding: 0 .5ex}\n",
              "</style>\n",
              "<ol class=list-inline><li>'e'</li><li>'e'</li></ol>\n",
              "</li>\n",
              "\t<li><style>\n",
              ".list-inline {list-style: none; margin:0; padding: 0}\n",
              ".list-inline>li {display: inline-block}\n",
              ".list-inline>li:not(:last-child)::after {content: \"\\00b7\"; padding: 0 .5ex}\n",
              "</style>\n",
              "<ol class=list-inline><li>'o'</li><li>'u'</li></ol>\n",
              "</li>\n",
              "\t<li><style>\n",
              ".list-inline {list-style: none; margin:0; padding: 0}\n",
              ".list-inline>li {display: inline-block}\n",
              ".list-inline>li:not(:last-child)::after {content: \"\\00b7\"; padding: 0 .5ex}\n",
              "</style>\n",
              "<ol class=list-inline><li>'i'</li><li>'e'</li></ol>\n",
              "</li>\n",
              "</ol>\n"
            ],
            "text/markdown": "1. 1. 'o'\n2. 'e'\n\n\n\n2. 'o'\n3. 1. 'e'\n2. 'e'\n\n\n\n4. 1. 'o'\n2. 'u'\n\n\n\n5. 1. 'i'\n2. 'e'\n\n\n\n\n\n",
            "text/latex": "\\begin{enumerate}\n\\item \\begin{enumerate*}\n\\item 'o'\n\\item 'e'\n\\end{enumerate*}\n\n\\item 'o'\n\\item \\begin{enumerate*}\n\\item 'e'\n\\item 'e'\n\\end{enumerate*}\n\n\\item \\begin{enumerate*}\n\\item 'o'\n\\item 'u'\n\\end{enumerate*}\n\n\\item \\begin{enumerate*}\n\\item 'i'\n\\item 'e'\n\\end{enumerate*}\n\n\\end{enumerate}\n",
            "text/plain": [
              "[[1]]\n",
              "[1] \"o\" \"e\"\n",
              "\n",
              "[[2]]\n",
              "[1] \"o\"\n",
              "\n",
              "[[3]]\n",
              "[1] \"e\" \"e\"\n",
              "\n",
              "[[4]]\n",
              "[1] \"o\" \"u\"\n",
              "\n",
              "[[5]]\n",
              "[1] \"i\" \"e\"\n"
            ]
          },
          "metadata": {}
        }
      ],
      "source": [
        "x <- c(\"one\", \"two\", \"three\", \"four\", \"five\")\n",
        "vowel_re <- \"[aeiou]\"\n",
        "str_extract_all(x, vowel_re)"
      ]
    },
    {
      "cell_type": "markdown",
      "metadata": {
        "id": "X1XOrMKj1k0w"
      },
      "source": [
        "# Alternatives"
      ]
    },
    {
      "cell_type": "markdown",
      "metadata": {
        "id": "5pM_hu-Z1k0w"
      },
      "source": [
        "Alternative patterns can be matched using `|`."
      ]
    },
    {
      "cell_type": "code",
      "execution_count": 31,
      "metadata": {
        "id": "IoZ9TNST1k0w",
        "outputId": "c289f887-4c2c-4186-bb2a-5cd8b49fdbc2",
        "colab": {
          "base_uri": "https://localhost:8080/",
          "height": 34
        }
      },
      "outputs": [
        {
          "output_type": "display_data",
          "data": {
            "text/html": [
              "<style>\n",
              ".list-inline {list-style: none; margin:0; padding: 0}\n",
              ".list-inline>li {display: inline-block}\n",
              ".list-inline>li:not(:last-child)::after {content: \"\\00b7\"; padding: 0 .5ex}\n",
              "</style>\n",
              "<ol class=list-inline><li>TRUE</li><li>TRUE</li><li>TRUE</li><li>FALSE</li><li>TRUE</li></ol>\n"
            ],
            "text/markdown": "1. TRUE\n2. TRUE\n3. TRUE\n4. FALSE\n5. TRUE\n\n\n",
            "text/latex": "\\begin{enumerate*}\n\\item TRUE\n\\item TRUE\n\\item TRUE\n\\item FALSE\n\\item TRUE\n\\end{enumerate*}\n",
            "text/plain": [
              "[1]  TRUE  TRUE  TRUE FALSE  TRUE"
            ]
          },
          "metadata": {}
        }
      ],
      "source": [
        "color_re = \"colo(r|ur)\"\n",
        "x <- c(\"color\", \"red colour\", \"coloured glass\", \"chair\", \"colored chair\")\n",
        "str_detect(x, color_re)"
      ]
    },
    {
      "cell_type": "markdown",
      "metadata": {
        "collapsed": true,
        "id": "xRNbktf41k0w"
      },
      "source": [
        "Suppose we want to match telephone numbers of the form:\n",
        "\n",
        "* xxx-xxx-xxxx\n",
        "* (xxx) xxx-xxxx"
      ]
    },
    {
      "cell_type": "code",
      "execution_count": 32,
      "metadata": {
        "id": "X0JJk9rf1k0w"
      },
      "outputs": [],
      "source": [
        "phone_re = \"(\\\\d\\\\d\\\\d-|\\\\(\\\\d\\\\d\\\\d\\\\) )\\\\d\\\\d\\\\d-\\\\d\\\\d\\\\d\\\\d\" # complicated because of all the double backslashes"
      ]
    },
    {
      "cell_type": "code",
      "execution_count": 33,
      "metadata": {
        "id": "oAyBYvhQ1k0w",
        "outputId": "2557a307-a3e3-409d-ce0c-4ae75a399439",
        "colab": {
          "base_uri": "https://localhost:8080/",
          "height": 34
        }
      },
      "outputs": [
        {
          "output_type": "display_data",
          "data": {
            "text/html": [
              "<style>\n",
              ".list-inline {list-style: none; margin:0; padding: 0}\n",
              ".list-inline>li {display: inline-block}\n",
              ".list-inline>li:not(:last-child)::after {content: \"\\00b7\"; padding: 0 .5ex}\n",
              "</style>\n",
              "<ol class=list-inline><li>TRUE</li><li>TRUE</li><li>FALSE</li><li>TRUE</li></ol>\n"
            ],
            "text/markdown": "1. TRUE\n2. TRUE\n3. FALSE\n4. TRUE\n\n\n",
            "text/latex": "\\begin{enumerate*}\n\\item TRUE\n\\item TRUE\n\\item FALSE\n\\item TRUE\n\\end{enumerate*}\n",
            "text/plain": [
              "[1]  TRUE  TRUE FALSE  TRUE"
            ]
          },
          "metadata": {}
        }
      ],
      "source": [
        "n <- c(\"123-456-7890\", \"(123) 456-7890\", \"1234567890\", \"+1-123-456-7890\")\n",
        "str_detect(n, phone_re)"
      ]
    }
  ],
  "metadata": {
    "kernelspec": {
      "display_name": "R",
      "language": "R",
      "name": "ir"
    },
    "language_info": {
      "codemirror_mode": "r",
      "file_extension": ".r",
      "mimetype": "text/x-r-source",
      "name": "R",
      "pygments_lexer": "r",
      "version": "3.6.2"
    },
    "colab": {
      "name": "Lecture15.ipynb",
      "provenance": []
    }
  },
  "nbformat": 4,
  "nbformat_minor": 0
}