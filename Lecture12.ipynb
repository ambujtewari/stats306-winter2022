{
  "cells": [
    {
      "cell_type": "markdown",
      "metadata": {
        "id": "2BR7KkkAvCzK"
      },
      "source": [
        "In this notebook, we cover:\n",
        "\n",
        "* [Tidy data](#Tidy-data)\n",
        "* [Pivot longer](#Pivot-longer)\n",
        "* [Pivot wider](#Pivot-wider)"
      ]
    },
    {
      "cell_type": "markdown",
      "metadata": {
        "id": "RsaP1vAovCzN"
      },
      "source": [
        "# Tidy data"
      ]
    },
    {
      "cell_type": "code",
      "execution_count": 1,
      "metadata": {
        "colab": {
          "base_uri": "https://localhost:8080/"
        },
        "id": "1-H_sJNhvCzN",
        "outputId": "c51df415-3532-4544-f56b-d753ed2bb9c9"
      },
      "outputs": [
        {
          "output_type": "stream",
          "name": "stderr",
          "text": [
            "Warning message in system(\"timedatectl\", intern = TRUE):\n",
            "“running command 'timedatectl' had status 1”\n",
            "── \u001b[1mAttaching packages\u001b[22m ─────────────────────────────────────── tidyverse 1.3.1 ──\n",
            "\n",
            "\u001b[32m✔\u001b[39m \u001b[34mggplot2\u001b[39m 3.3.5     \u001b[32m✔\u001b[39m \u001b[34mpurrr  \u001b[39m 0.3.4\n",
            "\u001b[32m✔\u001b[39m \u001b[34mtibble \u001b[39m 3.1.6     \u001b[32m✔\u001b[39m \u001b[34mdplyr  \u001b[39m 1.0.8\n",
            "\u001b[32m✔\u001b[39m \u001b[34mtidyr  \u001b[39m 1.2.0     \u001b[32m✔\u001b[39m \u001b[34mstringr\u001b[39m 1.4.0\n",
            "\u001b[32m✔\u001b[39m \u001b[34mreadr  \u001b[39m 2.1.2     \u001b[32m✔\u001b[39m \u001b[34mforcats\u001b[39m 0.5.1\n",
            "\n",
            "── \u001b[1mConflicts\u001b[22m ────────────────────────────────────────── tidyverse_conflicts() ──\n",
            "\u001b[31m✖\u001b[39m \u001b[34mdplyr\u001b[39m::\u001b[32mfilter()\u001b[39m masks \u001b[34mstats\u001b[39m::filter()\n",
            "\u001b[31m✖\u001b[39m \u001b[34mdplyr\u001b[39m::\u001b[32mlag()\u001b[39m    masks \u001b[34mstats\u001b[39m::lag()\n",
            "\n"
          ]
        }
      ],
      "source": [
        "library(tidyverse)"
      ]
    },
    {
      "cell_type": "code",
      "execution_count": 2,
      "metadata": {
        "colab": {
          "base_uri": "https://localhost:8080/"
        },
        "id": "h3I0pCUivCzP",
        "outputId": "b94997e7-0fa8-45fd-8d40-6529cf8acd1a"
      },
      "outputs": [
        {
          "output_type": "stream",
          "name": "stdout",
          "text": [
            "\u001b[90m# A tibble: 6 × 4\u001b[39m\n",
            "  country      year  cases population\n",
            "  \u001b[3m\u001b[90m<chr>\u001b[39m\u001b[23m       \u001b[3m\u001b[90m<int>\u001b[39m\u001b[23m  \u001b[3m\u001b[90m<int>\u001b[39m\u001b[23m      \u001b[3m\u001b[90m<int>\u001b[39m\u001b[23m\n",
            "\u001b[90m1\u001b[39m Afghanistan  \u001b[4m1\u001b[24m999    745   19\u001b[4m9\u001b[24m\u001b[4m8\u001b[24m\u001b[4m7\u001b[24m071\n",
            "\u001b[90m2\u001b[39m Afghanistan  \u001b[4m2\u001b[24m000   \u001b[4m2\u001b[24m666   20\u001b[4m5\u001b[24m\u001b[4m9\u001b[24m\u001b[4m5\u001b[24m360\n",
            "\u001b[90m3\u001b[39m Brazil       \u001b[4m1\u001b[24m999  \u001b[4m3\u001b[24m\u001b[4m7\u001b[24m737  172\u001b[4m0\u001b[24m\u001b[4m0\u001b[24m\u001b[4m6\u001b[24m362\n",
            "\u001b[90m4\u001b[39m Brazil       \u001b[4m2\u001b[24m000  \u001b[4m8\u001b[24m\u001b[4m0\u001b[24m488  174\u001b[4m5\u001b[24m\u001b[4m0\u001b[24m\u001b[4m4\u001b[24m898\n",
            "\u001b[90m5\u001b[39m China        \u001b[4m1\u001b[24m999 \u001b[4m2\u001b[24m\u001b[4m1\u001b[24m\u001b[4m2\u001b[24m258 \u001b[4m1\u001b[24m272\u001b[4m9\u001b[24m\u001b[4m1\u001b[24m\u001b[4m5\u001b[24m272\n",
            "\u001b[90m6\u001b[39m China        \u001b[4m2\u001b[24m000 \u001b[4m2\u001b[24m\u001b[4m1\u001b[24m\u001b[4m3\u001b[24m766 \u001b[4m1\u001b[24m280\u001b[4m4\u001b[24m\u001b[4m2\u001b[24m\u001b[4m8\u001b[24m583\n"
          ]
        }
      ],
      "source": [
        "print(table1) # every column is a variable"
      ]
    },
    {
      "cell_type": "code",
      "execution_count": 3,
      "metadata": {
        "colab": {
          "base_uri": "https://localhost:8080/"
        },
        "id": "uAV-YN4gvCzP",
        "outputId": "d8feacce-d6c8-4b94-a349-c836cf288a30"
      },
      "outputs": [
        {
          "output_type": "stream",
          "name": "stdout",
          "text": [
            "\u001b[90m# A tibble: 12 × 4\u001b[39m\n",
            "   country      year type            count\n",
            "   \u001b[3m\u001b[90m<chr>\u001b[39m\u001b[23m       \u001b[3m\u001b[90m<int>\u001b[39m\u001b[23m \u001b[3m\u001b[90m<chr>\u001b[39m\u001b[23m           \u001b[3m\u001b[90m<int>\u001b[39m\u001b[23m\n",
            "\u001b[90m 1\u001b[39m Afghanistan  \u001b[4m1\u001b[24m999 cases             745\n",
            "\u001b[90m 2\u001b[39m Afghanistan  \u001b[4m1\u001b[24m999 population   19\u001b[4m9\u001b[24m\u001b[4m8\u001b[24m\u001b[4m7\u001b[24m071\n",
            "\u001b[90m 3\u001b[39m Afghanistan  \u001b[4m2\u001b[24m000 cases            \u001b[4m2\u001b[24m666\n",
            "\u001b[90m 4\u001b[39m Afghanistan  \u001b[4m2\u001b[24m000 population   20\u001b[4m5\u001b[24m\u001b[4m9\u001b[24m\u001b[4m5\u001b[24m360\n",
            "\u001b[90m 5\u001b[39m Brazil       \u001b[4m1\u001b[24m999 cases           \u001b[4m3\u001b[24m\u001b[4m7\u001b[24m737\n",
            "\u001b[90m 6\u001b[39m Brazil       \u001b[4m1\u001b[24m999 population  172\u001b[4m0\u001b[24m\u001b[4m0\u001b[24m\u001b[4m6\u001b[24m362\n",
            "\u001b[90m 7\u001b[39m Brazil       \u001b[4m2\u001b[24m000 cases           \u001b[4m8\u001b[24m\u001b[4m0\u001b[24m488\n",
            "\u001b[90m 8\u001b[39m Brazil       \u001b[4m2\u001b[24m000 population  174\u001b[4m5\u001b[24m\u001b[4m0\u001b[24m\u001b[4m4\u001b[24m898\n",
            "\u001b[90m 9\u001b[39m China        \u001b[4m1\u001b[24m999 cases          \u001b[4m2\u001b[24m\u001b[4m1\u001b[24m\u001b[4m2\u001b[24m258\n",
            "\u001b[90m10\u001b[39m China        \u001b[4m1\u001b[24m999 population \u001b[4m1\u001b[24m272\u001b[4m9\u001b[24m\u001b[4m1\u001b[24m\u001b[4m5\u001b[24m272\n",
            "\u001b[90m11\u001b[39m China        \u001b[4m2\u001b[24m000 cases          \u001b[4m2\u001b[24m\u001b[4m1\u001b[24m\u001b[4m3\u001b[24m766\n",
            "\u001b[90m12\u001b[39m China        \u001b[4m2\u001b[24m000 population \u001b[4m1\u001b[24m280\u001b[4m4\u001b[24m\u001b[4m2\u001b[24m\u001b[4m8\u001b[24m583\n"
          ]
        }
      ],
      "source": [
        "print(table2) # variables are entries in the type column"
      ]
    },
    {
      "cell_type": "code",
      "execution_count": 4,
      "metadata": {
        "colab": {
          "base_uri": "https://localhost:8080/"
        },
        "id": "UzIxBcRhvCzQ",
        "outputId": "7d75a4b2-614d-4f84-90db-20f2bdae900b"
      },
      "outputs": [
        {
          "output_type": "stream",
          "name": "stdout",
          "text": [
            "\u001b[90m# A tibble: 6 × 3\u001b[39m\n",
            "  country      year rate             \n",
            "\u001b[90m*\u001b[39m \u001b[3m\u001b[90m<chr>\u001b[39m\u001b[23m       \u001b[3m\u001b[90m<int>\u001b[39m\u001b[23m \u001b[3m\u001b[90m<chr>\u001b[39m\u001b[23m            \n",
            "\u001b[90m1\u001b[39m Afghanistan  \u001b[4m1\u001b[24m999 745/19987071     \n",
            "\u001b[90m2\u001b[39m Afghanistan  \u001b[4m2\u001b[24m000 2666/20595360    \n",
            "\u001b[90m3\u001b[39m Brazil       \u001b[4m1\u001b[24m999 37737/172006362  \n",
            "\u001b[90m4\u001b[39m Brazil       \u001b[4m2\u001b[24m000 80488/174504898  \n",
            "\u001b[90m5\u001b[39m China        \u001b[4m1\u001b[24m999 212258/1272915272\n",
            "\u001b[90m6\u001b[39m China        \u001b[4m2\u001b[24m000 213766/1280428583\n"
          ]
        }
      ],
      "source": [
        "print(table3) # the cases and population variables are mixed up in the rate column"
      ]
    },
    {
      "cell_type": "code",
      "execution_count": 5,
      "metadata": {
        "colab": {
          "base_uri": "https://localhost:8080/"
        },
        "id": "UcL52JwnvCzQ",
        "outputId": "e13b91a4-cc95-47bc-906c-126d35785a75"
      },
      "outputs": [
        {
          "output_type": "stream",
          "name": "stdout",
          "text": [
            "\u001b[90m# A tibble: 3 × 3\u001b[39m\n",
            "  country     `1999` `2000`\n",
            "\u001b[90m*\u001b[39m \u001b[3m\u001b[90m<chr>\u001b[39m\u001b[23m        \u001b[3m\u001b[90m<int>\u001b[39m\u001b[23m  \u001b[3m\u001b[90m<int>\u001b[39m\u001b[23m\n",
            "\u001b[90m1\u001b[39m Afghanistan    745   \u001b[4m2\u001b[24m666\n",
            "\u001b[90m2\u001b[39m Brazil       \u001b[4m3\u001b[24m\u001b[4m7\u001b[24m737  \u001b[4m8\u001b[24m\u001b[4m0\u001b[24m488\n",
            "\u001b[90m3\u001b[39m China       \u001b[4m2\u001b[24m\u001b[4m1\u001b[24m\u001b[4m2\u001b[24m258 \u001b[4m2\u001b[24m\u001b[4m1\u001b[24m\u001b[4m3\u001b[24m766\n",
            "\n",
            "\n",
            "\n",
            "\u001b[90m# A tibble: 3 × 3\u001b[39m\n",
            "  country         `1999`     `2000`\n",
            "\u001b[90m*\u001b[39m \u001b[3m\u001b[90m<chr>\u001b[39m\u001b[23m            \u001b[3m\u001b[90m<int>\u001b[39m\u001b[23m      \u001b[3m\u001b[90m<int>\u001b[39m\u001b[23m\n",
            "\u001b[90m1\u001b[39m Afghanistan   19\u001b[4m9\u001b[24m\u001b[4m8\u001b[24m\u001b[4m7\u001b[24m071   20\u001b[4m5\u001b[24m\u001b[4m9\u001b[24m\u001b[4m5\u001b[24m360\n",
            "\u001b[90m2\u001b[39m Brazil       172\u001b[4m0\u001b[24m\u001b[4m0\u001b[24m\u001b[4m6\u001b[24m362  174\u001b[4m5\u001b[24m\u001b[4m0\u001b[24m\u001b[4m4\u001b[24m898\n",
            "\u001b[90m3\u001b[39m China       \u001b[4m1\u001b[24m272\u001b[4m9\u001b[24m\u001b[4m1\u001b[24m\u001b[4m5\u001b[24m272 \u001b[4m1\u001b[24m280\u001b[4m4\u001b[24m\u001b[4m2\u001b[24m\u001b[4m8\u001b[24m583\n"
          ]
        }
      ],
      "source": [
        "print(table4a) # cases in one tibble\n",
        "writeLines(\"\\n\\n\")\n",
        "print(table4b) # population in another one"
      ]
    },
    {
      "cell_type": "markdown",
      "metadata": {
        "id": "uhWLrFG_vCzR"
      },
      "source": [
        "Tidy data means:\n",
        "\n",
        "* each observation has its own row\n",
        "* each variable has its own column\n",
        "* each value has its own cell\n",
        "\n",
        "Benefits of tidy data include the ability to use `dplyr` functions like `mutate`, `count` and create visualizations using `ggplot`."
      ]
    },
    {
      "cell_type": "code",
      "execution_count": 6,
      "metadata": {
        "colab": {
          "base_uri": "https://localhost:8080/",
          "height": 286
        },
        "id": "bnzzZFP-vCzR",
        "outputId": "fe03c8d2-5dbf-40ef-d91b-c948c26c3e92"
      },
      "outputs": [
        {
          "output_type": "display_data",
          "data": {
            "text/plain": [
              "  country     year cases  population rate    \n",
              "1 Afghanistan 1999    745   19987071 0.372741\n",
              "2 Afghanistan 2000   2666   20595360 1.294466\n",
              "3 Brazil      1999  37737  172006362 2.193930\n",
              "4 Brazil      2000  80488  174504898 4.612363\n",
              "5 China       1999 212258 1272915272 1.667495\n",
              "6 China       2000 213766 1280428583 1.669488"
            ],
            "text/latex": "A tibble: 6 × 5\n\\begin{tabular}{lllll}\n country & year & cases & population & rate\\\\\n <chr> & <int> & <int> & <int> & <dbl>\\\\\n\\hline\n\t Afghanistan & 1999 &    745 &   19987071 & 0.372741\\\\\n\t Afghanistan & 2000 &   2666 &   20595360 & 1.294466\\\\\n\t Brazil      & 1999 &  37737 &  172006362 & 2.193930\\\\\n\t Brazil      & 2000 &  80488 &  174504898 & 4.612363\\\\\n\t China       & 1999 & 212258 & 1272915272 & 1.667495\\\\\n\t China       & 2000 & 213766 & 1280428583 & 1.669488\\\\\n\\end{tabular}\n",
            "text/markdown": "\nA tibble: 6 × 5\n\n| country &lt;chr&gt; | year &lt;int&gt; | cases &lt;int&gt; | population &lt;int&gt; | rate &lt;dbl&gt; |\n|---|---|---|---|---|\n| Afghanistan | 1999 |    745 |   19987071 | 0.372741 |\n| Afghanistan | 2000 |   2666 |   20595360 | 1.294466 |\n| Brazil      | 1999 |  37737 |  172006362 | 2.193930 |\n| Brazil      | 2000 |  80488 |  174504898 | 4.612363 |\n| China       | 1999 | 212258 | 1272915272 | 1.667495 |\n| China       | 2000 | 213766 | 1280428583 | 1.669488 |\n\n",
            "text/html": [
              "<table class=\"dataframe\">\n",
              "<caption>A tibble: 6 × 5</caption>\n",
              "<thead>\n",
              "\t<tr><th scope=col>country</th><th scope=col>year</th><th scope=col>cases</th><th scope=col>population</th><th scope=col>rate</th></tr>\n",
              "\t<tr><th scope=col>&lt;chr&gt;</th><th scope=col>&lt;int&gt;</th><th scope=col>&lt;int&gt;</th><th scope=col>&lt;int&gt;</th><th scope=col>&lt;dbl&gt;</th></tr>\n",
              "</thead>\n",
              "<tbody>\n",
              "\t<tr><td>Afghanistan</td><td>1999</td><td>   745</td><td>  19987071</td><td>0.372741</td></tr>\n",
              "\t<tr><td>Afghanistan</td><td>2000</td><td>  2666</td><td>  20595360</td><td>1.294466</td></tr>\n",
              "\t<tr><td>Brazil     </td><td>1999</td><td> 37737</td><td> 172006362</td><td>2.193930</td></tr>\n",
              "\t<tr><td>Brazil     </td><td>2000</td><td> 80488</td><td> 174504898</td><td>4.612363</td></tr>\n",
              "\t<tr><td>China      </td><td>1999</td><td>212258</td><td>1272915272</td><td>1.667495</td></tr>\n",
              "\t<tr><td>China      </td><td>2000</td><td>213766</td><td>1280428583</td><td>1.669488</td></tr>\n",
              "</tbody>\n",
              "</table>\n"
            ]
          },
          "metadata": {}
        }
      ],
      "source": [
        "mutate(table1, rate = cases / population * 10000) # rate of cases per 10000 people"
      ]
    },
    {
      "cell_type": "code",
      "execution_count": 7,
      "metadata": {
        "colab": {
          "base_uri": "https://localhost:8080/",
          "height": 161
        },
        "id": "50iczydZvCzS",
        "outputId": "81d152db-7e55-4695-d6c5-e46e26237ca6"
      },
      "outputs": [
        {
          "output_type": "display_data",
          "data": {
            "text/plain": [
              "  year n     \n",
              "1 1999 250740\n",
              "2 2000 296920"
            ],
            "text/latex": "A tibble: 2 × 2\n\\begin{tabular}{ll}\n year & n\\\\\n <int> & <int>\\\\\n\\hline\n\t 1999 & 250740\\\\\n\t 2000 & 296920\\\\\n\\end{tabular}\n",
            "text/markdown": "\nA tibble: 2 × 2\n\n| year &lt;int&gt; | n &lt;int&gt; |\n|---|---|\n| 1999 | 250740 |\n| 2000 | 296920 |\n\n",
            "text/html": [
              "<table class=\"dataframe\">\n",
              "<caption>A tibble: 2 × 2</caption>\n",
              "<thead>\n",
              "\t<tr><th scope=col>year</th><th scope=col>n</th></tr>\n",
              "\t<tr><th scope=col>&lt;int&gt;</th><th scope=col>&lt;int&gt;</th></tr>\n",
              "</thead>\n",
              "<tbody>\n",
              "\t<tr><td>1999</td><td>250740</td></tr>\n",
              "\t<tr><td>2000</td><td>296920</td></tr>\n",
              "</tbody>\n",
              "</table>\n"
            ]
          },
          "metadata": {}
        }
      ],
      "source": [
        "count(table1, year, wt = cases) # compute no. of cases for each year"
      ]
    },
    {
      "cell_type": "code",
      "execution_count": 8,
      "metadata": {
        "colab": {
          "base_uri": "https://localhost:8080/",
          "height": 437
        },
        "id": "2Oe0IihUvCzS",
        "outputId": "d434b354-12bd-4652-a37f-b4451965764a"
      },
      "outputs": [
        {
          "output_type": "display_data",
          "data": {
            "image/png": "[encoded data removed]",
            "text/plain": [
              "plot without title"
            ]
          },
          "metadata": {
            "image/png": {
              "width": 420,
              "height": 420
            }
          }
        }
      ],
      "source": [
        "ggplot(table1, aes(year, cases)) +\n",
        "    geom_line(aes(group = country)) +\n",
        "    geom_point(aes(color = country)) +\n",
        "    scale_x_continuous(breaks=c(1999, 2000))"
      ]
    },
    {
      "cell_type": "markdown",
      "metadata": {
        "id": "RupBgGO1vCzS"
      },
      "source": [
        "If the data is not already tidy, then we might need to some work before we can use the tools in `dplyr`. The package `tidyr` inside `tidyverse` allows one to convert data into the tidy data."
      ]
    },
    {
      "cell_type": "markdown",
      "metadata": {
        "id": "3xr8USmsvCzT"
      },
      "source": [
        "# Pivot longer"
      ]
    },
    {
      "cell_type": "markdown",
      "metadata": {
        "id": "7F1IZvHOvCzT"
      },
      "source": [
        "One type of problem in when a variable is spread across multiple columns and we need to gather those columns to create a new pair of variables.\n",
        "\n",
        "We need to specify three things:\n",
        "\n",
        "* which existing columns correspond to values of a variable\n",
        "* what is the name of the variable (the **key**) whose values currently appear as column names\n",
        "* what is the name of the variable (the **value**) whose values are currently spread over the cells "
      ]
    },
    {
      "cell_type": "code",
      "execution_count": 9,
      "metadata": {
        "colab": {
          "base_uri": "https://localhost:8080/"
        },
        "id": "_r8Hi7xtvCzT",
        "outputId": "448f1f22-fc7d-43cc-879a-039cbb7e703b"
      },
      "outputs": [
        {
          "output_type": "stream",
          "name": "stdout",
          "text": [
            "\u001b[90m# A tibble: 3 × 3\u001b[39m\n",
            "  country     `1999` `2000`\n",
            "\u001b[90m*\u001b[39m \u001b[3m\u001b[90m<chr>\u001b[39m\u001b[23m        \u001b[3m\u001b[90m<int>\u001b[39m\u001b[23m  \u001b[3m\u001b[90m<int>\u001b[39m\u001b[23m\n",
            "\u001b[90m1\u001b[39m Afghanistan    745   \u001b[4m2\u001b[24m666\n",
            "\u001b[90m2\u001b[39m Brazil       \u001b[4m3\u001b[24m\u001b[4m7\u001b[24m737  \u001b[4m8\u001b[24m\u001b[4m0\u001b[24m488\n",
            "\u001b[90m3\u001b[39m China       \u001b[4m2\u001b[24m\u001b[4m1\u001b[24m\u001b[4m2\u001b[24m258 \u001b[4m2\u001b[24m\u001b[4m1\u001b[24m\u001b[4m3\u001b[24m766\n"
          ]
        }
      ],
      "source": [
        "print(table4a)"
      ]
    },
    {
      "cell_type": "markdown",
      "metadata": {
        "id": "i-Aztf0gvCzT"
      },
      "source": [
        "Above, the **key** is the variable **year** and the **value** is the variable **cases**."
      ]
    },
    {
      "cell_type": "code",
      "execution_count": 10,
      "metadata": {
        "colab": {
          "base_uri": "https://localhost:8080/",
          "height": 286
        },
        "id": "qDbEJcbxvCzU",
        "outputId": "10e49af9-dd03-46d1-c05c-2e484ad1beac"
      },
      "outputs": [
        {
          "output_type": "display_data",
          "data": {
            "text/plain": [
              "  country     year cases \n",
              "1 Afghanistan 1999    745\n",
              "2 Afghanistan 2000   2666\n",
              "3 Brazil      1999  37737\n",
              "4 Brazil      2000  80488\n",
              "5 China       1999 212258\n",
              "6 China       2000 213766"
            ],
            "text/latex": "A tibble: 6 × 3\n\\begin{tabular}{lll}\n country & year & cases\\\\\n <chr> & <chr> & <int>\\\\\n\\hline\n\t Afghanistan & 1999 &    745\\\\\n\t Afghanistan & 2000 &   2666\\\\\n\t Brazil      & 1999 &  37737\\\\\n\t Brazil      & 2000 &  80488\\\\\n\t China       & 1999 & 212258\\\\\n\t China       & 2000 & 213766\\\\\n\\end{tabular}\n",
            "text/markdown": "\nA tibble: 6 × 3\n\n| country &lt;chr&gt; | year &lt;chr&gt; | cases &lt;int&gt; |\n|---|---|---|\n| Afghanistan | 1999 |    745 |\n| Afghanistan | 2000 |   2666 |\n| Brazil      | 1999 |  37737 |\n| Brazil      | 2000 |  80488 |\n| China       | 1999 | 212258 |\n| China       | 2000 | 213766 |\n\n",
            "text/html": [
              "<table class=\"dataframe\">\n",
              "<caption>A tibble: 6 × 3</caption>\n",
              "<thead>\n",
              "\t<tr><th scope=col>country</th><th scope=col>year</th><th scope=col>cases</th></tr>\n",
              "\t<tr><th scope=col>&lt;chr&gt;</th><th scope=col>&lt;chr&gt;</th><th scope=col>&lt;int&gt;</th></tr>\n",
              "</thead>\n",
              "<tbody>\n",
              "\t<tr><td>Afghanistan</td><td>1999</td><td>   745</td></tr>\n",
              "\t<tr><td>Afghanistan</td><td>2000</td><td>  2666</td></tr>\n",
              "\t<tr><td>Brazil     </td><td>1999</td><td> 37737</td></tr>\n",
              "\t<tr><td>Brazil     </td><td>2000</td><td> 80488</td></tr>\n",
              "\t<tr><td>China      </td><td>1999</td><td>212258</td></tr>\n",
              "\t<tr><td>China      </td><td>2000</td><td>213766</td></tr>\n",
              "</tbody>\n",
              "</table>\n"
            ]
          },
          "metadata": {}
        }
      ],
      "source": [
        "(tidy4a <- pivot_longer(table4a, c(`1999`, `2000`), names_to = \"year\", values_to = \"cases\"))"
      ]
    },
    {
      "cell_type": "markdown",
      "metadata": {
        "id": "-axWgmU5vCzU"
      },
      "source": [
        "A similar `pivot_longer` command will work to create the **year** and **population** variables from `table4b`. "
      ]
    },
    {
      "cell_type": "code",
      "execution_count": 11,
      "metadata": {
        "colab": {
          "base_uri": "https://localhost:8080/",
          "height": 286
        },
        "id": "dk_KO1oMvCzU",
        "outputId": "f03df77a-1239-4f4d-c4c2-f01291d5b66b"
      },
      "outputs": [
        {
          "output_type": "display_data",
          "data": {
            "text/plain": [
              "  country     year population\n",
              "1 Afghanistan 1999   19987071\n",
              "2 Afghanistan 2000   20595360\n",
              "3 Brazil      1999  172006362\n",
              "4 Brazil      2000  174504898\n",
              "5 China       1999 1272915272\n",
              "6 China       2000 1280428583"
            ],
            "text/latex": "A tibble: 6 × 3\n\\begin{tabular}{lll}\n country & year & population\\\\\n <chr> & <chr> & <int>\\\\\n\\hline\n\t Afghanistan & 1999 &   19987071\\\\\n\t Afghanistan & 2000 &   20595360\\\\\n\t Brazil      & 1999 &  172006362\\\\\n\t Brazil      & 2000 &  174504898\\\\\n\t China       & 1999 & 1272915272\\\\\n\t China       & 2000 & 1280428583\\\\\n\\end{tabular}\n",
            "text/markdown": "\nA tibble: 6 × 3\n\n| country &lt;chr&gt; | year &lt;chr&gt; | population &lt;int&gt; |\n|---|---|---|\n| Afghanistan | 1999 |   19987071 |\n| Afghanistan | 2000 |   20595360 |\n| Brazil      | 1999 |  172006362 |\n| Brazil      | 2000 |  174504898 |\n| China       | 1999 | 1272915272 |\n| China       | 2000 | 1280428583 |\n\n",
            "text/html": [
              "<table class=\"dataframe\">\n",
              "<caption>A tibble: 6 × 3</caption>\n",
              "<thead>\n",
              "\t<tr><th scope=col>country</th><th scope=col>year</th><th scope=col>population</th></tr>\n",
              "\t<tr><th scope=col>&lt;chr&gt;</th><th scope=col>&lt;chr&gt;</th><th scope=col>&lt;int&gt;</th></tr>\n",
              "</thead>\n",
              "<tbody>\n",
              "\t<tr><td>Afghanistan</td><td>1999</td><td>  19987071</td></tr>\n",
              "\t<tr><td>Afghanistan</td><td>2000</td><td>  20595360</td></tr>\n",
              "\t<tr><td>Brazil     </td><td>1999</td><td> 172006362</td></tr>\n",
              "\t<tr><td>Brazil     </td><td>2000</td><td> 174504898</td></tr>\n",
              "\t<tr><td>China      </td><td>1999</td><td>1272915272</td></tr>\n",
              "\t<tr><td>China      </td><td>2000</td><td>1280428583</td></tr>\n",
              "</tbody>\n",
              "</table>\n"
            ]
          },
          "metadata": {}
        }
      ],
      "source": [
        "(tidy4b <- pivot_longer(table4b, c(`1999`, `2000`), names_to = \"year\", values_to = \"population\"))"
      ]
    },
    {
      "cell_type": "code",
      "execution_count": 12,
      "metadata": {
        "colab": {
          "base_uri": "https://localhost:8080/",
          "height": 304
        },
        "id": "3axNTlhXvCzU",
        "outputId": "3cbca82a-61f7-4e92-a891-5ff7109efa17"
      },
      "outputs": [
        {
          "output_type": "stream",
          "name": "stderr",
          "text": [
            "\u001b[1m\u001b[22mJoining, by = c(\"country\", \"year\")\n"
          ]
        },
        {
          "output_type": "display_data",
          "data": {
            "text/plain": [
              "  country     year cases  population\n",
              "1 Afghanistan 1999    745   19987071\n",
              "2 Afghanistan 2000   2666   20595360\n",
              "3 Brazil      1999  37737  172006362\n",
              "4 Brazil      2000  80488  174504898\n",
              "5 China       1999 212258 1272915272\n",
              "6 China       2000 213766 1280428583"
            ],
            "text/latex": "A tibble: 6 × 4\n\\begin{tabular}{llll}\n country & year & cases & population\\\\\n <chr> & <chr> & <int> & <int>\\\\\n\\hline\n\t Afghanistan & 1999 &    745 &   19987071\\\\\n\t Afghanistan & 2000 &   2666 &   20595360\\\\\n\t Brazil      & 1999 &  37737 &  172006362\\\\\n\t Brazil      & 2000 &  80488 &  174504898\\\\\n\t China       & 1999 & 212258 & 1272915272\\\\\n\t China       & 2000 & 213766 & 1280428583\\\\\n\\end{tabular}\n",
            "text/markdown": "\nA tibble: 6 × 4\n\n| country &lt;chr&gt; | year &lt;chr&gt; | cases &lt;int&gt; | population &lt;int&gt; |\n|---|---|---|---|\n| Afghanistan | 1999 |    745 |   19987071 |\n| Afghanistan | 2000 |   2666 |   20595360 |\n| Brazil      | 1999 |  37737 |  172006362 |\n| Brazil      | 2000 |  80488 |  174504898 |\n| China       | 1999 | 212258 | 1272915272 |\n| China       | 2000 | 213766 | 1280428583 |\n\n",
            "text/html": [
              "<table class=\"dataframe\">\n",
              "<caption>A tibble: 6 × 4</caption>\n",
              "<thead>\n",
              "\t<tr><th scope=col>country</th><th scope=col>year</th><th scope=col>cases</th><th scope=col>population</th></tr>\n",
              "\t<tr><th scope=col>&lt;chr&gt;</th><th scope=col>&lt;chr&gt;</th><th scope=col>&lt;int&gt;</th><th scope=col>&lt;int&gt;</th></tr>\n",
              "</thead>\n",
              "<tbody>\n",
              "\t<tr><td>Afghanistan</td><td>1999</td><td>   745</td><td>  19987071</td></tr>\n",
              "\t<tr><td>Afghanistan</td><td>2000</td><td>  2666</td><td>  20595360</td></tr>\n",
              "\t<tr><td>Brazil     </td><td>1999</td><td> 37737</td><td> 172006362</td></tr>\n",
              "\t<tr><td>Brazil     </td><td>2000</td><td> 80488</td><td> 174504898</td></tr>\n",
              "\t<tr><td>China      </td><td>1999</td><td>212258</td><td>1272915272</td></tr>\n",
              "\t<tr><td>China      </td><td>2000</td><td>213766</td><td>1280428583</td></tr>\n",
              "</tbody>\n",
              "</table>\n"
            ]
          },
          "metadata": {}
        }
      ],
      "source": [
        "left_join(tidy4a, tidy4b) # we will learn about left_join() later"
      ]
    },
    {
      "cell_type": "markdown",
      "metadata": {
        "id": "DEwJhvjPvCzV"
      },
      "source": [
        "# Pivot wider"
      ]
    },
    {
      "cell_type": "markdown",
      "metadata": {
        "id": "suTHTohyvCzV"
      },
      "source": [
        "Another type of problem in when an observation is scattered across multiple rows.\n",
        "\n",
        "We need to specify two things:\n",
        "\n",
        "* which existing column (the **names_from**) has the variable names as values\n",
        "* which existing column (the **values_from**) has the values for those variables"
      ]
    },
    {
      "cell_type": "code",
      "execution_count": 13,
      "metadata": {
        "colab": {
          "base_uri": "https://localhost:8080/"
        },
        "id": "KPZpXPXavCzV",
        "outputId": "98f1d21d-35eb-4457-c3ce-bd14db62af5b"
      },
      "outputs": [
        {
          "output_type": "stream",
          "name": "stdout",
          "text": [
            "\u001b[90m# A tibble: 12 × 4\u001b[39m\n",
            "   country      year type            count\n",
            "   \u001b[3m\u001b[90m<chr>\u001b[39m\u001b[23m       \u001b[3m\u001b[90m<int>\u001b[39m\u001b[23m \u001b[3m\u001b[90m<chr>\u001b[39m\u001b[23m           \u001b[3m\u001b[90m<int>\u001b[39m\u001b[23m\n",
            "\u001b[90m 1\u001b[39m Afghanistan  \u001b[4m1\u001b[24m999 cases             745\n",
            "\u001b[90m 2\u001b[39m Afghanistan  \u001b[4m1\u001b[24m999 population   19\u001b[4m9\u001b[24m\u001b[4m8\u001b[24m\u001b[4m7\u001b[24m071\n",
            "\u001b[90m 3\u001b[39m Afghanistan  \u001b[4m2\u001b[24m000 cases            \u001b[4m2\u001b[24m666\n",
            "\u001b[90m 4\u001b[39m Afghanistan  \u001b[4m2\u001b[24m000 population   20\u001b[4m5\u001b[24m\u001b[4m9\u001b[24m\u001b[4m5\u001b[24m360\n",
            "\u001b[90m 5\u001b[39m Brazil       \u001b[4m1\u001b[24m999 cases           \u001b[4m3\u001b[24m\u001b[4m7\u001b[24m737\n",
            "\u001b[90m 6\u001b[39m Brazil       \u001b[4m1\u001b[24m999 population  172\u001b[4m0\u001b[24m\u001b[4m0\u001b[24m\u001b[4m6\u001b[24m362\n",
            "\u001b[90m 7\u001b[39m Brazil       \u001b[4m2\u001b[24m000 cases           \u001b[4m8\u001b[24m\u001b[4m0\u001b[24m488\n",
            "\u001b[90m 8\u001b[39m Brazil       \u001b[4m2\u001b[24m000 population  174\u001b[4m5\u001b[24m\u001b[4m0\u001b[24m\u001b[4m4\u001b[24m898\n",
            "\u001b[90m 9\u001b[39m China        \u001b[4m1\u001b[24m999 cases          \u001b[4m2\u001b[24m\u001b[4m1\u001b[24m\u001b[4m2\u001b[24m258\n",
            "\u001b[90m10\u001b[39m China        \u001b[4m1\u001b[24m999 population \u001b[4m1\u001b[24m272\u001b[4m9\u001b[24m\u001b[4m1\u001b[24m\u001b[4m5\u001b[24m272\n",
            "\u001b[90m11\u001b[39m China        \u001b[4m2\u001b[24m000 cases          \u001b[4m2\u001b[24m\u001b[4m1\u001b[24m\u001b[4m3\u001b[24m766\n",
            "\u001b[90m12\u001b[39m China        \u001b[4m2\u001b[24m000 population \u001b[4m1\u001b[24m280\u001b[4m4\u001b[24m\u001b[4m2\u001b[24m\u001b[4m8\u001b[24m583\n"
          ]
        }
      ],
      "source": [
        "print(table2)"
      ]
    },
    {
      "cell_type": "code",
      "execution_count": 14,
      "metadata": {
        "colab": {
          "base_uri": "https://localhost:8080/",
          "height": 286
        },
        "id": "iW3nvd5JvCzV",
        "outputId": "62680a80-a8b8-4339-8a5d-e1142cb7e118"
      },
      "outputs": [
        {
          "output_type": "display_data",
          "data": {
            "text/plain": [
              "  country     year cases  population\n",
              "1 Afghanistan 1999    745   19987071\n",
              "2 Afghanistan 2000   2666   20595360\n",
              "3 Brazil      1999  37737  172006362\n",
              "4 Brazil      2000  80488  174504898\n",
              "5 China       1999 212258 1272915272\n",
              "6 China       2000 213766 1280428583"
            ],
            "text/latex": "A tibble: 6 × 4\n\\begin{tabular}{llll}\n country & year & cases & population\\\\\n <chr> & <int> & <int> & <int>\\\\\n\\hline\n\t Afghanistan & 1999 &    745 &   19987071\\\\\n\t Afghanistan & 2000 &   2666 &   20595360\\\\\n\t Brazil      & 1999 &  37737 &  172006362\\\\\n\t Brazil      & 2000 &  80488 &  174504898\\\\\n\t China       & 1999 & 212258 & 1272915272\\\\\n\t China       & 2000 & 213766 & 1280428583\\\\\n\\end{tabular}\n",
            "text/markdown": "\nA tibble: 6 × 4\n\n| country &lt;chr&gt; | year &lt;int&gt; | cases &lt;int&gt; | population &lt;int&gt; |\n|---|---|---|---|\n| Afghanistan | 1999 |    745 |   19987071 |\n| Afghanistan | 2000 |   2666 |   20595360 |\n| Brazil      | 1999 |  37737 |  172006362 |\n| Brazil      | 2000 |  80488 |  174504898 |\n| China       | 1999 | 212258 | 1272915272 |\n| China       | 2000 | 213766 | 1280428583 |\n\n",
            "text/html": [
              "<table class=\"dataframe\">\n",
              "<caption>A tibble: 6 × 4</caption>\n",
              "<thead>\n",
              "\t<tr><th scope=col>country</th><th scope=col>year</th><th scope=col>cases</th><th scope=col>population</th></tr>\n",
              "\t<tr><th scope=col>&lt;chr&gt;</th><th scope=col>&lt;int&gt;</th><th scope=col>&lt;int&gt;</th><th scope=col>&lt;int&gt;</th></tr>\n",
              "</thead>\n",
              "<tbody>\n",
              "\t<tr><td>Afghanistan</td><td>1999</td><td>   745</td><td>  19987071</td></tr>\n",
              "\t<tr><td>Afghanistan</td><td>2000</td><td>  2666</td><td>  20595360</td></tr>\n",
              "\t<tr><td>Brazil     </td><td>1999</td><td> 37737</td><td> 172006362</td></tr>\n",
              "\t<tr><td>Brazil     </td><td>2000</td><td> 80488</td><td> 174504898</td></tr>\n",
              "\t<tr><td>China      </td><td>1999</td><td>212258</td><td>1272915272</td></tr>\n",
              "\t<tr><td>China      </td><td>2000</td><td>213766</td><td>1280428583</td></tr>\n",
              "</tbody>\n",
              "</table>\n"
            ]
          },
          "metadata": {}
        }
      ],
      "source": [
        "pivot_wider(table2, names_from = type, values_from = count)"
      ]
    },
    {
      "cell_type": "markdown",
      "metadata": {
        "id": "4Ls0vltsvCzV"
      },
      "source": [
        "Remember that:\n",
        "\n",
        "* `pivot_longer()` tends to make wide tables narrower and longer\n",
        "* `pivot_wider()` tends to make long tables shorter and wider"
      ]
    },
    {
      "cell_type": "code",
      "execution_count": 15,
      "metadata": {
        "colab": {
          "base_uri": "https://localhost:8080/",
          "height": 223
        },
        "id": "DIlnYZ7PvCzW",
        "outputId": "50b7bd4b-2aab-4624-f187-f8f0759a0497"
      },
      "outputs": [
        {
          "output_type": "display_data",
          "data": {
            "text/plain": [
              "  year half return\n",
              "1 2015 1    1.88  \n",
              "2 2015 2    0.59  \n",
              "3 2016 1    0.92  \n",
              "4 2016 2    0.17  "
            ],
            "text/latex": "A tibble: 4 × 3\n\\begin{tabular}{lll}\n year & half & return\\\\\n <dbl> & <dbl> & <dbl>\\\\\n\\hline\n\t 2015 & 1 & 1.88\\\\\n\t 2015 & 2 & 0.59\\\\\n\t 2016 & 1 & 0.92\\\\\n\t 2016 & 2 & 0.17\\\\\n\\end{tabular}\n",
            "text/markdown": "\nA tibble: 4 × 3\n\n| year &lt;dbl&gt; | half &lt;dbl&gt; | return &lt;dbl&gt; |\n|---|---|---|\n| 2015 | 1 | 1.88 |\n| 2015 | 2 | 0.59 |\n| 2016 | 1 | 0.92 |\n| 2016 | 2 | 0.17 |\n\n",
            "text/html": [
              "<table class=\"dataframe\">\n",
              "<caption>A tibble: 4 × 3</caption>\n",
              "<thead>\n",
              "\t<tr><th scope=col>year</th><th scope=col>half</th><th scope=col>return</th></tr>\n",
              "\t<tr><th scope=col>&lt;dbl&gt;</th><th scope=col>&lt;dbl&gt;</th><th scope=col>&lt;dbl&gt;</th></tr>\n",
              "</thead>\n",
              "<tbody>\n",
              "\t<tr><td>2015</td><td>1</td><td>1.88</td></tr>\n",
              "\t<tr><td>2015</td><td>2</td><td>0.59</td></tr>\n",
              "\t<tr><td>2016</td><td>1</td><td>0.92</td></tr>\n",
              "\t<tr><td>2016</td><td>2</td><td>0.17</td></tr>\n",
              "</tbody>\n",
              "</table>\n"
            ]
          },
          "metadata": {}
        }
      ],
      "source": [
        "(stocks <- tibble(\n",
        "  year   = c(2015, 2015, 2016, 2016),\n",
        "  half   = c(   1,    2,    1,    2),\n",
        "  return = c(1.88, 0.59, 0.92, 0.17)\n",
        "))"
      ]
    },
    {
      "cell_type": "markdown",
      "metadata": {
        "id": "0SXSsg2qvCzW"
      },
      "source": [
        "Let us now use `pivot_wider` pulling names from **year** and values from **return**."
      ]
    },
    {
      "cell_type": "code",
      "execution_count": 16,
      "metadata": {
        "colab": {
          "base_uri": "https://localhost:8080/",
          "height": 161
        },
        "id": "0_hnUJebvCzW",
        "outputId": "9f46183e-d6aa-4f49-f739-b01c3c155fb7"
      },
      "outputs": [
        {
          "output_type": "display_data",
          "data": {
            "text/plain": [
              "  half 2015 2016\n",
              "1 1    1.88 0.92\n",
              "2 2    0.59 0.17"
            ],
            "text/latex": "A tibble: 2 × 3\n\\begin{tabular}{lll}\n half & 2015 & 2016\\\\\n <dbl> & <dbl> & <dbl>\\\\\n\\hline\n\t 1 & 1.88 & 0.92\\\\\n\t 2 & 0.59 & 0.17\\\\\n\\end{tabular}\n",
            "text/markdown": "\nA tibble: 2 × 3\n\n| half &lt;dbl&gt; | 2015 &lt;dbl&gt; | 2016 &lt;dbl&gt; |\n|---|---|---|\n| 1 | 1.88 | 0.92 |\n| 2 | 0.59 | 0.17 |\n\n",
            "text/html": [
              "<table class=\"dataframe\">\n",
              "<caption>A tibble: 2 × 3</caption>\n",
              "<thead>\n",
              "\t<tr><th scope=col>half</th><th scope=col>2015</th><th scope=col>2016</th></tr>\n",
              "\t<tr><th scope=col>&lt;dbl&gt;</th><th scope=col>&lt;dbl&gt;</th><th scope=col>&lt;dbl&gt;</th></tr>\n",
              "</thead>\n",
              "<tbody>\n",
              "\t<tr><td>1</td><td>1.88</td><td>0.92</td></tr>\n",
              "\t<tr><td>2</td><td>0.59</td><td>0.17</td></tr>\n",
              "</tbody>\n",
              "</table>\n"
            ]
          },
          "metadata": {}
        }
      ],
      "source": [
        "(wider_stocks <- pivot_wider(stocks, names_from = year, values_from = return))"
      ]
    },
    {
      "cell_type": "markdown",
      "metadata": {
        "id": "6B8IGVi8vCzW"
      },
      "source": [
        "Let us now use `pivot_longer` to gather the columns to get back tidy data."
      ]
    },
    {
      "cell_type": "code",
      "execution_count": 17,
      "metadata": {
        "colab": {
          "base_uri": "https://localhost:8080/",
          "height": 223
        },
        "id": "60Ef5c5HvCzW",
        "outputId": "95593f7c-424a-4efd-d23e-85dfbe70886f"
      },
      "outputs": [
        {
          "output_type": "display_data",
          "data": {
            "text/plain": [
              "  half year return\n",
              "1 1    2015 1.88  \n",
              "2 1    2016 0.92  \n",
              "3 2    2015 0.59  \n",
              "4 2    2016 0.17  "
            ],
            "text/latex": "A tibble: 4 × 3\n\\begin{tabular}{lll}\n half & year & return\\\\\n <dbl> & <chr> & <dbl>\\\\\n\\hline\n\t 1 & 2015 & 1.88\\\\\n\t 1 & 2016 & 0.92\\\\\n\t 2 & 2015 & 0.59\\\\\n\t 2 & 2016 & 0.17\\\\\n\\end{tabular}\n",
            "text/markdown": "\nA tibble: 4 × 3\n\n| half &lt;dbl&gt; | year &lt;chr&gt; | return &lt;dbl&gt; |\n|---|---|---|\n| 1 | 2015 | 1.88 |\n| 1 | 2016 | 0.92 |\n| 2 | 2015 | 0.59 |\n| 2 | 2016 | 0.17 |\n\n",
            "text/html": [
              "<table class=\"dataframe\">\n",
              "<caption>A tibble: 4 × 3</caption>\n",
              "<thead>\n",
              "\t<tr><th scope=col>half</th><th scope=col>year</th><th scope=col>return</th></tr>\n",
              "\t<tr><th scope=col>&lt;dbl&gt;</th><th scope=col>&lt;chr&gt;</th><th scope=col>&lt;dbl&gt;</th></tr>\n",
              "</thead>\n",
              "<tbody>\n",
              "\t<tr><td>1</td><td>2015</td><td>1.88</td></tr>\n",
              "\t<tr><td>1</td><td>2016</td><td>0.92</td></tr>\n",
              "\t<tr><td>2</td><td>2015</td><td>0.59</td></tr>\n",
              "\t<tr><td>2</td><td>2016</td><td>0.17</td></tr>\n",
              "</tbody>\n",
              "</table>\n"
            ]
          },
          "metadata": {}
        }
      ],
      "source": [
        "(stocks_new <- pivot_longer(wider_stocks, c(`2015`,`2016`), names_to = \"year\", values_to = \"return\"))"
      ]
    },
    {
      "cell_type": "markdown",
      "metadata": {
        "id": "Dq_3VE8UvCzW"
      },
      "source": [
        "Looks the same as **stocks**, doesn't it? The columns are ordered differently, but we can fix that."
      ]
    },
    {
      "cell_type": "code",
      "execution_count": 18,
      "metadata": {
        "colab": {
          "base_uri": "https://localhost:8080/",
          "height": 223
        },
        "id": "GzXyP2YovCzX",
        "outputId": "87b40ff9-9659-4437-b04e-dd926046f9a1"
      },
      "outputs": [
        {
          "output_type": "display_data",
          "data": {
            "text/plain": [
              "  year half return\n",
              "1 2015 1    1.88  \n",
              "2 2016 1    0.92  \n",
              "3 2015 2    0.59  \n",
              "4 2016 2    0.17  "
            ],
            "text/latex": "A tibble: 4 × 3\n\\begin{tabular}{lll}\n year & half & return\\\\\n <chr> & <dbl> & <dbl>\\\\\n\\hline\n\t 2015 & 1 & 1.88\\\\\n\t 2016 & 1 & 0.92\\\\\n\t 2015 & 2 & 0.59\\\\\n\t 2016 & 2 & 0.17\\\\\n\\end{tabular}\n",
            "text/markdown": "\nA tibble: 4 × 3\n\n| year &lt;chr&gt; | half &lt;dbl&gt; | return &lt;dbl&gt; |\n|---|---|---|\n| 2015 | 1 | 1.88 |\n| 2016 | 1 | 0.92 |\n| 2015 | 2 | 0.59 |\n| 2016 | 2 | 0.17 |\n\n",
            "text/html": [
              "<table class=\"dataframe\">\n",
              "<caption>A tibble: 4 × 3</caption>\n",
              "<thead>\n",
              "\t<tr><th scope=col>year</th><th scope=col>half</th><th scope=col>return</th></tr>\n",
              "\t<tr><th scope=col>&lt;chr&gt;</th><th scope=col>&lt;dbl&gt;</th><th scope=col>&lt;dbl&gt;</th></tr>\n",
              "</thead>\n",
              "<tbody>\n",
              "\t<tr><td>2015</td><td>1</td><td>1.88</td></tr>\n",
              "\t<tr><td>2016</td><td>1</td><td>0.92</td></tr>\n",
              "\t<tr><td>2015</td><td>2</td><td>0.59</td></tr>\n",
              "\t<tr><td>2016</td><td>2</td><td>0.17</td></tr>\n",
              "</tbody>\n",
              "</table>\n"
            ]
          },
          "metadata": {}
        }
      ],
      "source": [
        "(stocks_new <- select(stocks_new, year, half, return))"
      ]
    },
    {
      "cell_type": "markdown",
      "metadata": {
        "id": "hCvJbyIsvCzX"
      },
      "source": [
        "Here's the old **stocks** tibble for reference."
      ]
    },
    {
      "cell_type": "code",
      "execution_count": 19,
      "metadata": {
        "colab": {
          "base_uri": "https://localhost:8080/",
          "height": 223
        },
        "id": "JtGSHB7YvCzX",
        "outputId": "3b275382-2587-479b-86df-520d4870c180"
      },
      "outputs": [
        {
          "output_type": "display_data",
          "data": {
            "text/plain": [
              "  year half return\n",
              "1 2015 1    1.88  \n",
              "2 2015 2    0.59  \n",
              "3 2016 1    0.92  \n",
              "4 2016 2    0.17  "
            ],
            "text/latex": "A tibble: 4 × 3\n\\begin{tabular}{lll}\n year & half & return\\\\\n <dbl> & <dbl> & <dbl>\\\\\n\\hline\n\t 2015 & 1 & 1.88\\\\\n\t 2015 & 2 & 0.59\\\\\n\t 2016 & 1 & 0.92\\\\\n\t 2016 & 2 & 0.17\\\\\n\\end{tabular}\n",
            "text/markdown": "\nA tibble: 4 × 3\n\n| year &lt;dbl&gt; | half &lt;dbl&gt; | return &lt;dbl&gt; |\n|---|---|---|\n| 2015 | 1 | 1.88 |\n| 2015 | 2 | 0.59 |\n| 2016 | 1 | 0.92 |\n| 2016 | 2 | 0.17 |\n\n",
            "text/html": [
              "<table class=\"dataframe\">\n",
              "<caption>A tibble: 4 × 3</caption>\n",
              "<thead>\n",
              "\t<tr><th scope=col>year</th><th scope=col>half</th><th scope=col>return</th></tr>\n",
              "\t<tr><th scope=col>&lt;dbl&gt;</th><th scope=col>&lt;dbl&gt;</th><th scope=col>&lt;dbl&gt;</th></tr>\n",
              "</thead>\n",
              "<tbody>\n",
              "\t<tr><td>2015</td><td>1</td><td>1.88</td></tr>\n",
              "\t<tr><td>2015</td><td>2</td><td>0.59</td></tr>\n",
              "\t<tr><td>2016</td><td>1</td><td>0.92</td></tr>\n",
              "\t<tr><td>2016</td><td>2</td><td>0.17</td></tr>\n",
              "</tbody>\n",
              "</table>\n"
            ]
          },
          "metadata": {}
        }
      ],
      "source": [
        "stocks"
      ]
    },
    {
      "cell_type": "markdown",
      "metadata": {
        "id": "tBphy8tevCzX"
      },
      "source": [
        "They look pretty much the same but let us examine the **types** of the variables."
      ]
    },
    {
      "cell_type": "code",
      "execution_count": 20,
      "metadata": {
        "colab": {
          "base_uri": "https://localhost:8080/"
        },
        "id": "lapaBMEcvCzY",
        "outputId": "eebda168-cf67-4ad4-9cbc-657945a91f09"
      },
      "outputs": [
        {
          "output_type": "stream",
          "name": "stdout",
          "text": [
            "\u001b[90m# A tibble: 4 × 3\u001b[39m\n",
            "   year  half return\n",
            "  \u001b[3m\u001b[90m<dbl>\u001b[39m\u001b[23m \u001b[3m\u001b[90m<dbl>\u001b[39m\u001b[23m  \u001b[3m\u001b[90m<dbl>\u001b[39m\u001b[23m\n",
            "\u001b[90m1\u001b[39m  \u001b[4m2\u001b[24m015     1   1.88\n",
            "\u001b[90m2\u001b[39m  \u001b[4m2\u001b[24m015     2   0.59\n",
            "\u001b[90m3\u001b[39m  \u001b[4m2\u001b[24m016     1   0.92\n",
            "\u001b[90m4\u001b[39m  \u001b[4m2\u001b[24m016     2   0.17\n"
          ]
        }
      ],
      "source": [
        "print(stocks)"
      ]
    },
    {
      "cell_type": "code",
      "execution_count": 21,
      "metadata": {
        "colab": {
          "base_uri": "https://localhost:8080/"
        },
        "id": "Gegg8hHmvCzY",
        "outputId": "e3f03f85-8a1c-4145-c087-938464e3d4e2"
      },
      "outputs": [
        {
          "output_type": "stream",
          "name": "stdout",
          "text": [
            "\u001b[90m# A tibble: 4 × 3\u001b[39m\n",
            "  year   half return\n",
            "  \u001b[3m\u001b[90m<chr>\u001b[39m\u001b[23m \u001b[3m\u001b[90m<dbl>\u001b[39m\u001b[23m  \u001b[3m\u001b[90m<dbl>\u001b[39m\u001b[23m\n",
            "\u001b[90m1\u001b[39m 2015      1   1.88\n",
            "\u001b[90m2\u001b[39m 2016      1   0.92\n",
            "\u001b[90m3\u001b[39m 2015      2   0.59\n",
            "\u001b[90m4\u001b[39m 2016      2   0.17\n"
          ]
        }
      ],
      "source": [
        "print(stocks_new)"
      ]
    },
    {
      "cell_type": "markdown",
      "metadata": {
        "id": "JDF1EveRvCzY"
      },
      "source": [
        "The **year** variable used to be of type **dbl** but is now **chr**. We can fix this too."
      ]
    },
    {
      "cell_type": "code",
      "execution_count": 22,
      "metadata": {
        "colab": {
          "base_uri": "https://localhost:8080/"
        },
        "id": "aIOU1GAFvCzY",
        "outputId": "7e4e8f8c-5d3b-418a-8965-e89817679a77"
      },
      "outputs": [
        {
          "output_type": "stream",
          "name": "stdout",
          "text": [
            "\u001b[90m# A tibble: 4 × 3\u001b[39m\n",
            "   year  half return\n",
            "  \u001b[3m\u001b[90m<dbl>\u001b[39m\u001b[23m \u001b[3m\u001b[90m<dbl>\u001b[39m\u001b[23m  \u001b[3m\u001b[90m<dbl>\u001b[39m\u001b[23m\n",
            "\u001b[90m1\u001b[39m  \u001b[4m2\u001b[24m015     1   1.88\n",
            "\u001b[90m2\u001b[39m  \u001b[4m2\u001b[24m016     1   0.92\n",
            "\u001b[90m3\u001b[39m  \u001b[4m2\u001b[24m015     2   0.59\n",
            "\u001b[90m4\u001b[39m  \u001b[4m2\u001b[24m016     2   0.17\n"
          ]
        }
      ],
      "source": [
        "stocks_new <- mutate(stocks_new, year = as.double(year))\n",
        "print(stocks_new)"
      ]
    },
    {
      "cell_type": "code",
      "execution_count": 23,
      "metadata": {
        "colab": {
          "base_uri": "https://localhost:8080/",
          "height": 255
        },
        "id": "nfEbkCzTvCzY",
        "outputId": "ed8119b0-72e5-40d0-ce3c-f78411344c2f"
      },
      "outputs": [
        {
          "output_type": "display_data",
          "data": {
            "text/plain": [
              "  name            names  values\n",
              "1 Phillip Woods   age     45   \n",
              "2 Phillip Woods   height 186   \n",
              "3 Phillip Woods   age     50   \n",
              "4 Jessica Cordero age     37   \n",
              "5 Jessica Cordero height 156   "
            ],
            "text/latex": "A tibble: 5 × 3\n\\begin{tabular}{lll}\n name & names & values\\\\\n <chr> & <chr> & <dbl>\\\\\n\\hline\n\t Phillip Woods   & age    &  45\\\\\n\t Phillip Woods   & height & 186\\\\\n\t Phillip Woods   & age    &  50\\\\\n\t Jessica Cordero & age    &  37\\\\\n\t Jessica Cordero & height & 156\\\\\n\\end{tabular}\n",
            "text/markdown": "\nA tibble: 5 × 3\n\n| name &lt;chr&gt; | names &lt;chr&gt; | values &lt;dbl&gt; |\n|---|---|---|\n| Phillip Woods   | age    |  45 |\n| Phillip Woods   | height | 186 |\n| Phillip Woods   | age    |  50 |\n| Jessica Cordero | age    |  37 |\n| Jessica Cordero | height | 156 |\n\n",
            "text/html": [
              "<table class=\"dataframe\">\n",
              "<caption>A tibble: 5 × 3</caption>\n",
              "<thead>\n",
              "\t<tr><th scope=col>name</th><th scope=col>names</th><th scope=col>values</th></tr>\n",
              "\t<tr><th scope=col>&lt;chr&gt;</th><th scope=col>&lt;chr&gt;</th><th scope=col>&lt;dbl&gt;</th></tr>\n",
              "</thead>\n",
              "<tbody>\n",
              "\t<tr><td>Phillip Woods  </td><td>age   </td><td> 45</td></tr>\n",
              "\t<tr><td>Phillip Woods  </td><td>height</td><td>186</td></tr>\n",
              "\t<tr><td>Phillip Woods  </td><td>age   </td><td> 50</td></tr>\n",
              "\t<tr><td>Jessica Cordero</td><td>age   </td><td> 37</td></tr>\n",
              "\t<tr><td>Jessica Cordero</td><td>height</td><td>156</td></tr>\n",
              "</tbody>\n",
              "</table>\n"
            ]
          },
          "metadata": {}
        }
      ],
      "source": [
        "(people <- tribble(\n",
        "  ~name,             ~names,  ~values,\n",
        "  #-----------------|--------|------\n",
        "  \"Phillip Woods\",   \"age\",       45,\n",
        "  \"Phillip Woods\",   \"height\",   186,\n",
        "  \"Phillip Woods\",   \"age\",       50,\n",
        "  \"Jessica Cordero\", \"age\",       37,\n",
        "  \"Jessica Cordero\", \"height\",   156\n",
        "))"
      ]
    },
    {
      "cell_type": "code",
      "execution_count": 24,
      "metadata": {
        "colab": {
          "base_uri": "https://localhost:8080/",
          "height": 321
        },
        "id": "vhbHvzzevCzZ",
        "outputId": "a0a4bc9f-9264-4547-facf-bd89d600151f"
      },
      "outputs": [
        {
          "output_type": "stream",
          "name": "stderr",
          "text": [
            "Warning message:\n",
            "“Values from `values` are not uniquely identified; output will contain list-cols.\n",
            "* Use `values_fn = list` to suppress this warning.\n",
            "* Use `values_fn = {summary_fun}` to summarise duplicates.\n",
            "* Use the following dplyr code to identify duplicates.\n",
            "  {data} %>%\n",
            "    dplyr::group_by(name, names) %>%\n",
            "    dplyr::summarise(n = dplyr::n(), .groups = \"drop\") %>%\n",
            "    dplyr::filter(n > 1L)”\n"
          ]
        },
        {
          "output_type": "display_data",
          "data": {
            "text/plain": [
              "  name            age    height\n",
              "1 Phillip Woods   45, 50 186   \n",
              "2 Jessica Cordero 37     156   "
            ],
            "text/latex": "A tibble: 2 × 3\n\\begin{tabular}{lll}\n name & age & height\\\\\n <chr> & <list> & <list>\\\\\n\\hline\n\t Phillip Woods   & 45, 50 & 186\\\\\n\t Jessica Cordero & 37 & 156\\\\\n\\end{tabular}\n",
            "text/markdown": "\nA tibble: 2 × 3\n\n| name &lt;chr&gt; | age &lt;list&gt; | height &lt;list&gt; |\n|---|---|---|\n| Phillip Woods   | 45, 50 | 186 |\n| Jessica Cordero | 37 | 156 |\n\n",
            "text/html": [
              "<table class=\"dataframe\">\n",
              "<caption>A tibble: 2 × 3</caption>\n",
              "<thead>\n",
              "\t<tr><th scope=col>name</th><th scope=col>age</th><th scope=col>height</th></tr>\n",
              "\t<tr><th scope=col>&lt;chr&gt;</th><th scope=col>&lt;list&gt;</th><th scope=col>&lt;list&gt;</th></tr>\n",
              "</thead>\n",
              "<tbody>\n",
              "\t<tr><td>Phillip Woods  </td><td>45, 50</td><td>186</td></tr>\n",
              "\t<tr><td>Jessica Cordero</td><td>37</td><td>156</td></tr>\n",
              "</tbody>\n",
              "</table>\n"
            ]
          },
          "metadata": {}
        }
      ],
      "source": [
        "pivot_wider(people, names_from = names, values_from = values)"
      ]
    },
    {
      "cell_type": "markdown",
      "metadata": {
        "id": "DNwl97JDvCzZ"
      },
      "source": [
        "We received a warning since there are two values of `age` for `Phillip Woods`. How should we deal with this? One solution is to add a new column with something that is unique by definition, e.g., `row_number()`."
      ]
    },
    {
      "cell_type": "code",
      "execution_count": 25,
      "metadata": {
        "colab": {
          "base_uri": "https://localhost:8080/",
          "height": 255
        },
        "id": "MdNPdV5nvCzZ",
        "outputId": "d500f9f1-3942-4c44-e521-19b44ffde4b5"
      },
      "outputs": [
        {
          "output_type": "display_data",
          "data": {
            "text/plain": [
              "  name            row age height\n",
              "1 Phillip Woods   1   45   NA   \n",
              "2 Phillip Woods   2   NA  186   \n",
              "3 Phillip Woods   3   50   NA   \n",
              "4 Jessica Cordero 4   37   NA   \n",
              "5 Jessica Cordero 5   NA  156   "
            ],
            "text/latex": "A tibble: 5 × 4\n\\begin{tabular}{llll}\n name & row & age & height\\\\\n <chr> & <int> & <dbl> & <dbl>\\\\\n\\hline\n\t Phillip Woods   & 1 & 45 &  NA\\\\\n\t Phillip Woods   & 2 & NA & 186\\\\\n\t Phillip Woods   & 3 & 50 &  NA\\\\\n\t Jessica Cordero & 4 & 37 &  NA\\\\\n\t Jessica Cordero & 5 & NA & 156\\\\\n\\end{tabular}\n",
            "text/markdown": "\nA tibble: 5 × 4\n\n| name &lt;chr&gt; | row &lt;int&gt; | age &lt;dbl&gt; | height &lt;dbl&gt; |\n|---|---|---|---|\n| Phillip Woods   | 1 | 45 |  NA |\n| Phillip Woods   | 2 | NA | 186 |\n| Phillip Woods   | 3 | 50 |  NA |\n| Jessica Cordero | 4 | 37 |  NA |\n| Jessica Cordero | 5 | NA | 156 |\n\n",
            "text/html": [
              "<table class=\"dataframe\">\n",
              "<caption>A tibble: 5 × 4</caption>\n",
              "<thead>\n",
              "\t<tr><th scope=col>name</th><th scope=col>row</th><th scope=col>age</th><th scope=col>height</th></tr>\n",
              "\t<tr><th scope=col>&lt;chr&gt;</th><th scope=col>&lt;int&gt;</th><th scope=col>&lt;dbl&gt;</th><th scope=col>&lt;dbl&gt;</th></tr>\n",
              "</thead>\n",
              "<tbody>\n",
              "\t<tr><td>Phillip Woods  </td><td>1</td><td>45</td><td> NA</td></tr>\n",
              "\t<tr><td>Phillip Woods  </td><td>2</td><td>NA</td><td>186</td></tr>\n",
              "\t<tr><td>Phillip Woods  </td><td>3</td><td>50</td><td> NA</td></tr>\n",
              "\t<tr><td>Jessica Cordero</td><td>4</td><td>37</td><td> NA</td></tr>\n",
              "\t<tr><td>Jessica Cordero</td><td>5</td><td>NA</td><td>156</td></tr>\n",
              "</tbody>\n",
              "</table>\n"
            ]
          },
          "metadata": {}
        }
      ],
      "source": [
        "people %>%\n",
        "    mutate(row = row_number()) %>%\n",
        "    pivot_wider(names_from = names, values_from = values)"
      ]
    },
    {
      "cell_type": "markdown",
      "metadata": {
        "id": "SlxgMF3AvCzZ"
      },
      "source": [
        "But this doesn't quite work because now the code works as if there are 3 Phillip Woods and 2 Jessica Cordero! So we need to add row number _after_ grouping by `name` and `names`"
      ]
    },
    {
      "cell_type": "code",
      "execution_count": 26,
      "metadata": {
        "colab": {
          "base_uri": "https://localhost:8080/",
          "height": 192
        },
        "id": "EvD3o5KovCzZ",
        "outputId": "8e3b3081-b189-4cf0-f8c0-c1a3b654e29f"
      },
      "outputs": [
        {
          "output_type": "display_data",
          "data": {
            "text/plain": [
              "  name            row age height\n",
              "1 Phillip Woods   1   45  186   \n",
              "2 Phillip Woods   2   50   NA   \n",
              "3 Jessica Cordero 1   37  156   "
            ],
            "text/latex": "A grouped\\_df: 3 × 4\n\\begin{tabular}{llll}\n name & row & age & height\\\\\n <chr> & <int> & <dbl> & <dbl>\\\\\n\\hline\n\t Phillip Woods   & 1 & 45 & 186\\\\\n\t Phillip Woods   & 2 & 50 &  NA\\\\\n\t Jessica Cordero & 1 & 37 & 156\\\\\n\\end{tabular}\n",
            "text/markdown": "\nA grouped_df: 3 × 4\n\n| name &lt;chr&gt; | row &lt;int&gt; | age &lt;dbl&gt; | height &lt;dbl&gt; |\n|---|---|---|---|\n| Phillip Woods   | 1 | 45 | 186 |\n| Phillip Woods   | 2 | 50 |  NA |\n| Jessica Cordero | 1 | 37 | 156 |\n\n",
            "text/html": [
              "<table class=\"dataframe\">\n",
              "<caption>A grouped_df: 3 × 4</caption>\n",
              "<thead>\n",
              "\t<tr><th scope=col>name</th><th scope=col>row</th><th scope=col>age</th><th scope=col>height</th></tr>\n",
              "\t<tr><th scope=col>&lt;chr&gt;</th><th scope=col>&lt;int&gt;</th><th scope=col>&lt;dbl&gt;</th><th scope=col>&lt;dbl&gt;</th></tr>\n",
              "</thead>\n",
              "<tbody>\n",
              "\t<tr><td>Phillip Woods  </td><td>1</td><td>45</td><td>186</td></tr>\n",
              "\t<tr><td>Phillip Woods  </td><td>2</td><td>50</td><td> NA</td></tr>\n",
              "\t<tr><td>Jessica Cordero</td><td>1</td><td>37</td><td>156</td></tr>\n",
              "</tbody>\n",
              "</table>\n"
            ]
          },
          "metadata": {}
        }
      ],
      "source": [
        "people %>%\n",
        "    group_by(name, names) %>%\n",
        "    mutate(row = row_number()) %>%\n",
        "    pivot_wider(names_from = names, values_from = values)"
      ]
    },
    {
      "cell_type": "markdown",
      "metadata": {
        "id": "D3n-NBU6vCzZ"
      },
      "source": [
        "There are still two issues:\n",
        "- This gives us a _grouped tibble_ \n",
        "- We might want to get rid of the variable `row` (it was only useful temporarily)"
      ]
    },
    {
      "cell_type": "code",
      "execution_count": 27,
      "metadata": {
        "colab": {
          "base_uri": "https://localhost:8080/",
          "height": 192
        },
        "id": "ABWn-TCKvCzZ",
        "outputId": "9750600d-ecc2-479e-915a-f9b41c617cb5"
      },
      "outputs": [
        {
          "output_type": "display_data",
          "data": {
            "text/plain": [
              "  name            age height\n",
              "1 Phillip Woods   45  186   \n",
              "2 Phillip Woods   50   NA   \n",
              "3 Jessica Cordero 37  156   "
            ],
            "text/latex": "A tibble: 3 × 3\n\\begin{tabular}{lll}\n name & age & height\\\\\n <chr> & <dbl> & <dbl>\\\\\n\\hline\n\t Phillip Woods   & 45 & 186\\\\\n\t Phillip Woods   & 50 &  NA\\\\\n\t Jessica Cordero & 37 & 156\\\\\n\\end{tabular}\n",
            "text/markdown": "\nA tibble: 3 × 3\n\n| name &lt;chr&gt; | age &lt;dbl&gt; | height &lt;dbl&gt; |\n|---|---|---|\n| Phillip Woods   | 45 | 186 |\n| Phillip Woods   | 50 |  NA |\n| Jessica Cordero | 37 | 156 |\n\n",
            "text/html": [
              "<table class=\"dataframe\">\n",
              "<caption>A tibble: 3 × 3</caption>\n",
              "<thead>\n",
              "\t<tr><th scope=col>name</th><th scope=col>age</th><th scope=col>height</th></tr>\n",
              "\t<tr><th scope=col>&lt;chr&gt;</th><th scope=col>&lt;dbl&gt;</th><th scope=col>&lt;dbl&gt;</th></tr>\n",
              "</thead>\n",
              "<tbody>\n",
              "\t<tr><td>Phillip Woods  </td><td>45</td><td>186</td></tr>\n",
              "\t<tr><td>Phillip Woods  </td><td>50</td><td> NA</td></tr>\n",
              "\t<tr><td>Jessica Cordero</td><td>37</td><td>156</td></tr>\n",
              "</tbody>\n",
              "</table>\n"
            ]
          },
          "metadata": {}
        }
      ],
      "source": [
        "people %>%\n",
        "    group_by(name, names) %>%\n",
        "    mutate(row = row_number()) %>%\n",
        "    pivot_wider(names_from = names, values_from = values) %>%\n",
        "    ungroup() %>%\n",
        "    select(-row)"
      ]
    },
    {
      "cell_type": "code",
      "execution_count": 28,
      "metadata": {
        "id": "nx2m0szbvCza"
      },
      "outputs": [],
      "source": [
        ""
      ]
    }
  ],
  "metadata": {
    "kernelspec": {
      "display_name": "R",
      "language": "R",
      "name": "ir"
    },
    "language_info": {
      "codemirror_mode": "r",
      "file_extension": ".r",
      "mimetype": "text/x-r-source",
      "name": "R",
      "pygments_lexer": "r",
      "version": "4.0.3"
    },
    "colab": {
      "name": "Lecture12.ipynb",
      "provenance": []
    }
  },
  "nbformat": 4,
  "nbformat_minor": 0
}