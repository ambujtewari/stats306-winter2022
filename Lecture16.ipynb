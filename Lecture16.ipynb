{
  "cells": [
    {
      "cell_type": "markdown",
      "metadata": {
        "id": "VVwDxJxD4jVB"
      },
      "source": [
        "In this notebook, we will cover more topics related to regular expressions:\n",
        "\n",
        "* [Repetition](#Repetition)\n",
        "* [Grouping](#Grouping)\n",
        "* [Detect matches](#Detect-matches)\n",
        "* [Extract matches](#Extract-matches)"
      ]
    },
    {
      "cell_type": "code",
      "execution_count": 1,
      "metadata": {
        "id": "-eakqMLn4jVE",
        "outputId": "3915df22-731f-42eb-d32f-db82db5b32dd",
        "colab": {
          "base_uri": "https://localhost:8080/"
        }
      },
      "outputs": [
        {
          "output_type": "stream",
          "name": "stderr",
          "text": [
            "Warning message in system(\"timedatectl\", intern = TRUE):\n",
            "“running command 'timedatectl' had status 1”\n",
            "── \u001b[1mAttaching packages\u001b[22m ─────────────────────────────────────── tidyverse 1.3.1 ──\n",
            "\n",
            "\u001b[32m✔\u001b[39m \u001b[34mggplot2\u001b[39m 3.3.5     \u001b[32m✔\u001b[39m \u001b[34mpurrr  \u001b[39m 0.3.4\n",
            "\u001b[32m✔\u001b[39m \u001b[34mtibble \u001b[39m 3.1.6     \u001b[32m✔\u001b[39m \u001b[34mdplyr  \u001b[39m 1.0.8\n",
            "\u001b[32m✔\u001b[39m \u001b[34mtidyr  \u001b[39m 1.2.0     \u001b[32m✔\u001b[39m \u001b[34mstringr\u001b[39m 1.4.0\n",
            "\u001b[32m✔\u001b[39m \u001b[34mreadr  \u001b[39m 2.1.2     \u001b[32m✔\u001b[39m \u001b[34mforcats\u001b[39m 0.5.1\n",
            "\n",
            "── \u001b[1mConflicts\u001b[22m ────────────────────────────────────────── tidyverse_conflicts() ──\n",
            "\u001b[31m✖\u001b[39m \u001b[34mdplyr\u001b[39m::\u001b[32mfilter()\u001b[39m masks \u001b[34mstats\u001b[39m::filter()\n",
            "\u001b[31m✖\u001b[39m \u001b[34mdplyr\u001b[39m::\u001b[32mlag()\u001b[39m    masks \u001b[34mstats\u001b[39m::lag()\n",
            "\n"
          ]
        }
      ],
      "source": [
        "library(tidyverse)"
      ]
    },
    {
      "cell_type": "markdown",
      "metadata": {
        "id": "owxUrHSQ4jVG"
      },
      "source": [
        "# Repetition"
      ]
    },
    {
      "cell_type": "markdown",
      "metadata": {
        "id": "g99eLB7b4jVG"
      },
      "source": [
        "We can control how many times a pattern matches:\n",
        "\n",
        "* `?`: 0 or 1\n",
        "* `+`: 1 or more\n",
        "* `*`: 0 or more"
      ]
    },
    {
      "cell_type": "code",
      "execution_count": 2,
      "metadata": {
        "id": "bummBEzC4jVH",
        "outputId": "5f0ac846-1519-4e56-c1bd-10fd5f19858c",
        "colab": {
          "base_uri": "https://localhost:8080/",
          "height": 34
        }
      },
      "outputs": [
        {
          "output_type": "display_data",
          "data": {
            "text/html": [
              "<style>\n",
              ".list-inline {list-style: none; margin:0; padding: 0}\n",
              ".list-inline>li {display: inline-block}\n",
              ".list-inline>li:not(:last-child)::after {content: \"\\00b7\"; padding: 0 .5ex}\n",
              "</style>\n",
              "<ol class=list-inline><li>'cat'</li><li>NA</li><li>NA</li><li>'cats'</li></ol>\n"
            ],
            "text/markdown": "1. 'cat'\n2. NA\n3. NA\n4. 'cats'\n\n\n",
            "text/latex": "\\begin{enumerate*}\n\\item 'cat'\n\\item NA\n\\item NA\n\\item 'cats'\n\\end{enumerate*}\n",
            "text/plain": [
              "[1] \"cat\"  NA     NA     \"cats\""
            ]
          },
          "metadata": {}
        }
      ],
      "source": [
        "x <- c(\"cat\", \"dog\", \"dogs\", \"cats\")\n",
        "str_extract(x, \"cats?\")"
      ]
    },
    {
      "cell_type": "code",
      "execution_count": 3,
      "metadata": {
        "id": "YILTu5me4jVH",
        "outputId": "35cadfc8-34dd-4cab-c674-f2dec7aea7e6",
        "colab": {
          "base_uri": "https://localhost:8080/",
          "height": 62
        }
      },
      "outputs": [
        {
          "output_type": "display_data",
          "data": {
            "text/html": [
              "<ol>\n",
              "\t<li><style>\n",
              ".list-inline {list-style: none; margin:0; padding: 0}\n",
              ".list-inline>li {display: inline-block}\n",
              ".list-inline>li:not(:last-child)::after {content: \"\\00b7\"; padding: 0 .5ex}\n",
              "</style>\n",
              "<ol class=list-inline><li>'?'</li><li>'?'</li></ol>\n",
              "</li>\n",
              "</ol>\n"
            ],
            "text/markdown": "1. 1. '?'\n2. '?'\n\n\n\n\n\n",
            "text/latex": "\\begin{enumerate}\n\\item \\begin{enumerate*}\n\\item '?'\n\\item '?'\n\\end{enumerate*}\n\n\\end{enumerate}\n",
            "text/plain": [
              "[[1]]\n",
              "[1] \"?\" \"?\"\n"
            ]
          },
          "metadata": {}
        }
      ],
      "source": [
        "str_extract_all(\"Why? No really, why?\", \"\\\\?\") # to match a literal question mark"
      ]
    },
    {
      "cell_type": "code",
      "execution_count": 4,
      "metadata": {
        "id": "4kxoy1eG4jVH",
        "outputId": "36a739e2-b001-4c61-9915-e5f432c7370a",
        "colab": {
          "base_uri": "https://localhost:8080/",
          "height": 34
        }
      },
      "outputs": [
        {
          "output_type": "display_data",
          "data": {
            "text/html": [
              "<style>\n",
              ".list-inline {list-style: none; margin:0; padding: 0}\n",
              ".list-inline>li {display: inline-block}\n",
              ".list-inline>li:not(:last-child)::after {content: \"\\00b7\"; padding: 0 .5ex}\n",
              "</style>\n",
              "<ol class=list-inline><li>'is fun'</li><li>'is fun'</li><li>'is not fun'</li><li>'is not fun'</li><li>'is fun'</li></ol>\n"
            ],
            "text/markdown": "1. 'is fun'\n2. 'is fun'\n3. 'is not fun'\n4. 'is not fun'\n5. 'is fun'\n\n\n",
            "text/latex": "\\begin{enumerate*}\n\\item 'is fun'\n\\item 'is fun'\n\\item 'is not fun'\n\\item 'is not fun'\n\\item 'is fun'\n\\end{enumerate*}\n",
            "text/plain": [
              "[1] \"is fun\"     \"is fun\"     \"is not fun\" \"is not fun\" \"is fun\"    "
            ]
          },
          "metadata": {}
        }
      ],
      "source": [
        "x <- c(\"hiking is fun\", \"reading is fun\", \"driving is not fun\", \"flying is not fun\", \"biking is fun\")\n",
        "str_extract(x, \"is (not )?fun\")"
      ]
    },
    {
      "cell_type": "code",
      "execution_count": 5,
      "metadata": {
        "id": "5cVEAA5x4jVI",
        "outputId": "509f71e6-b75e-47cb-93ad-c7d53074fd1b",
        "colab": {
          "base_uri": "https://localhost:8080/",
          "height": 34
        }
      },
      "outputs": [
        {
          "output_type": "display_data",
          "data": {
            "text/html": [
              "<style>\n",
              ".list-inline {list-style: none; margin:0; padding: 0}\n",
              ".list-inline>li {display: inline-block}\n",
              ".list-inline>li:not(:last-child)::after {content: \"\\00b7\"; padding: 0 .5ex}\n",
              "</style>\n",
              "<ol class=list-inline><li>'a'</li><li>NA</li><li>'aa'</li><li>'aaa'</li></ol>\n"
            ],
            "text/markdown": "1. 'a'\n2. NA\n3. 'aa'\n4. 'aaa'\n\n\n",
            "text/latex": "\\begin{enumerate*}\n\\item 'a'\n\\item NA\n\\item 'aa'\n\\item 'aaa'\n\\end{enumerate*}\n",
            "text/plain": [
              "[1] \"a\"   NA    \"aa\"  \"aaa\""
            ]
          },
          "metadata": {}
        }
      ],
      "source": [
        "x <- c(\"abc\", \"bc\", \"aabc\", \"aaabc\")\n",
        "str_extract(x, \"a+\")"
      ]
    },
    {
      "cell_type": "code",
      "execution_count": 6,
      "metadata": {
        "id": "k73jZBl24jVI",
        "outputId": "0cebc124-0e1b-4dff-9430-4f9513c019e0",
        "colab": {
          "base_uri": "https://localhost:8080/",
          "height": 34
        }
      },
      "outputs": [
        {
          "output_type": "display_data",
          "data": {
            "text/html": [
              "<style>\n",
              ".list-inline {list-style: none; margin:0; padding: 0}\n",
              ".list-inline>li {display: inline-block}\n",
              ".list-inline>li:not(:last-child)::after {content: \"\\00b7\"; padding: 0 .5ex}\n",
              "</style>\n",
              "<ol class=list-inline><li>'ac'</li><li>'abc'</li><li>'abbc'</li><li>NA</li><li>'abbbbc'</li></ol>\n"
            ],
            "text/markdown": "1. 'ac'\n2. 'abc'\n3. 'abbc'\n4. NA\n5. 'abbbbc'\n\n\n",
            "text/latex": "\\begin{enumerate*}\n\\item 'ac'\n\\item 'abc'\n\\item 'abbc'\n\\item NA\n\\item 'abbbbc'\n\\end{enumerate*}\n",
            "text/plain": [
              "[1] \"ac\"     \"abc\"    \"abbc\"   NA       \"abbbbc\""
            ]
          },
          "metadata": {}
        }
      ],
      "source": [
        "x <- c(\"ac\", \"abc\", \"abbc\", \"xyz\", \"abbbbc\")\n",
        "str_extract(x, \"ab*c\")"
      ]
    },
    {
      "cell_type": "markdown",
      "metadata": {
        "id": "m_mLiMzd4jVJ"
      },
      "source": [
        "We can also specify the number of matches precisely:\n",
        "\n",
        "* `{n}`: exactly n\n",
        "* `{n,}`: n or more\n",
        "* `{n,m}`: between n and m"
      ]
    },
    {
      "cell_type": "code",
      "execution_count": 7,
      "metadata": {
        "id": "GwxLk9qQ4jVJ",
        "outputId": "5857d3b9-50e9-4e13-b016-945f61317ab9",
        "colab": {
          "base_uri": "https://localhost:8080/",
          "height": 34
        }
      },
      "outputs": [
        {
          "output_type": "display_data",
          "data": {
            "text/html": [
              "<style>\n",
              ".list-inline {list-style: none; margin:0; padding: 0}\n",
              ".list-inline>li {display: inline-block}\n",
              ".list-inline>li:not(:last-child)::after {content: \"\\00b7\"; padding: 0 .5ex}\n",
              "</style>\n",
              "<ol class=list-inline><li>NA</li><li>NA</li><li>'abbc'</li><li>NA</li><li>NA</li></ol>\n"
            ],
            "text/markdown": "1. NA\n2. NA\n3. 'abbc'\n4. NA\n5. NA\n\n\n",
            "text/latex": "\\begin{enumerate*}\n\\item NA\n\\item NA\n\\item 'abbc'\n\\item NA\n\\item NA\n\\end{enumerate*}\n",
            "text/plain": [
              "[1] NA     NA     \"abbc\" NA     NA    "
            ]
          },
          "metadata": {}
        }
      ],
      "source": [
        "str_extract(x, \"ab{2}c\")"
      ]
    },
    {
      "cell_type": "code",
      "execution_count": 8,
      "metadata": {
        "id": "sW1cLnkT4jVK",
        "outputId": "f9240e6c-c65f-4b55-c2fd-992bd357ec80",
        "colab": {
          "base_uri": "https://localhost:8080/",
          "height": 34
        }
      },
      "outputs": [
        {
          "output_type": "display_data",
          "data": {
            "text/html": [
              "<style>\n",
              ".list-inline {list-style: none; margin:0; padding: 0}\n",
              ".list-inline>li {display: inline-block}\n",
              ".list-inline>li:not(:last-child)::after {content: \"\\00b7\"; padding: 0 .5ex}\n",
              "</style>\n",
              "<ol class=list-inline><li>NA</li><li>NA</li><li>'abbc'</li><li>NA</li><li>'abbbbc'</li></ol>\n"
            ],
            "text/markdown": "1. NA\n2. NA\n3. 'abbc'\n4. NA\n5. 'abbbbc'\n\n\n",
            "text/latex": "\\begin{enumerate*}\n\\item NA\n\\item NA\n\\item 'abbc'\n\\item NA\n\\item 'abbbbc'\n\\end{enumerate*}\n",
            "text/plain": [
              "[1] NA       NA       \"abbc\"   NA       \"abbbbc\""
            ]
          },
          "metadata": {}
        }
      ],
      "source": [
        "str_extract(x, \"ab{2,}c\")"
      ]
    },
    {
      "cell_type": "code",
      "execution_count": 9,
      "metadata": {
        "id": "bkqsWpQf4jVK",
        "outputId": "ef368eba-b596-4fbb-fe40-cef96f923e4b",
        "colab": {
          "base_uri": "https://localhost:8080/",
          "height": 34
        }
      },
      "outputs": [
        {
          "output_type": "display_data",
          "data": {
            "text/html": [
              "<style>\n",
              ".list-inline {list-style: none; margin:0; padding: 0}\n",
              ".list-inline>li {display: inline-block}\n",
              ".list-inline>li:not(:last-child)::after {content: \"\\00b7\"; padding: 0 .5ex}\n",
              "</style>\n",
              "<ol class=list-inline><li>'ac'</li><li>'abc'</li><li>'abbc'</li><li>NA</li><li>NA</li></ol>\n"
            ],
            "text/markdown": "1. 'ac'\n2. 'abc'\n3. 'abbc'\n4. NA\n5. NA\n\n\n",
            "text/latex": "\\begin{enumerate*}\n\\item 'ac'\n\\item 'abc'\n\\item 'abbc'\n\\item NA\n\\item NA\n\\end{enumerate*}\n",
            "text/plain": [
              "[1] \"ac\"   \"abc\"  \"abbc\" NA     NA    "
            ]
          },
          "metadata": {}
        }
      ],
      "source": [
        "str_extract(x, \"ab{0,2}c\")"
      ]
    },
    {
      "cell_type": "markdown",
      "metadata": {
        "id": "LZaV7oHt4jVK"
      },
      "source": [
        "# Grouping"
      ]
    },
    {
      "cell_type": "markdown",
      "metadata": {
        "id": "ltxLzH5C4jVL"
      },
      "source": [
        "Parentheses define groups that can be referred to as `\\1`, `\\2` etc."
      ]
    },
    {
      "cell_type": "code",
      "execution_count": 10,
      "metadata": {
        "id": "3jOjAzog4jVL",
        "outputId": "a1a0336d-cf27-4098-e9ea-34f5d7c6bbef",
        "colab": {
          "base_uri": "https://localhost:8080/",
          "height": 34
        }
      },
      "outputs": [
        {
          "output_type": "display_data",
          "data": {
            "text/html": [
              "<style>\n",
              ".list-inline {list-style: none; margin:0; padding: 0}\n",
              ".list-inline>li {display: inline-block}\n",
              ".list-inline>li:not(:last-child)::after {content: \"\\00b7\"; padding: 0 .5ex}\n",
              "</style>\n",
              "<ol class=list-inline><li>'mom'</li><li>'dad'</li><li>NA</li><li>NA</li></ol>\n"
            ],
            "text/markdown": "1. 'mom'\n2. 'dad'\n3. NA\n4. NA\n\n\n",
            "text/latex": "\\begin{enumerate*}\n\\item 'mom'\n\\item 'dad'\n\\item NA\n\\item NA\n\\end{enumerate*}\n",
            "text/plain": [
              "[1] \"mom\" \"dad\" NA    NA   "
            ]
          },
          "metadata": {}
        }
      ],
      "source": [
        "x <- c(\"mom\", \"dad\", \"brother\", \"sister\")\n",
        "re <- \"^(.).*\\\\1$\" \n",
        "str_extract(x, re) # find strings that start and end with the same character"
      ]
    },
    {
      "cell_type": "code",
      "execution_count": 11,
      "metadata": {
        "id": "Ko5SmTz54jVL",
        "outputId": "717aa039-4171-4ea8-9256-c7e7da3ae36b",
        "colab": {
          "base_uri": "https://localhost:8080/",
          "height": 34
        }
      },
      "outputs": [
        {
          "output_type": "display_data",
          "data": {
            "text/html": [
              "<style>\n",
              ".list-inline {list-style: none; margin:0; padding: 0}\n",
              ".list-inline>li {display: inline-block}\n",
              ".list-inline>li:not(:last-child)::after {content: \"\\00b7\"; padding: 0 .5ex}\n",
              "</style>\n",
              "<ol class=list-inline><li>'he moved his he'</li><li>'he moved he'</li><li>NA</li><li>'they moved th'</li></ol>\n"
            ],
            "text/markdown": "1. 'he moved his he'\n2. 'he moved he'\n3. NA\n4. 'they moved th'\n\n\n",
            "text/latex": "\\begin{enumerate*}\n\\item 'he moved his he'\n\\item 'he moved he'\n\\item NA\n\\item 'they moved th'\n\\end{enumerate*}\n",
            "text/plain": [
              "[1] \"he moved his he\" \"he moved he\"     NA                \"they moved th\"  "
            ]
          },
          "metadata": {}
        }
      ],
      "source": [
        "x <- c(\"he moved his head\", \"she moved her car\", \"nobody moved anything\", \"they moved their bikes\")\n",
        "re <- \"(..).*\\\\1\" # find a repeated pair of characters\n",
        "str_extract(x, re)"
      ]
    },
    {
      "cell_type": "markdown",
      "metadata": {
        "id": "FwJpoRF24jVL"
      },
      "source": [
        "# Detect matches"
      ]
    },
    {
      "cell_type": "code",
      "execution_count": 12,
      "metadata": {
        "id": "IAkdQSRu4jVL",
        "outputId": "617ed1a6-d891-458e-b06e-f176c833e870",
        "colab": {
          "base_uri": "https://localhost:8080/",
          "height": 34
        }
      },
      "outputs": [
        {
          "output_type": "display_data",
          "data": {
            "text/html": [
              "<style>\n",
              ".list-inline {list-style: none; margin:0; padding: 0}\n",
              ".list-inline>li {display: inline-block}\n",
              ".list-inline>li:not(:last-child)::after {content: \"\\00b7\"; padding: 0 .5ex}\n",
              "</style>\n",
              "<ol class=list-inline><li>TRUE</li><li>FALSE</li><li>TRUE</li><li>TRUE</li><li>FALSE</li></ol>\n"
            ],
            "text/markdown": "1. TRUE\n2. FALSE\n3. TRUE\n4. TRUE\n5. FALSE\n\n\n",
            "text/latex": "\\begin{enumerate*}\n\\item TRUE\n\\item FALSE\n\\item TRUE\n\\item TRUE\n\\item FALSE\n\\end{enumerate*}\n",
            "text/plain": [
              "[1]  TRUE FALSE  TRUE  TRUE FALSE"
            ]
          },
          "metadata": {}
        }
      ],
      "source": [
        "x <- c(\"x-ray\", \"something\", \"xylophone\", \"xenophobia\", \"nothing\")\n",
        "str_detect(x, \"^x\") # which strings start with x?"
      ]
    },
    {
      "cell_type": "code",
      "execution_count": 13,
      "metadata": {
        "id": "T_dCO7XL4jVM",
        "outputId": "ac3e61bd-fcf1-4fe0-d667-540e713a6b80",
        "colab": {
          "base_uri": "https://localhost:8080/",
          "height": 34
        }
      },
      "outputs": [
        {
          "output_type": "display_data",
          "data": {
            "text/html": [
              "<style>\n",
              ".list-inline {list-style: none; margin:0; padding: 0}\n",
              ".list-inline>li {display: inline-block}\n",
              ".list-inline>li:not(:last-child)::after {content: \"\\00b7\"; padding: 0 .5ex}\n",
              "</style>\n",
              "<ol class=list-inline><li>'a'</li><li>'able'</li><li>'about'</li><li>'absolute'</li><li>'accept'</li><li>'account'</li><li>'achieve'</li><li>'across'</li><li>'act'</li><li>'active'</li></ol>\n"
            ],
            "text/markdown": "1. 'a'\n2. 'able'\n3. 'about'\n4. 'absolute'\n5. 'accept'\n6. 'account'\n7. 'achieve'\n8. 'across'\n9. 'act'\n10. 'active'\n\n\n",
            "text/latex": "\\begin{enumerate*}\n\\item 'a'\n\\item 'able'\n\\item 'about'\n\\item 'absolute'\n\\item 'accept'\n\\item 'account'\n\\item 'achieve'\n\\item 'across'\n\\item 'act'\n\\item 'active'\n\\end{enumerate*}\n",
            "text/plain": [
              " [1] \"a\"        \"able\"     \"about\"    \"absolute\" \"accept\"   \"account\" \n",
              " [7] \"achieve\"  \"across\"   \"act\"      \"active\"  "
            ]
          },
          "metadata": {}
        }
      ],
      "source": [
        "head(words, 10) # words is a predefined character vector "
      ]
    },
    {
      "cell_type": "code",
      "execution_count": 14,
      "metadata": {
        "id": "q3FsbXp54jVM",
        "outputId": "a21f66d1-ccb1-454e-a4dc-cd367ec591c3",
        "colab": {
          "base_uri": "https://localhost:8080/",
          "height": 34
        }
      },
      "outputs": [
        {
          "output_type": "display_data",
          "data": {
            "text/html": [
              "65"
            ],
            "text/markdown": "65",
            "text/latex": "65",
            "text/plain": [
              "[1] 65"
            ]
          },
          "metadata": {}
        }
      ],
      "source": [
        "sum(str_detect(words, \"^a\")) # no. of words that start with a"
      ]
    },
    {
      "cell_type": "code",
      "execution_count": 15,
      "metadata": {
        "id": "FcsEi0cj4jVM",
        "outputId": "813238bd-cea1-406a-8ca0-c31949c9c4ca",
        "colab": {
          "base_uri": "https://localhost:8080/"
        }
      },
      "outputs": [
        {
          "output_type": "stream",
          "name": "stdout",
          "text": [
            "[1] \"65 words start with a\"\n",
            "[1] \"58 words start with b\"\n",
            "[1] \"83 words start with c\"\n",
            "[1] \"43 words start with d\"\n",
            "[1] \"45 words start with e\"\n",
            "[1] \"54 words start with f\"\n",
            "[1] \"23 words start with g\"\n",
            "[1] \"38 words start with h\"\n",
            "[1] \"25 words start with i\"\n",
            "[1] \"6 words start with j\"\n",
            "[1] \"9 words start with k\"\n",
            "[1] \"45 words start with l\"\n",
            "[1] \"45 words start with m\"\n",
            "[1] \"23 words start with n\"\n",
            "[1] \"28 words start with o\"\n",
            "[1] \"72 words start with p\"\n",
            "[1] \"7 words start with q\"\n",
            "[1] \"46 words start with r\"\n",
            "[1] \"119 words start with s\"\n",
            "[1] \"65 words start with t\"\n",
            "[1] \"12 words start with u\"\n",
            "[1] \"8 words start with v\"\n",
            "[1] \"53 words start with w\"\n",
            "[1] \"0 words start with x\"\n",
            "[1] \"6 words start with y\"\n",
            "[1] \"0 words start with z\"\n"
          ]
        }
      ],
      "source": [
        "# for every letter, find how many words start with it\n",
        "for (let in letters) {\n",
        "    print(sprintf(\"%d words start with %s\", sum(str_detect(words, str_c(\"^\", let))), let))\n",
        "}"
      ]
    },
    {
      "cell_type": "code",
      "execution_count": 16,
      "metadata": {
        "id": "YYJMeGpF4jVN",
        "outputId": "e659f15f-400c-4ff2-85d5-9ebeabece4f7",
        "colab": {
          "base_uri": "https://localhost:8080/",
          "height": 34
        }
      },
      "outputs": [
        {
          "output_type": "display_data",
          "data": {
            "text/html": [
              "6"
            ],
            "text/markdown": "6",
            "text/latex": "6",
            "text/plain": [
              "[1] 6"
            ]
          },
          "metadata": {}
        }
      ],
      "source": [
        "sum(str_detect(words, \"^[^aeiou]*$\")) # no. of words with no vowels"
      ]
    },
    {
      "cell_type": "code",
      "execution_count": 17,
      "metadata": {
        "id": "zthZZdkE4jVN",
        "outputId": "0d7bcc08-a802-4e24-d868-09123757605f",
        "colab": {
          "base_uri": "https://localhost:8080/",
          "height": 34
        }
      },
      "outputs": [
        {
          "output_type": "display_data",
          "data": {
            "text/html": [
              "<style>\n",
              ".list-inline {list-style: none; margin:0; padding: 0}\n",
              ".list-inline>li {display: inline-block}\n",
              ".list-inline>li:not(:last-child)::after {content: \"\\00b7\"; padding: 0 .5ex}\n",
              "</style>\n",
              "<ol class=list-inline><li>'by'</li><li>'dry'</li><li>'fly'</li><li>'mrs'</li><li>'try'</li><li>'why'</li></ol>\n"
            ],
            "text/markdown": "1. 'by'\n2. 'dry'\n3. 'fly'\n4. 'mrs'\n5. 'try'\n6. 'why'\n\n\n",
            "text/latex": "\\begin{enumerate*}\n\\item 'by'\n\\item 'dry'\n\\item 'fly'\n\\item 'mrs'\n\\item 'try'\n\\item 'why'\n\\end{enumerate*}\n",
            "text/plain": [
              "[1] \"by\"  \"dry\" \"fly\" \"mrs\" \"try\" \"why\""
            ]
          },
          "metadata": {}
        }
      ],
      "source": [
        "words[str_detect(words, \"^[^aeiou]*$\")] # logical subsetting to get the words themselves"
      ]
    },
    {
      "cell_type": "code",
      "execution_count": 18,
      "metadata": {
        "id": "_MuLBDic4jVN",
        "outputId": "cb39d733-ba0e-44b8-b068-e45f740a891a",
        "colab": {
          "base_uri": "https://localhost:8080/",
          "height": 34
        }
      },
      "outputs": [
        {
          "output_type": "display_data",
          "data": {
            "text/html": [
              "<style>\n",
              ".list-inline {list-style: none; margin:0; padding: 0}\n",
              ".list-inline>li {display: inline-block}\n",
              ".list-inline>li:not(:last-child)::after {content: \"\\00b7\"; padding: 0 .5ex}\n",
              "</style>\n",
              "<ol class=list-inline><li>'by'</li><li>'dry'</li><li>'fly'</li><li>'mrs'</li><li>'try'</li><li>'why'</li></ol>\n"
            ],
            "text/markdown": "1. 'by'\n2. 'dry'\n3. 'fly'\n4. 'mrs'\n5. 'try'\n6. 'why'\n\n\n",
            "text/latex": "\\begin{enumerate*}\n\\item 'by'\n\\item 'dry'\n\\item 'fly'\n\\item 'mrs'\n\\item 'try'\n\\item 'why'\n\\end{enumerate*}\n",
            "text/plain": [
              "[1] \"by\"  \"dry\" \"fly\" \"mrs\" \"try\" \"why\""
            ]
          },
          "metadata": {}
        }
      ],
      "source": [
        "str_subset(words, \"^[^aeiou]*$\") # str_subset is a convenient shortcut"
      ]
    },
    {
      "cell_type": "code",
      "execution_count": 19,
      "metadata": {
        "id": "gwb6WdGV4jVN",
        "outputId": "dfd35354-d6ca-4286-e117-94c5830f9875",
        "colab": {
          "base_uri": "https://localhost:8080/",
          "height": 34
        }
      },
      "outputs": [
        {
          "output_type": "display_data",
          "data": {
            "text/html": [
              "'a'"
            ],
            "text/markdown": "'a'",
            "text/latex": "'a'",
            "text/plain": [
              "[1] \"a\""
            ]
          },
          "metadata": {}
        }
      ],
      "source": [
        "str_subset(words, \"^[aeiou]*$\") # words with only vowels"
      ]
    },
    {
      "cell_type": "code",
      "execution_count": 20,
      "metadata": {
        "id": "KAWxdROR4jVN",
        "outputId": "0b9c0e57-1401-412e-c4c7-b3386f7d6d4c",
        "colab": {
          "base_uri": "https://localhost:8080/"
        }
      },
      "outputs": [
        {
          "output_type": "stream",
          "name": "stdout",
          "text": [
            "\u001b[90m# A tibble: 980 × 2\u001b[39m\n",
            "   word         i\n",
            "   \u001b[3m\u001b[90m<chr>\u001b[39m\u001b[23m    \u001b[3m\u001b[90m<int>\u001b[39m\u001b[23m\n",
            "\u001b[90m 1\u001b[39m a            1\n",
            "\u001b[90m 2\u001b[39m able         2\n",
            "\u001b[90m 3\u001b[39m about        3\n",
            "\u001b[90m 4\u001b[39m absolute     4\n",
            "\u001b[90m 5\u001b[39m accept       5\n",
            "\u001b[90m 6\u001b[39m account      6\n",
            "\u001b[90m 7\u001b[39m achieve      7\n",
            "\u001b[90m 8\u001b[39m across       8\n",
            "\u001b[90m 9\u001b[39m act          9\n",
            "\u001b[90m10\u001b[39m active      10\n",
            "\u001b[90m# … with 970 more rows\u001b[39m\n"
          ]
        }
      ],
      "source": [
        "df <- tibble(\n",
        "  word = words, \n",
        "  i = seq_along(word)\n",
        ")\n",
        "print(df)"
      ]
    },
    {
      "cell_type": "code",
      "execution_count": 21,
      "metadata": {
        "id": "L9SrhXG_4jVN",
        "outputId": "5f559d47-66ff-4248-c1a9-a4f8f17ef68c",
        "colab": {
          "base_uri": "https://localhost:8080/",
          "height": 317
        }
      },
      "outputs": [
        {
          "output_type": "display_data",
          "data": {
            "text/html": [
              "<table class=\"dataframe\">\n",
              "<caption>A tibble: 7 × 2</caption>\n",
              "<thead>\n",
              "\t<tr><th scope=col>word</th><th scope=col>i</th></tr>\n",
              "\t<tr><th scope=col>&lt;chr&gt;</th><th scope=col>&lt;int&gt;</th></tr>\n",
              "</thead>\n",
              "<tbody>\n",
              "\t<tr><td>quality </td><td>665</td></tr>\n",
              "\t<tr><td>quarter </td><td>666</td></tr>\n",
              "\t<tr><td>question</td><td>667</td></tr>\n",
              "\t<tr><td>quick   </td><td>668</td></tr>\n",
              "\t<tr><td>quid    </td><td>669</td></tr>\n",
              "\t<tr><td>quiet   </td><td>670</td></tr>\n",
              "\t<tr><td>quite   </td><td>671</td></tr>\n",
              "</tbody>\n",
              "</table>\n"
            ],
            "text/markdown": "\nA tibble: 7 × 2\n\n| word &lt;chr&gt; | i &lt;int&gt; |\n|---|---|\n| quality  | 665 |\n| quarter  | 666 |\n| question | 667 |\n| quick    | 668 |\n| quid     | 669 |\n| quiet    | 670 |\n| quite    | 671 |\n\n",
            "text/latex": "A tibble: 7 × 2\n\\begin{tabular}{ll}\n word & i\\\\\n <chr> & <int>\\\\\n\\hline\n\t quality  & 665\\\\\n\t quarter  & 666\\\\\n\t question & 667\\\\\n\t quick    & 668\\\\\n\t quid     & 669\\\\\n\t quiet    & 670\\\\\n\t quite    & 671\\\\\n\\end{tabular}\n",
            "text/plain": [
              "  word     i  \n",
              "1 quality  665\n",
              "2 quarter  666\n",
              "3 question 667\n",
              "4 quick    668\n",
              "5 quid     669\n",
              "6 quiet    670\n",
              "7 quite    671"
            ]
          },
          "metadata": {}
        }
      ],
      "source": [
        "df %>%\n",
        "    filter(str_detect(word, \"^q\")) # can use str_detect with the dplyr verb filter"
      ]
    },
    {
      "cell_type": "code",
      "execution_count": 22,
      "metadata": {
        "id": "k8ROirdE4jVO",
        "outputId": "49d1defe-094b-46dc-8420-b8584febf4dc",
        "colab": {
          "base_uri": "https://localhost:8080/",
          "height": 62
        }
      },
      "outputs": [
        {
          "output_type": "display_data",
          "data": {
            "text/html": [
              "<ol>\n",
              "\t<li><style>\n",
              ".list-inline {list-style: none; margin:0; padding: 0}\n",
              ".list-inline>li {display: inline-block}\n",
              ".list-inline>li:not(:last-child)::after {content: \"\\00b7\"; padding: 0 .5ex}\n",
              "</style>\n",
              "<ol class=list-inline><li>'xyx'</li><li>'xyx'</li></ol>\n",
              "</li>\n",
              "</ol>\n"
            ],
            "text/markdown": "1. 1. 'xyx'\n2. 'xyx'\n\n\n\n\n\n",
            "text/latex": "\\begin{enumerate}\n\\item \\begin{enumerate*}\n\\item 'xyx'\n\\item 'xyx'\n\\end{enumerate*}\n\n\\end{enumerate}\n",
            "text/plain": [
              "[[1]]\n",
              "[1] \"xyx\" \"xyx\"\n"
            ]
          },
          "metadata": {}
        }
      ],
      "source": [
        "str_extract_all(\"xyxyxyx\", \"xyx\") # not how matches don't overlap"
      ]
    },
    {
      "cell_type": "code",
      "execution_count": 23,
      "metadata": {
        "id": "En2kMowi4jVO",
        "outputId": "d8a81766-a2db-40da-9ade-64af0a33e1ae",
        "colab": {
          "base_uri": "https://localhost:8080/",
          "height": 34
        }
      },
      "outputs": [
        {
          "output_type": "display_data",
          "data": {
            "text/html": [
              "2"
            ],
            "text/markdown": "2",
            "text/latex": "2",
            "text/plain": [
              "[1] 2"
            ]
          },
          "metadata": {}
        }
      ],
      "source": [
        "str_count(\"xyxyxyx\", \"xyx\") # gives the number of matches"
      ]
    },
    {
      "cell_type": "code",
      "execution_count": 24,
      "metadata": {
        "id": "w40a-YcI4jVO",
        "outputId": "e0d49626-b7e9-4f32-82f7-6a31fb810336",
        "colab": {
          "base_uri": "https://localhost:8080/"
        }
      },
      "outputs": [
        {
          "output_type": "stream",
          "name": "stdout",
          "text": [
            "\u001b[90m# A tibble: 980 × 4\u001b[39m\n",
            "   word         i num_vowels num_consonants\n",
            "   \u001b[3m\u001b[90m<chr>\u001b[39m\u001b[23m    \u001b[3m\u001b[90m<int>\u001b[39m\u001b[23m      \u001b[3m\u001b[90m<int>\u001b[39m\u001b[23m          \u001b[3m\u001b[90m<int>\u001b[39m\u001b[23m\n",
            "\u001b[90m 1\u001b[39m a            1          1              0\n",
            "\u001b[90m 2\u001b[39m able         2          2              2\n",
            "\u001b[90m 3\u001b[39m about        3          3              2\n",
            "\u001b[90m 4\u001b[39m absolute     4          4              4\n",
            "\u001b[90m 5\u001b[39m accept       5          2              4\n",
            "\u001b[90m 6\u001b[39m account      6          3              4\n",
            "\u001b[90m 7\u001b[39m achieve      7          4              3\n",
            "\u001b[90m 8\u001b[39m across       8          2              4\n",
            "\u001b[90m 9\u001b[39m act          9          1              2\n",
            "\u001b[90m10\u001b[39m active      10          3              3\n",
            "\u001b[90m# … with 970 more rows\u001b[39m\n"
          ]
        }
      ],
      "source": [
        "df <- df %>% # mutate with str_count\n",
        "            mutate(num_vowels = str_count(word, \"[aeiou]\"),\n",
        "                   num_consonants = str_count(word, \"[^aeiou]\"))\n",
        "print(df)"
      ]
    },
    {
      "cell_type": "code",
      "execution_count": 25,
      "metadata": {
        "id": "FPdB7jfu4jVO",
        "outputId": "42caa612-472d-423e-cc4b-177ea04f7885",
        "colab": {
          "base_uri": "https://localhost:8080/"
        }
      },
      "outputs": [
        {
          "output_type": "stream",
          "name": "stdout",
          "text": [
            "\u001b[90m# A tibble: 980 × 5\u001b[39m\n",
            "   word         i num_vowels num_consonants vowel_prop\n",
            "   \u001b[3m\u001b[90m<chr>\u001b[39m\u001b[23m    \u001b[3m\u001b[90m<int>\u001b[39m\u001b[23m      \u001b[3m\u001b[90m<int>\u001b[39m\u001b[23m          \u001b[3m\u001b[90m<int>\u001b[39m\u001b[23m      \u001b[3m\u001b[90m<dbl>\u001b[39m\u001b[23m\n",
            "\u001b[90m 1\u001b[39m a            1          1              0      1    \n",
            "\u001b[90m 2\u001b[39m able         2          2              2      0.5  \n",
            "\u001b[90m 3\u001b[39m about        3          3              2      0.6  \n",
            "\u001b[90m 4\u001b[39m absolute     4          4              4      0.5  \n",
            "\u001b[90m 5\u001b[39m accept       5          2              4      0.333\n",
            "\u001b[90m 6\u001b[39m account      6          3              4      0.429\n",
            "\u001b[90m 7\u001b[39m achieve      7          4              3      0.571\n",
            "\u001b[90m 8\u001b[39m across       8          2              4      0.333\n",
            "\u001b[90m 9\u001b[39m act          9          1              2      0.333\n",
            "\u001b[90m10\u001b[39m active      10          3              3      0.5  \n",
            "\u001b[90m# … with 970 more rows\u001b[39m\n"
          ]
        }
      ],
      "source": [
        "df <- df %>% # compute a new column having proportion of vowels in the words\n",
        "            mutate(vowel_prop = num_vowels / str_length(word)) \n",
        "print(df)"
      ]
    },
    {
      "cell_type": "code",
      "execution_count": 26,
      "metadata": {
        "id": "mqjAkz8W4jVO",
        "outputId": "ecf2c619-c5ec-4f26-975f-c313b0fd7eb0",
        "colab": {
          "base_uri": "https://localhost:8080/",
          "height": 98
        }
      },
      "outputs": [
        {
          "output_type": "display_data",
          "data": {
            "text/html": [
              "<table class=\"dataframe\">\n",
              "<caption>A tibble: 0 × 5</caption>\n",
              "<thead>\n",
              "\t<tr><th scope=col>word</th><th scope=col>i</th><th scope=col>num_vowels</th><th scope=col>num_consonants</th><th scope=col>vowel_prop</th></tr>\n",
              "\t<tr><th scope=col>&lt;chr&gt;</th><th scope=col>&lt;int&gt;</th><th scope=col>&lt;int&gt;</th><th scope=col>&lt;int&gt;</th><th scope=col>&lt;dbl&gt;</th></tr>\n",
              "</thead>\n",
              "<tbody>\n",
              "</tbody>\n",
              "</table>\n"
            ],
            "text/markdown": "\nA tibble: 0 × 5\n\n| word &lt;chr&gt; | i &lt;int&gt; | num_vowels &lt;int&gt; | num_consonants &lt;int&gt; | vowel_prop &lt;dbl&gt; |\n|---|---|---|---|---|\n\n",
            "text/latex": "A tibble: 0 × 5\n\\begin{tabular}{lllll}\n word & i & num\\_vowels & num\\_consonants & vowel\\_prop\\\\\n <chr> & <int> & <int> & <int> & <dbl>\\\\\n\\hline\n\\end{tabular}\n",
            "text/plain": [
              "     word i num_vowels num_consonants vowel_prop"
            ]
          },
          "metadata": {}
        }
      ],
      "source": [
        "filter(df, str_detect(word, \"a\"), str_detect(word, \"e\"), str_detect(word, \"i\"),\n",
        "       str_detect(word, \"o\"), str_detect(word, \"u\")) # words containing all vowels"
      ]
    },
    {
      "cell_type": "code",
      "execution_count": 27,
      "metadata": {
        "id": "oB182fCb4jVO",
        "outputId": "4b537cdf-2ab1-4696-c702-9fcd096c4950",
        "colab": {
          "base_uri": "https://localhost:8080/",
          "height": 568
        }
      },
      "outputs": [
        {
          "output_type": "display_data",
          "data": {
            "text/html": [
              "<table class=\"dataframe\">\n",
              "<caption>A tibble: 15 × 5</caption>\n",
              "<thead>\n",
              "\t<tr><th scope=col>word</th><th scope=col>i</th><th scope=col>num_vowels</th><th scope=col>num_consonants</th><th scope=col>vowel_prop</th></tr>\n",
              "\t<tr><th scope=col>&lt;chr&gt;</th><th scope=col>&lt;int&gt;</th><th scope=col>&lt;int&gt;</th><th scope=col>&lt;int&gt;</th><th scope=col>&lt;dbl&gt;</th></tr>\n",
              "</thead>\n",
              "<tbody>\n",
              "\t<tr><td>absolute   </td><td>  4</td><td>4</td><td>4</td><td>0.5000000</td></tr>\n",
              "\t<tr><td>appropriate</td><td> 48</td><td>5</td><td>6</td><td>0.4545455</td></tr>\n",
              "\t<tr><td>associate  </td><td> 57</td><td>5</td><td>4</td><td>0.5555556</td></tr>\n",
              "\t<tr><td>authority  </td><td> 61</td><td>4</td><td>5</td><td>0.4444444</td></tr>\n",
              "\t<tr><td>colleague  </td><td>166</td><td>5</td><td>4</td><td>0.5555556</td></tr>\n",
              "\t<tr><td>continue   </td><td>186</td><td>4</td><td>4</td><td>0.5000000</td></tr>\n",
              "\t<tr><td>encourage  </td><td>268</td><td>5</td><td>4</td><td>0.5555556</td></tr>\n",
              "\t<tr><td>introduce  </td><td>431</td><td>4</td><td>5</td><td>0.4444444</td></tr>\n",
              "\t<tr><td>organize   </td><td>585</td><td>4</td><td>4</td><td>0.5000000</td></tr>\n",
              "\t<tr><td>previous   </td><td>644</td><td>4</td><td>4</td><td>0.5000000</td></tr>\n",
              "\t<tr><td>question   </td><td>667</td><td>4</td><td>4</td><td>0.5000000</td></tr>\n",
              "\t<tr><td>relation   </td><td>695</td><td>4</td><td>4</td><td>0.5000000</td></tr>\n",
              "\t<tr><td>serious    </td><td>741</td><td>4</td><td>3</td><td>0.5714286</td></tr>\n",
              "\t<tr><td>situate    </td><td>771</td><td>4</td><td>3</td><td>0.5714286</td></tr>\n",
              "\t<tr><td>various    </td><td>915</td><td>4</td><td>3</td><td>0.5714286</td></tr>\n",
              "</tbody>\n",
              "</table>\n"
            ],
            "text/markdown": "\nA tibble: 15 × 5\n\n| word &lt;chr&gt; | i &lt;int&gt; | num_vowels &lt;int&gt; | num_consonants &lt;int&gt; | vowel_prop &lt;dbl&gt; |\n|---|---|---|---|---|\n| absolute    |   4 | 4 | 4 | 0.5000000 |\n| appropriate |  48 | 5 | 6 | 0.4545455 |\n| associate   |  57 | 5 | 4 | 0.5555556 |\n| authority   |  61 | 4 | 5 | 0.4444444 |\n| colleague   | 166 | 5 | 4 | 0.5555556 |\n| continue    | 186 | 4 | 4 | 0.5000000 |\n| encourage   | 268 | 5 | 4 | 0.5555556 |\n| introduce   | 431 | 4 | 5 | 0.4444444 |\n| organize    | 585 | 4 | 4 | 0.5000000 |\n| previous    | 644 | 4 | 4 | 0.5000000 |\n| question    | 667 | 4 | 4 | 0.5000000 |\n| relation    | 695 | 4 | 4 | 0.5000000 |\n| serious     | 741 | 4 | 3 | 0.5714286 |\n| situate     | 771 | 4 | 3 | 0.5714286 |\n| various     | 915 | 4 | 3 | 0.5714286 |\n\n",
            "text/latex": "A tibble: 15 × 5\n\\begin{tabular}{lllll}\n word & i & num\\_vowels & num\\_consonants & vowel\\_prop\\\\\n <chr> & <int> & <int> & <int> & <dbl>\\\\\n\\hline\n\t absolute    &   4 & 4 & 4 & 0.5000000\\\\\n\t appropriate &  48 & 5 & 6 & 0.4545455\\\\\n\t associate   &  57 & 5 & 4 & 0.5555556\\\\\n\t authority   &  61 & 4 & 5 & 0.4444444\\\\\n\t colleague   & 166 & 5 & 4 & 0.5555556\\\\\n\t continue    & 186 & 4 & 4 & 0.5000000\\\\\n\t encourage   & 268 & 5 & 4 & 0.5555556\\\\\n\t introduce   & 431 & 4 & 5 & 0.4444444\\\\\n\t organize    & 585 & 4 & 4 & 0.5000000\\\\\n\t previous    & 644 & 4 & 4 & 0.5000000\\\\\n\t question    & 667 & 4 & 4 & 0.5000000\\\\\n\t relation    & 695 & 4 & 4 & 0.5000000\\\\\n\t serious     & 741 & 4 & 3 & 0.5714286\\\\\n\t situate     & 771 & 4 & 3 & 0.5714286\\\\\n\t various     & 915 & 4 & 3 & 0.5714286\\\\\n\\end{tabular}\n",
            "text/plain": [
              "   word        i   num_vowels num_consonants vowel_prop\n",
              "1  absolute      4 4          4              0.5000000 \n",
              "2  appropriate  48 5          6              0.4545455 \n",
              "3  associate    57 5          4              0.5555556 \n",
              "4  authority    61 4          5              0.4444444 \n",
              "5  colleague   166 5          4              0.5555556 \n",
              "6  continue    186 4          4              0.5000000 \n",
              "7  encourage   268 5          4              0.5555556 \n",
              "8  introduce   431 4          5              0.4444444 \n",
              "9  organize    585 4          4              0.5000000 \n",
              "10 previous    644 4          4              0.5000000 \n",
              "11 question    667 4          4              0.5000000 \n",
              "12 relation    695 4          4              0.5000000 \n",
              "13 serious     741 4          3              0.5714286 \n",
              "14 situate     771 4          3              0.5714286 \n",
              "15 various     915 4          3              0.5714286 "
            ]
          },
          "metadata": {}
        }
      ],
      "source": [
        "# words with at least 4 different vowels\n",
        "filter(df, str_detect(word, \"a\") + str_detect(word, \"e\") + str_detect(word, \"i\") +\n",
        "       str_detect(word, \"o\") + str_detect(word, \"u\") >= 4)"
      ]
    },
    {
      "cell_type": "markdown",
      "metadata": {
        "id": "j5IgIwIA4jVP"
      },
      "source": [
        "# Extract matches"
      ]
    },
    {
      "cell_type": "code",
      "execution_count": 28,
      "metadata": {
        "id": "m5L-RJVJ4jVP",
        "outputId": "a421f61a-10cc-444e-de9e-e09260a2ac67",
        "colab": {
          "base_uri": "https://localhost:8080/"
        }
      },
      "outputs": [
        {
          "output_type": "stream",
          "name": "stdout",
          "text": [
            "[1] \"[aeiou][aeiou][^aeiou][aeiou]\"\n"
          ]
        }
      ],
      "source": [
        "v <- \"[aeiou]\"\n",
        "c <- \"[^aeiou]\"\n",
        "vvcv <- str_c(v, v, c, v)\n",
        "print(vvcv)"
      ]
    },
    {
      "cell_type": "code",
      "execution_count": 29,
      "metadata": {
        "id": "cbD1zAKT4jVP",
        "outputId": "1356a190-3c6d-4928-a4aa-0fc01d8b0e25",
        "colab": {
          "base_uri": "https://localhost:8080/",
          "height": 51
        }
      },
      "outputs": [
        {
          "output_type": "display_data",
          "data": {
            "text/html": [
              "<style>\n",
              ".list-inline {list-style: none; margin:0; padding: 0}\n",
              ".list-inline>li {display: inline-block}\n",
              ".list-inline>li:not(:last-child)::after {content: \"\\00b7\"; padding: 0 .5ex}\n",
              "</style>\n",
              "<ol class=list-inline><li>'achieve'</li><li>'appropriate'</li><li>'associate'</li><li>'available'</li><li>'because'</li><li>'believe'</li><li>'cause'</li><li>'choice'</li><li>'choose'</li><li>'colleague'</li><li>'create'</li><li>'encourage'</li><li>'europe'</li><li>'house'</li><li>'increase'</li><li>'language'</li><li>'leave'</li><li>'meaning'</li><li>'measure'</li><li>'piece'</li><li>'please'</li><li>'quality'</li><li>'quite'</li><li>'raise'</li><li>'realise'</li><li>'reason'</li><li>'receive'</li><li>'require'</li><li>'situate'</li><li>'square'</li><li>'thousand'</li></ol>\n"
            ],
            "text/markdown": "1. 'achieve'\n2. 'appropriate'\n3. 'associate'\n4. 'available'\n5. 'because'\n6. 'believe'\n7. 'cause'\n8. 'choice'\n9. 'choose'\n10. 'colleague'\n11. 'create'\n12. 'encourage'\n13. 'europe'\n14. 'house'\n15. 'increase'\n16. 'language'\n17. 'leave'\n18. 'meaning'\n19. 'measure'\n20. 'piece'\n21. 'please'\n22. 'quality'\n23. 'quite'\n24. 'raise'\n25. 'realise'\n26. 'reason'\n27. 'receive'\n28. 'require'\n29. 'situate'\n30. 'square'\n31. 'thousand'\n\n\n",
            "text/latex": "\\begin{enumerate*}\n\\item 'achieve'\n\\item 'appropriate'\n\\item 'associate'\n\\item 'available'\n\\item 'because'\n\\item 'believe'\n\\item 'cause'\n\\item 'choice'\n\\item 'choose'\n\\item 'colleague'\n\\item 'create'\n\\item 'encourage'\n\\item 'europe'\n\\item 'house'\n\\item 'increase'\n\\item 'language'\n\\item 'leave'\n\\item 'meaning'\n\\item 'measure'\n\\item 'piece'\n\\item 'please'\n\\item 'quality'\n\\item 'quite'\n\\item 'raise'\n\\item 'realise'\n\\item 'reason'\n\\item 'receive'\n\\item 'require'\n\\item 'situate'\n\\item 'square'\n\\item 'thousand'\n\\end{enumerate*}\n",
            "text/plain": [
              " [1] \"achieve\"     \"appropriate\" \"associate\"   \"available\"   \"because\"    \n",
              " [6] \"believe\"     \"cause\"       \"choice\"      \"choose\"      \"colleague\"  \n",
              "[11] \"create\"      \"encourage\"   \"europe\"      \"house\"       \"increase\"   \n",
              "[16] \"language\"    \"leave\"       \"meaning\"     \"measure\"     \"piece\"      \n",
              "[21] \"please\"      \"quality\"     \"quite\"       \"raise\"       \"realise\"    \n",
              "[26] \"reason\"      \"receive\"     \"require\"     \"situate\"     \"square\"     \n",
              "[31] \"thousand\"   "
            ]
          },
          "metadata": {}
        }
      ],
      "source": [
        "(vvcv_words <- str_subset(words, vvcv)) # words containing the pattern vvcv"
      ]
    },
    {
      "cell_type": "code",
      "execution_count": 30,
      "metadata": {
        "id": "l2bMISSY4jVP",
        "outputId": "092c21ec-08a0-4c7e-e04d-dce0d3b3eb17",
        "colab": {
          "base_uri": "https://localhost:8080/",
          "height": 51
        }
      },
      "outputs": [
        {
          "output_type": "display_data",
          "data": {
            "text/html": [
              "<style>\n",
              ".list-inline {list-style: none; margin:0; padding: 0}\n",
              ".list-inline>li {display: inline-block}\n",
              ".list-inline>li:not(:last-child)::after {content: \"\\00b7\"; padding: 0 .5ex}\n",
              "</style>\n",
              "<ol class=list-inline><li>'ieve'</li><li>'iate'</li><li>'iate'</li><li>'aila'</li><li>'ause'</li><li>'ieve'</li><li>'ause'</li><li>'oice'</li><li>'oose'</li><li>'eagu'</li><li>'eate'</li><li>'oura'</li><li>'euro'</li><li>'ouse'</li><li>'ease'</li><li>'uage'</li><li>'eave'</li><li>'eani'</li><li>'easu'</li><li>'iece'</li><li>'ease'</li><li>'uali'</li><li>'uite'</li><li>'aise'</li><li>'eali'</li><li>'easo'</li><li>'eive'</li><li>'uire'</li><li>'uate'</li><li>'uare'</li><li>'ousa'</li></ol>\n"
            ],
            "text/markdown": "1. 'ieve'\n2. 'iate'\n3. 'iate'\n4. 'aila'\n5. 'ause'\n6. 'ieve'\n7. 'ause'\n8. 'oice'\n9. 'oose'\n10. 'eagu'\n11. 'eate'\n12. 'oura'\n13. 'euro'\n14. 'ouse'\n15. 'ease'\n16. 'uage'\n17. 'eave'\n18. 'eani'\n19. 'easu'\n20. 'iece'\n21. 'ease'\n22. 'uali'\n23. 'uite'\n24. 'aise'\n25. 'eali'\n26. 'easo'\n27. 'eive'\n28. 'uire'\n29. 'uate'\n30. 'uare'\n31. 'ousa'\n\n\n",
            "text/latex": "\\begin{enumerate*}\n\\item 'ieve'\n\\item 'iate'\n\\item 'iate'\n\\item 'aila'\n\\item 'ause'\n\\item 'ieve'\n\\item 'ause'\n\\item 'oice'\n\\item 'oose'\n\\item 'eagu'\n\\item 'eate'\n\\item 'oura'\n\\item 'euro'\n\\item 'ouse'\n\\item 'ease'\n\\item 'uage'\n\\item 'eave'\n\\item 'eani'\n\\item 'easu'\n\\item 'iece'\n\\item 'ease'\n\\item 'uali'\n\\item 'uite'\n\\item 'aise'\n\\item 'eali'\n\\item 'easo'\n\\item 'eive'\n\\item 'uire'\n\\item 'uate'\n\\item 'uare'\n\\item 'ousa'\n\\end{enumerate*}\n",
            "text/plain": [
              " [1] \"ieve\" \"iate\" \"iate\" \"aila\" \"ause\" \"ieve\" \"ause\" \"oice\" \"oose\" \"eagu\"\n",
              "[11] \"eate\" \"oura\" \"euro\" \"ouse\" \"ease\" \"uage\" \"eave\" \"eani\" \"easu\" \"iece\"\n",
              "[21] \"ease\" \"uali\" \"uite\" \"aise\" \"eali\" \"easo\" \"eive\" \"uire\" \"uate\" \"uare\"\n",
              "[31] \"ousa\""
            ]
          },
          "metadata": {}
        }
      ],
      "source": [
        "str_extract(vvcv_words, vvcv) # the patterns themselves"
      ]
    },
    {
      "cell_type": "code",
      "execution_count": 31,
      "metadata": {
        "id": "Ozo_fwLS4jVP",
        "outputId": "29fa2eeb-c215-4a6e-b1a0-7729ad69fc9b",
        "colab": {
          "base_uri": "https://localhost:8080/"
        }
      },
      "outputs": [
        {
          "output_type": "stream",
          "name": "stdout",
          "text": [
            "[1] \"[^aeiou][aeiou][aeiou][^aeiou]\"\n"
          ]
        }
      ],
      "source": [
        "cvvc <- str_c(c, v, v, c)\n",
        "print(cvvc)"
      ]
    },
    {
      "cell_type": "code",
      "execution_count": 32,
      "metadata": {
        "id": "YZHiRGJy4jVP",
        "outputId": "f1605aa6-049d-4868-edd9-cf3281592138",
        "colab": {
          "base_uri": "https://localhost:8080/",
          "height": 173
        }
      },
      "outputs": [
        {
          "output_type": "display_data",
          "data": {
            "text/html": [
              "<style>\n",
              ".list-inline {list-style: none; margin:0; padding: 0}\n",
              ".list-inline>li {display: inline-block}\n",
              ".list-inline>li:not(:last-child)::after {content: \"\\00b7\"; padding: 0 .5ex}\n",
              "</style>\n",
              "<ol class=list-inline><li>'about'</li><li>'account'</li><li>'achieve'</li><li>'actual'</li><li>'afternoon'</li><li>'again'</li><li>'against'</li><li>'already'</li><li>'although'</li><li>'amount'</li><li>'appear'</li><li>'appoint'</li><li>'approach'</li><li>'appropriate'</li><li>'around'</li><li>'associate'</li><li>'available'</li><li>'bear'</li><li>'beat'</li><li>'because'</li><li>'believe'</li><li>'between'</li><li>'blood'</li><li>'board'</li><li>'boat'</li><li>'book'</li><li>'break'</li><li>'brief'</li><li>'brilliant'</li><li>'britain'</li><li>'build'</li><li>'cause'</li><li>'certain'</li><li>'chair'</li><li>'chairman'</li><li>'cheap'</li><li>'choice'</li><li>'choose'</li><li>'claim'</li><li>'clean'</li><li>'clear'</li><li>'client'</li><li>'colleague'</li><li>'colour'</li><li>'condition'</li><li>'cook'</li><li>'could'</li><li>'council'</li><li>'count'</li><li>'country'</li><li>'county'</li><li>'couple'</li><li>'course'</li><li>'court'</li><li>'create'</li><li>'dead'</li><li>'deal'</li><li>'dear'</li><li>'decision'</li><li>'deep'</li><li>'detail'</li><li>'door'</li><li>'double'</li><li>'doubt'</li><li>'encourage'</li><li>'enough'</li><li>'equal'</li><li>'especial'</li><li>'experience'</li><li>'explain'</li><li>'fair'</li><li>'favour'</li><li>'feed'</li><li>'feel'</li><li>'field'</li><li>'floor'</li><li>'food'</li><li>'foot'</li><li>'four'</li><li>'friend'</li><li>'function'</li><li>'good'</li><li>'goodbye'</li><li>'great'</li><li>'green'</li><li>'ground'</li><li>'group'</li><li>'guess'</li><li>'hair'</li><li>'head'</li><li>'health'</li><li>'hear'</li><li>'heart'</li><li>'heat'</li><li>'heavy'</li><li>'hour'</li><li>'house'</li><li>'increase'</li><li>'indeed'</li><li>'individual'</li><li>'instead'</li><li>'join'</li><li>'keep'</li><li>'labour'</li><li>'language'</li><li>'laugh'</li><li>'lead'</li><li>'learn'</li><li>'leave'</li><li>'load'</li><li>'look'</li><li>'main'</li><li>'mean'</li><li>'meaning'</li><li>'measure'</li><li>'meet'</li><li>'mention'</li><li>'million'</li><li>'motion'</li><li>'nation'</li><li>'near'</li><li>'need'</li><li>'occasion'</li><li>'paint'</li><li>'pair'</li><li>'pension'</li><li>'people'</li><li>'period'</li><li>'piece'</li><li>'please'</li><li>'point'</li><li>'poor'</li><li>'position'</li><li>'pound'</li><li>'proceed'</li><li>'quality'</li><li>'quarter'</li><li>'question'</li><li>'quick'</li><li>'quid'</li><li>'quite'</li><li>'rail'</li><li>'raise'</li><li>'read'</li><li>'ready'</li><li>'real'</li><li>'realise'</li><li>'really'</li><li>'reason'</li><li>'receive'</li><li>'region'</li><li>'relation'</li><li>'require'</li><li>'research'</li><li>'resource'</li><li>'road'</li><li>'room'</li><li>'round'</li><li>'school'</li><li>'science'</li><li>'seat'</li><li>'section'</li><li>'seem'</li><li>'sheet'</li><li>'shoot'</li><li>'should'</li><li>'situate'</li><li>'sleep'</li><li>'social'</li><li>'society'</li><li>'soon'</li><li>'sound'</li><li>'south'</li><li>'speak'</li><li>'special'</li><li>'speed'</li><li>'square'</li><li>'stairs'</li><li>'station'</li><li>'straight'</li><li>'street'</li><li>'succeed'</li><li>'suit'</li><li>'teach'</li><li>'team'</li><li>'television'</li><li>'thirteen'</li><li>'though'</li><li>'thousand'</li><li>'through'</li><li>'touch'</li><li>'train'</li><li>'treat'</li><li>'trouble'</li><li>'tuesday'</li><li>'union'</li><li>'usual'</li><li>'view'</li><li>'wait'</li><li>'wear'</li><li>'week'</li><li>'weigh'</li><li>'without'</li><li>'wood'</li><li>'would'</li><li>'year'</li><li>'young'</li></ol>\n"
            ],
            "text/markdown": "1. 'about'\n2. 'account'\n3. 'achieve'\n4. 'actual'\n5. 'afternoon'\n6. 'again'\n7. 'against'\n8. 'already'\n9. 'although'\n10. 'amount'\n11. 'appear'\n12. 'appoint'\n13. 'approach'\n14. 'appropriate'\n15. 'around'\n16. 'associate'\n17. 'available'\n18. 'bear'\n19. 'beat'\n20. 'because'\n21. 'believe'\n22. 'between'\n23. 'blood'\n24. 'board'\n25. 'boat'\n26. 'book'\n27. 'break'\n28. 'brief'\n29. 'brilliant'\n30. 'britain'\n31. 'build'\n32. 'cause'\n33. 'certain'\n34. 'chair'\n35. 'chairman'\n36. 'cheap'\n37. 'choice'\n38. 'choose'\n39. 'claim'\n40. 'clean'\n41. 'clear'\n42. 'client'\n43. 'colleague'\n44. 'colour'\n45. 'condition'\n46. 'cook'\n47. 'could'\n48. 'council'\n49. 'count'\n50. 'country'\n51. 'county'\n52. 'couple'\n53. 'course'\n54. 'court'\n55. 'create'\n56. 'dead'\n57. 'deal'\n58. 'dear'\n59. 'decision'\n60. 'deep'\n61. 'detail'\n62. 'door'\n63. 'double'\n64. 'doubt'\n65. 'encourage'\n66. 'enough'\n67. 'equal'\n68. 'especial'\n69. 'experience'\n70. 'explain'\n71. 'fair'\n72. 'favour'\n73. 'feed'\n74. 'feel'\n75. 'field'\n76. 'floor'\n77. 'food'\n78. 'foot'\n79. 'four'\n80. 'friend'\n81. 'function'\n82. 'good'\n83. 'goodbye'\n84. 'great'\n85. 'green'\n86. 'ground'\n87. 'group'\n88. 'guess'\n89. 'hair'\n90. 'head'\n91. 'health'\n92. 'hear'\n93. 'heart'\n94. 'heat'\n95. 'heavy'\n96. 'hour'\n97. 'house'\n98. 'increase'\n99. 'indeed'\n100. 'individual'\n101. 'instead'\n102. 'join'\n103. 'keep'\n104. 'labour'\n105. 'language'\n106. 'laugh'\n107. 'lead'\n108. 'learn'\n109. 'leave'\n110. 'load'\n111. 'look'\n112. 'main'\n113. 'mean'\n114. 'meaning'\n115. 'measure'\n116. 'meet'\n117. 'mention'\n118. 'million'\n119. 'motion'\n120. 'nation'\n121. 'near'\n122. 'need'\n123. 'occasion'\n124. 'paint'\n125. 'pair'\n126. 'pension'\n127. 'people'\n128. 'period'\n129. 'piece'\n130. 'please'\n131. 'point'\n132. 'poor'\n133. 'position'\n134. 'pound'\n135. 'proceed'\n136. 'quality'\n137. 'quarter'\n138. 'question'\n139. 'quick'\n140. 'quid'\n141. 'quite'\n142. 'rail'\n143. 'raise'\n144. 'read'\n145. 'ready'\n146. 'real'\n147. 'realise'\n148. 'really'\n149. 'reason'\n150. 'receive'\n151. 'region'\n152. 'relation'\n153. 'require'\n154. 'research'\n155. 'resource'\n156. 'road'\n157. 'room'\n158. 'round'\n159. 'school'\n160. 'science'\n161. 'seat'\n162. 'section'\n163. 'seem'\n164. 'sheet'\n165. 'shoot'\n166. 'should'\n167. 'situate'\n168. 'sleep'\n169. 'social'\n170. 'society'\n171. 'soon'\n172. 'sound'\n173. 'south'\n174. 'speak'\n175. 'special'\n176. 'speed'\n177. 'square'\n178. 'stairs'\n179. 'station'\n180. 'straight'\n181. 'street'\n182. 'succeed'\n183. 'suit'\n184. 'teach'\n185. 'team'\n186. 'television'\n187. 'thirteen'\n188. 'though'\n189. 'thousand'\n190. 'through'\n191. 'touch'\n192. 'train'\n193. 'treat'\n194. 'trouble'\n195. 'tuesday'\n196. 'union'\n197. 'usual'\n198. 'view'\n199. 'wait'\n200. 'wear'\n201. 'week'\n202. 'weigh'\n203. 'without'\n204. 'wood'\n205. 'would'\n206. 'year'\n207. 'young'\n\n\n",
            "text/latex": "\\begin{enumerate*}\n\\item 'about'\n\\item 'account'\n\\item 'achieve'\n\\item 'actual'\n\\item 'afternoon'\n\\item 'again'\n\\item 'against'\n\\item 'already'\n\\item 'although'\n\\item 'amount'\n\\item 'appear'\n\\item 'appoint'\n\\item 'approach'\n\\item 'appropriate'\n\\item 'around'\n\\item 'associate'\n\\item 'available'\n\\item 'bear'\n\\item 'beat'\n\\item 'because'\n\\item 'believe'\n\\item 'between'\n\\item 'blood'\n\\item 'board'\n\\item 'boat'\n\\item 'book'\n\\item 'break'\n\\item 'brief'\n\\item 'brilliant'\n\\item 'britain'\n\\item 'build'\n\\item 'cause'\n\\item 'certain'\n\\item 'chair'\n\\item 'chairman'\n\\item 'cheap'\n\\item 'choice'\n\\item 'choose'\n\\item 'claim'\n\\item 'clean'\n\\item 'clear'\n\\item 'client'\n\\item 'colleague'\n\\item 'colour'\n\\item 'condition'\n\\item 'cook'\n\\item 'could'\n\\item 'council'\n\\item 'count'\n\\item 'country'\n\\item 'county'\n\\item 'couple'\n\\item 'course'\n\\item 'court'\n\\item 'create'\n\\item 'dead'\n\\item 'deal'\n\\item 'dear'\n\\item 'decision'\n\\item 'deep'\n\\item 'detail'\n\\item 'door'\n\\item 'double'\n\\item 'doubt'\n\\item 'encourage'\n\\item 'enough'\n\\item 'equal'\n\\item 'especial'\n\\item 'experience'\n\\item 'explain'\n\\item 'fair'\n\\item 'favour'\n\\item 'feed'\n\\item 'feel'\n\\item 'field'\n\\item 'floor'\n\\item 'food'\n\\item 'foot'\n\\item 'four'\n\\item 'friend'\n\\item 'function'\n\\item 'good'\n\\item 'goodbye'\n\\item 'great'\n\\item 'green'\n\\item 'ground'\n\\item 'group'\n\\item 'guess'\n\\item 'hair'\n\\item 'head'\n\\item 'health'\n\\item 'hear'\n\\item 'heart'\n\\item 'heat'\n\\item 'heavy'\n\\item 'hour'\n\\item 'house'\n\\item 'increase'\n\\item 'indeed'\n\\item 'individual'\n\\item 'instead'\n\\item 'join'\n\\item 'keep'\n\\item 'labour'\n\\item 'language'\n\\item 'laugh'\n\\item 'lead'\n\\item 'learn'\n\\item 'leave'\n\\item 'load'\n\\item 'look'\n\\item 'main'\n\\item 'mean'\n\\item 'meaning'\n\\item 'measure'\n\\item 'meet'\n\\item 'mention'\n\\item 'million'\n\\item 'motion'\n\\item 'nation'\n\\item 'near'\n\\item 'need'\n\\item 'occasion'\n\\item 'paint'\n\\item 'pair'\n\\item 'pension'\n\\item 'people'\n\\item 'period'\n\\item 'piece'\n\\item 'please'\n\\item 'point'\n\\item 'poor'\n\\item 'position'\n\\item 'pound'\n\\item 'proceed'\n\\item 'quality'\n\\item 'quarter'\n\\item 'question'\n\\item 'quick'\n\\item 'quid'\n\\item 'quite'\n\\item 'rail'\n\\item 'raise'\n\\item 'read'\n\\item 'ready'\n\\item 'real'\n\\item 'realise'\n\\item 'really'\n\\item 'reason'\n\\item 'receive'\n\\item 'region'\n\\item 'relation'\n\\item 'require'\n\\item 'research'\n\\item 'resource'\n\\item 'road'\n\\item 'room'\n\\item 'round'\n\\item 'school'\n\\item 'science'\n\\item 'seat'\n\\item 'section'\n\\item 'seem'\n\\item 'sheet'\n\\item 'shoot'\n\\item 'should'\n\\item 'situate'\n\\item 'sleep'\n\\item 'social'\n\\item 'society'\n\\item 'soon'\n\\item 'sound'\n\\item 'south'\n\\item 'speak'\n\\item 'special'\n\\item 'speed'\n\\item 'square'\n\\item 'stairs'\n\\item 'station'\n\\item 'straight'\n\\item 'street'\n\\item 'succeed'\n\\item 'suit'\n\\item 'teach'\n\\item 'team'\n\\item 'television'\n\\item 'thirteen'\n\\item 'though'\n\\item 'thousand'\n\\item 'through'\n\\item 'touch'\n\\item 'train'\n\\item 'treat'\n\\item 'trouble'\n\\item 'tuesday'\n\\item 'union'\n\\item 'usual'\n\\item 'view'\n\\item 'wait'\n\\item 'wear'\n\\item 'week'\n\\item 'weigh'\n\\item 'without'\n\\item 'wood'\n\\item 'would'\n\\item 'year'\n\\item 'young'\n\\end{enumerate*}\n",
            "text/plain": [
              "  [1] \"about\"       \"account\"     \"achieve\"     \"actual\"      \"afternoon\"  \n",
              "  [6] \"again\"       \"against\"     \"already\"     \"although\"    \"amount\"     \n",
              " [11] \"appear\"      \"appoint\"     \"approach\"    \"appropriate\" \"around\"     \n",
              " [16] \"associate\"   \"available\"   \"bear\"        \"beat\"        \"because\"    \n",
              " [21] \"believe\"     \"between\"     \"blood\"       \"board\"       \"boat\"       \n",
              " [26] \"book\"        \"break\"       \"brief\"       \"brilliant\"   \"britain\"    \n",
              " [31] \"build\"       \"cause\"       \"certain\"     \"chair\"       \"chairman\"   \n",
              " [36] \"cheap\"       \"choice\"      \"choose\"      \"claim\"       \"clean\"      \n",
              " [41] \"clear\"       \"client\"      \"colleague\"   \"colour\"      \"condition\"  \n",
              " [46] \"cook\"        \"could\"       \"council\"     \"count\"       \"country\"    \n",
              " [51] \"county\"      \"couple\"      \"course\"      \"court\"       \"create\"     \n",
              " [56] \"dead\"        \"deal\"        \"dear\"        \"decision\"    \"deep\"       \n",
              " [61] \"detail\"      \"door\"        \"double\"      \"doubt\"       \"encourage\"  \n",
              " [66] \"enough\"      \"equal\"       \"especial\"    \"experience\"  \"explain\"    \n",
              " [71] \"fair\"        \"favour\"      \"feed\"        \"feel\"        \"field\"      \n",
              " [76] \"floor\"       \"food\"        \"foot\"        \"four\"        \"friend\"     \n",
              " [81] \"function\"    \"good\"        \"goodbye\"     \"great\"       \"green\"      \n",
              " [86] \"ground\"      \"group\"       \"guess\"       \"hair\"        \"head\"       \n",
              " [91] \"health\"      \"hear\"        \"heart\"       \"heat\"        \"heavy\"      \n",
              " [96] \"hour\"        \"house\"       \"increase\"    \"indeed\"      \"individual\" \n",
              "[101] \"instead\"     \"join\"        \"keep\"        \"labour\"      \"language\"   \n",
              "[106] \"laugh\"       \"lead\"        \"learn\"       \"leave\"       \"load\"       \n",
              "[111] \"look\"        \"main\"        \"mean\"        \"meaning\"     \"measure\"    \n",
              "[116] \"meet\"        \"mention\"     \"million\"     \"motion\"      \"nation\"     \n",
              "[121] \"near\"        \"need\"        \"occasion\"    \"paint\"       \"pair\"       \n",
              "[126] \"pension\"     \"people\"      \"period\"      \"piece\"       \"please\"     \n",
              "[131] \"point\"       \"poor\"        \"position\"    \"pound\"       \"proceed\"    \n",
              "[136] \"quality\"     \"quarter\"     \"question\"    \"quick\"       \"quid\"       \n",
              "[141] \"quite\"       \"rail\"        \"raise\"       \"read\"        \"ready\"      \n",
              "[146] \"real\"        \"realise\"     \"really\"      \"reason\"      \"receive\"    \n",
              "[151] \"region\"      \"relation\"    \"require\"     \"research\"    \"resource\"   \n",
              "[156] \"road\"        \"room\"        \"round\"       \"school\"      \"science\"    \n",
              "[161] \"seat\"        \"section\"     \"seem\"        \"sheet\"       \"shoot\"      \n",
              "[166] \"should\"      \"situate\"     \"sleep\"       \"social\"      \"society\"    \n",
              "[171] \"soon\"        \"sound\"       \"south\"       \"speak\"       \"special\"    \n",
              "[176] \"speed\"       \"square\"      \"stairs\"      \"station\"     \"straight\"   \n",
              "[181] \"street\"      \"succeed\"     \"suit\"        \"teach\"       \"team\"       \n",
              "[186] \"television\"  \"thirteen\"    \"though\"      \"thousand\"    \"through\"    \n",
              "[191] \"touch\"       \"train\"       \"treat\"       \"trouble\"     \"tuesday\"    \n",
              "[196] \"union\"       \"usual\"       \"view\"        \"wait\"        \"wear\"       \n",
              "[201] \"week\"        \"weigh\"       \"without\"     \"wood\"        \"would\"      \n",
              "[206] \"year\"        \"young\"      "
            ]
          },
          "metadata": {}
        }
      ],
      "source": [
        "(cvvc_words <- str_subset(words, cvvc)) # words containing the pattern cvvc"
      ]
    },
    {
      "cell_type": "code",
      "execution_count": 33,
      "metadata": {
        "id": "kijHZ3T54jVP",
        "outputId": "e02fc2b6-04a6-4e6e-f390-5ebb185f9365",
        "colab": {
          "base_uri": "https://localhost:8080/",
          "height": 138
        }
      },
      "outputs": [
        {
          "output_type": "display_data",
          "data": {
            "text/html": [
              "<style>\n",
              ".list-inline {list-style: none; margin:0; padding: 0}\n",
              ".list-inline>li {display: inline-block}\n",
              ".list-inline>li:not(:last-child)::after {content: \"\\00b7\"; padding: 0 .5ex}\n",
              "</style>\n",
              "<ol class=list-inline><li>'bout'</li><li>'coun'</li><li>'hiev'</li><li>'tual'</li><li>'noon'</li><li>'gain'</li><li>'gain'</li><li>'read'</li><li>'houg'</li><li>'moun'</li><li>'pear'</li><li>'poin'</li><li>'roac'</li><li>'riat'</li><li>'roun'</li><li>'ciat'</li><li>'vail'</li><li>'bear'</li><li>'beat'</li><li>'caus'</li><li>'liev'</li><li>'ween'</li><li>'lood'</li><li>'boar'</li><li>'boat'</li><li>'book'</li><li>'reak'</li><li>'rief'</li><li>'lian'</li><li>'tain'</li><li>'buil'</li><li>'caus'</li><li>'tain'</li><li>'hair'</li><li>'hair'</li><li>'heap'</li><li>'hoic'</li><li>'hoos'</li><li>'laim'</li><li>'lean'</li><li>'lear'</li><li>'lien'</li><li>'leag'</li><li>'lour'</li><li>'tion'</li><li>'cook'</li><li>'coul'</li><li>'coun'</li><li>'coun'</li><li>'coun'</li><li>'coun'</li><li>'coup'</li><li>'cour'</li><li>'cour'</li><li>'reat'</li><li>'dead'</li><li>'deal'</li><li>'dear'</li><li>'sion'</li><li>'deep'</li><li>'tail'</li><li>'door'</li><li>'doub'</li><li>'doub'</li><li>'cour'</li><li>'noug'</li><li>'qual'</li><li>'cial'</li><li>'rien'</li><li>'lain'</li><li>'fair'</li><li>'vour'</li><li>'feed'</li><li>'feel'</li><li>'fiel'</li><li>'loor'</li><li>'food'</li><li>'foot'</li><li>'four'</li><li>'rien'</li><li>'tion'</li><li>'good'</li><li>'good'</li><li>'reat'</li><li>'reen'</li><li>'roun'</li><li>'roup'</li><li>'gues'</li><li>'hair'</li><li>'head'</li><li>'heal'</li><li>'hear'</li><li>'hear'</li><li>'heat'</li><li>'heav'</li><li>'hour'</li><li>'hous'</li><li>'reas'</li><li>'deed'</li><li>'dual'</li><li>'tead'</li><li>'join'</li><li>'keep'</li><li>'bour'</li><li>'guag'</li><li>'laug'</li><li>'lead'</li><li>'lear'</li><li>'leav'</li><li>'load'</li><li>'look'</li><li>'main'</li><li>'mean'</li><li>'mean'</li><li>'meas'</li><li>'meet'</li><li>'tion'</li><li>'lion'</li><li>'tion'</li><li>'tion'</li><li>'near'</li><li>'need'</li><li>'sion'</li><li>'pain'</li><li>'pair'</li><li>'sion'</li><li>'peop'</li><li>'riod'</li><li>'piec'</li><li>'leas'</li><li>'poin'</li><li>'poor'</li><li>'tion'</li><li>'poun'</li><li>'ceed'</li><li>'qual'</li><li>'quar'</li><li>'ques'</li><li>'quic'</li><li>'quid'</li><li>'quit'</li><li>'rail'</li><li>'rais'</li><li>'read'</li><li>'read'</li><li>'real'</li><li>'real'</li><li>'real'</li><li>'reas'</li><li>'ceiv'</li><li>'gion'</li><li>'tion'</li><li>'quir'</li><li>'sear'</li><li>'sour'</li><li>'road'</li><li>'room'</li><li>'roun'</li><li>'hool'</li><li>'cien'</li><li>'seat'</li><li>'tion'</li><li>'seem'</li><li>'heet'</li><li>'hoot'</li><li>'houl'</li><li>'tuat'</li><li>'leep'</li><li>'cial'</li><li>'ciet'</li><li>'soon'</li><li>'soun'</li><li>'sout'</li><li>'peak'</li><li>'cial'</li><li>'peed'</li><li>'quar'</li><li>'tair'</li><li>'tion'</li><li>'raig'</li><li>'reet'</li><li>'ceed'</li><li>'suit'</li><li>'teac'</li><li>'team'</li><li>'sion'</li><li>'teen'</li><li>'houg'</li><li>'hous'</li><li>'roug'</li><li>'touc'</li><li>'rain'</li><li>'reat'</li><li>'roub'</li><li>'tues'</li><li>'nion'</li><li>'sual'</li><li>'view'</li><li>'wait'</li><li>'wear'</li><li>'week'</li><li>'weig'</li><li>'hout'</li><li>'wood'</li><li>'woul'</li><li>'year'</li><li>'youn'</li></ol>\n"
            ],
            "text/markdown": "1. 'bout'\n2. 'coun'\n3. 'hiev'\n4. 'tual'\n5. 'noon'\n6. 'gain'\n7. 'gain'\n8. 'read'\n9. 'houg'\n10. 'moun'\n11. 'pear'\n12. 'poin'\n13. 'roac'\n14. 'riat'\n15. 'roun'\n16. 'ciat'\n17. 'vail'\n18. 'bear'\n19. 'beat'\n20. 'caus'\n21. 'liev'\n22. 'ween'\n23. 'lood'\n24. 'boar'\n25. 'boat'\n26. 'book'\n27. 'reak'\n28. 'rief'\n29. 'lian'\n30. 'tain'\n31. 'buil'\n32. 'caus'\n33. 'tain'\n34. 'hair'\n35. 'hair'\n36. 'heap'\n37. 'hoic'\n38. 'hoos'\n39. 'laim'\n40. 'lean'\n41. 'lear'\n42. 'lien'\n43. 'leag'\n44. 'lour'\n45. 'tion'\n46. 'cook'\n47. 'coul'\n48. 'coun'\n49. 'coun'\n50. 'coun'\n51. 'coun'\n52. 'coup'\n53. 'cour'\n54. 'cour'\n55. 'reat'\n56. 'dead'\n57. 'deal'\n58. 'dear'\n59. 'sion'\n60. 'deep'\n61. 'tail'\n62. 'door'\n63. 'doub'\n64. 'doub'\n65. 'cour'\n66. 'noug'\n67. 'qual'\n68. 'cial'\n69. 'rien'\n70. 'lain'\n71. 'fair'\n72. 'vour'\n73. 'feed'\n74. 'feel'\n75. 'fiel'\n76. 'loor'\n77. 'food'\n78. 'foot'\n79. 'four'\n80. 'rien'\n81. 'tion'\n82. 'good'\n83. 'good'\n84. 'reat'\n85. 'reen'\n86. 'roun'\n87. 'roup'\n88. 'gues'\n89. 'hair'\n90. 'head'\n91. 'heal'\n92. 'hear'\n93. 'hear'\n94. 'heat'\n95. 'heav'\n96. 'hour'\n97. 'hous'\n98. 'reas'\n99. 'deed'\n100. 'dual'\n101. 'tead'\n102. 'join'\n103. 'keep'\n104. 'bour'\n105. 'guag'\n106. 'laug'\n107. 'lead'\n108. 'lear'\n109. 'leav'\n110. 'load'\n111. 'look'\n112. 'main'\n113. 'mean'\n114. 'mean'\n115. 'meas'\n116. 'meet'\n117. 'tion'\n118. 'lion'\n119. 'tion'\n120. 'tion'\n121. 'near'\n122. 'need'\n123. 'sion'\n124. 'pain'\n125. 'pair'\n126. 'sion'\n127. 'peop'\n128. 'riod'\n129. 'piec'\n130. 'leas'\n131. 'poin'\n132. 'poor'\n133. 'tion'\n134. 'poun'\n135. 'ceed'\n136. 'qual'\n137. 'quar'\n138. 'ques'\n139. 'quic'\n140. 'quid'\n141. 'quit'\n142. 'rail'\n143. 'rais'\n144. 'read'\n145. 'read'\n146. 'real'\n147. 'real'\n148. 'real'\n149. 'reas'\n150. 'ceiv'\n151. 'gion'\n152. 'tion'\n153. 'quir'\n154. 'sear'\n155. 'sour'\n156. 'road'\n157. 'room'\n158. 'roun'\n159. 'hool'\n160. 'cien'\n161. 'seat'\n162. 'tion'\n163. 'seem'\n164. 'heet'\n165. 'hoot'\n166. 'houl'\n167. 'tuat'\n168. 'leep'\n169. 'cial'\n170. 'ciet'\n171. 'soon'\n172. 'soun'\n173. 'sout'\n174. 'peak'\n175. 'cial'\n176. 'peed'\n177. 'quar'\n178. 'tair'\n179. 'tion'\n180. 'raig'\n181. 'reet'\n182. 'ceed'\n183. 'suit'\n184. 'teac'\n185. 'team'\n186. 'sion'\n187. 'teen'\n188. 'houg'\n189. 'hous'\n190. 'roug'\n191. 'touc'\n192. 'rain'\n193. 'reat'\n194. 'roub'\n195. 'tues'\n196. 'nion'\n197. 'sual'\n198. 'view'\n199. 'wait'\n200. 'wear'\n201. 'week'\n202. 'weig'\n203. 'hout'\n204. 'wood'\n205. 'woul'\n206. 'year'\n207. 'youn'\n\n\n",
            "text/latex": "\\begin{enumerate*}\n\\item 'bout'\n\\item 'coun'\n\\item 'hiev'\n\\item 'tual'\n\\item 'noon'\n\\item 'gain'\n\\item 'gain'\n\\item 'read'\n\\item 'houg'\n\\item 'moun'\n\\item 'pear'\n\\item 'poin'\n\\item 'roac'\n\\item 'riat'\n\\item 'roun'\n\\item 'ciat'\n\\item 'vail'\n\\item 'bear'\n\\item 'beat'\n\\item 'caus'\n\\item 'liev'\n\\item 'ween'\n\\item 'lood'\n\\item 'boar'\n\\item 'boat'\n\\item 'book'\n\\item 'reak'\n\\item 'rief'\n\\item 'lian'\n\\item 'tain'\n\\item 'buil'\n\\item 'caus'\n\\item 'tain'\n\\item 'hair'\n\\item 'hair'\n\\item 'heap'\n\\item 'hoic'\n\\item 'hoos'\n\\item 'laim'\n\\item 'lean'\n\\item 'lear'\n\\item 'lien'\n\\item 'leag'\n\\item 'lour'\n\\item 'tion'\n\\item 'cook'\n\\item 'coul'\n\\item 'coun'\n\\item 'coun'\n\\item 'coun'\n\\item 'coun'\n\\item 'coup'\n\\item 'cour'\n\\item 'cour'\n\\item 'reat'\n\\item 'dead'\n\\item 'deal'\n\\item 'dear'\n\\item 'sion'\n\\item 'deep'\n\\item 'tail'\n\\item 'door'\n\\item 'doub'\n\\item 'doub'\n\\item 'cour'\n\\item 'noug'\n\\item 'qual'\n\\item 'cial'\n\\item 'rien'\n\\item 'lain'\n\\item 'fair'\n\\item 'vour'\n\\item 'feed'\n\\item 'feel'\n\\item 'fiel'\n\\item 'loor'\n\\item 'food'\n\\item 'foot'\n\\item 'four'\n\\item 'rien'\n\\item 'tion'\n\\item 'good'\n\\item 'good'\n\\item 'reat'\n\\item 'reen'\n\\item 'roun'\n\\item 'roup'\n\\item 'gues'\n\\item 'hair'\n\\item 'head'\n\\item 'heal'\n\\item 'hear'\n\\item 'hear'\n\\item 'heat'\n\\item 'heav'\n\\item 'hour'\n\\item 'hous'\n\\item 'reas'\n\\item 'deed'\n\\item 'dual'\n\\item 'tead'\n\\item 'join'\n\\item 'keep'\n\\item 'bour'\n\\item 'guag'\n\\item 'laug'\n\\item 'lead'\n\\item 'lear'\n\\item 'leav'\n\\item 'load'\n\\item 'look'\n\\item 'main'\n\\item 'mean'\n\\item 'mean'\n\\item 'meas'\n\\item 'meet'\n\\item 'tion'\n\\item 'lion'\n\\item 'tion'\n\\item 'tion'\n\\item 'near'\n\\item 'need'\n\\item 'sion'\n\\item 'pain'\n\\item 'pair'\n\\item 'sion'\n\\item 'peop'\n\\item 'riod'\n\\item 'piec'\n\\item 'leas'\n\\item 'poin'\n\\item 'poor'\n\\item 'tion'\n\\item 'poun'\n\\item 'ceed'\n\\item 'qual'\n\\item 'quar'\n\\item 'ques'\n\\item 'quic'\n\\item 'quid'\n\\item 'quit'\n\\item 'rail'\n\\item 'rais'\n\\item 'read'\n\\item 'read'\n\\item 'real'\n\\item 'real'\n\\item 'real'\n\\item 'reas'\n\\item 'ceiv'\n\\item 'gion'\n\\item 'tion'\n\\item 'quir'\n\\item 'sear'\n\\item 'sour'\n\\item 'road'\n\\item 'room'\n\\item 'roun'\n\\item 'hool'\n\\item 'cien'\n\\item 'seat'\n\\item 'tion'\n\\item 'seem'\n\\item 'heet'\n\\item 'hoot'\n\\item 'houl'\n\\item 'tuat'\n\\item 'leep'\n\\item 'cial'\n\\item 'ciet'\n\\item 'soon'\n\\item 'soun'\n\\item 'sout'\n\\item 'peak'\n\\item 'cial'\n\\item 'peed'\n\\item 'quar'\n\\item 'tair'\n\\item 'tion'\n\\item 'raig'\n\\item 'reet'\n\\item 'ceed'\n\\item 'suit'\n\\item 'teac'\n\\item 'team'\n\\item 'sion'\n\\item 'teen'\n\\item 'houg'\n\\item 'hous'\n\\item 'roug'\n\\item 'touc'\n\\item 'rain'\n\\item 'reat'\n\\item 'roub'\n\\item 'tues'\n\\item 'nion'\n\\item 'sual'\n\\item 'view'\n\\item 'wait'\n\\item 'wear'\n\\item 'week'\n\\item 'weig'\n\\item 'hout'\n\\item 'wood'\n\\item 'woul'\n\\item 'year'\n\\item 'youn'\n\\end{enumerate*}\n",
            "text/plain": [
              "  [1] \"bout\" \"coun\" \"hiev\" \"tual\" \"noon\" \"gain\" \"gain\" \"read\" \"houg\" \"moun\"\n",
              " [11] \"pear\" \"poin\" \"roac\" \"riat\" \"roun\" \"ciat\" \"vail\" \"bear\" \"beat\" \"caus\"\n",
              " [21] \"liev\" \"ween\" \"lood\" \"boar\" \"boat\" \"book\" \"reak\" \"rief\" \"lian\" \"tain\"\n",
              " [31] \"buil\" \"caus\" \"tain\" \"hair\" \"hair\" \"heap\" \"hoic\" \"hoos\" \"laim\" \"lean\"\n",
              " [41] \"lear\" \"lien\" \"leag\" \"lour\" \"tion\" \"cook\" \"coul\" \"coun\" \"coun\" \"coun\"\n",
              " [51] \"coun\" \"coup\" \"cour\" \"cour\" \"reat\" \"dead\" \"deal\" \"dear\" \"sion\" \"deep\"\n",
              " [61] \"tail\" \"door\" \"doub\" \"doub\" \"cour\" \"noug\" \"qual\" \"cial\" \"rien\" \"lain\"\n",
              " [71] \"fair\" \"vour\" \"feed\" \"feel\" \"fiel\" \"loor\" \"food\" \"foot\" \"four\" \"rien\"\n",
              " [81] \"tion\" \"good\" \"good\" \"reat\" \"reen\" \"roun\" \"roup\" \"gues\" \"hair\" \"head\"\n",
              " [91] \"heal\" \"hear\" \"hear\" \"heat\" \"heav\" \"hour\" \"hous\" \"reas\" \"deed\" \"dual\"\n",
              "[101] \"tead\" \"join\" \"keep\" \"bour\" \"guag\" \"laug\" \"lead\" \"lear\" \"leav\" \"load\"\n",
              "[111] \"look\" \"main\" \"mean\" \"mean\" \"meas\" \"meet\" \"tion\" \"lion\" \"tion\" \"tion\"\n",
              "[121] \"near\" \"need\" \"sion\" \"pain\" \"pair\" \"sion\" \"peop\" \"riod\" \"piec\" \"leas\"\n",
              "[131] \"poin\" \"poor\" \"tion\" \"poun\" \"ceed\" \"qual\" \"quar\" \"ques\" \"quic\" \"quid\"\n",
              "[141] \"quit\" \"rail\" \"rais\" \"read\" \"read\" \"real\" \"real\" \"real\" \"reas\" \"ceiv\"\n",
              "[151] \"gion\" \"tion\" \"quir\" \"sear\" \"sour\" \"road\" \"room\" \"roun\" \"hool\" \"cien\"\n",
              "[161] \"seat\" \"tion\" \"seem\" \"heet\" \"hoot\" \"houl\" \"tuat\" \"leep\" \"cial\" \"ciet\"\n",
              "[171] \"soon\" \"soun\" \"sout\" \"peak\" \"cial\" \"peed\" \"quar\" \"tair\" \"tion\" \"raig\"\n",
              "[181] \"reet\" \"ceed\" \"suit\" \"teac\" \"team\" \"sion\" \"teen\" \"houg\" \"hous\" \"roug\"\n",
              "[191] \"touc\" \"rain\" \"reat\" \"roub\" \"tues\" \"nion\" \"sual\" \"view\" \"wait\" \"wear\"\n",
              "[201] \"week\" \"weig\" \"hout\" \"wood\" \"woul\" \"year\" \"youn\""
            ]
          },
          "metadata": {}
        }
      ],
      "source": [
        "str_extract(cvvc_words, cvvc) # the patterns themselves"
      ]
    },
    {
      "cell_type": "code",
      "execution_count": 34,
      "metadata": {
        "id": "spkOfAe64jVQ",
        "outputId": "4cc8b1d1-8e56-478d-8f06-5c0de4e1740a",
        "colab": {
          "base_uri": "https://localhost:8080/",
          "height": 34
        }
      },
      "outputs": [
        {
          "output_type": "display_data",
          "data": {
            "text/html": [
              "<style>\n",
              ".list-inline {list-style: none; margin:0; padding: 0}\n",
              ".list-inline>li {display: inline-block}\n",
              ".list-inline>li:not(:last-child)::after {content: \"\\00b7\"; padding: 0 .5ex}\n",
              "</style>\n",
              "<ol class=list-inline><li>'quality'</li><li>'quarter'</li><li>'question'</li><li>'quick'</li><li>'quid'</li><li>'quiet'</li><li>'quite'</li></ol>\n"
            ],
            "text/markdown": "1. 'quality'\n2. 'quarter'\n3. 'question'\n4. 'quick'\n5. 'quid'\n6. 'quiet'\n7. 'quite'\n\n\n",
            "text/latex": "\\begin{enumerate*}\n\\item 'quality'\n\\item 'quarter'\n\\item 'question'\n\\item 'quick'\n\\item 'quid'\n\\item 'quiet'\n\\item 'quite'\n\\end{enumerate*}\n",
            "text/plain": [
              "[1] \"quality\"  \"quarter\"  \"question\" \"quick\"    \"quid\"     \"quiet\"    \"quite\"   "
            ]
          },
          "metadata": {}
        }
      ],
      "source": [
        "(q_words <- str_subset(words, \"^q\"))"
      ]
    },
    {
      "cell_type": "code",
      "execution_count": 35,
      "metadata": {
        "id": "qBsK9Xca4jVQ",
        "outputId": "0860aaa7-e8d3-4531-886a-f1fca635b4e2",
        "colab": {
          "base_uri": "https://localhost:8080/",
          "height": 34
        }
      },
      "outputs": [
        {
          "output_type": "display_data",
          "data": {
            "text/html": [
              "<style>\n",
              ".list-inline {list-style: none; margin:0; padding: 0}\n",
              ".list-inline>li {display: inline-block}\n",
              ".list-inline>li:not(:last-child)::after {content: \"\\00b7\"; padding: 0 .5ex}\n",
              "</style>\n",
              "<ol class=list-inline><li>'u'</li><li>'u'</li><li>'u'</li><li>'u'</li><li>'u'</li><li>'u'</li><li>'u'</li></ol>\n"
            ],
            "text/markdown": "1. 'u'\n2. 'u'\n3. 'u'\n4. 'u'\n5. 'u'\n6. 'u'\n7. 'u'\n\n\n",
            "text/latex": "\\begin{enumerate*}\n\\item 'u'\n\\item 'u'\n\\item 'u'\n\\item 'u'\n\\item 'u'\n\\item 'u'\n\\item 'u'\n\\end{enumerate*}\n",
            "text/plain": [
              "[1] \"u\" \"u\" \"u\" \"u\" \"u\" \"u\" \"u\""
            ]
          },
          "metadata": {}
        }
      ],
      "source": [
        "str_extract(q_words, v) # extracts only the first match"
      ]
    },
    {
      "cell_type": "code",
      "execution_count": 36,
      "metadata": {
        "id": "ijYSDvIT4jVQ",
        "outputId": "b1879c18-0a7f-4d3a-813f-71587d2875af",
        "colab": {
          "base_uri": "https://localhost:8080/",
          "height": 166
        }
      },
      "outputs": [
        {
          "output_type": "display_data",
          "data": {
            "text/html": [
              "<ol>\n",
              "\t<li><style>\n",
              ".list-inline {list-style: none; margin:0; padding: 0}\n",
              ".list-inline>li {display: inline-block}\n",
              ".list-inline>li:not(:last-child)::after {content: \"\\00b7\"; padding: 0 .5ex}\n",
              "</style>\n",
              "<ol class=list-inline><li>'u'</li><li>'a'</li><li>'i'</li></ol>\n",
              "</li>\n",
              "\t<li><style>\n",
              ".list-inline {list-style: none; margin:0; padding: 0}\n",
              ".list-inline>li {display: inline-block}\n",
              ".list-inline>li:not(:last-child)::after {content: \"\\00b7\"; padding: 0 .5ex}\n",
              "</style>\n",
              "<ol class=list-inline><li>'u'</li><li>'a'</li><li>'e'</li></ol>\n",
              "</li>\n",
              "\t<li><style>\n",
              ".list-inline {list-style: none; margin:0; padding: 0}\n",
              ".list-inline>li {display: inline-block}\n",
              ".list-inline>li:not(:last-child)::after {content: \"\\00b7\"; padding: 0 .5ex}\n",
              "</style>\n",
              "<ol class=list-inline><li>'u'</li><li>'e'</li><li>'i'</li><li>'o'</li></ol>\n",
              "</li>\n",
              "\t<li><style>\n",
              ".list-inline {list-style: none; margin:0; padding: 0}\n",
              ".list-inline>li {display: inline-block}\n",
              ".list-inline>li:not(:last-child)::after {content: \"\\00b7\"; padding: 0 .5ex}\n",
              "</style>\n",
              "<ol class=list-inline><li>'u'</li><li>'i'</li></ol>\n",
              "</li>\n",
              "\t<li><style>\n",
              ".list-inline {list-style: none; margin:0; padding: 0}\n",
              ".list-inline>li {display: inline-block}\n",
              ".list-inline>li:not(:last-child)::after {content: \"\\00b7\"; padding: 0 .5ex}\n",
              "</style>\n",
              "<ol class=list-inline><li>'u'</li><li>'i'</li></ol>\n",
              "</li>\n",
              "\t<li><style>\n",
              ".list-inline {list-style: none; margin:0; padding: 0}\n",
              ".list-inline>li {display: inline-block}\n",
              ".list-inline>li:not(:last-child)::after {content: \"\\00b7\"; padding: 0 .5ex}\n",
              "</style>\n",
              "<ol class=list-inline><li>'u'</li><li>'i'</li><li>'e'</li></ol>\n",
              "</li>\n",
              "\t<li><style>\n",
              ".list-inline {list-style: none; margin:0; padding: 0}\n",
              ".list-inline>li {display: inline-block}\n",
              ".list-inline>li:not(:last-child)::after {content: \"\\00b7\"; padding: 0 .5ex}\n",
              "</style>\n",
              "<ol class=list-inline><li>'u'</li><li>'i'</li><li>'e'</li></ol>\n",
              "</li>\n",
              "</ol>\n"
            ],
            "text/markdown": "1. 1. 'u'\n2. 'a'\n3. 'i'\n\n\n\n2. 1. 'u'\n2. 'a'\n3. 'e'\n\n\n\n3. 1. 'u'\n2. 'e'\n3. 'i'\n4. 'o'\n\n\n\n4. 1. 'u'\n2. 'i'\n\n\n\n5. 1. 'u'\n2. 'i'\n\n\n\n6. 1. 'u'\n2. 'i'\n3. 'e'\n\n\n\n7. 1. 'u'\n2. 'i'\n3. 'e'\n\n\n\n\n\n",
            "text/latex": "\\begin{enumerate}\n\\item \\begin{enumerate*}\n\\item 'u'\n\\item 'a'\n\\item 'i'\n\\end{enumerate*}\n\n\\item \\begin{enumerate*}\n\\item 'u'\n\\item 'a'\n\\item 'e'\n\\end{enumerate*}\n\n\\item \\begin{enumerate*}\n\\item 'u'\n\\item 'e'\n\\item 'i'\n\\item 'o'\n\\end{enumerate*}\n\n\\item \\begin{enumerate*}\n\\item 'u'\n\\item 'i'\n\\end{enumerate*}\n\n\\item \\begin{enumerate*}\n\\item 'u'\n\\item 'i'\n\\end{enumerate*}\n\n\\item \\begin{enumerate*}\n\\item 'u'\n\\item 'i'\n\\item 'e'\n\\end{enumerate*}\n\n\\item \\begin{enumerate*}\n\\item 'u'\n\\item 'i'\n\\item 'e'\n\\end{enumerate*}\n\n\\end{enumerate}\n",
            "text/plain": [
              "[[1]]\n",
              "[1] \"u\" \"a\" \"i\"\n",
              "\n",
              "[[2]]\n",
              "[1] \"u\" \"a\" \"e\"\n",
              "\n",
              "[[3]]\n",
              "[1] \"u\" \"e\" \"i\" \"o\"\n",
              "\n",
              "[[4]]\n",
              "[1] \"u\" \"i\"\n",
              "\n",
              "[[5]]\n",
              "[1] \"u\" \"i\"\n",
              "\n",
              "[[6]]\n",
              "[1] \"u\" \"i\" \"e\"\n",
              "\n",
              "[[7]]\n",
              "[1] \"u\" \"i\" \"e\"\n"
            ]
          },
          "metadata": {}
        }
      ],
      "source": [
        "str_extract_all(q_words, v) # extracts all matches"
      ]
    },
    {
      "cell_type": "markdown",
      "metadata": {
        "id": "utucMFbW4jVQ"
      },
      "source": [
        "Setting `simplify = TRUE` returns a matrix with shorter matches expanded to match the length of the longest"
      ]
    },
    {
      "cell_type": "code",
      "execution_count": 37,
      "metadata": {
        "id": "UekZt-Gk4jVQ",
        "outputId": "8ceb0c27-81ee-49cd-c64e-0b38aa28ba59",
        "colab": {
          "base_uri": "https://localhost:8080/",
          "height": 271
        }
      },
      "outputs": [
        {
          "output_type": "display_data",
          "data": {
            "text/html": [
              "<table class=\"dataframe\">\n",
              "<caption>A matrix: 7 × 4 of type chr</caption>\n",
              "<tbody>\n",
              "\t<tr><td>u</td><td>a</td><td>i</td><td> </td></tr>\n",
              "\t<tr><td>u</td><td>a</td><td>e</td><td> </td></tr>\n",
              "\t<tr><td>u</td><td>e</td><td>i</td><td>o</td></tr>\n",
              "\t<tr><td>u</td><td>i</td><td> </td><td> </td></tr>\n",
              "\t<tr><td>u</td><td>i</td><td> </td><td> </td></tr>\n",
              "\t<tr><td>u</td><td>i</td><td>e</td><td> </td></tr>\n",
              "\t<tr><td>u</td><td>i</td><td>e</td><td> </td></tr>\n",
              "</tbody>\n",
              "</table>\n"
            ],
            "text/markdown": "\nA matrix: 7 × 4 of type chr\n\n| u | a | i | <!----> |\n| u | a | e | <!----> |\n| u | e | i | o |\n| u | i | <!----> | <!----> |\n| u | i | <!----> | <!----> |\n| u | i | e | <!----> |\n| u | i | e | <!----> |\n\n",
            "text/latex": "A matrix: 7 × 4 of type chr\n\\begin{tabular}{llll}\n\t u & a & i &  \\\\\n\t u & a & e &  \\\\\n\t u & e & i & o\\\\\n\t u & i &   &  \\\\\n\t u & i &   &  \\\\\n\t u & i & e &  \\\\\n\t u & i & e &  \\\\\n\\end{tabular}\n",
            "text/plain": [
              "     [,1] [,2] [,3] [,4]\n",
              "[1,] u    a    i        \n",
              "[2,] u    a    e        \n",
              "[3,] u    e    i    o   \n",
              "[4,] u    i             \n",
              "[5,] u    i             \n",
              "[6,] u    i    e        \n",
              "[7,] u    i    e        "
            ]
          },
          "metadata": {}
        }
      ],
      "source": [
        "str_extract_all(q_words, v, simplify = TRUE)"
      ]
    }
  ],
  "metadata": {
    "kernelspec": {
      "display_name": "R",
      "language": "R",
      "name": "ir"
    },
    "language_info": {
      "codemirror_mode": "r",
      "file_extension": ".r",
      "mimetype": "text/x-r-source",
      "name": "R",
      "pygments_lexer": "r",
      "version": "3.6.2"
    },
    "colab": {
      "name": "Lecture16.ipynb",
      "provenance": []
    }
  },
  "nbformat": 4,
  "nbformat_minor": 0
}